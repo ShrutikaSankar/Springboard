{
 "cells": [
  {
   "cell_type": "markdown",
   "metadata": {},
   "source": [
    "This exercise will require you to pull some data from the Qunadl API. Qaundl is currently the most widely used aggregator of financial market data."
   ]
  },
  {
   "cell_type": "markdown",
   "metadata": {},
   "source": [
    "As a first step, you will need to register a free account on the http://www.quandl.com website."
   ]
  },
  {
   "cell_type": "markdown",
   "metadata": {},
   "source": [
    "After you register, you will be provided with a unique API key, that you should store:"
   ]
  },
  {
   "cell_type": "code",
   "execution_count": 1,
   "metadata": {},
   "outputs": [],
   "source": [
    "# Store the API key as a string - according to PEP8, constants are always named in all upper case\n",
    "API_KEY = '' #eliminated for safety reasons"
   ]
  },
  {
   "cell_type": "markdown",
   "metadata": {},
   "source": [
    "Qaundl has a large number of data sources, but, unfortunately, most of them require a Premium subscription. Still, there are also a good number of free datasets."
   ]
  },
  {
   "cell_type": "markdown",
   "metadata": {},
   "source": [
    "For this mini project, we will focus on equities data from the Frankfurt Stock Exhange (FSE), which is available for free. We'll try and analyze the stock prices of a company called Carl Zeiss Meditec, which manufactures tools for eye examinations, as well as medical lasers for laser eye surgery: https://www.zeiss.com/meditec/int/home.html. The company is listed under the stock ticker AFX_X."
   ]
  },
  {
   "cell_type": "markdown",
   "metadata": {},
   "source": [
    "You can find the detailed Quandl API instructions here: https://docs.quandl.com/docs/time-series"
   ]
  },
  {
   "cell_type": "markdown",
   "metadata": {},
   "source": [
    "While there is a dedicated Python package for connecting to the Quandl API, we would prefer that you use the *requests* package, which can be easily downloaded using *pip* or *conda*. You can find the documentation for the package here: http://docs.python-requests.org/en/master/ "
   ]
  },
  {
   "cell_type": "markdown",
   "metadata": {},
   "source": [
    "Finally, apart from the *requests* package, you are encouraged to not use any third party Python packages, such as *pandas*, and instead focus on what's available in the Python Standard Library (the *collections* module might come in handy: https://pymotw.com/3/collections/ ).\n",
    "Also, since you won't have access to DataFrames, you are encouraged to us Python's native data structures - preferably dictionaries, though some questions can also be answered using lists.\n",
    "You can read more on these data structures here: https://docs.python.org/3/tutorial/datastructures.html"
   ]
  },
  {
   "cell_type": "markdown",
   "metadata": {},
   "source": [
    "Keep in mind that the JSON responses you will be getting from the API map almost one-to-one to Python's dictionaries. Unfortunately, they can be very nested, so make sure you read up on indexing dictionaries in the documentation provided above."
   ]
  },
  {
   "cell_type": "code",
   "execution_count": 2,
   "metadata": {},
   "outputs": [],
   "source": [
    "# First, import the relevant modules\n",
    "import requests\n"
   ]
  },
  {
   "cell_type": "code",
   "execution_count": 3,
   "metadata": {},
   "outputs": [],
   "source": [
    "api_key = API_KEY\n",
    "#IMPORTANT IF YOU DO NOT ENTER YOUR OWN API_KEY HERE THE CODE WILL NOT RUN\n"
   ]
  },
  {
   "cell_type": "code",
   "execution_count": 4,
   "metadata": {},
   "outputs": [],
   "source": [
    "# Now, call the Quandl API and pull out a small sample of the data (only one day) to get a glimpse\n",
    "# into the JSON structure that will be returned\n",
    "site= 'https://www.quandl.com/api/v3/datasets/FSE/AFX_X.json?limit=2&api_key='\n",
    "url = site + api_key\n",
    "#url = 'https://www.quandl.com/api/v3/datasets/FSE/AFX_X.json?limit=2&api_key=trzhDakPHbhGa6WZyXEP'\n",
    "r = requests.get(url)\n",
    "json_data = r.json()\n"
   ]
  },
  {
   "cell_type": "code",
   "execution_count": 5,
   "metadata": {},
   "outputs": [
    {
     "name": "stdout",
     "output_type": "stream",
     "text": [
      "dataset:  {'id': 10095370, 'dataset_code': 'AFX_X', 'database_code': 'FSE', 'name': 'Carl Zeiss Meditec (AFX_X)', 'description': 'Stock Prices for Carl Zeiss Meditec (2020-04-01) from the Frankfurt Stock Exchange.<br><br>Trading System: Xetra<br><br>ISIN: DE0005313704', 'refreshed_at': '2020-04-15T22:17:06.974Z', 'newest_available_date': '2020-04-15', 'oldest_available_date': '2000-06-07', 'column_names': ['Date', 'Open', 'High', 'Low', 'Close', 'Change', 'Traded Volume', 'Turnover', 'Last Price of the Day', 'Daily Traded Units', 'Daily Turnover'], 'frequency': 'daily', 'type': 'Time Series', 'premium': False, 'limit': 2, 'transform': None, 'column_index': None, 'start_date': '2000-06-07', 'end_date': '2020-04-15', 'data': [['2020-04-15', 94.0, 94.6, 90.15, 90.95, None, 204001.0, 18647943.8, None, None, None], ['2020-04-14', 97.5, 98.0, 93.35, 94.05, None, 147594.0, 13964369.1, None, None, None]], 'collapse': None, 'order': None, 'database_id': 6129}\n"
     ]
    }
   ],
   "source": [
    "# Inspect the JSON structure of the object you created, and take note of how nested it is,\n",
    "# as well as the overall structure\n",
    "for k in json_data.keys():\n",
    "    print(k + ': ', json_data[k])\n",
    "    "
   ]
  },
  {
   "cell_type": "markdown",
   "metadata": {},
   "source": [
    "These are your tasks for this mini project:\n",
    "\n",
    "1. Collect data from the Franfurt Stock Exchange, for the ticker AFX_X, for the whole year 2017 (keep in mind that the date format is YYYY-MM-DD).\n",
    "2. Convert the returned JSON object into a Python dictionary.\n",
    "3. Calculate what the highest and lowest opening prices were for the stock in this period.\n",
    "4. What was the largest change in any one day (based on High and Low price)?\n",
    "5. What was the largest change between any two days (based on Closing Price)?\n",
    "6. What was the average daily trading volume during this year?\n",
    "7. (Optional) What was the median trading volume during this year. (Note: you may need to implement your own function for calculating the median.)"
   ]
  },
  {
   "cell_type": "markdown",
   "metadata": {},
   "source": [
    "1. Collect data from the Franfurt Stock Exchange, for the ticker AFX_X, for the whole year 2017 (keep in mind that the date format is YYYY-MM-DD).\n",
    "2. Convert the returned JSON object into a Python dictionary."
   ]
  },
  {
   "cell_type": "code",
   "execution_count": 6,
   "metadata": {},
   "outputs": [],
   "source": [
    "# Now, call the Quandl API and pull out a small sample of the data (only one day) to get a glimpse\n",
    "# into the JSON structure that will be returned\n",
    "url = 'https://www.quandl.com/api/v3/datasets/FSE/AFX_X.json?start_date=2017-01-01&end_date=2018-01-01&api_key=trzhDakPHbhGa6WZyXEP'\n",
    "r = requests.get(url)\n",
    "json_data = r.json()\n",
    "dataset = json_data['dataset']\n"
   ]
  },
  {
   "cell_type": "markdown",
   "metadata": {},
   "source": [
    "3. Calculate what the highest and lowest opening prices were for the stock in this period."
   ]
  },
  {
   "cell_type": "code",
   "execution_count": 8,
   "metadata": {},
   "outputs": [
    {
     "name": "stdout",
     "output_type": "stream",
     "text": [
      "On the Frankfurt stock exchange market for AFX_X in 2017 the highest opening price was 53.11, and the lowest 34.0.\n"
     ]
    }
   ],
   "source": [
    "data_set_data = dataset['data']\n",
    "column_names = dataset['column_names']\n",
    "\n",
    "#this is so much easier with a dataframe\n",
    "\n",
    "position_open = column_names.index('Open') # which element in the list have the open values\n",
    "opening_values = []\n",
    "for list_row in data_set_data: #Generate open values\n",
    "    open_value = list_row[position_open]\n",
    "    opening_values.append(open_value)\n",
    "\n",
    "opening_values_fin = [i for i in opening_values if i is not None] #eliminate none types\n",
    "    \n",
    "highest_opening_price = max(opening_values_fin) \n",
    "lowest_opening_price = min(opening_values_fin)\n",
    "\n",
    "\n",
    "starter = 'On the Frankfurt stock exchange market for AFX_X in 2017 '\n",
    "text1= 'the highest opening price was {}, and the lowest {}.'.format(highest_opening_price,lowest_opening_price)\n",
    "print(starter+text1)"
   ]
  },
  {
   "cell_type": "markdown",
   "metadata": {},
   "source": [
    "4. What was the largest change in any one day (based on High and Low price)?"
   ]
  },
  {
   "cell_type": "code",
   "execution_count": 9,
   "metadata": {},
   "outputs": [
    {
     "name": "stdout",
     "output_type": "stream",
     "text": [
      "On the Frankfurt stock exchange market for AFX_X in 2017 the largest increase within a day 2.8100000000000023. The largest change within a day was also 2.8100000000000023.\n"
     ]
    }
   ],
   "source": [
    "data_set_data = dataset['data']\n",
    "column_names = dataset['column_names']\n",
    "\n",
    "#this is so much easier with a dataframe\n",
    "position_high = column_names.index('High')\n",
    "position_low = column_names.index('Low')\n",
    "day_change = []\n",
    "day_change_abs = []\n",
    "\n",
    "for list_row in data_set_data:\n",
    "    hv = list_row[position_high]\n",
    "    lv = list_row[position_low]\n",
    "    change_value = hv -lv\n",
    "    day_change.append(change_value)\n",
    "    day_change_abs.append(abs(change_value))\n",
    "\n",
    "max_increase = max(day_change)\n",
    "max_change = max(day_change_abs)\n",
    "text2= 'the largest increase within a day {}. The largest change within a day was also {}.'.format(max_increase, max_change)\n",
    "print(starter+text2)"
   ]
  },
  {
   "cell_type": "markdown",
   "metadata": {},
   "source": [
    "5. What was the largest change between any two days (based on Closing Price)?"
   ]
  },
  {
   "cell_type": "code",
   "execution_count": 10,
   "metadata": {},
   "outputs": [
    {
     "name": "stdout",
     "output_type": "stream",
     "text": [
      "On the Frankfurt stock exchange market for AFX_X in 2017 the largest change between days 2.559999999999995.\n"
     ]
    }
   ],
   "source": [
    "position_close = column_names.index('Close') # which element in the list have the open values\n",
    "\n",
    "closing_values = []\n",
    "for list_row in data_set_data: #Generate closing value list\n",
    "    close_value = list_row[position_close]\n",
    "    closing_values.append(close_value)\n",
    "    \n",
    "# generate successive difference list \n",
    "change_btw_days = [j - i for i, j in zip(closing_values[: -1], closing_values[1 :])] \n",
    "change_btw_days_abs = [abs(j - i) for i, j in zip(closing_values[: -1], closing_values[1 :])] \n",
    "\n",
    "max_difference_between_days = max(change_btw_days_abs)\n",
    "\n",
    "text3= 'the largest change between days {}.'.format(max_difference_between_days)\n",
    "print(starter+text3)\n"
   ]
  },
  {
   "cell_type": "markdown",
   "metadata": {},
   "source": [
    "6. What was the average daily trading volume during this year?"
   ]
  },
  {
   "cell_type": "code",
   "execution_count": 11,
   "metadata": {},
   "outputs": [
    {
     "name": "stdout",
     "output_type": "stream",
     "text": [
      "On the Frankfurt stock exchange market for AFX_X in 2017 the average daily trading volume was 89124.33725490196.\n"
     ]
    }
   ],
   "source": [
    "position_volume = column_names.index('Traded Volume') # which element in the list have the open values\n",
    "\n",
    "volume_values = []\n",
    "for list_row in data_set_data: #Generate closing value list\n",
    "    volume_value = list_row[position_volume]\n",
    "    volume_values.append(volume_value)\n",
    "\n",
    "volume_values_fin = [i for i in volume_values if i is not None] #eliminate none types\n",
    "avg_volume_daily = sum(volume_values_fin)/len(volume_values_fin)\n",
    "\n",
    "text4= 'the average daily trading volume was {}.'.format(avg_volume_daily)\n",
    "print(starter+text4)\n"
   ]
  },
  {
   "cell_type": "markdown",
   "metadata": {},
   "source": [
    "7. (Optional) What was the median trading volume during this year. (Note: you may need to implement your own function for calculating the median.)"
   ]
  },
  {
   "cell_type": "code",
   "execution_count": 12,
   "metadata": {},
   "outputs": [],
   "source": [
    "def median(n_num):\n",
    "    n = len(n_num) \n",
    "    n_num.sort() \n",
    "    if n % 2 == 0: \n",
    "        median1 = n_num[n//2] \n",
    "        median2 = n_num[n//2 - 1] \n",
    "        median = (median1 + median2)/2\n",
    "    else: \n",
    "        median = n_num[n//2] \n",
    "    return median"
   ]
  },
  {
   "cell_type": "code",
   "execution_count": 13,
   "metadata": {},
   "outputs": [
    {
     "name": "stdout",
     "output_type": "stream",
     "text": [
      "On the Frankfurt stock exchange market for AFX_X in 2017 the median daily trading volume was 76286.0.\n"
     ]
    }
   ],
   "source": [
    "median_volume_daily = median(volume_values_fin)\n",
    "text5= 'the median daily trading volume was {}.'.format(median_volume_daily)\n",
    "print(starter+text5)"
   ]
  }
 ],
 "metadata": {
  "kernelspec": {
   "display_name": "Python 3",
   "language": "python",
   "name": "python3"
  },
  "language_info": {
   "codemirror_mode": {
    "name": "ipython",
    "version": 3
   },
   "file_extension": ".py",
   "mimetype": "text/x-python",
   "name": "python",
   "nbconvert_exporter": "python",
   "pygments_lexer": "ipython3",
   "version": "3.7.6"
  }
 },
 "nbformat": 4,
 "nbformat_minor": 2
}
