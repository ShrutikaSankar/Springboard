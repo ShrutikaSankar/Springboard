{
 "cells": [
  {
   "cell_type": "markdown",
   "metadata": {},
   "source": [
    "# Predicting Prices of Used Cars on Craigslist"
   ]
  },
  {
   "cell_type": "markdown",
   "metadata": {},
   "source": [
    "## Merging Data"
   ]
  },
  {
   "cell_type": "markdown",
   "metadata": {},
   "source": [
    "### Mapping Categorical and MSRP data to the auto from Craig's list\n",
    "\n",
    "First the MMY\n",
    "* Automobiles models are referenced by its a) manufacture b) model name, and C) model year (otherwise known as the MMY)\n",
    "* Each mmy has an average MSRP to go with it and a specific groups of catehories can be in \n",
    "    * (ex a camry can be sedan or hatchback it can't be a pickup)\n",
    "* We will therefore use the MMYas a key to map the MSRP and category to the main data set\n",
    "\n",
    "Issue: Model names of automobile\n",
    "* The trim of a model is referencing a set of additional features comes with (example Camry Lux has leather seats)\n",
    "* The trim changes the price of a vehicle\n",
    "* Therefore sometimes sellers will add the trim after the model design to give a better idea of what they are selling\n",
    "* This leads to the model name not being consistent across tables.\n",
    "\n",
    "Fixing the Issue\n",
    "* To ensure better mapping we will therefore use 2 keys \n",
    "* The first key will match the full name of the model for the mmy\n",
    "* The second key will match the first word name of the model for the mmy\n",
    "* We will try to map to first the key if a map isn't reached we use the results from the second key.\n",
    "* both keys include the manufacturer and model year\n"
   ]
  },
  {
   "cell_type": "markdown",
   "metadata": {},
   "source": [
    "Load Software"
   ]
  },
  {
   "cell_type": "code",
   "execution_count": null,
   "metadata": {},
   "outputs": [],
   "source": [
    "#load python packages\n",
    "import os\n",
    "import pandas as pd\n",
    "import datetime\n",
    "import seaborn as sns\n",
    "import matplotlib.pyplot as plt\n",
    "import numpy as np\n",
    "%matplotlib inline\n",
    "import urllib\n",
    "import requests\n",
    "import json\n",
    "from sklearn.preprocessing import OneHotEncoder\n",
    "from sklearn.pipeline import Pipeline"
   ]
  },
  {
   "cell_type": "markdown",
   "metadata": {},
   "source": [
    "Load data"
   ]
  },
  {
   "cell_type": "code",
   "execution_count": null,
   "metadata": {},
   "outputs": [],
   "source": [
    "#Get Path\n",
    "os.getcwd()\n",
    "basepath = os.getcwd()\n",
    "print(basepath)\n",
    "lis_dir = os.listdir()\n",
    "print(lis_dir)\n",
    "sub_file = 'data'\n",
    "\n",
    "# Load Craigslist data\n",
    "auto_file = 'auto_data.csv'\n",
    "file_name_path = os.path.join(basepath, sub_file, auto_file)\n",
    "auto_data = pd.read_csv(file_name_path)\n",
    "\n",
    "\n",
    "# Load Categorical data\n",
    "cat_file = 'cat_data.csv'\n",
    "file_name_path = os.path.join(basepath, sub_file, cat_file)\n",
    "cat_data = pd.read_csv(file_name_path)\n",
    "\n",
    "\n",
    "#Load MSRP data\n",
    "msrp_file = 'msrp2.csv'\n",
    "file_name_path = os.path.join(basepath,sub_file, msrp_file)\n",
    "msrp_data= pd.read_csv(file_name_path)\n",
    "\n"
   ]
  },
  {
   "cell_type": "markdown",
   "metadata": {},
   "source": [
    "Create Dictionaries to map with"
   ]
  },
  {
   "cell_type": "code",
   "execution_count": null,
   "metadata": {},
   "outputs": [],
   "source": [
    "#Create Dictionaries to map with\n",
    "\n",
    "#create mmy key2 for autos\n",
    "auto_data['model2']= auto_data['model'].str.split(' ').str[0]\n",
    "auto_data['mmy_a2']=auto_data['manufacturer']+' '+auto_data['model2']+ ' '+ auto_data['year'].astype(int).astype(str)\n",
    "\n",
    "#auto_dictionary\n",
    "auto_dict= auto_data[['manufacturer', 'model', 'year', 'mmy_a', 'mmy_a2']].drop_duplicates(keep='last')\n",
    "\n",
    "#MSRP Dictionary\n",
    "MSRP_dict = msrp_data.groupby(['Make', 'Model', 'Year', 'mmy', 'mmy2'])['MSRP'].mean().reset_index()\n"
   ]
  },
  {
   "cell_type": "markdown",
   "metadata": {},
   "source": [
    "Seperate MSRP into 2 dictionaries so we can first merge auto data with the more precise key and then later with less precise key"
   ]
  },
  {
   "cell_type": "code",
   "execution_count": null,
   "metadata": {},
   "outputs": [],
   "source": [
    "#MSRP_dictionary_1 has only the first key\n",
    "MSRP_dict1 = MSRP_dict[['mmy', 'MSRP']]\n",
    "\n",
    "#MSRP_dictionary_2 has only the second key\n",
    "MSRP_dict2= MSRP_dict[['mmy2', 'MSRP']]\n",
    "MSRP_dict2['MSRP_vague'] = MSRP_dict2['MSRP']\n",
    "MSRP_dict2= MSRP_dict2.drop(columns= ['MSRP'])"
   ]
  },
  {
   "cell_type": "markdown",
   "metadata": {},
   "source": [
    "Merge auto data and MSRP data into dictionary a_m_dict"
   ]
  },
  {
   "cell_type": "code",
   "execution_count": null,
   "metadata": {},
   "outputs": [],
   "source": [
    "#Merge auto_dict and MSRP dictionary 1 into df1 using the 1st key\n",
    "df1= pd.merge(auto_dict, MSRP_dict1, left_on='mmy_a', right_on= 'mmy', how='outer' )\n",
    "\n",
    "\n",
    "#Merge dictionary3 and MSRP dictionary 2 into auto_msrp_dictionary using the second key\n",
    "a_m_dict= pd.merge(df1, MSRP_dict2, left_on='mmy_a2', right_on= 'mmy2', how='outer' )\n",
    "\n",
    "#fill any null results in MSRP from first key map by results in second key\n",
    "a_m_dict['MSRP']=a_m_dict['MSRP'].fillna(a_m_dict['MSRP_vague']) \n",
    "\n",
    "#drop duplicates\n",
    "a_m_dict= a_m_dict[['mmy_a', 'mmy', 'mmy2','MSRP']].drop_duplicates(subset=['mmy_a', 'mmy', 'mmy2'], keep= 'last' )\n"
   ]
  },
  {
   "cell_type": "markdown",
   "metadata": {},
   "source": [
    "Seperate Categorical data into 2 dictionaries so we can first merge auto data with the more precise key and then later with the less precise key"
   ]
  },
  {
   "cell_type": "code",
   "execution_count": null,
   "metadata": {},
   "outputs": [],
   "source": [
    "#Cat_dictionary_1 has only the first key\n",
    "cat_dict= cat_data[['Make', 'Model', 'Year', 'mmy', 'mmy2','Category']].drop_duplicates(subset=['Make', 'Model', 'Year', 'mmy', 'mmy2'], keep='last')\n",
    "cat_dict1 = cat_dict[['mmy', 'Category']]\n",
    "\n",
    "\n",
    "#Cat_dictionary_2 has only the second key\n",
    "cat_dict2= cat_dict[['mmy2', 'Category']]\n",
    "cat_dict2['Category_vague'] = cat_dict2['Category']\n",
    "cat_dict2= cat_dict2.drop(columns= ['Category'])\n"
   ]
  },
  {
   "cell_type": "markdown",
   "metadata": {},
   "source": [
    "Merge auto data and categorical data into dictionary a_c_dict"
   ]
  },
  {
   "cell_type": "code",
   "execution_count": null,
   "metadata": {},
   "outputs": [],
   "source": [
    "#Merge auto dictionary and cat dictionary 1 into dictionary into df1 using the first key\n",
    "df1= pd.merge(auto_dict, cat_dict1, left_on='mmy_a', right_on= 'mmy', how='outer' )\n",
    "\n",
    "#Merge dictionary3 and cat dictionary 2 into auto_cat_dictionary using the second key\n",
    "a_c_dict= pd.merge(df1, cat_dict2, left_on='mmy_a2', right_on= 'mmy2', how='outer' )\n",
    "\n",
    "#Fill in blanks in the Category left from the first key with results from the second key (if any)\n",
    "a_c_dict['Category']=a_c_dict['Category'].fillna(a_c_dict['Category_vague']) \n",
    "\n",
    "\n",
    "#drop duplicates \n",
    "a_c_dict= a_c_dict[['mmy_a', 'mmy', 'mmy2','Category']].drop_duplicates(subset=['mmy_a', 'mmy', 'mmy2'], keep= 'last' )"
   ]
  },
  {
   "cell_type": "code",
   "execution_count": null,
   "metadata": {},
   "outputs": [],
   "source": [
    "print(a_c_dict.info())\n",
    "print(a_m_dict.info())"
   ]
  },
  {
   "cell_type": "markdown",
   "metadata": {},
   "source": [
    "Merge  categorical data and MSRP data using a_c_dict and a_m_dict"
   ]
  },
  {
   "cell_type": "code",
   "execution_count": null,
   "metadata": {},
   "outputs": [],
   "source": [
    "#Merge Cat and MSRP\n",
    "#We still have two keys mmy_a and mmy\n",
    "\n",
    "a_m_dict_1= a_m_dict[['mmy_a', 'MSRP']].dropna()\n",
    "a_m_dict_2= a_m_dict[['mmy', 'MSRP']].dropna()\n",
    "a_m_dict_3= a_m_dict[['mmy2', 'MSRP']].dropna()\n",
    "\n",
    "a_m_dict_2= a_m_dict_2.rename(columns={\"MSRP\": \"MSRP_2\"})\n",
    "a_m_dict_3= a_m_dict_3.rename(columns={\"MSRP\": \"MSRP_3\"})\n"
   ]
  },
  {
   "cell_type": "code",
   "execution_count": null,
   "metadata": {},
   "outputs": [],
   "source": [
    "#Merge a_c and a_m dict on first key\n",
    "df1= pd.merge(a_c_dict, a_m_dict_1, on='mmy_a', how='outer')\n",
    "\n",
    "#Merge a_c and a_m dict on second key\n",
    "df2 = pd.merge(df1,  a_m_dict_2, left_on='mmy', right_on='mmy', how='outer' )\n",
    "\n",
    "#Merge a_c and a_m dict on third key\n",
    "a_m_c_dict = pd.merge(df2,  a_m_dict_3, on='mmy2', how='outer' )\n",
    "a_m_c_dict.info()\n",
    "\n"
   ]
  },
  {
   "cell_type": "markdown",
   "metadata": {},
   "source": [
    "Melt MSRP data into one column.\n",
    "Results in MSRP2 and MSRP3 are less precise than results so we melt those columns into the original MSRP column"
   ]
  },
  {
   "cell_type": "code",
   "execution_count": null,
   "metadata": {},
   "outputs": [],
   "source": [
    "#Fill in blanks in the MSRP left from 1st key with results from the 2nd and 3rd key (if any)\n",
    "\n",
    "a_m_c_dict['MSRP']=a_m_c_dict['MSRP'].fillna(a_m_c_dict['MSRP_2']) \n",
    "a_m_c_dict['MSRP']=a_m_c_dict['MSRP'].fillna(a_m_c_dict['MSRP_3']) \n",
    "\n",
    "#drop duplicates\n",
    "a_m_c_dict= a_m_c_dict[['mmy_a', 'MSRP', 'Category']].drop_duplicates(subset=['mmy_a'], keep= 'last' )\n",
    "\n",
    "#drop if missing 'mmy_a'\n",
    "a_m_c_dict = a_m_c_dict[a_m_c_dict['mmy_a'].notna()]\n"
   ]
  },
  {
   "cell_type": "markdown",
   "metadata": {},
   "source": [
    "Merge  craig'slist data with categorical data and MSRP data using a_m_c_dict"
   ]
  },
  {
   "cell_type": "code",
   "execution_count": null,
   "metadata": {},
   "outputs": [],
   "source": [
    "z= pd.merge(auto_data, a_m_c_dict, on='mmy_a', how='left')\n",
    "z.info()\n",
    "auto_data= z"
   ]
  },
  {
   "cell_type": "markdown",
   "metadata": {},
   "source": [
    "## Merge State Data with auto data"
   ]
  },
  {
   "cell_type": "markdown",
   "metadata": {},
   "source": [
    "###  Find State data\n",
    "We can use geographic data to find other data we need. Two things that common wisdom suggests effect car prices \n",
    "1) Amount of money people make \n",
    "2) gas prices \n",
    "We can find the average income people make in the state as well as the aproximate gas prices when this Craigslist dataset was collected.\n",
    "\n",
    "Gas prices come from AAA which shows the daily average gas prices for a state. They do not store this data so the data was scraped from the next nearest date available from the scraping of the Craiglist data which was Feb 22 https://web.archive.org/web/20200226222808/https://gasprices.aaa.com/state-gas-price-averages/\n",
    "This data for household income by state was from https://dqydj.com/average-income-by-state-median-top-percentiles/ a place that holds financial data and that is recommend by the WSJ and the NYT.\n"
   ]
  },
  {
   "cell_type": "code",
   "execution_count": null,
   "metadata": {},
   "outputs": [],
   "source": [
    "#get_state_data\n",
    "state_file ='state_data.csv'\n",
    "\n",
    "print('p')\n",
    "file_name_path = os.path.join(basepath, 'data', state_file)\n",
    "state_data= pd.read_csv(file_name_path)\n",
    "state_data.info()\n",
    "#Open data\n"
   ]
  },
  {
   "cell_type": "markdown",
   "metadata": {},
   "source": [
    "### Merge auto data with state data"
   ]
  },
  {
   "cell_type": "code",
   "execution_count": null,
   "metadata": {},
   "outputs": [],
   "source": [
    "#merge_with_state_data\n",
    "auto_data_m= auto_data.merge(state_data, left_on='state', right_on='State_Code')\n",
    "auto_data_m.info()\n",
    "auto_data = auto_data_m"
   ]
  },
  {
   "cell_type": "code",
   "execution_count": null,
   "metadata": {},
   "outputs": [],
   "source": [
    "#save data\n",
    "\n",
    "new_file = 'auto_data_m_cl.csv'\n",
    "new_file_name_path = os.path.join(basepath,sub_file, new_file)\n",
    "auto_data_m.to_csv(new_file_name_path, index=False)"
   ]
  }
 ],
 "metadata": {
  "kernelspec": {
   "display_name": "Python 3",
   "language": "python",
   "name": "python3"
  },
  "language_info": {
   "codemirror_mode": {
    "name": "ipython",
    "version": 3
   },
   "file_extension": ".py",
   "mimetype": "text/x-python",
   "name": "python",
   "nbconvert_exporter": "python",
   "pygments_lexer": "ipython3",
   "version": "3.7.9"
  }
 },
 "nbformat": 4,
 "nbformat_minor": 4
}
