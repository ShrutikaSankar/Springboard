{
 "cells": [
  {
   "cell_type": "code",
   "execution_count": 1,
   "metadata": {},
   "outputs": [],
   "source": [
    "#Need intro and questions to be put here\n",
    "# Dealer is giving  you a list of vehicles (Teslas? )\n",
    "# Normally you'd sell at your store but due to Covid people do not want to enter your store\n",
    "# One ofc your seller's suggest Craiglist and sys he's willing to sell the vehicle on it\n",
    "# We have seller who is willing to sell the vehicles for us on Craigslist should we take it?\n",
    "#story boarding might give us more info"
   ]
  },
  {
   "cell_type": "code",
   "execution_count": 2,
   "metadata": {},
   "outputs": [],
   "source": [
    "#Intro"
   ]
  },
  {
   "cell_type": "code",
   "execution_count": 3,
   "metadata": {},
   "outputs": [],
   "source": [
    "#Problem"
   ]
  },
  {
   "cell_type": "markdown",
   "metadata": {},
   "source": [
    "## Prepping the Data"
   ]
  },
  {
   "cell_type": "markdown",
   "metadata": {},
   "source": [
    "Loading Software"
   ]
  },
  {
   "cell_type": "code",
   "execution_count": 4,
   "metadata": {},
   "outputs": [],
   "source": [
    "#load python packages\n",
    "import os\n",
    "import pandas as pd\n",
    "import datetime\n",
    "import seaborn as sns\n",
    "import matplotlib.pyplot as plt\n",
    "import numpy as np\n",
    "%matplotlib inline\n",
    "import urllib\n",
    "import requests\n",
    "import json\n",
    "from sklearn.preprocessing import OneHotEncoder\n",
    "from sklearn.pipeline import Pipeline\n",
    "from sklearn.model_selection import train_test_split\n",
    "from sklearn.model_selection import GridSearchCV\n",
    "from sklearn.metrics import classification_report\n",
    "from sklearn.neighbors import KNeighborsClassifier\n",
    "from sklearn.linear_model import Ridge, LinearRegression, LogisticRegression, ElasticNet\n",
    "from sklearn.preprocessing import MinMaxScaler, StandardScaler\n",
    "\n"
   ]
  },
  {
   "cell_type": "code",
   "execution_count": 5,
   "metadata": {},
   "outputs": [],
   "source": [
    "#Data in question (Auto Data)"
   ]
  },
  {
   "cell_type": "markdown",
   "metadata": {},
   "source": [
    "Loading Data"
   ]
  },
  {
   "cell_type": "code",
   "execution_count": 6,
   "metadata": {},
   "outputs": [
    {
     "name": "stdout",
     "output_type": "stream",
     "text": [
      "C:\\Users\\Tiki\\Documents\\Sprinboard2\\Capstone_cars\n",
      "['.ipynb_checkpoints', '575_1100_compressed_data.csv', '575_1100_compressed_data.csv.zip', '62920_1026452_bundle_archive.zip', 'auto1.ipynb', 'auto1_datawrangling.ipynb', 'auto2.ipynb', 'auto2_Combining Data.ipynb', 'auto3.ipynb', 'autodata3_EDA.ipynb', 'autodata4-imputing Data.ipynb', 'autodata4-PCA.ipynb', 'autodata4.ipynb', 'auto_clean.ipynb', 'auto_clean_copy2.ipynb', 'auto_clean_copy2backup.ipynb', 'correlation.png', 'cylinder_drive.png', 'cylinder_drive_mileage_price.png', 'data', 'Fig1_Price_before_deletion.png', 'Fig2_Price_after_deletion.png', 'figures', 'Figx_ModelComparison.png', 'Figx_ModelComparison_Std.png', 'Figx_Model_Comparison_RMSLE.png', 'Figx_Model_Comparison_std.png', 'Scrap.ipynb']\n",
      "If you are using the data in my github the data is actually already at the auto_data.csv stage renamed\n",
      "However all the code can be run except for one cell which is clearly marked\n"
     ]
    },
    {
     "data": {
      "text/html": [
       "<div>\n",
       "<style scoped>\n",
       "    .dataframe tbody tr th:only-of-type {\n",
       "        vertical-align: middle;\n",
       "    }\n",
       "\n",
       "    .dataframe tbody tr th {\n",
       "        vertical-align: top;\n",
       "    }\n",
       "\n",
       "    .dataframe thead th {\n",
       "        text-align: right;\n",
       "    }\n",
       "</style>\n",
       "<table border=\"1\" class=\"dataframe\">\n",
       "  <thead>\n",
       "    <tr style=\"text-align: right;\">\n",
       "      <th></th>\n",
       "      <th>id</th>\n",
       "      <th>url</th>\n",
       "      <th>region</th>\n",
       "      <th>region_url</th>\n",
       "      <th>price</th>\n",
       "      <th>year</th>\n",
       "      <th>manufacturer</th>\n",
       "      <th>model</th>\n",
       "      <th>condition</th>\n",
       "      <th>cylinders</th>\n",
       "      <th>...</th>\n",
       "      <th>drive</th>\n",
       "      <th>size</th>\n",
       "      <th>type</th>\n",
       "      <th>paint_color</th>\n",
       "      <th>image_url</th>\n",
       "      <th>description</th>\n",
       "      <th>county</th>\n",
       "      <th>state</th>\n",
       "      <th>lat</th>\n",
       "      <th>long</th>\n",
       "    </tr>\n",
       "  </thead>\n",
       "  <tbody>\n",
       "    <tr>\n",
       "      <th>0</th>\n",
       "      <td>7088746062</td>\n",
       "      <td>https://greensboro.craigslist.org/ctd/d/cary-2...</td>\n",
       "      <td>greensboro</td>\n",
       "      <td>https://greensboro.craigslist.org</td>\n",
       "      <td>10299</td>\n",
       "      <td>2012.0</td>\n",
       "      <td>acura</td>\n",
       "      <td>tl</td>\n",
       "      <td>NaN</td>\n",
       "      <td>NaN</td>\n",
       "      <td>...</td>\n",
       "      <td>NaN</td>\n",
       "      <td>NaN</td>\n",
       "      <td>other</td>\n",
       "      <td>blue</td>\n",
       "      <td>https://images.craigslist.org/01414_3LIXs9EO33...</td>\n",
       "      <td>2012 Acura TL Base 4dr Sedan     Offered by: B...</td>\n",
       "      <td>NaN</td>\n",
       "      <td>nc</td>\n",
       "      <td>35.7636</td>\n",
       "      <td>-78.7443</td>\n",
       "    </tr>\n",
       "    <tr>\n",
       "      <th>1</th>\n",
       "      <td>7088745301</td>\n",
       "      <td>https://greensboro.craigslist.org/ctd/d/bmw-3-...</td>\n",
       "      <td>greensboro</td>\n",
       "      <td>https://greensboro.craigslist.org</td>\n",
       "      <td>0</td>\n",
       "      <td>2011.0</td>\n",
       "      <td>bmw</td>\n",
       "      <td>335</td>\n",
       "      <td>NaN</td>\n",
       "      <td>6 cylinders</td>\n",
       "      <td>...</td>\n",
       "      <td>rwd</td>\n",
       "      <td>NaN</td>\n",
       "      <td>convertible</td>\n",
       "      <td>blue</td>\n",
       "      <td>https://images.craigslist.org/00S0S_1kTatLGLxB...</td>\n",
       "      <td>BMW 3 Series 335i Convertible Navigation Dakot...</td>\n",
       "      <td>NaN</td>\n",
       "      <td>nc</td>\n",
       "      <td>NaN</td>\n",
       "      <td>NaN</td>\n",
       "    </tr>\n",
       "    <tr>\n",
       "      <th>2</th>\n",
       "      <td>7088744126</td>\n",
       "      <td>https://greensboro.craigslist.org/cto/d/greens...</td>\n",
       "      <td>greensboro</td>\n",
       "      <td>https://greensboro.craigslist.org</td>\n",
       "      <td>9500</td>\n",
       "      <td>2011.0</td>\n",
       "      <td>jaguar</td>\n",
       "      <td>xf</td>\n",
       "      <td>excellent</td>\n",
       "      <td>NaN</td>\n",
       "      <td>...</td>\n",
       "      <td>NaN</td>\n",
       "      <td>NaN</td>\n",
       "      <td>NaN</td>\n",
       "      <td>blue</td>\n",
       "      <td>https://images.craigslist.org/00505_f22HGItCRp...</td>\n",
       "      <td>2011 jaguar XF premium - estate sale. Retired ...</td>\n",
       "      <td>NaN</td>\n",
       "      <td>nc</td>\n",
       "      <td>36.1032</td>\n",
       "      <td>-79.8794</td>\n",
       "    </tr>\n",
       "    <tr>\n",
       "      <th>3</th>\n",
       "      <td>7088743681</td>\n",
       "      <td>https://greensboro.craigslist.org/ctd/d/cary-2...</td>\n",
       "      <td>greensboro</td>\n",
       "      <td>https://greensboro.craigslist.org</td>\n",
       "      <td>3995</td>\n",
       "      <td>2004.0</td>\n",
       "      <td>honda</td>\n",
       "      <td>element</td>\n",
       "      <td>NaN</td>\n",
       "      <td>NaN</td>\n",
       "      <td>...</td>\n",
       "      <td>fwd</td>\n",
       "      <td>NaN</td>\n",
       "      <td>SUV</td>\n",
       "      <td>orange</td>\n",
       "      <td>https://images.craigslist.org/00E0E_eAUnhFF86M...</td>\n",
       "      <td>2004 Honda Element LX 4dr SUV     Offered by: ...</td>\n",
       "      <td>NaN</td>\n",
       "      <td>nc</td>\n",
       "      <td>35.7636</td>\n",
       "      <td>-78.7443</td>\n",
       "    </tr>\n",
       "    <tr>\n",
       "      <th>4</th>\n",
       "      <td>7074612539</td>\n",
       "      <td>https://lincoln.craigslist.org/ctd/d/gretna-20...</td>\n",
       "      <td>lincoln</td>\n",
       "      <td>https://lincoln.craigslist.org</td>\n",
       "      <td>41988</td>\n",
       "      <td>2016.0</td>\n",
       "      <td>chevrolet</td>\n",
       "      <td>silverado k2500hd</td>\n",
       "      <td>NaN</td>\n",
       "      <td>NaN</td>\n",
       "      <td>...</td>\n",
       "      <td>NaN</td>\n",
       "      <td>NaN</td>\n",
       "      <td>NaN</td>\n",
       "      <td>NaN</td>\n",
       "      <td>https://images.craigslist.org/00S0S_8msT7RQquO...</td>\n",
       "      <td>Shop Indoors, Heated Showroom!!!www.gretnaauto...</td>\n",
       "      <td>NaN</td>\n",
       "      <td>ne</td>\n",
       "      <td>41.1345</td>\n",
       "      <td>-96.2458</td>\n",
       "    </tr>\n",
       "  </tbody>\n",
       "</table>\n",
       "<p>5 rows × 25 columns</p>\n",
       "</div>"
      ],
      "text/plain": [
       "           id                                                url      region  \\\n",
       "0  7088746062  https://greensboro.craigslist.org/ctd/d/cary-2...  greensboro   \n",
       "1  7088745301  https://greensboro.craigslist.org/ctd/d/bmw-3-...  greensboro   \n",
       "2  7088744126  https://greensboro.craigslist.org/cto/d/greens...  greensboro   \n",
       "3  7088743681  https://greensboro.craigslist.org/ctd/d/cary-2...  greensboro   \n",
       "4  7074612539  https://lincoln.craigslist.org/ctd/d/gretna-20...     lincoln   \n",
       "\n",
       "                          region_url  price    year manufacturer  \\\n",
       "0  https://greensboro.craigslist.org  10299  2012.0        acura   \n",
       "1  https://greensboro.craigslist.org      0  2011.0          bmw   \n",
       "2  https://greensboro.craigslist.org   9500  2011.0       jaguar   \n",
       "3  https://greensboro.craigslist.org   3995  2004.0        honda   \n",
       "4     https://lincoln.craigslist.org  41988  2016.0    chevrolet   \n",
       "\n",
       "               model  condition    cylinders  ... drive  size         type  \\\n",
       "0                 tl        NaN          NaN  ...   NaN   NaN        other   \n",
       "1                335        NaN  6 cylinders  ...   rwd   NaN  convertible   \n",
       "2                 xf  excellent          NaN  ...   NaN   NaN          NaN   \n",
       "3            element        NaN          NaN  ...   fwd   NaN          SUV   \n",
       "4  silverado k2500hd        NaN          NaN  ...   NaN   NaN          NaN   \n",
       "\n",
       "  paint_color                                          image_url  \\\n",
       "0        blue  https://images.craigslist.org/01414_3LIXs9EO33...   \n",
       "1        blue  https://images.craigslist.org/00S0S_1kTatLGLxB...   \n",
       "2        blue  https://images.craigslist.org/00505_f22HGItCRp...   \n",
       "3      orange  https://images.craigslist.org/00E0E_eAUnhFF86M...   \n",
       "4         NaN  https://images.craigslist.org/00S0S_8msT7RQquO...   \n",
       "\n",
       "                                         description county state      lat  \\\n",
       "0  2012 Acura TL Base 4dr Sedan     Offered by: B...    NaN    nc  35.7636   \n",
       "1  BMW 3 Series 335i Convertible Navigation Dakot...    NaN    nc      NaN   \n",
       "2  2011 jaguar XF premium - estate sale. Retired ...    NaN    nc  36.1032   \n",
       "3  2004 Honda Element LX 4dr SUV     Offered by: ...    NaN    nc  35.7636   \n",
       "4  Shop Indoors, Heated Showroom!!!www.gretnaauto...    NaN    ne  41.1345   \n",
       "\n",
       "      long  \n",
       "0 -78.7443  \n",
       "1      NaN  \n",
       "2 -79.8794  \n",
       "3 -78.7443  \n",
       "4 -96.2458  \n",
       "\n",
       "[5 rows x 25 columns]"
      ]
     },
     "execution_count": 6,
     "metadata": {},
     "output_type": "execute_result"
    }
   ],
   "source": [
    "#Get Path\n",
    "os.getcwd()\n",
    "basepath = os.getcwd()\n",
    "print(basepath)\n",
    "lis_dir = os.listdir()\n",
    "print(lis_dir)\n",
    "\n",
    "# Create the list of file names: filenames\n",
    "\n",
    "file = 'vehicles.csv'\n",
    "\n",
    "print('If you are using the data in my github the data is actually already at the auto_data.csv stage renamed')\n",
    "print('However all the code can be run except for one cell which is clearly marked')\n",
    "\n",
    "sub_file = 'data'\n",
    "file_name_path = os.path.join(basepath, sub_file, file)\n",
    "auto_data= pd.read_csv(file_name_path)\n",
    "\n",
    "\n",
    "\n",
    "#Open data\n",
    "auto_data.head(5)"
   ]
  },
  {
   "cell_type": "markdown",
   "metadata": {},
   "source": [
    "Exploratory Data1"
   ]
  },
  {
   "cell_type": "code",
   "execution_count": 7,
   "metadata": {},
   "outputs": [
    {
     "name": "stdout",
     "output_type": "stream",
     "text": [
      "Index(['id', 'url', 'region', 'region_url', 'price', 'year', 'manufacturer',\n",
      "       'model', 'condition', 'cylinders', 'fuel', 'odometer', 'title_status',\n",
      "       'transmission', 'vin', 'drive', 'size', 'type', 'paint_color',\n",
      "       'image_url', 'description', 'county', 'state', 'lat', 'long'],\n",
      "      dtype='object')\n",
      "<class 'pandas.core.frame.DataFrame'>\n",
      "RangeIndex: 539759 entries, 0 to 539758\n",
      "Data columns (total 25 columns):\n",
      " #   Column        Non-Null Count   Dtype  \n",
      "---  ------        --------------   -----  \n",
      " 0   id            539759 non-null  int64  \n",
      " 1   url           539759 non-null  object \n",
      " 2   region        539759 non-null  object \n",
      " 3   region_url    539759 non-null  object \n",
      " 4   price         539759 non-null  int64  \n",
      " 5   year          538772 non-null  float64\n",
      " 6   manufacturer  516175 non-null  object \n",
      " 7   model         531746 non-null  object \n",
      " 8   condition     303707 non-null  object \n",
      " 9   cylinders     321264 non-null  object \n",
      " 10  fuel          536366 non-null  object \n",
      " 11  odometer      440783 non-null  float64\n",
      " 12  title_status  536819 non-null  object \n",
      " 13  transmission  535786 non-null  object \n",
      " 14  vin           315349 non-null  object \n",
      " 15  drive         383987 non-null  object \n",
      " 16  size          168550 non-null  object \n",
      " 17  type          392290 non-null  object \n",
      " 18  paint_color   365520 non-null  object \n",
      " 19  image_url     539740 non-null  object \n",
      " 20  description   539738 non-null  object \n",
      " 21  county        0 non-null       float64\n",
      " 22  state         539759 non-null  object \n",
      " 23  lat           530785 non-null  float64\n",
      " 24  long          530785 non-null  float64\n",
      "dtypes: float64(5), int64(2), object(18)\n",
      "memory usage: 103.0+ MB\n"
     ]
    }
   ],
   "source": [
    "#Print the columns names of the entire dataframe\n",
    "print(auto_data.columns)\n",
    "# Review the column names, null value counts and data types of your data frame.\n",
    "auto_data.info()\n"
   ]
  },
  {
   "cell_type": "markdown",
   "metadata": {},
   "source": [
    "Variables drop\n",
    "* url   - We will not be using urls in this study\n",
    "* region_url   -  We will not be using urls in this study\n",
    "* description   - Unique for each vehicle\n",
    "* VIN   - Unique for each vehicle\n",
    "* image_url - We will not be using urls in this study \n",
    "* county    - there is no non 0 data points there\n",
    "\n",
    "Drop if data\n",
    "* if condition is unknown from wreck to clean we don't need it\n",
    "* if model year is unknown we do not know the age\n",
    "* Odometer measures mileage, if we don't know the wear on the cars\n",
    "* if we don't know the model car we don't know the car\n",
    "* If we don't know the price we don't have the data we are predicting for\n"
   ]
  },
  {
   "cell_type": "code",
   "execution_count": 8,
   "metadata": {},
   "outputs": [
    {
     "name": "stdout",
     "output_type": "stream",
     "text": [
      "Index(['id', 'region', 'price', 'year', 'manufacturer', 'model', 'condition',\n",
      "       'cylinders', 'fuel', 'odometer', 'title_status', 'transmission',\n",
      "       'drive', 'size', 'type', 'paint_color', 'state', 'lat', 'long'],\n",
      "      dtype='object')\n"
     ]
    }
   ],
   "source": [
    "\n",
    "auto_data= auto_data.drop(columns=['url', 'region_url', 'image_url', 'county', 'description', 'vin'])\n",
    "print(auto_data.columns)\n",
    "auto_data= auto_data.dropna(subset=['condition', 'year', 'odometer', 'model', 'price'])\n",
    "\n",
    "#known main points for an auto sale condition, age, mileage, type of car if the cars don't have it we don't want it"
   ]
  },
  {
   "cell_type": "markdown",
   "metadata": {},
   "source": [
    "### Transforming Rules: Common Sense\n",
    "\n",
    "* Cylinders come in whole numbers for an engine (there is no quarter cylinder)\n",
    "* Manufacturer names should be consistent"
   ]
  },
  {
   "cell_type": "code",
   "execution_count": 9,
   "metadata": {},
   "outputs": [
    {
     "data": {
      "image/png": "[encoded data removed]",
      "text/plain": [
       "<Figure size 432x288 with 1 Axes>"
      ]
     },
     "metadata": {
      "needs_background": "light"
     },
     "output_type": "display_data"
    }
   ],
   "source": [
    "#Turn Cylinder column from string to numeric\n",
    "auto_data['cyl'] = auto_data['cylinders']\n",
    "auto_data['cyl'] = auto_data['cyl'].replace('other', np.nan)\n",
    "auto_data['cyl'] = auto_data['cyl'].astype(str).str[0:2]\n",
    "auto_data['cyl'] = auto_data['cyl'].str.strip()\n",
    "auto_data['cyl'] = auto_data['cyl'].replace('na', np.nan)\n",
    "auto_data['cyl'] = pd.to_numeric(auto_data['cyl'])\n",
    "auto_data['cylinders']= auto_data['cyl']\n",
    "auto_data= auto_data.drop(['cyl'], axis=1)\n",
    "\n",
    "#plot Cylinders\n",
    "plt.title(\"Numerical Cylinders\")\n",
    "hist = auto_data.cylinders.hist(bins=10)"
   ]
  },
  {
   "cell_type": "code",
   "execution_count": 10,
   "metadata": {},
   "outputs": [],
   "source": [
    "#Neaten Strings\n",
    "#Fix manufacturer\n",
    "auto_data['manufacturer']= auto_data['manufacturer'].str.title().str.strip()\n",
    "auto_data['manufacturer']= auto_data['manufacturer'].str.replace(' ', '-')\n",
    "auto_data['manufacturer']= auto_data['manufacturer'].str.replace('Land-Rover', 'Rover') \n",
    "auto_data['manufacturer']= auto_data['manufacturer'].str.replace('Rover', 'Land-Rover') \n",
    "auto_data['manufacturer']= auto_data['manufacturer'].str.replace('Porche', 'Porsche')\n",
    "auto_data['manufacturer']= auto_data['manufacturer'].str.replace('---', '-')\n",
    "auto_data['manufacturer']= auto_data['manufacturer'].str.replace('--', '-')\n",
    "\n",
    "\n",
    "#Fix model\n",
    "auto_data['model']= auto_data['model'].str.title().str.strip()\n",
    "auto_data['model']= auto_data['model'].str.replace(' ', '-')\n",
    "auto_data['model']= auto_data['model'].str.replace('---', '-')\n",
    "auto_data['model']= auto_data['model'].str.replace('--', '-')\n",
    "\n",
    "#fix Type\n",
    "auto_data['type']= auto_data['type'].str.title().str.strip()\n",
    "\n",
    "#States are state codes\n",
    "auto_data['state'] = auto_data['state'].str.upper().str.strip()\n",
    "\n",
    "#If no paint color is given its unlisted and its unrealistc to try to impute it\n",
    "auto_data['paint_color'] = auto_data['paint_color'].fillna('unlisted')\n"
   ]
  },
  {
   "cell_type": "code",
   "execution_count": 11,
   "metadata": {},
   "outputs": [
    {
     "name": "stdout",
     "output_type": "stream",
     "text": [
      "<class 'pandas.core.frame.DataFrame'>\n",
      "Int64Index: 261705 entries, 2 to 539752\n",
      "Data columns (total 19 columns):\n",
      " #   Column        Non-Null Count   Dtype  \n",
      "---  ------        --------------   -----  \n",
      " 0   id            261705 non-null  int64  \n",
      " 1   region        261705 non-null  object \n",
      " 2   price         261705 non-null  int64  \n",
      " 3   year          261705 non-null  float64\n",
      " 4   manufacturer  252526 non-null  object \n",
      " 5   model         261705 non-null  object \n",
      " 6   condition     261705 non-null  object \n",
      " 7   cylinders     206443 non-null  float64\n",
      " 8   fuel          261683 non-null  object \n",
      " 9   odometer      261705 non-null  float64\n",
      " 10  title_status  261699 non-null  object \n",
      " 11  transmission  261515 non-null  object \n",
      " 12  drive         221851 non-null  object \n",
      " 13  size          124791 non-null  object \n",
      " 14  type          226891 non-null  object \n",
      " 15  paint_color   261705 non-null  object \n",
      " 16  state         261705 non-null  object \n",
      " 17  lat           259496 non-null  float64\n",
      " 18  long          259496 non-null  float64\n",
      "dtypes: float64(5), int64(2), object(12)\n",
      "memory usage: 39.9+ MB\n"
     ]
    }
   ],
   "source": [
    "auto_data.info()"
   ]
  },
  {
   "cell_type": "markdown",
   "metadata": {},
   "source": [
    "Cleaning Rules: Common Sense\n",
    "\n",
    "* This study is not looking at over luxury cars/ antique cars  so \n",
    "    * None of the vehicles should have a price greater than half a million\n",
    "* This study is not looking at motorbikes or bus's \n",
    "    * we don't need harley davidson's or henessey's \n",
    "    *\n",
    "* This study is not looking at junker cars so we do not need vehicles \n",
    "    * of a value of a 100 dollars or less\n",
    "    * with over a half milion miles on them\n",
    "    * are of poor condition\n",
    "    * older than 10 years old (we are also not looking at antique cars\n",
    "    * that has a condition/title status is better than salvage \n",
    "* Cleaning Obvious errors:\n",
    "    * We are looking at used vehicles so the vehicles age should be greater than 1 year\n",
    "* We do not need to take into consideration vehicles older than 10 years old. \n",
    "\n",
    "\n"
   ]
  },
  {
   "cell_type": "code",
   "execution_count": 12,
   "metadata": {},
   "outputs": [
    {
     "name": "stdout",
     "output_type": "stream",
     "text": [
      "Maximum price: $ 479000 \n",
      "Minimum price: $ 100 \n",
      "Maximum age:  10.0 years \n",
      "Minimum age: 1.0 years \n",
      "Maximum mileage: 499103.0 \n",
      "Minimum mileage: 0.0 \n"
     ]
    }
   ],
   "source": [
    "# If we are dealing with a vehicle with over a half milion miles we have more problem\n",
    "auto_data = auto_data[(auto_data.odometer< 500000)] \n",
    "\n",
    "\n",
    "#This study is not look at eather junkers or antiques so \n",
    "#a: age has to be greater than 0 and less than 11 years\n",
    "#b: price has to be greater than $100 and less than half million\n",
    "#c: mileage has to be greater than or equal to 0 and less than half million\n",
    "\n",
    "auto_data['age'] = 2020-auto_data['year']\n",
    "auto_data = auto_data[(auto_data.age > 0) & (auto_data.age <= 10)]\n",
    "auto_data = auto_data[(auto_data.price >= 100) & (auto_data.price <= 500000)]\n",
    "auto_data = auto_data[(auto_data.odometer >= 0) & (auto_data.odometer <= 500000)]\n",
    "\n",
    "\n",
    "print(f\"Maximum price: $ {auto_data.price.max()} \\nMinimum price: $ {auto_data.price.min()} \")\n",
    "print(f\"Maximum age:  {auto_data.age.max()} years \\nMinimum age: {auto_data.age.min()} years \")\n",
    "print(f\"Maximum mileage: {auto_data.odometer.max()} \\nMinimum mileage: {auto_data.odometer.min()} \")\n"
   ]
  },
  {
   "cell_type": "code",
   "execution_count": 13,
   "metadata": {},
   "outputs": [
    {
     "data": {
      "image/png": "[encoded data removed]",
      "text/plain": [
       "<Figure size 432x288 with 1 Axes>"
      ]
     },
     "metadata": {
      "needs_background": "light"
     },
     "output_type": "display_data"
    }
   ],
   "source": [
    "#This study is not look junkers so condition and title_ status is better than salvage\n",
    "\n",
    "#See Status of Vehicles\n",
    "auto_data.title_status.value_counts().plot.bar()\n",
    "plt.title(\"Status of the vehicles\")\n",
    "plt.show()\n"
   ]
  },
  {
   "cell_type": "code",
   "execution_count": 14,
   "metadata": {},
   "outputs": [
    {
     "data": {
      "image/png": "[encoded data removed]",
      "text/plain": [
       "<Figure size 432x288 with 1 Axes>"
      ]
     },
     "metadata": {
      "needs_background": "light"
     },
     "output_type": "display_data"
    }
   ],
   "source": [
    "#See Condition of Vehicles\n",
    "\n",
    "auto_data.condition.value_counts().plot.bar()\n",
    "plt.title(\"Condition of the vehicles\")\n",
    "plt.show()"
   ]
  },
  {
   "cell_type": "code",
   "execution_count": 15,
   "metadata": {},
   "outputs": [],
   "source": [
    "#This study is not look junkers so condition and title_ status is better than salvage\n",
    "\n",
    "idx1 = auto_data[auto_data[\"condition\"] == \"salvage\"].index\n",
    "\n",
    "for w in [\"salvage\",\"lien\",\"missing\",\"parts only\", 'rebuilt']:\n",
    "    idx2 = auto_data[auto_data[\"title_status\"] == w].index\n",
    "    idx1 = idx1.union(idx2)\n",
    "    \n",
    "auto_data.drop(idx1, axis = 0, inplace = True)"
   ]
  },
  {
   "cell_type": "code",
   "execution_count": 16,
   "metadata": {},
   "outputs": [
    {
     "data": {
      "image/png": "[encoded data removed]",
      "text/plain": [
       "<Figure size 432x288 with 1 Axes>"
      ]
     },
     "metadata": {
      "needs_background": "light"
     },
     "output_type": "display_data"
    }
   ],
   "source": [
    "#We are not looking at motorbikes\n",
    "\n",
    "#Graph manufacturers\n",
    "\n",
    "auto_data.manufacturer.value_counts().plot.bar()\n",
    "plt.title(\"manufacturer of the vehicles\")\n",
    "plt.show()"
   ]
  },
  {
   "cell_type": "code",
   "execution_count": 17,
   "metadata": {},
   "outputs": [],
   "source": [
    "\n",
    "#We are not looking at motorbikes\n",
    "auto_data = auto_data[auto_data.manufacturer != 'Harley-Davidson']\n",
    "auto_data = auto_data[auto_data.manufacturer != 'Hennessey']"
   ]
  },
  {
   "cell_type": "code",
   "execution_count": 18,
   "metadata": {},
   "outputs": [
    {
     "data": {
      "image/png": "[encoded data removed]",
      "text/plain": [
       "<Figure size 432x288 with 1 Axes>"
      ]
     },
     "metadata": {
      "needs_background": "light"
     },
     "output_type": "display_data"
    }
   ],
   "source": [
    "#We are not looking at buses\n",
    "#Graph type\n",
    "\n",
    "auto_data.type.value_counts().plot.bar()\n",
    "plt.title(\"type\")\n",
    "plt.show()"
   ]
  },
  {
   "cell_type": "code",
   "execution_count": 19,
   "metadata": {},
   "outputs": [],
   "source": [
    "#We are not looking at bus\n",
    "auto_data = auto_data[auto_data.type != 'bus']\n"
   ]
  },
  {
   "cell_type": "code",
   "execution_count": 20,
   "metadata": {},
   "outputs": [],
   "source": [
    "#Create Make Model Model Year Key (Useful for later)\n",
    "auto_data['mmy_a']=auto_data['manufacturer']+' '+auto_data['model']+ ' '+ auto_data['year'].astype(int).astype(str)\n",
    "auto_data['mmy_a']=auto_data['mmy_a'].str.title()\n",
    "\n",
    "auto_data['mmy_a2']=auto_data['manufacturer']+' '+auto_data['model'].str.split(' ').str[0]+ ' '+ auto_data['year'].astype(int).astype(str)\n",
    "auto_data['mmy_a2']=auto_data['mmy_a2'].str.title()\n"
   ]
  },
  {
   "cell_type": "code",
   "execution_count": 21,
   "metadata": {},
   "outputs": [
    {
     "name": "stdout",
     "output_type": "stream",
     "text": [
      "<class 'pandas.core.frame.DataFrame'>\n",
      "Int64Index: 135864 entries, 2 to 539744\n",
      "Data columns (total 22 columns):\n",
      " #   Column        Non-Null Count   Dtype  \n",
      "---  ------        --------------   -----  \n",
      " 0   id            135864 non-null  int64  \n",
      " 1   region        135864 non-null  object \n",
      " 2   price         135864 non-null  int64  \n",
      " 3   year          135864 non-null  float64\n",
      " 4   manufacturer  133027 non-null  object \n",
      " 5   model         135864 non-null  object \n",
      " 6   condition     135864 non-null  object \n",
      " 7   cylinders     97736 non-null   float64\n",
      " 8   fuel          135861 non-null  object \n",
      " 9   odometer      135864 non-null  float64\n",
      " 10  title_status  135858 non-null  object \n",
      " 11  transmission  135734 non-null  object \n",
      " 12  drive         112965 non-null  object \n",
      " 13  size          53221 non-null   object \n",
      " 14  type          121915 non-null  object \n",
      " 15  paint_color   135864 non-null  object \n",
      " 16  state         135864 non-null  object \n",
      " 17  lat           134746 non-null  float64\n",
      " 18  long          134746 non-null  float64\n",
      " 19  age           135864 non-null  float64\n",
      " 20  mmy_a         133027 non-null  object \n",
      " 21  mmy_a2        133027 non-null  object \n",
      "dtypes: float64(6), int64(2), object(14)\n",
      "memory usage: 23.8+ MB\n"
     ]
    }
   ],
   "source": [
    "auto_data.info()"
   ]
  },
  {
   "cell_type": "code",
   "execution_count": 22,
   "metadata": {},
   "outputs": [
    {
     "data": {
      "text/html": [
       "<div>\n",
       "<style scoped>\n",
       "    .dataframe tbody tr th:only-of-type {\n",
       "        vertical-align: middle;\n",
       "    }\n",
       "\n",
       "    .dataframe tbody tr th {\n",
       "        vertical-align: top;\n",
       "    }\n",
       "\n",
       "    .dataframe thead th {\n",
       "        text-align: right;\n",
       "    }\n",
       "</style>\n",
       "<table border=\"1\" class=\"dataframe\">\n",
       "  <thead>\n",
       "    <tr style=\"text-align: right;\">\n",
       "      <th></th>\n",
       "      <th>id</th>\n",
       "      <th>price</th>\n",
       "      <th>year</th>\n",
       "      <th>cylinders</th>\n",
       "      <th>odometer</th>\n",
       "      <th>lat</th>\n",
       "      <th>long</th>\n",
       "      <th>age</th>\n",
       "    </tr>\n",
       "  </thead>\n",
       "  <tbody>\n",
       "    <tr>\n",
       "      <th>count</th>\n",
       "      <td>1.358640e+05</td>\n",
       "      <td>135864.000000</td>\n",
       "      <td>135864.000000</td>\n",
       "      <td>97736.000000</td>\n",
       "      <td>135864.000000</td>\n",
       "      <td>134746.000000</td>\n",
       "      <td>134746.000000</td>\n",
       "      <td>135864.000000</td>\n",
       "    </tr>\n",
       "    <tr>\n",
       "      <th>mean</th>\n",
       "      <td>7.087761e+09</td>\n",
       "      <td>16985.193613</td>\n",
       "      <td>2014.185619</td>\n",
       "      <td>5.875194</td>\n",
       "      <td>78798.991675</td>\n",
       "      <td>37.930269</td>\n",
       "      <td>-90.852293</td>\n",
       "      <td>5.814381</td>\n",
       "    </tr>\n",
       "    <tr>\n",
       "      <th>std</th>\n",
       "      <td>5.017708e+06</td>\n",
       "      <td>10949.604972</td>\n",
       "      <td>2.571134</td>\n",
       "      <td>1.591569</td>\n",
       "      <td>50567.452874</td>\n",
       "      <td>5.354238</td>\n",
       "      <td>15.904711</td>\n",
       "      <td>2.571134</td>\n",
       "    </tr>\n",
       "    <tr>\n",
       "      <th>min</th>\n",
       "      <td>7.065765e+09</td>\n",
       "      <td>100.000000</td>\n",
       "      <td>2010.000000</td>\n",
       "      <td>3.000000</td>\n",
       "      <td>0.000000</td>\n",
       "      <td>-51.393200</td>\n",
       "      <td>-166.377000</td>\n",
       "      <td>1.000000</td>\n",
       "    </tr>\n",
       "    <tr>\n",
       "      <th>25%</th>\n",
       "      <td>7.085130e+09</td>\n",
       "      <td>9900.000000</td>\n",
       "      <td>2012.000000</td>\n",
       "      <td>4.000000</td>\n",
       "      <td>37704.000000</td>\n",
       "      <td>33.786500</td>\n",
       "      <td>-96.880800</td>\n",
       "      <td>4.000000</td>\n",
       "    </tr>\n",
       "    <tr>\n",
       "      <th>50%</th>\n",
       "      <td>7.088878e+09</td>\n",
       "      <td>15200.000000</td>\n",
       "      <td>2014.000000</td>\n",
       "      <td>6.000000</td>\n",
       "      <td>73298.000000</td>\n",
       "      <td>38.360300</td>\n",
       "      <td>-84.510000</td>\n",
       "      <td>6.000000</td>\n",
       "    </tr>\n",
       "    <tr>\n",
       "      <th>75%</th>\n",
       "      <td>7.091976e+09</td>\n",
       "      <td>21900.000000</td>\n",
       "      <td>2016.000000</td>\n",
       "      <td>8.000000</td>\n",
       "      <td>111700.750000</td>\n",
       "      <td>42.064100</td>\n",
       "      <td>-80.253800</td>\n",
       "      <td>8.000000</td>\n",
       "    </tr>\n",
       "    <tr>\n",
       "      <th>max</th>\n",
       "      <td>7.093536e+09</td>\n",
       "      <td>450000.000000</td>\n",
       "      <td>2019.000000</td>\n",
       "      <td>12.000000</td>\n",
       "      <td>499103.000000</td>\n",
       "      <td>84.514800</td>\n",
       "      <td>94.124800</td>\n",
       "      <td>10.000000</td>\n",
       "    </tr>\n",
       "  </tbody>\n",
       "</table>\n",
       "</div>"
      ],
      "text/plain": [
       "                 id          price           year     cylinders  \\\n",
       "count  1.358640e+05  135864.000000  135864.000000  97736.000000   \n",
       "mean   7.087761e+09   16985.193613    2014.185619      5.875194   \n",
       "std    5.017708e+06   10949.604972       2.571134      1.591569   \n",
       "min    7.065765e+09     100.000000    2010.000000      3.000000   \n",
       "25%    7.085130e+09    9900.000000    2012.000000      4.000000   \n",
       "50%    7.088878e+09   15200.000000    2014.000000      6.000000   \n",
       "75%    7.091976e+09   21900.000000    2016.000000      8.000000   \n",
       "max    7.093536e+09  450000.000000    2019.000000     12.000000   \n",
       "\n",
       "            odometer            lat           long            age  \n",
       "count  135864.000000  134746.000000  134746.000000  135864.000000  \n",
       "mean    78798.991675      37.930269     -90.852293       5.814381  \n",
       "std     50567.452874       5.354238      15.904711       2.571134  \n",
       "min         0.000000     -51.393200    -166.377000       1.000000  \n",
       "25%     37704.000000      33.786500     -96.880800       4.000000  \n",
       "50%     73298.000000      38.360300     -84.510000       6.000000  \n",
       "75%    111700.750000      42.064100     -80.253800       8.000000  \n",
       "max    499103.000000      84.514800      94.124800      10.000000  "
      ]
     },
     "execution_count": 22,
     "metadata": {},
     "output_type": "execute_result"
    }
   ],
   "source": [
    "auto_data.describe()"
   ]
  },
  {
   "cell_type": "markdown",
   "metadata": {},
   "source": [
    "Save Data"
   ]
  },
  {
   "cell_type": "code",
   "execution_count": 23,
   "metadata": {},
   "outputs": [],
   "source": [
    "sub_file = 'data'\n",
    "new_file = 'auto_data.csv'\n",
    "new_file_name_path = os.path.join(basepath,sub_file, new_file)\n",
    "auto_data.to_csv(new_file_name_path, index=False)"
   ]
  },
  {
   "cell_type": "markdown",
   "metadata": {},
   "source": [
    "## Categorical Data\n",
    "We want data on what segment the vehicle is in as that might change the prices signicantly.\n",
    "We got this data from back4app an open data source.\n",
    "Website: https://www.back4app.com/database/back4app/car-make-model-dataset"
   ]
  },
  {
   "cell_type": "code",
   "execution_count": 24,
   "metadata": {},
   "outputs": [],
   "source": [
    "#Get Categorical Data\n",
    "\n",
    "where = urllib.parse.quote_plus(\"\"\"\n",
    "{\n",
    "    \"Category\": {\n",
    "        \"$exists\": true\n",
    "    },\n",
    "    \"Year\": {\n",
    "        \"$gte\": 2010\n",
    "    }\n",
    "}\n",
    "\"\"\")\n",
    "url = 'https://parseapi.back4app.com/classes/Carmodels_Car_Model_List?limit=5000&where=%s' % where\n",
    "headers = {\n",
    "    'X-Parse-Application-Id': 'pozCwVISt2yfzi2wJjwo0JiMIJclsUAOchP4AuJO', # This is your app's application id\n",
    "    'X-Parse-REST-API-Key': 'Jtc8r91VIJOizG8ReKkaseZcugQjAx4vG1WKbJye' # This is your app's REST API key\n",
    "}\n",
    "data_json = json.loads(requests.get(url, headers=headers).content.decode('utf-8')) # Here you have the data that you need\n",
    "\n",
    "\n",
    "#import collections"
   ]
  },
  {
   "cell_type": "code",
   "execution_count": 25,
   "metadata": {},
   "outputs": [
    {
     "name": "stdout",
     "output_type": "stream",
     "text": [
      "<class 'dict'>\n"
     ]
    }
   ],
   "source": [
    "#the above data was too nested a dictionaries listed in a list that was in a list that was a dictionary\n",
    "print(type(data_json))\n",
    "list_values = [ v for v in data_json.values() ] #undoes dictionary\n",
    "\n",
    "list_value_items = [y for x in list_values for y in x] # undoes list\n",
    "\n",
    "cat_data = pd.DataFrame.from_dict(list_value_items) #turns list of dictionaries into data frame\n"
   ]
  },
  {
   "cell_type": "code",
   "execution_count": 26,
   "metadata": {},
   "outputs": [
    {
     "name": "stdout",
     "output_type": "stream",
     "text": [
      "   Year       Make         Model            Category                 updatedAt\n",
      "0  2020       Audi            Q3                 SUV  2020-01-27T20:44:17.665Z\n",
      "1  2020  Chevrolet        Malibu               Sedan  2020-01-27T20:44:17.665Z\n",
      "2  2020   Cadillac  Escalade ESV                 SUV  2020-01-27T20:44:17.665Z\n",
      "3  2020  Chevrolet      Corvette  Coupe, Convertible  2020-01-27T20:44:17.665Z\n",
      "4  2020      Acura           RLX               Sedan  2020-01-27T20:44:17.665Z\n"
     ]
    },
    {
     "data": {
      "text/html": [
       "<div>\n",
       "<style scoped>\n",
       "    .dataframe tbody tr th:only-of-type {\n",
       "        vertical-align: middle;\n",
       "    }\n",
       "\n",
       "    .dataframe tbody tr th {\n",
       "        vertical-align: top;\n",
       "    }\n",
       "\n",
       "    .dataframe thead th {\n",
       "        text-align: right;\n",
       "    }\n",
       "</style>\n",
       "<table border=\"1\" class=\"dataframe\">\n",
       "  <thead>\n",
       "    <tr style=\"text-align: right;\">\n",
       "      <th></th>\n",
       "      <th>Year</th>\n",
       "    </tr>\n",
       "  </thead>\n",
       "  <tbody>\n",
       "    <tr>\n",
       "      <th>count</th>\n",
       "      <td>4082.000000</td>\n",
       "    </tr>\n",
       "    <tr>\n",
       "      <th>mean</th>\n",
       "      <td>2015.034052</td>\n",
       "    </tr>\n",
       "    <tr>\n",
       "      <th>std</th>\n",
       "      <td>3.028828</td>\n",
       "    </tr>\n",
       "    <tr>\n",
       "      <th>min</th>\n",
       "      <td>2010.000000</td>\n",
       "    </tr>\n",
       "    <tr>\n",
       "      <th>25%</th>\n",
       "      <td>2012.000000</td>\n",
       "    </tr>\n",
       "    <tr>\n",
       "      <th>50%</th>\n",
       "      <td>2015.000000</td>\n",
       "    </tr>\n",
       "    <tr>\n",
       "      <th>75%</th>\n",
       "      <td>2018.000000</td>\n",
       "    </tr>\n",
       "    <tr>\n",
       "      <th>max</th>\n",
       "      <td>2020.000000</td>\n",
       "    </tr>\n",
       "  </tbody>\n",
       "</table>\n",
       "</div>"
      ],
      "text/plain": [
       "              Year\n",
       "count  4082.000000\n",
       "mean   2015.034052\n",
       "std       3.028828\n",
       "min    2010.000000\n",
       "25%    2012.000000\n",
       "50%    2015.000000\n",
       "75%    2018.000000\n",
       "max    2020.000000"
      ]
     },
     "execution_count": 26,
     "metadata": {},
     "output_type": "execute_result"
    }
   ],
   "source": [
    "#we don't need object id or created at\n",
    "cat_data= cat_data.drop(['objectId', 'createdAt'], axis=1)\n",
    "print(cat_data.head())\n",
    "cat_data.describe()"
   ]
  },
  {
   "cell_type": "code",
   "execution_count": 27,
   "metadata": {},
   "outputs": [],
   "source": [
    "#Neaten Strings\n",
    "cat_data['Make'] = cat_data['Make'].str.title().str.strip()\n",
    "cat_data['Make']= cat_data['Make'].str.replace(' ', '-') \n",
    "cat_data['Model'] = cat_data['Model'].str.title().str.strip()\n",
    "cat_data['Model']= cat_data['Model'].str.replace(' ', '-') \n",
    "\n",
    "#Create Key\n",
    "cat_data['mmy']=cat_data['Make']+' '+cat_data['Model'].str.strip()+ ' '+ cat_data['Year'].astype(int).astype(str)\n",
    "cat_data['mmy']= cat_data['mmy'].str.title()\n",
    "\n",
    "cat_data['mmy2']=cat_data['Make']+' '+cat_data['Model'].str.split(' ').str[0]+' '+ cat_data['Year'].astype(int).astype(str)\n",
    "cat_data['mmy2']= cat_data['mmy2'].str.title()\n",
    "\n"
   ]
  },
  {
   "cell_type": "code",
   "execution_count": 28,
   "metadata": {},
   "outputs": [
    {
     "name": "stdout",
     "output_type": "stream",
     "text": [
      "<class 'pandas.core.frame.DataFrame'>\n",
      "RangeIndex: 4082 entries, 0 to 4081\n",
      "Data columns (total 7 columns):\n",
      " #   Column     Non-Null Count  Dtype \n",
      "---  ------     --------------  ----- \n",
      " 0   Year       4082 non-null   int64 \n",
      " 1   Make       4082 non-null   object\n",
      " 2   Model      4082 non-null   object\n",
      " 3   Category   4082 non-null   object\n",
      " 4   updatedAt  4082 non-null   object\n",
      " 5   mmy        4082 non-null   object\n",
      " 6   mmy2       4082 non-null   object\n",
      "dtypes: int64(1), object(6)\n",
      "memory usage: 223.4+ KB\n"
     ]
    }
   ],
   "source": [
    "cat_data.info()"
   ]
  },
  {
   "cell_type": "code",
   "execution_count": 29,
   "metadata": {},
   "outputs": [],
   "source": [
    "\n",
    "#Save Categorical Data\n",
    "sub_file = 'data'\n",
    "new_file = 'cat_data.csv'\n",
    "new_file_name_path = os.path.join(basepath,sub_file, new_file)\n",
    "cat_data.to_csv(new_file_name_path, index=False)"
   ]
  },
  {
   "cell_type": "markdown",
   "metadata": {},
   "source": [
    "## Find MSRP data\n",
    "The original price of the car will heavily effect the older price. Let's bring that out.\n",
    "This data is a downloaded file from https://www.kaggle.com/CooperUnion/cardataset . This data was obtained by scraping edmunds (a car rating website) and twitter."
   ]
  },
  {
   "cell_type": "code",
   "execution_count": 30,
   "metadata": {},
   "outputs": [
    {
     "data": {
      "text/html": [
       "<div>\n",
       "<style scoped>\n",
       "    .dataframe tbody tr th:only-of-type {\n",
       "        vertical-align: middle;\n",
       "    }\n",
       "\n",
       "    .dataframe tbody tr th {\n",
       "        vertical-align: top;\n",
       "    }\n",
       "\n",
       "    .dataframe thead th {\n",
       "        text-align: right;\n",
       "    }\n",
       "</style>\n",
       "<table border=\"1\" class=\"dataframe\">\n",
       "  <thead>\n",
       "    <tr style=\"text-align: right;\">\n",
       "      <th></th>\n",
       "      <th>Make</th>\n",
       "      <th>Model</th>\n",
       "      <th>Year</th>\n",
       "      <th>Engine Fuel Type</th>\n",
       "      <th>Engine HP</th>\n",
       "      <th>Engine Cylinders</th>\n",
       "      <th>Transmission Type</th>\n",
       "      <th>Driven_Wheels</th>\n",
       "      <th>Number of Doors</th>\n",
       "      <th>Market Category</th>\n",
       "      <th>Vehicle Size</th>\n",
       "      <th>Vehicle Style</th>\n",
       "      <th>highway MPG</th>\n",
       "      <th>city mpg</th>\n",
       "      <th>Popularity</th>\n",
       "      <th>MSRP</th>\n",
       "      <th>mmy</th>\n",
       "      <th>mmy2</th>\n",
       "    </tr>\n",
       "  </thead>\n",
       "  <tbody>\n",
       "    <tr>\n",
       "      <th>0</th>\n",
       "      <td>Bmw</td>\n",
       "      <td>1-Series-M</td>\n",
       "      <td>2011</td>\n",
       "      <td>premium unleaded (required)</td>\n",
       "      <td>335.0</td>\n",
       "      <td>6.0</td>\n",
       "      <td>MANUAL</td>\n",
       "      <td>rear wheel drive</td>\n",
       "      <td>2.0</td>\n",
       "      <td>Factory Tuner,Luxury,High-Performance</td>\n",
       "      <td>Compact</td>\n",
       "      <td>Coupe</td>\n",
       "      <td>26</td>\n",
       "      <td>19</td>\n",
       "      <td>3916</td>\n",
       "      <td>46135</td>\n",
       "      <td>Bmw 1-Series-M 2011</td>\n",
       "      <td>Bmw 1-Series-M 2011</td>\n",
       "    </tr>\n",
       "    <tr>\n",
       "      <th>1</th>\n",
       "      <td>Bmw</td>\n",
       "      <td>1-Series</td>\n",
       "      <td>2011</td>\n",
       "      <td>premium unleaded (required)</td>\n",
       "      <td>300.0</td>\n",
       "      <td>6.0</td>\n",
       "      <td>MANUAL</td>\n",
       "      <td>rear wheel drive</td>\n",
       "      <td>2.0</td>\n",
       "      <td>Luxury,Performance</td>\n",
       "      <td>Compact</td>\n",
       "      <td>Convertible</td>\n",
       "      <td>28</td>\n",
       "      <td>19</td>\n",
       "      <td>3916</td>\n",
       "      <td>40650</td>\n",
       "      <td>Bmw 1-Series 2011</td>\n",
       "      <td>Bmw 1-Series 2011</td>\n",
       "    </tr>\n",
       "    <tr>\n",
       "      <th>2</th>\n",
       "      <td>Bmw</td>\n",
       "      <td>1-Series</td>\n",
       "      <td>2011</td>\n",
       "      <td>premium unleaded (required)</td>\n",
       "      <td>300.0</td>\n",
       "      <td>6.0</td>\n",
       "      <td>MANUAL</td>\n",
       "      <td>rear wheel drive</td>\n",
       "      <td>2.0</td>\n",
       "      <td>Luxury,High-Performance</td>\n",
       "      <td>Compact</td>\n",
       "      <td>Coupe</td>\n",
       "      <td>28</td>\n",
       "      <td>20</td>\n",
       "      <td>3916</td>\n",
       "      <td>36350</td>\n",
       "      <td>Bmw 1-Series 2011</td>\n",
       "      <td>Bmw 1-Series 2011</td>\n",
       "    </tr>\n",
       "    <tr>\n",
       "      <th>3</th>\n",
       "      <td>Bmw</td>\n",
       "      <td>1-Series</td>\n",
       "      <td>2011</td>\n",
       "      <td>premium unleaded (required)</td>\n",
       "      <td>230.0</td>\n",
       "      <td>6.0</td>\n",
       "      <td>MANUAL</td>\n",
       "      <td>rear wheel drive</td>\n",
       "      <td>2.0</td>\n",
       "      <td>Luxury,Performance</td>\n",
       "      <td>Compact</td>\n",
       "      <td>Coupe</td>\n",
       "      <td>28</td>\n",
       "      <td>18</td>\n",
       "      <td>3916</td>\n",
       "      <td>29450</td>\n",
       "      <td>Bmw 1-Series 2011</td>\n",
       "      <td>Bmw 1-Series 2011</td>\n",
       "    </tr>\n",
       "    <tr>\n",
       "      <th>4</th>\n",
       "      <td>Bmw</td>\n",
       "      <td>1-Series</td>\n",
       "      <td>2011</td>\n",
       "      <td>premium unleaded (required)</td>\n",
       "      <td>230.0</td>\n",
       "      <td>6.0</td>\n",
       "      <td>MANUAL</td>\n",
       "      <td>rear wheel drive</td>\n",
       "      <td>2.0</td>\n",
       "      <td>Luxury</td>\n",
       "      <td>Compact</td>\n",
       "      <td>Convertible</td>\n",
       "      <td>28</td>\n",
       "      <td>18</td>\n",
       "      <td>3916</td>\n",
       "      <td>34500</td>\n",
       "      <td>Bmw 1-Series 2011</td>\n",
       "      <td>Bmw 1-Series 2011</td>\n",
       "    </tr>\n",
       "  </tbody>\n",
       "</table>\n",
       "</div>"
      ],
      "text/plain": [
       "  Make       Model  Year             Engine Fuel Type  Engine HP  \\\n",
       "0  Bmw  1-Series-M  2011  premium unleaded (required)      335.0   \n",
       "1  Bmw    1-Series  2011  premium unleaded (required)      300.0   \n",
       "2  Bmw    1-Series  2011  premium unleaded (required)      300.0   \n",
       "3  Bmw    1-Series  2011  premium unleaded (required)      230.0   \n",
       "4  Bmw    1-Series  2011  premium unleaded (required)      230.0   \n",
       "\n",
       "   Engine Cylinders Transmission Type     Driven_Wheels  Number of Doors  \\\n",
       "0               6.0            MANUAL  rear wheel drive              2.0   \n",
       "1               6.0            MANUAL  rear wheel drive              2.0   \n",
       "2               6.0            MANUAL  rear wheel drive              2.0   \n",
       "3               6.0            MANUAL  rear wheel drive              2.0   \n",
       "4               6.0            MANUAL  rear wheel drive              2.0   \n",
       "\n",
       "                         Market Category Vehicle Size Vehicle Style  \\\n",
       "0  Factory Tuner,Luxury,High-Performance      Compact         Coupe   \n",
       "1                     Luxury,Performance      Compact   Convertible   \n",
       "2                Luxury,High-Performance      Compact         Coupe   \n",
       "3                     Luxury,Performance      Compact         Coupe   \n",
       "4                                 Luxury      Compact   Convertible   \n",
       "\n",
       "   highway MPG  city mpg  Popularity   MSRP                  mmy  \\\n",
       "0           26        19        3916  46135  Bmw 1-Series-M 2011   \n",
       "1           28        19        3916  40650    Bmw 1-Series 2011   \n",
       "2           28        20        3916  36350    Bmw 1-Series 2011   \n",
       "3           28        18        3916  29450    Bmw 1-Series 2011   \n",
       "4           28        18        3916  34500    Bmw 1-Series 2011   \n",
       "\n",
       "                  mmy2  \n",
       "0  Bmw 1-Series-M 2011  \n",
       "1    Bmw 1-Series 2011  \n",
       "2    Bmw 1-Series 2011  \n",
       "3    Bmw 1-Series 2011  \n",
       "4    Bmw 1-Series 2011  "
      ]
     },
     "execution_count": 30,
     "metadata": {},
     "output_type": "execute_result"
    }
   ],
   "source": [
    "# Create the list of file names: filenames\n",
    "file ='msrp.csv'\n",
    "sub_file = 'data'\n",
    "file_name_path = os.path.join(basepath, sub_file, file)\n",
    "msrp_data= pd.read_csv(file_name_path)\n",
    "\n",
    "#Open data\n",
    "msrp_data.head(5)"
   ]
  },
  {
   "cell_type": "code",
   "execution_count": 31,
   "metadata": {},
   "outputs": [
    {
     "name": "stdout",
     "output_type": "stream",
     "text": [
      "Maximum MSRP: 497650 \n",
      "Minimum MSRP: 11965 \n",
      "Maximum Year: 2017 \n",
      "Minimum Year: 2010 \n"
     ]
    }
   ],
   "source": [
    "#From the previous cleaning rules we eliminate vehicles with value of over half a million and an age over 10 years\n",
    "\n",
    "print(f\"Maximum MSRP: {msrp_data.MSRP.max()} \\nMinimum MSRP: {msrp_data.MSRP.min()} \")\n",
    "# If we are dealing with a vehicle with an MSRP over half milion miles we have more problem\n",
    "msrp_data = msrp_data[(msrp_data.MSRP< 500000 )] \n",
    "print(f\"Maximum Year: {msrp_data.Year.max()} \\nMinimum Year: {msrp_data.Year.min()} \")\n",
    "# We only need vehicles with over a 2009 MY\n",
    "msrp_data = msrp_data[(msrp_data.Year> 2009 )] \n",
    "\n"
   ]
  },
  {
   "cell_type": "code",
   "execution_count": 32,
   "metadata": {},
   "outputs": [],
   "source": [
    "# Clean Strings/ Neaten Strings\n",
    "\n",
    "msrp_data['Make']= msrp_data['Make'].str.title().str.strip()\n",
    "msrp_data['Make']= msrp_data['Make'].str.replace(' ', '-')\n",
    "msrp_data['Model']= msrp_data['Model'].str.title().str.strip()\n",
    "msrp_data['Model']= msrp_data['Model'].str.replace(' ', '-')\n",
    "\n",
    "#Make Keys\n",
    "msrp_data['mmy']=msrp_data['Make']+' '+msrp_data['Model']+ ' '+ msrp_data['Year'].astype(int).astype(str)\n",
    "msrp_data['mmy']= msrp_data['mmy'].str.title()\n",
    "msrp_data['mmy2']=msrp_data['Make']+' '+msrp_data['Model'].str.split(' ').str[0]+ ' '+ msrp_data['Year'].astype(int).astype(str)\n",
    "msrp_data['mmy2']= msrp_data['mmy2'].str.title()\n",
    "\n"
   ]
  },
  {
   "cell_type": "code",
   "execution_count": 33,
   "metadata": {},
   "outputs": [],
   "source": [
    "MSRP_dict = msrp_data.groupby(['Make', 'Model', 'Year', 'mmy', 'mmy2'])['MSRP'].mean().reset_index()"
   ]
  },
  {
   "cell_type": "code",
   "execution_count": 34,
   "metadata": {},
   "outputs": [
    {
     "name": "stdout",
     "output_type": "stream",
     "text": [
      "<class 'pandas.core.frame.DataFrame'>\n",
      "RangeIndex: 1363 entries, 0 to 1362\n",
      "Data columns (total 6 columns):\n",
      " #   Column  Non-Null Count  Dtype  \n",
      "---  ------  --------------  -----  \n",
      " 0   Make    1363 non-null   object \n",
      " 1   Model   1363 non-null   object \n",
      " 2   Year    1363 non-null   int64  \n",
      " 3   mmy     1363 non-null   object \n",
      " 4   mmy2    1363 non-null   object \n",
      " 5   MSRP    1363 non-null   float64\n",
      "dtypes: float64(1), int64(1), object(4)\n",
      "memory usage: 64.0+ KB\n"
     ]
    }
   ],
   "source": [
    "MSRP_dict.info()"
   ]
  },
  {
   "cell_type": "code",
   "execution_count": 35,
   "metadata": {},
   "outputs": [],
   "source": [
    "sub_file = 'data'\n",
    "new_file = 'msrp.csv'\n",
    "new_file_name_path = os.path.join(basepath,sub_file, new_file)\n",
    "msrp_data.to_csv(new_file_name_path, index=False)"
   ]
  },
  {
   "cell_type": "markdown",
   "metadata": {},
   "source": [
    "## Find State data\n",
    "We can use geographic data to find other data we need. Two things that effect prices is the amount of money people make so let's include that\n",
    "Similarly car prices are often influenced by gas prices so we will include that as well\n",
    "\n",
    "Gas prices come from AAA which shows the daily average gas prices for a state. They do not store this data so the data was scraped from the next nearest date availble from the scraping of the craiglist data which was Feb 22\n",
    "https://web.archive.org/web/20200226222808/https://gasprices.aaa.com/state-gas-price-averages/\n",
    "\n",
    "This data for household income was from https://dqydj.com/average-income-by-state-median-top-percentiles/ a place that holds financial data and that is reccomend by theWSJ and the NYT. This has already been done"
   ]
  },
  {
   "cell_type": "markdown",
   "metadata": {},
   "source": [
    "# Merging Data"
   ]
  },
  {
   "cell_type": "code",
   "execution_count": 36,
   "metadata": {},
   "outputs": [],
   "source": [
    "## Merging Auto and MSRP"
   ]
  },
  {
   "cell_type": "markdown",
   "metadata": {},
   "source": [
    "#Create Dictionaries to map with\n",
    "\n",
    "First the MMY\n",
    "* automobiles models are referenced by its a) manufacture b) model name, and C) model year (otherwise known as the MMY)\n",
    "* Each mmy has an average MSRP to go with it and a specific groups of catehories can be in \n",
    "    * (ex a camry can be sedan or hatchback it can't be a pickup)\n",
    "* We will therefore use the MMYas a key to map the MSRP and category to the main data set\n",
    "\n",
    "Issue: Model names of automobile\n",
    "* The trim of a model is referencing a set of additional features comes with (example Camry Lux has leather seats)\n",
    "* The trim changes the price of a vehicle\n",
    "* Therefore sometimes sellers will add the trim after the model design to give a better idea of what they are selling\n",
    "* This leads to the model name not being consistent across tables.\n",
    "\n",
    "Fixing the Issue\n",
    "* To ensure better mapping we will therefore use 2 keys \n",
    "* The first key will match the full name of the model for the mmy\n",
    "* The second key will match the first word name of the model for the mmy\n",
    "* We will try to map to first the key if a map isn't reached we use the results from the second key.\n",
    "* both keys include the manufacturer and model year\n",
    "\n"
   ]
  },
  {
   "cell_type": "code",
   "execution_count": 37,
   "metadata": {},
   "outputs": [
    {
     "name": "stderr",
     "output_type": "stream",
     "text": [
      "C:\\Users\\Tiki\\anaconda\\lib\\site-packages\\ipykernel_launcher.py:16: SettingWithCopyWarning: \n",
      "A value is trying to be set on a copy of a slice from a DataFrame.\n",
      "Try using .loc[row_indexer,col_indexer] = value instead\n",
      "\n",
      "See the caveats in the documentation: https://pandas.pydata.org/pandas-docs/stable/user_guide/indexing.html#returning-a-view-versus-a-copy\n",
      "  app.launch_new_instance()\n"
     ]
    }
   ],
   "source": [
    "#Create Dictionaries to map with\n",
    "\n",
    "\n",
    "#create mmy key2 for autos\n",
    "auto_data['model2']= auto_data['model'].str.split(' ').str[0]\n",
    "auto_data['mmy_a2']=auto_data['manufacturer']+' '+auto_data['model2']+ ' '+ auto_data['year'].astype(int).astype(str)\n",
    "\n",
    "#auto_dictionary\n",
    "auto_dict= auto_data[['manufacturer', 'model', 'year', 'mmy_a', 'mmy_a2']].drop_duplicates(keep='last')\n",
    "\n",
    "#MSRP_dictionary_1 has only the first key\n",
    "MSRP_dict1 = MSRP_dict[['mmy', 'MSRP']]\n",
    "\n",
    "#MSRP_dictionary_2 has only the second key\n",
    "MSRP_dict2= MSRP_dict[['mmy2', 'MSRP']]\n",
    "MSRP_dict2['MSRP_vague'] = MSRP_dict2['MSRP']\n",
    "MSRP_dict2= MSRP_dict2.drop(columns= ['MSRP'])\n",
    "\n"
   ]
  },
  {
   "cell_type": "code",
   "execution_count": 38,
   "metadata": {},
   "outputs": [],
   "source": [
    "#Merge auto_dict and MSRP dictionary 1 into df1 using the 1st key\n",
    "df1= pd.merge(auto_dict, MSRP_dict1, left_on='mmy_a', right_on= 'mmy', how='outer' )\n",
    "#Merge dictionary3 and MSRP dictionary 2 into auto_msrp_dictionary using the second key\n",
    "a_m_dict= pd.merge(df1, MSRP_dict2, left_on='mmy_a2', right_on= 'mmy2', how='outer' )\n",
    "\n",
    "#fill any null results in MSRP from first key map by results in second key\n",
    "a_m_dict['MSRP']=a_m_dict['MSRP'].fillna(a_m_dict['MSRP_vague']) \n",
    "\n",
    "#drop duplicates\n",
    "a_m_dict= a_m_dict[['mmy_a', 'mmy', 'mmy2','MSRP']].drop_duplicates(subset=['mmy_a', 'mmy', 'mmy2'], keep= 'last' )\n"
   ]
  },
  {
   "cell_type": "code",
   "execution_count": 39,
   "metadata": {},
   "outputs": [
    {
     "name": "stderr",
     "output_type": "stream",
     "text": [
      "C:\\Users\\Tiki\\anaconda\\lib\\site-packages\\ipykernel_launcher.py:8: SettingWithCopyWarning: \n",
      "A value is trying to be set on a copy of a slice from a DataFrame.\n",
      "Try using .loc[row_indexer,col_indexer] = value instead\n",
      "\n",
      "See the caveats in the documentation: https://pandas.pydata.org/pandas-docs/stable/user_guide/indexing.html#returning-a-view-versus-a-copy\n",
      "  \n"
     ]
    }
   ],
   "source": [
    "#Cat_dictionary_1 has only the first key\n",
    "cat_dict= cat_data[['Make', 'Model', 'Year', 'mmy', 'mmy2','Category']].drop_duplicates(subset=['Make', 'Model', 'Year', 'mmy', 'mmy2'], keep='last')\n",
    "cat_dict1 = cat_dict[['mmy', 'Category']]\n",
    "\n",
    "\n",
    "#Cat_dictionary_2 has only the second key\n",
    "cat_dict2= cat_dict[['mmy2', 'Category']]\n",
    "cat_dict2['Category_vague'] = cat_dict2['Category']\n",
    "cat_dict2= cat_dict2.drop(columns= ['Category'])\n"
   ]
  },
  {
   "cell_type": "code",
   "execution_count": 40,
   "metadata": {},
   "outputs": [],
   "source": [
    "#Merge auto dictionary and cat dictionary 1 into dictionary into df1 using the first key\n",
    "df1= pd.merge(auto_dict, cat_dict1, left_on='mmy_a', right_on= 'mmy', how='outer' )\n",
    "\n",
    "#Merge dictionary3 and cat dictionary 2 into auto_cat_dictionary using the second key\n",
    "a_c_dict= pd.merge(df1, cat_dict2, left_on='mmy_a2', right_on= 'mmy2', how='outer' )\n",
    "\n",
    "#Fill in blanks in the Category left from the first key with results from the second key (if any)\n",
    "a_c_dict['Category']=a_c_dict['Category'].fillna(a_c_dict['Category_vague']) \n",
    "\n",
    "\n",
    "#drop duplicates \n",
    "a_c_dict= a_c_dict[['mmy_a', 'mmy', 'mmy2','Category']].drop_duplicates(subset=['mmy_a', 'mmy', 'mmy2'], keep= 'last' )\n"
   ]
  },
  {
   "cell_type": "code",
   "execution_count": 41,
   "metadata": {},
   "outputs": [
    {
     "name": "stdout",
     "output_type": "stream",
     "text": [
      "<class 'pandas.core.frame.DataFrame'>\n",
      "Int64Index: 24598 entries, 0 to 26063\n",
      "Data columns (total 4 columns):\n",
      " #   Column    Non-Null Count  Dtype \n",
      "---  ------    --------------  ----- \n",
      " 0   mmy_a     20815 non-null  object\n",
      " 1   mmy       4082 non-null   object\n",
      " 2   mmy2      4082 non-null   object\n",
      " 3   Category  5973 non-null   object\n",
      "dtypes: object(4)\n",
      "memory usage: 960.9+ KB\n",
      "None\n",
      "<class 'pandas.core.frame.DataFrame'>\n",
      "Int64Index: 21826 entries, 0 to 23291\n",
      "Data columns (total 4 columns):\n",
      " #   Column  Non-Null Count  Dtype  \n",
      "---  ------  --------------  -----  \n",
      " 0   mmy_a   20815 non-null  object \n",
      " 1   mmy     1363 non-null   object \n",
      " 2   mmy2    1363 non-null   object \n",
      " 3   MSRP    1868 non-null   float64\n",
      "dtypes: float64(1), object(3)\n",
      "memory usage: 852.6+ KB\n",
      "None\n"
     ]
    }
   ],
   "source": [
    "print(a_c_dict.info())\n",
    "print(a_m_dict.info())"
   ]
  },
  {
   "cell_type": "code",
   "execution_count": 42,
   "metadata": {},
   "outputs": [],
   "source": [
    "#Merge Cat and MSRP\n",
    "#We still have two keys mmy_a and mmy\n",
    "\n",
    "a_m_dict_1= a_m_dict[['mmy_a', 'MSRP']].dropna()\n",
    "a_m_dict_2= a_m_dict[['mmy', 'MSRP']].dropna()\n",
    "a_m_dict_3= a_m_dict[['mmy2', 'MSRP']].dropna()\n",
    "\n",
    "a_m_dict_2= a_m_dict_2.rename(columns={\"MSRP\": \"MSRP_2\"})\n",
    "a_m_dict_3= a_m_dict_3.rename(columns={\"MSRP\": \"MSRP_3\"})\n"
   ]
  },
  {
   "cell_type": "code",
   "execution_count": 43,
   "metadata": {},
   "outputs": [],
   "source": [
    "#Merge a_c and a_m dict on first key\n",
    "df1= pd.merge(a_c_dict, a_m_dict_1, on='mmy_a', how='outer')\n"
   ]
  },
  {
   "cell_type": "code",
   "execution_count": 44,
   "metadata": {},
   "outputs": [],
   "source": [
    "#Merge a_c and a_m dict on second key\n",
    "df2 = pd.merge(df1,  a_m_dict_2, left_on='mmy', right_on='mmy', how='outer' )\n"
   ]
  },
  {
   "cell_type": "code",
   "execution_count": 45,
   "metadata": {},
   "outputs": [
    {
     "name": "stdout",
     "output_type": "stream",
     "text": [
      "<class 'pandas.core.frame.DataFrame'>\n",
      "Int64Index: 25406 entries, 0 to 25405\n",
      "Data columns (total 7 columns):\n",
      " #   Column    Non-Null Count  Dtype  \n",
      "---  ------    --------------  -----  \n",
      " 0   mmy_a     20815 non-null  object \n",
      " 1   mmy       4486 non-null   object \n",
      " 2   mmy2      4486 non-null   object \n",
      " 3   Category  5973 non-null   object \n",
      " 4   MSRP      858 non-null    float64\n",
      " 5   MSRP_2    1363 non-null   float64\n",
      " 6   MSRP_3    1363 non-null   float64\n",
      "dtypes: float64(3), object(4)\n",
      "memory usage: 1.6+ MB\n"
     ]
    }
   ],
   "source": [
    "#Merge a_c and a_m dict on third key\n",
    "a_m_c_dict = pd.merge(df2,  a_m_dict_3, on='mmy2', how='outer' )\n",
    "a_m_c_dict.info()\n",
    "\n"
   ]
  },
  {
   "cell_type": "code",
   "execution_count": 46,
   "metadata": {},
   "outputs": [],
   "source": [
    "#Fill in blanks in the MSRP left from 1st key with results from the 2nd and 3rd key (if any)\n",
    "a_m_c_dict['MSRP']=a_m_c_dict['MSRP'].fillna(a_m_c_dict['MSRP_2']) \n",
    "a_m_c_dict['MSRP']=a_m_c_dict['MSRP'].fillna(a_m_c_dict['MSRP_3']) \n",
    "\n",
    "#drop duplicates\n",
    "a_m_c_dict= a_m_c_dict[['mmy_a', 'MSRP', 'Category']].drop_duplicates(subset=['mmy_a'], keep= 'last' )\n",
    "\n",
    "#drop if missing 'mmy_a'\n",
    "a_m_c_dict = a_m_c_dict[a_m_c_dict['mmy_a'].notna()]\n"
   ]
  },
  {
   "cell_type": "markdown",
   "metadata": {},
   "source": [
    "Merge Dictionaries with auto"
   ]
  },
  {
   "cell_type": "code",
   "execution_count": 47,
   "metadata": {},
   "outputs": [
    {
     "name": "stdout",
     "output_type": "stream",
     "text": [
      "<class 'pandas.core.frame.DataFrame'>\n",
      "Int64Index: 135864 entries, 0 to 135863\n",
      "Data columns (total 25 columns):\n",
      " #   Column        Non-Null Count   Dtype  \n",
      "---  ------        --------------   -----  \n",
      " 0   id            135864 non-null  int64  \n",
      " 1   region        135864 non-null  object \n",
      " 2   price         135864 non-null  int64  \n",
      " 3   year          135864 non-null  float64\n",
      " 4   manufacturer  133027 non-null  object \n",
      " 5   model         135864 non-null  object \n",
      " 6   condition     135864 non-null  object \n",
      " 7   cylinders     97736 non-null   float64\n",
      " 8   fuel          135861 non-null  object \n",
      " 9   odometer      135864 non-null  float64\n",
      " 10  title_status  135858 non-null  object \n",
      " 11  transmission  135734 non-null  object \n",
      " 12  drive         112965 non-null  object \n",
      " 13  size          53221 non-null   object \n",
      " 14  type          121915 non-null  object \n",
      " 15  paint_color   135864 non-null  object \n",
      " 16  state         135864 non-null  object \n",
      " 17  lat           134746 non-null  float64\n",
      " 18  long          134746 non-null  float64\n",
      " 19  age           135864 non-null  float64\n",
      " 20  mmy_a         133027 non-null  object \n",
      " 21  mmy_a2        133027 non-null  object \n",
      " 22  model2        135864 non-null  object \n",
      " 23  MSRP          14201 non-null   float64\n",
      " 24  Category      38826 non-null   object \n",
      "dtypes: float64(7), int64(2), object(16)\n",
      "memory usage: 27.0+ MB\n"
     ]
    }
   ],
   "source": [
    "z= pd.merge(auto_data, a_m_c_dict, on='mmy_a', how='left')\n",
    "z.info()\n",
    "auto_data= z"
   ]
  },
  {
   "cell_type": "markdown",
   "metadata": {},
   "source": [
    "## Add State Data"
   ]
  },
  {
   "cell_type": "code",
   "execution_count": 48,
   "metadata": {},
   "outputs": [
    {
     "name": "stdout",
     "output_type": "stream",
     "text": [
      "p\n",
      "<class 'pandas.core.frame.DataFrame'>\n",
      "RangeIndex: 51 entries, 0 to 50\n",
      "Data columns (total 5 columns):\n",
      " #   Column                   Non-Null Count  Dtype  \n",
      "---  ------                   --------------  -----  \n",
      " 0   State                    51 non-null     object \n",
      " 1   Avg_Gas_Price            51 non-null     float64\n",
      " 2   Division                 51 non-null     object \n",
      " 3   Median Household Income  51 non-null     float64\n",
      " 4   State_Code               51 non-null     object \n",
      "dtypes: float64(2), object(3)\n",
      "memory usage: 2.1+ KB\n"
     ]
    }
   ],
   "source": [
    "\n",
    "\n",
    "#get_state_data\n",
    "state_file ='state_data.csv'\n",
    "\n",
    "print('p')\n",
    "file_name_path = os.path.join(basepath, 'data', state_file)\n",
    "state_data= pd.read_csv(file_name_path)\n",
    "state_data.info()\n",
    "#Open data\n"
   ]
  },
  {
   "cell_type": "code",
   "execution_count": 49,
   "metadata": {},
   "outputs": [
    {
     "name": "stdout",
     "output_type": "stream",
     "text": [
      "<class 'pandas.core.frame.DataFrame'>\n",
      "Int64Index: 135864 entries, 0 to 135863\n",
      "Data columns (total 30 columns):\n",
      " #   Column                   Non-Null Count   Dtype  \n",
      "---  ------                   --------------   -----  \n",
      " 0   id                       135864 non-null  int64  \n",
      " 1   region                   135864 non-null  object \n",
      " 2   price                    135864 non-null  int64  \n",
      " 3   year                     135864 non-null  float64\n",
      " 4   manufacturer             133027 non-null  object \n",
      " 5   model                    135864 non-null  object \n",
      " 6   condition                135864 non-null  object \n",
      " 7   cylinders                97736 non-null   float64\n",
      " 8   fuel                     135861 non-null  object \n",
      " 9   odometer                 135864 non-null  float64\n",
      " 10  title_status             135858 non-null  object \n",
      " 11  transmission             135734 non-null  object \n",
      " 12  drive                    112965 non-null  object \n",
      " 13  size                     53221 non-null   object \n",
      " 14  type                     121915 non-null  object \n",
      " 15  paint_color              135864 non-null  object \n",
      " 16  state                    135864 non-null  object \n",
      " 17  lat                      134746 non-null  float64\n",
      " 18  long                     134746 non-null  float64\n",
      " 19  age                      135864 non-null  float64\n",
      " 20  mmy_a                    133027 non-null  object \n",
      " 21  mmy_a2                   133027 non-null  object \n",
      " 22  model2                   135864 non-null  object \n",
      " 23  MSRP                     14201 non-null   float64\n",
      " 24  Category                 38826 non-null   object \n",
      " 25  State                    135864 non-null  object \n",
      " 26  Avg_Gas_Price            135864 non-null  float64\n",
      " 27  Division                 135864 non-null  object \n",
      " 28  Median Household Income  135864 non-null  float64\n",
      " 29  State_Code               135864 non-null  object \n",
      "dtypes: float64(9), int64(2), object(19)\n",
      "memory usage: 32.1+ MB\n"
     ]
    }
   ],
   "source": [
    "#merge_with_state_data\n",
    "auto_data_m= auto_data.merge(state_data, left_on='state', right_on='State_Code')\n",
    "auto_data_m.info()\n",
    "auto_data = auto_data_m"
   ]
  },
  {
   "cell_type": "code",
   "execution_count": 50,
   "metadata": {},
   "outputs": [],
   "source": [
    "#save data\n",
    "\n",
    "new_file = 'auto_data_m_cl.csv'\n",
    "new_file_name_path = os.path.join(basepath,sub_file, new_file)\n",
    "auto_data_m.to_csv(new_file_name_path, index=False)"
   ]
  },
  {
   "cell_type": "markdown",
   "metadata": {},
   "source": [
    "## Impute the Data"
   ]
  },
  {
   "cell_type": "markdown",
   "metadata": {},
   "source": [
    "When looking at the vehicles we note that there are lot of nulls about the vehicles features (example: the number of cylinders, drive, transmission, size, and type of vehicle). When buying a vehicle these are things you would usually ask the seller because it does effect the price of the vehicle (a vehicle with more cylinders usually is of higher value than one is of less). \n",
    "\n",
    "While these features can differ within a make model model year (MMY)  of a vehicle we can narrow down what the feature should be given the other features of the vehicle. For example: a 2016 Jaguar F Type can be all wheel drive or all wheel drive ,  be a coupe or converticle, be automatic or mannual transmission. You would think there be at least 8 configurations of the F-type.   However only a certain grouping of configuartions (called Trims) that these vehicle are sold as.  There are actually on 6 configurations for the 2016 Jaguar F-Type because you can only get a manual transmission with rear wheel drive. \n",
    "\n",
    "If we don't have enough data to impute the vehicle given MMY and the other features we can determine the feature given it's MMY. This is because A) There is usually a most popular trim for the MMY of a vehicle. B) Some features do not differ within MMY for example the 2017 Honda Accord only has 4 cylinders. \n",
    "\n",
    "\n",
    "If make model model year doese not give us a value we can look at just the make and model. The most likely configuration for model does change for each model year. However the trims of these features only change for every redesign of the model which does not happen every model year. So after looking at mmmy we look at make model.\n",
    "\n",
    "\n",
    "Finally we are also missing longitude and latitude data. We can find the probable longitude and latitude given the most longitude and latitude for that state.\n"
   ]
  },
  {
   "cell_type": "code",
   "execution_count": 51,
   "metadata": {},
   "outputs": [],
   "source": [
    "file = 'auto_data_m_cl.csv'\n",
    "\n",
    "sub_file = 'data'\n",
    "file_name_path = os.path.join(basepath, sub_file, file)\n",
    "auto_data= pd.read_csv(file_name_path)\n"
   ]
  },
  {
   "cell_type": "code",
   "execution_count": 52,
   "metadata": {},
   "outputs": [
    {
     "data": {
      "text/plain": [
       "Sedan          30180\n",
       "Suv            25195\n",
       "Pickup         18029\n",
       "Truck          12821\n",
       "Other          10044\n",
       "Coupe           7996\n",
       "Hatchback       6954\n",
       "Van             3599\n",
       "Wagon           3052\n",
       "Mini-Van        2128\n",
       "Convertible     1624\n",
       "Offroad          156\n",
       "Bus              137\n",
       "Name: type, dtype: int64"
      ]
     },
     "execution_count": 52,
     "metadata": {},
     "output_type": "execute_result"
    }
   ],
   "source": [
    "auto_data['type']= auto_data['type'].str.title().str.strip()\n",
    "\n",
    "auto_data['type'].value_counts()"
   ]
  },
  {
   "cell_type": "code",
   "execution_count": 53,
   "metadata": {},
   "outputs": [
    {
     "data": {
      "text/plain": [
       "id                              0\n",
       "region                          0\n",
       "price                           0\n",
       "year                            0\n",
       "manufacturer                 2837\n",
       "model                           0\n",
       "condition                       0\n",
       "cylinders                   38128\n",
       "fuel                            3\n",
       "odometer                        0\n",
       "title_status                    6\n",
       "transmission                  130\n",
       "drive                       22899\n",
       "size                        82643\n",
       "type                        13949\n",
       "paint_color                     0\n",
       "state                           0\n",
       "lat                          1118\n",
       "long                         1118\n",
       "age                             0\n",
       "mmy_a                        2837\n",
       "mmy_a2                       2837\n",
       "model2                          0\n",
       "MSRP                       121663\n",
       "Category                    97038\n",
       "State                           0\n",
       "Avg_Gas_Price                   0\n",
       "Division                        0\n",
       "Median Household Income         0\n",
       "State_Code                      0\n",
       "dtype: int64"
      ]
     },
     "execution_count": 53,
     "metadata": {},
     "output_type": "execute_result"
    }
   ],
   "source": [
    "auto_data.isnull().sum()"
   ]
  },
  {
   "cell_type": "code",
   "execution_count": 54,
   "metadata": {},
   "outputs": [],
   "source": [
    "auto_data['cylinders'] = pd.to_numeric(auto_data['cylinders'])\n",
    "\n",
    "q1 = auto_data\n",
    "#Create possible Trim configurations look at cylinders, drive and transmission\n",
    "q1['mmy_a_d_t'] = q1['mmy_a'].astype(str)+' '+q1['drive'].astype(str)+' '+q1['transmission'].astype(str)\n",
    "q1['mmy_a_t'] = q1['mmy_a'].astype(str)+' '+q1['transmission'].astype(str)\n",
    "q1['mmy_a_d'] = q1['mmy_a'].astype(str)+' '+q1['drive'].astype(str)\n",
    "\n",
    "#Remove trim if there is missing value in the grouping\n",
    "q1.loc[(q1['transmission'].isna()), 'mmy_a_d_t' ] = np.nan\n",
    "q1.loc[(q1['transmission'].isna()), 'mmy_a_t' ] = np.nan\n",
    "q1.loc[(q1['transmission'].str.contains('nan', na= False)), 'mmy_a_d_t' ] = np.nan\n",
    "q1.loc[(q1['transmission'].str.contains('nan', na= False)), 'mmy_a_t' ] = np.nan\n",
    "q1.loc[(q1['drive'].isna()), 'mmy_a_d_t' ] = np.nan\n",
    "q1.loc[(q1['drive'].isna()), 'mmy_a_d' ] = np.nan\n",
    "q1.loc[(q1['drive'].str.contains('nan', na= False)), 'mmy_a_d_t' ] = np.nan\n",
    "q1.loc[(q1['drive'].str.contains('nan', na= False)), 'mmy_a_d' ] = np.nan\n",
    "\n",
    "#Create Make Model Category\n",
    "q1['mm']=q1['manufacturer'].astype(str)+' '+q1['model'].astype(str)\n",
    "q1['mm2']=q1['manufacturer'].astype(str)+' '+q1['model2'].astype(str)\n"
   ]
  },
  {
   "cell_type": "code",
   "execution_count": 55,
   "metadata": {},
   "outputs": [],
   "source": [
    "def comp_F(q1):\n",
    "    q1['cylinders1'] = q1['cylinders']\n",
    "    q1['size1'] = q1['size']\n",
    "    q1['Category1'] = q1['Category']\n",
    "    q1['type1'] = q1['type']\n",
    "    q1['drive1'] = q1['drive']\n",
    "    q1['transmission1'] = q1['transmission']\n",
    "    \n",
    "def comp_D(q1):\n",
    "    q1['cylinders'] = q1['cylinders'].fillna(q1['cylinders1'])\n",
    "    q1['size'] = q1['size'].fillna(q1['size1'])\n",
    "    q1['Category'] = q1['Category'].fillna(q1['Category1'])\n",
    "    q1['type'] = q1['type'].fillna(q1['type1'])\n",
    "    q1['drive'] = q1['drive'].fillna(q1['drive1'])\n",
    "    q1['transmission1'] = q1['transmission'].fillna(q1['transmission1'])"
   ]
  },
  {
   "cell_type": "markdown",
   "metadata": {},
   "source": [
    "print(q1['cylinders'].isnull().sum())\n",
    "print(q1['cylinders'].value_counts())\n",
    "q1['cylinders1'] = q1['cylinders']\n",
    "q1['cylinders1'] = q1.groupby(['mmy_a_d_t', 'type'], sort=False)['cylinders1'].apply(lambda x: x.fillna(next(iter(x.mode()), np.nan)))\n",
    "q1['cylinders'] = q1['cylinders'].fillna(q1['cylinders1'])\n",
    "\n",
    "\n",
    "print(q1['cylinders'].isnull().sum())\n",
    "print(q1['cylinders'].value_counts())"
   ]
  },
  {
   "cell_type": "code",
   "execution_count": 56,
   "metadata": {},
   "outputs": [
    {
     "name": "stdout",
     "output_type": "stream",
     "text": [
      "6.0     36427\n",
      "4.0     33225\n",
      "8.0     26938\n",
      "5.0       601\n",
      "10.0      350\n",
      "3.0       177\n",
      "12.0       18\n",
      "Name: cylinders, dtype: int64\n",
      "6.0     39905\n",
      "4.0     37745\n",
      "8.0     28405\n",
      "5.0       651\n",
      "10.0      352\n",
      "3.0       197\n",
      "12.0       18\n",
      "Name: cylinders, dtype: int64\n"
     ]
    }
   ],
   "source": [
    "print(q1['cylinders'].value_counts())\n",
    "comp_F(q1)\n",
    "q1['cylinders1'] = q1.groupby(['mmy_a_d_t', 'type'], sort=False)['cylinders1'].apply(lambda x: x.fillna(next(iter(x.mode()), np.nan)))\n",
    "comp_D(q1)\n",
    "q1[['cylinders', 'size', 'type', 'drive', 'transmission', 'Category' ]].isnull().sum()\n",
    "print(q1['cylinders'].value_counts())"
   ]
  },
  {
   "cell_type": "code",
   "execution_count": 57,
   "metadata": {},
   "outputs": [
    {
     "data": {
      "text/plain": [
       "6.0     39905\n",
       "4.0     37745\n",
       "8.0     28405\n",
       "5.0       651\n",
       "10.0      352\n",
       "3.0       197\n",
       "12.0       18\n",
       "Name: cylinders, dtype: int64"
      ]
     },
     "execution_count": 57,
     "metadata": {},
     "output_type": "execute_result"
    }
   ],
   "source": [
    "q1['cylinders'].value_counts()"
   ]
  },
  {
   "cell_type": "code",
   "execution_count": 58,
   "metadata": {},
   "outputs": [
    {
     "name": "stdout",
     "output_type": "stream",
     "text": [
      "Before imputation the number of nulls are:\n",
      "cylinders       28591\n",
      "size            82643\n",
      "type            13949\n",
      "drive           22899\n",
      "transmission      130\n",
      "Category        97038\n",
      "dtype: int64\n",
      "After trim imputation the number of nulls are:\n",
      "cylinders       26101\n",
      "size            53662\n",
      "type             7062\n",
      "drive            7192\n",
      "transmission      130\n",
      "Category        97038\n",
      "dtype: int64\n"
     ]
    }
   ],
   "source": [
    "#impute by trim\n",
    "comp_F(q1)\n",
    "q1['MSRP1'] = q1['MSRP']\n",
    "\n",
    "print('Before imputation the number of nulls are:')\n",
    "print(q1[['cylinders', 'size', 'type', 'drive', 'transmission', 'Category' ]].isnull().sum())\n",
    "\n",
    "\n",
    "q1['MSRP'] = q1.groupby(['mmy_a_d_t', 'type'], sort=False)['MSRP'].apply(lambda x: x.fillna(next(iter(x.mode()), np.nan)))\n",
    "q1['cylinders1'] = q1.groupby(['mmy_a_d_t'], sort=False)['cylinders1'].apply(lambda x: x.fillna(next(iter(x.mode()), np.nan)))\n",
    "q1['size1'] = q1.groupby(['mmy_a_d_t'], sort=False)['size1'].apply(lambda x: x.fillna(next(iter(x.mode()), np.nan)))\n",
    "q1['type1'] = q1.groupby(['mmy_a_d_t'], sort=False)['type1'].apply(lambda x: x.fillna(next(iter(x.mode()), np.nan)))\n",
    "q1['Category1'] = q1.groupby(['mmy_a_d_t'], sort=False)['Category1'].apply(lambda x: x.fillna(next(iter(x.mode()), np.nan)))\n",
    "q1['drive1'] = q1.groupby(['mmy_a_t'], sort=False)['drive1'].apply(lambda x: x.fillna(next(iter(x.mode()), np.nan)))\n",
    "q1['transmission1'] = q1.groupby(['mmy_a_d'], sort=False)['transmission1'].apply(lambda x: x.fillna(next(iter(x.mode()), np.nan)))\n",
    "\n",
    "q1['MSRP'] = q1['MSRP'].fillna(q1['MSRP1'])\n",
    "comp_D(q1)\n",
    "\n",
    "print('After trim imputation the number of nulls are:')\n",
    "print(q1[['cylinders', 'size', 'type', 'drive', 'transmission', 'Category' ]].isnull().sum())\n",
    "\n"
   ]
  },
  {
   "cell_type": "code",
   "execution_count": 59,
   "metadata": {},
   "outputs": [
    {
     "name": "stdout",
     "output_type": "stream",
     "text": [
      "After manufacture model and model year  imputation the number of nulls are:\n",
      "cylinders       18777\n",
      "size            40472\n",
      "type             2556\n",
      "drive            6389\n",
      "transmission      130\n",
      "Category        97038\n",
      "dtype: int64\n"
     ]
    }
   ],
   "source": [
    "#impute by Make Model Model Year\n",
    "comp_F(q1)\n",
    "cols = ['cylinders1', 'size1', 'Category1', 'type1', 'drive1', 'transmission1']\n",
    "\n",
    "q1['cylinders1'] = q1.groupby(['mmy_a'], sort=False)['cylinders1'].apply(lambda x: x.fillna(next(iter(x.mode()), np.nan)))\n",
    "q1['size1'] = q1.groupby(['mmy_a'], sort=False)['size1'].apply(lambda x: x.fillna(next(iter(x.mode()), np.nan)))\n",
    "q1['type1'] = q1.groupby(['mmy_a'], sort=False)['type1'].apply(lambda x: x.fillna(next(iter(x.mode()), np.nan)))\n",
    "q1['Category1'] = q1.groupby(['mmy_a'], sort=False)['Category1'].apply(lambda x: x.fillna(next(iter(x.mode()), np.nan)))\n",
    "q1['drive1'] = q1.groupby(['mmy_a'], sort=False)['drive1'].apply(lambda x: x.fillna(next(iter(x.mode()), np.nan)))\n",
    "q1['transmission1'] = q1.groupby(['mmy_a'], sort=False)['transmission1'].apply(lambda x: x.fillna(next(iter(x.mode()), np.nan)))\n",
    "\n",
    "\n",
    "comp_D(q1)\n",
    "print('After manufacture model and model year  imputation the number of nulls are:')\n",
    "print(q1[['cylinders', 'size', 'type', 'drive', 'transmission', 'Category' ]].isnull().sum())\n"
   ]
  },
  {
   "cell_type": "code",
   "execution_count": null,
   "metadata": {},
   "outputs": [],
   "source": [
    "#impute by Make Model\n",
    "comp_F(q1)\n",
    "q1['cylinders1'] = q1.groupby(['mm'], sort=False)['cylinders1'].apply(lambda x: x.fillna(next(iter(x.mode()), np.nan)))\n",
    "q1['size1'] = q1.groupby(['mm'], sort=False)['size1'].apply(lambda x: x.fillna(next(iter(x.mode()), np.nan)))\n",
    "q1['type1'] = q1.groupby(['mm'], sort=False)['type1'].apply(lambda x: x.fillna(next(iter(x.mode()), np.nan)))\n",
    "q1['Category1'] = q1.groupby(['mm'], sort=False)['Category1'].apply(lambda x: x.fillna(next(iter(x.mode()), np.nan)))\n",
    "q1['drive1'] = q1.groupby(['mm'], sort=False)['drive1'].apply(lambda x: x.fillna(next(iter(x.mode()), np.nan)))\n",
    "q1['transmission1'] = q1.groupby(['mm'], sort=False)['transmission1'].apply(lambda x: x.fillna(next(iter(x.mode()), np.nan)))\n",
    "comp_D(q1)\n",
    "print('After manufacture model and model year  imputation the number of nulls are:')\n",
    "print(q1[['cylinders', 'size', 'type', 'drive', 'transmission', 'Category' ]].isnull().sum())\n"
   ]
  },
  {
   "cell_type": "code",
   "execution_count": null,
   "metadata": {},
   "outputs": [],
   "source": [
    "q1.info()"
   ]
  },
  {
   "cell_type": "code",
   "execution_count": null,
   "metadata": {},
   "outputs": [],
   "source": [
    "#Drop Excess Variables that were used for imputation\n",
    "q1 = q1.drop(columns=['cylinders1', 'size1','Category1','type1' , 'drive1', 'transmission1', 'MSRP1'], axis=1 )\n",
    "q1 = q1.drop(columns=['mmy_a', 'mmy_a2','mmy_a_d_t','mmy_a_d' , 'mmy_a_t', 'mm', 'mm2', 'model2'], axis=1 )"
   ]
  },
  {
   "cell_type": "code",
   "execution_count": null,
   "metadata": {},
   "outputs": [],
   "source": [
    "#impute longitude and latitude from state\n",
    "q1['lat'] = q1.groupby(['state'], sort=False)['lat'].apply(lambda x: x.fillna(x.mode().iloc[0]))\n",
    "q1['long'] = q1.groupby(['state'], sort=False)['long'].apply(lambda x: x.fillna(x.mode().iloc[0]))\n",
    "\n",
    "#impute fuel\n",
    "q1['fuel'] = q1['fuel'].fillna(q1['fuel'].mode()[0])\n",
    "q1['MSRP'] = q1['MSRP'].fillna(0)\n",
    "print(q1.isnull().sum())"
   ]
  },
  {
   "cell_type": "code",
   "execution_count": null,
   "metadata": {},
   "outputs": [],
   "source": [
    "#If no paint color is given its unlisted and its unrealistc to try to impute it\n",
    "q1['paint_color'] = q1['paint_color'].fillna('unlisted')"
   ]
  },
  {
   "cell_type": "code",
   "execution_count": null,
   "metadata": {},
   "outputs": [],
   "source": [
    "q1['Avg_Mileage'] = q1['odometer']/ q1['age']\n",
    "q1['resid'] = q1['MSRP']/ q1['price']\n",
    "q1.info()"
   ]
  },
  {
   "cell_type": "code",
   "execution_count": null,
   "metadata": {},
   "outputs": [],
   "source": [
    "\n",
    "categorical_columns = q1.select_dtypes(exclude=['int64', 'float']).columns.tolist()\n",
    "\n",
    "for col in categorical_columns:\n",
    "    q1[col] = q1[col].astype('category')\n",
    "q1.info()"
   ]
  },
  {
   "cell_type": "markdown",
   "metadata": {},
   "source": [
    "Save Data"
   ]
  },
  {
   "cell_type": "code",
   "execution_count": null,
   "metadata": {},
   "outputs": [],
   "source": [
    "#save data\n",
    "\n",
    "new_file = 'auto_data_merged_cl.csv'\n",
    "new_file_name_path = os.path.join(basepath,sub_file, new_file)\n",
    "q1.to_csv(new_file_name_path, index=False)"
   ]
  },
  {
   "cell_type": "markdown",
   "metadata": {},
   "source": [
    "## Exploratory Data getting rid of outliers"
   ]
  },
  {
   "cell_type": "markdown",
   "metadata": {},
   "source": [
    "We do not want any outliers in our dataset before we make any calculations. That said:\n",
    "1) We already eliminated a lot of the ouliers due to the common sense cleaning rules.\n",
    "2) The values for price, and mileage in the vehicle is a skew distribution with a long tail and not a normal distribution.\n",
    "\n",
    "Therefore we are conservative in our deletion of outliers.\n",
    "\n",
    "We beleive we should investigate four outliers when:\n",
    "* The 98the percentile and the 99th percentile differ by larger than 1 standard deviation. Then all values greater than the 98th percentile are likely to be outliers.\n",
    "* Similarly elimiate if 99th percentile and maximum differ by larger than 1 standard deviation. Then all values greater than the 99th percentile are likely to be outliers.\n",
    "\n",
    "The results of this investigation is that price, odometer, residual and average mileage needed to be investigaated.\n",
    "\n",
    "We did not want to get rid of any vehicles that are in the same price range of the Teslas so we eliminated vehicles\n"
   ]
  },
  {
   "cell_type": "code",
   "execution_count": null,
   "metadata": {},
   "outputs": [],
   "source": [
    "#Get Path\n",
    "os.getcwd()\n",
    "basepath = os.getcwd()\n",
    "print(basepath)\n",
    "lis_dir = os.listdir()\n",
    "print(lis_dir)\n",
    "\n",
    "# Create the list of file names: filenames\n",
    "file ='auto_data_merged_cl.csv'\n",
    "sub_file = 'data'\n",
    "file_name_path = os.path.join(basepath, sub_file, file)\n",
    "auto_data= pd.read_csv(file_name_path)\n"
   ]
  },
  {
   "cell_type": "code",
   "execution_count": null,
   "metadata": {},
   "outputs": [],
   "source": [
    "auto_data.info()"
   ]
  },
  {
   "cell_type": "code",
   "execution_count": null,
   "metadata": {},
   "outputs": [],
   "source": [
    "auto_data['resid'] = auto_data['resid'].fillna(0)\n",
    "auto_data.describe(percentiles= [0.05, .25, .5, .75, 0.95,  0.98, 0.99] )\n",
    "# Rule if the maximum number of the 98the percentile and the 99th percentile differ by larger than 1 std then you elimate those numbers\n",
    "# Similarly elimiate if 99th percentile and maximum is one standard deviation away elimate to 99th percentile\n"
   ]
  },
  {
   "cell_type": "markdown",
   "metadata": {},
   "source": [
    "* Rule if the maximum number of the 98, 99 percentile differ by larger than 1 std you investigate\n",
    "    * The results of this investigation is in price, odometer and average mileage\n",
    "* Similarly we check if adding 98 percentile + 1std is worth doing\n",
    "\n"
   ]
  },
  {
   "cell_type": "code",
   "execution_count": null,
   "metadata": {},
   "outputs": [],
   "source": [
    "#Investigate price \n",
    "price = auto_data.price\n",
    "sns.boxplot(price)\n",
    "plt.savefig(\"Fig1_Price_before_deletion.png\")\n",
    "plt.title(\"Distribution of the price before deletion\")\n",
    "plt.show()\n",
    "#so many outliers!"
   ]
  },
  {
   "cell_type": "code",
   "execution_count": null,
   "metadata": {},
   "outputs": [],
   "source": [
    "#We do not want to get rid of any vehicles that are in the same price range of the Teslas so we eliminated \n",
    "#vehicles under the maximum Tesla price\n",
    "\n",
    "\n",
    "tes = auto_data[auto_data.manufacturer == 'Tesla']\n",
    "Tes_price = tes['price'].max()\n",
    "auto_data= auto_data[auto_data.price< Tes_price ]\n",
    "price = auto_data.price\n",
    "sns.boxplot(price)\n",
    "plt.title(\"Distribution of the price after deletion\")\n",
    "plt.savefig(\"Fig2_Price_after_deletion.png\")\n",
    "plt.show()\n"
   ]
  },
  {
   "cell_type": "code",
   "execution_count": null,
   "metadata": {},
   "outputs": [],
   "source": [
    "#Investigate Mileage\n",
    "miles = auto_data.odometer\n",
    "sns.boxplot(miles)\n",
    "plt.title(\"Distribution of mileage on vehicles before deletion\")\n",
    "plt.show()\n",
    "#so many outliers!"
   ]
  },
  {
   "cell_type": "code",
   "execution_count": null,
   "metadata": {},
   "outputs": [],
   "source": [
    "#We eliminate vehicles over the 98th percentile\n",
    "odometer_p98 = auto_data['odometer'].quantile(.98)\n",
    "\n",
    "auto_data= auto_data[auto_data.odometer< odometer_p98 ]\n",
    "miles = auto_data.odometer\n",
    "sns.boxplot(miles)\n",
    "plt.title(\"Distribution of mileage on vehicles after deletion\")\n",
    "plt.show()"
   ]
  },
  {
   "cell_type": "code",
   "execution_count": null,
   "metadata": {},
   "outputs": [],
   "source": [
    "#Investigate Average Mileage\n",
    "# Average Milage is the mileage divided by the age let's see that relationship \n",
    "g = sns.jointplot(x= 'age', y='odometer',data=auto_data , kind='kde')\n",
    "_ = g.title = 'Age vs Mileage'\n",
    "#We van see clustered Non Linear replationsip between age and mileage and some pretty clear boundries"
   ]
  },
  {
   "cell_type": "code",
   "execution_count": null,
   "metadata": {},
   "outputs": [],
   "source": [
    "#Investigate Average Mileage using boxplot\n",
    "avg_miles = auto_data.Avg_Mileage\n",
    "sns.boxplot(avg_miles)\n",
    "plt.title(\"Distribution of avg mileage per year on vehicles before deletion\")\n",
    "plt.show()\n",
    "#so many outliers!"
   ]
  },
  {
   "cell_type": "code",
   "execution_count": null,
   "metadata": {},
   "outputs": [],
   "source": [
    "#We eliminate vehicles over the 99th percentile\n",
    "avm_p99 = auto_data['Avg_Mileage'].quantile(.99)\n",
    "\n",
    "auto_data= auto_data[auto_data.Avg_Mileage< avm_p99]\n",
    "avg_miles = auto_data.Avg_Mileage\n",
    "sns.boxplot(avg_miles)\n",
    "plt.title(\"Distribution of avg mileage per year on vehicles after deletion\")\n",
    "plt.show()\n",
    "plt.show()"
   ]
  },
  {
   "cell_type": "code",
   "execution_count": null,
   "metadata": {},
   "outputs": [],
   "source": [
    "#Investigate residuals using boxplot\n",
    "MSRP = auto_data.MSRP\n",
    "sns.boxplot(MSRP)\n",
    "plt.title(\"Distribution of MSRP on vehicles before deletion\")\n",
    "plt.show()\n",
    "#so many outliers!"
   ]
  },
  {
   "cell_type": "code",
   "execution_count": null,
   "metadata": {},
   "outputs": [],
   "source": [
    "MSRP_p99 = auto_data['MSRP'].quantile(.99)\n",
    "\n",
    "auto_data= auto_data[auto_data.MSRP< MSRP_p99]\n",
    "MSRP = auto_data.MSRP\n",
    "sns.boxplot(MSRP)\n",
    "plt.title(\"Distribution of MSRP on vehicles after deletion\")\n",
    "plt.show()\n",
    "plt.show()"
   ]
  },
  {
   "cell_type": "markdown",
   "metadata": {},
   "source": [
    "We Eliminate the Superluxury Vehicles"
   ]
  },
  {
   "cell_type": "code",
   "execution_count": null,
   "metadata": {},
   "outputs": [],
   "source": [
    "#We are not loooking up superluxury cars aka\n",
    "auto_data= auto_data[auto_data.manufacturer != 'Ferrari']\n",
    "auto_data = auto_data[auto_data.manufacturer != 'Aston-Martin']"
   ]
  },
  {
   "cell_type": "markdown",
   "metadata": {},
   "source": [
    "## EDA Explain some of the relationships within the data"
   ]
  },
  {
   "cell_type": "code",
   "execution_count": null,
   "metadata": {},
   "outputs": [],
   "source": [
    "auto_data.cylinders.value_counts()"
   ]
  },
  {
   "cell_type": "code",
   "execution_count": null,
   "metadata": {},
   "outputs": [],
   "source": [
    "#Check Cylinders\n",
    "#Investigate cylinders\n",
    "auto_data['cylinders'] = pd.to_numeric(auto_data['cylinders'])\n",
    "cylinders = auto_data.cylinders\n",
    "sns.boxplot(cylinders)\n",
    "plt.title(\"Distribution of avg mileage per year on vehicles before deletion\")\n",
    "plt.show()\n",
    "cylinders.value_counts()\n",
    "#We eliminate 12 as it only has 8 values \n",
    "auto_data =  auto_data[auto_data['cylinders']<12]\n"
   ]
  },
  {
   "cell_type": "code",
   "execution_count": null,
   "metadata": {},
   "outputs": [],
   "source": [
    "#There is an interesting relationship between cylinders, and drive\n",
    "size_type_table = pd.crosstab(index=auto_data[\"drive\"], columns=auto_data[\"cylinders\"])\n",
    "plt.figure(figsize=(14,12))\n",
    "size_type_table.plot(kind=\"bar\",  figsize=(8,8), stacked=True)\n",
    "plt.show()\n",
    "plt.savefig(\"cylinder_drive.png\")\n"
   ]
  },
  {
   "cell_type": "code",
   "execution_count": null,
   "metadata": {},
   "outputs": [],
   "source": [
    "#There is an interesting relationship between cylinders, drive, mileage and price\n",
    "plt.figure(figsize=(14,12))\n",
    "sns.catplot(x=\"cylinders\", y=\"price\", hue='drive', kind='point', data=auto_data)\n",
    "plt.show()\n",
    "plt.savefig(\"cylinder_drive_mileage_price.png\")\n"
   ]
  },
  {
   "cell_type": "code",
   "execution_count": null,
   "metadata": {},
   "outputs": [],
   "source": [
    "g = sns.lmplot(x= 'odometer', y='price', data=auto_data,  col=\"cylinders\", hue='drive', col_wrap=3, scatter_kws={\"alpha\":.6, \"s\": 5})\n",
    "g = (g.set( ylim=(0, 100000)))"
   ]
  },
  {
   "cell_type": "code",
   "execution_count": null,
   "metadata": {},
   "outputs": [],
   "source": [
    "# More visuals regarding the distributions are in eda3"
   ]
  },
  {
   "cell_type": "markdown",
   "metadata": {},
   "source": [
    "## Cleaning Category/ type\n",
    "* Category refers to the type of design of the vehicle ( examplesedan, hatchback), and it is something people take into consideration while buying a vehicle\n",
    "* However the naming convention for this is non standard across manufactuers (\"pickup\" vs \"truck\" refers to the same type from Ford and GM respectively)\n",
    "* Considering there are many users on Craigslist even though type is often in the description of a vehicle sold the naming convention would not be consistent from one user description to the next. \n",
    "* Since Category type is scraped from the user description means that type is inconsistent across the database\n",
    "\n",
    "* A Singular third party from an automible expert in this case the USA government will give us a consistent naming convention across all vehicles\n",
    "* However the goverment gives us a group of possible types a vehicle could be given make model model year\n",
    "\n",
    "* By combining the user description and the third party categories we get a specific category for each vehicle which has a conistent naming convention across vehicles\n",
    "\n",
    "* For the merge's we have we are going to check if the category within the description matches what the third party gave\n"
   ]
  },
  {
   "cell_type": "code",
   "execution_count": null,
   "metadata": {},
   "outputs": [],
   "source": [
    "auto_data['type'].value_counts()"
   ]
  },
  {
   "cell_type": "code",
   "execution_count": null,
   "metadata": {},
   "outputs": [],
   "source": [
    "auto_data['Category'].value_counts()"
   ]
  },
  {
   "cell_type": "code",
   "execution_count": null,
   "metadata": {},
   "outputs": [],
   "source": [
    "auto_data['Category2']= auto_data['Category'].str.strip().str.split(', ').str[0]\n",
    "auto_data['Category3']= auto_data['Category'].str.strip().str.split(', ')\n",
    "auto_data['Category3']= auto_data['Category3'].str.len()\n",
    "auto_data['type'] = auto_data['type'].replace('Truck', 'Pickup')\n",
    "auto_data['Category2']= auto_data['Category'].str.strip().str.split(', ').str[0]\n",
    "auto_data['type2']= auto_data['type'].replace('Offroad', np.nan)\n",
    "auto_data['type2']= auto_data['type2'].replace('Other', np.nan)\n",
    "auto_data['type2'] = auto_data['type2'].replace('Mini-Van', 'Van')\n",
    "auto_data['type2'] = auto_data['type2'].replace('Van', 'Van/Minivan')\n",
    "auto_data['Categoryf']= auto_data['Category'].fillna('0')\n",
    "auto_data['typef']= auto_data['type2'].fillna('zzzz')\n",
    "auto_data['Category_Cleaned1']= np.nan"
   ]
  },
  {
   "cell_type": "code",
   "execution_count": null,
   "metadata": {},
   "outputs": [],
   "source": [
    "auto_data['typef'].value_counts()"
   ]
  },
  {
   "cell_type": "code",
   "execution_count": null,
   "metadata": {},
   "outputs": [],
   "source": [
    "#If category length = 1 we do not need to look any further\n",
    "auto_data['Category_Cleaned'] = np.where(auto_data['Category3'] == 1 , auto_data['Category'], np.nan)\n",
    "print(auto_data['Category_Cleaned'].isnull().sum())\n",
    "\n",
    "#check if vehicle type listed in description is the sameone that is in the data replace in that case\n",
    "auto_data['cat_tiki_check0']= auto_data.apply(lambda x: x.typef in x.Categoryf, axis=1)\n",
    "auto_data.loc[auto_data['cat_tiki_check0'] == True, 'Category_Cleaned1'] = auto_data.type\n",
    "auto_data['Category_Cleaned'] = auto_data['Category_Cleaned'].fillna(auto_data['Category_Cleaned1'])\n",
    "\n",
    "#If we can't specify through type and there are only two values listed in Category we pick the first\n",
    "auto_data['Category_Cleaned'] = auto_data['Category_Cleaned'].fillna(auto_data['Category2'])\n",
    "\n",
    "\n",
    "#If we can't specify through type and there more than two values listed in Category we use a cleaned version of type\n",
    "auto_data['type2']= auto_data['type'].replace('Offroad', np.nan)\n",
    "auto_data['type2']= auto_data['type2'].replace('Other', np.nan)\n",
    "auto_data['type2'] = auto_data['type2'].replace('Mini-Van', 'Van')\n",
    "auto_data['type2'] = auto_data['type2'].replace('Van', 'Van/Minivan')\n",
    "\n",
    "auto_data['Category_Cleaned'] = auto_data['Category_Cleaned'].fillna(auto_data['type2'])\n",
    "print(auto_data['Category_Cleaned'].isnull().sum())\n",
    "\n",
    "#If we can't specify through any of the above we call it unlisted\n",
    "auto_data['Category_Cleaned'] = auto_data['Category_Cleaned'].fillna('Unlisted')\n"
   ]
  },
  {
   "cell_type": "code",
   "execution_count": null,
   "metadata": {},
   "outputs": [],
   "source": [
    "auto_data.columns"
   ]
  },
  {
   "cell_type": "code",
   "execution_count": null,
   "metadata": {},
   "outputs": [],
   "source": [
    "\n",
    "auto_data =auto_data.drop(columns = ['Category2', 'type2', 'Category3', 'Categoryf', 'typef', 'cat_tiki_check0', 'Category_Cleaned1'] )\n"
   ]
  },
  {
   "cell_type": "markdown",
   "metadata": {},
   "source": [
    "## Feature Selection: Dropping Categorical Variables\n",
    "* We want to reduce the number of unnecessary variables. Bellow are some of the reasons:\n",
    "* We Eliminate categorical variables that are included in another variable (aka intercorrelation)\n",
    "    * Example Division, State, and region. As each state has only one division. Each region can only fit in one states\n",
    "    * We eliminated type and Category as they both fit within Category_cleaned\n",
    "* We Eliminate categorical variables that are either unique to each vehicle (not counding id) or have too many categories within it because that would create too many dummy variables \n",
    "    * There are over 10000 models and while models are not completely unique to each vehicle considering we are trying to determine the asking price when we don't know the value of the model it goes around the point of the study. However again it could be something to look into.\n",
    "    * There are over 400 regions while this could be an interesting study we don't need it as we have division, longitude and latitude. It might be something to look into for another study\n",
    "    * There are over 50 states while this could be an interesting study we don't need it as we have division, longitude and latitude. It might be something to look into for another study.\n",
    "* We eliminate variables that have only one value as the don't add anything to the model\n",
    "    * title status"
   ]
  },
  {
   "cell_type": "code",
   "execution_count": null,
   "metadata": {},
   "outputs": [],
   "source": [
    "auto_data.select_dtypes(exclude=['int64', 'float']).nunique()"
   ]
  },
  {
   "cell_type": "code",
   "execution_count": null,
   "metadata": {},
   "outputs": [],
   "source": [
    "#drop categorical variables unique to each entry and/or having over 100 categories within\n",
    "z2 =auto_data.drop(columns= ['model' ], axis=1)\n",
    "\n",
    "#drop state due to combo of intercorrelation \n",
    "z2 =z2.drop(columns= ['region', 'state', 'type', 'Category', 'State_Code', 'State '], axis=1)\n",
    "\n",
    "#drop to having only 1 value\n",
    "z2 =z2.drop(columns= ['title_status'], axis=1)\n",
    "\n",
    "z2 =z2.drop(columns= ['resid'], axis=1)"
   ]
  },
  {
   "cell_type": "code",
   "execution_count": null,
   "metadata": {},
   "outputs": [],
   "source": [
    "z2['size']= z2['size'].fillna('unlisted')"
   ]
  },
  {
   "cell_type": "code",
   "execution_count": null,
   "metadata": {},
   "outputs": [],
   "source": [
    "#Dropping Nulls- We prefer our data to be without nulls with the exception of MSRP and resid there are few nulls so we eliminate those\n",
    "\n",
    "z2= z2.dropna()\n"
   ]
  },
  {
   "cell_type": "markdown",
   "metadata": {},
   "source": [
    "## Feature Selection: Dropping Categorical Variables\n",
    "### Eliminate variables due to intercorrelation"
   ]
  },
  {
   "cell_type": "markdown",
   "metadata": {},
   "source": [
    "We check correlation between our features. We do not want highly correlated variables (aka correlation whose absolute value is of over 0.8 in our data). In our investigation we only find year which is highly correlated to age. We therefore eliminated year from our variables."
   ]
  },
  {
   "cell_type": "code",
   "execution_count": null,
   "metadata": {},
   "outputs": [],
   "source": [
    "#plot correlation\n",
    "plt.figure(figsize=(14,12))\n",
    "sns.heatmap(z2.corr(),linewidths=.1, annot=True)\n",
    "plt.yticks(rotation=0);\n",
    "plt.savefig('correlation',bbox_inches='tight')"
   ]
  },
  {
   "cell_type": "code",
   "execution_count": null,
   "metadata": {},
   "outputs": [],
   "source": [
    "#dropping year- highly correlated with age amd c\n",
    "z2= z2.drop(columns= ['year'])"
   ]
  },
  {
   "cell_type": "markdown",
   "metadata": {},
   "source": [
    "## Pre Processing the Data\n",
    "\n",
    "Befeore we can use the data to generate a model we need to make the data able to be understood by the model. In this case we scale the data and turn all our categorical variables into dummy variables. We then seperate the data into our training data and test data.\n"
   ]
  },
  {
   "cell_type": "markdown",
   "metadata": {},
   "source": [
    "## Chosing Scaler Standardization\n",
    "\n",
    "#### Standizing Data\n",
    "* We have a few methods of standardization to choose from: Robust, Minmax, Normalize and Standardize\n",
    "* We use Robust if we want to minimize impact of outliers\n",
    "* We use Normalize if we think the distrubtion within a variable needs to be normalized and/or has a normal distribution\n",
    "* We use Standardize when we think most of the variables have similar distribution and no/few dummy variables"
   ]
  },
  {
   "cell_type": "code",
   "execution_count": null,
   "metadata": {},
   "outputs": [],
   "source": [
    "\n",
    "hist = z2.hist(figsize=(40,22))\n",
    "#The data for price is and age are not a normal destribution so both normalize scaler is bad idea "
   ]
  },
  {
   "cell_type": "code",
   "execution_count": null,
   "metadata": {},
   "outputs": [],
   "source": [
    "z3 = z2.drop(columns=['id'])\n",
    "\n",
    "boxplot = z3.boxplot(grid=False, vert=False,fontsize=9)\n",
    "#No large outliers as that was cleaned out already earlier will not use Robust Scaler"
   ]
  },
  {
   "cell_type": "code",
   "execution_count": null,
   "metadata": {},
   "outputs": [],
   "source": [
    "#save data\n",
    "\n",
    "new_file = 'auto_data_cleaned.csv'\n",
    "new_file_name_path = os.path.join(basepath,sub_file, new_file)\n",
    "z3.to_csv(new_file_name_path, index=False)"
   ]
  },
  {
   "cell_type": "markdown",
   "metadata": {},
   "source": [
    "#### Choosing Min Max Scaler\n",
    "* The data for price is and age are not a normal destribution we eliminate normalize scaler\n",
    "* No large outliers as that was cleaned out already earlier we eliminate  Robust Scaler\n",
    "* As we have dummy variables we can eliminate standard scaler \n",
    "* That leaves us with Min Max scaler"
   ]
  },
  {
   "cell_type": "markdown",
   "metadata": {},
   "source": [
    "## Create Dummy Variables"
   ]
  },
  {
   "cell_type": "code",
   "execution_count": null,
   "metadata": {},
   "outputs": [],
   "source": [
    "#Get Path\n",
    "os.getcwd()\n",
    "basepath = os.getcwd()\n",
    "print(basepath)\n",
    "lis_dir = os.listdir()\n",
    "print(lis_dir)\n",
    "\n",
    "# Create the list of file names: filenames\n",
    "file ='auto_data_cleaned.csv'\n",
    "sub_file = 'data'\n",
    "file_name_path = os.path.join(basepath, sub_file, file)\n",
    "z3 = pd.read_csv(file_name_path)\n"
   ]
  },
  {
   "cell_type": "code",
   "execution_count": null,
   "metadata": {},
   "outputs": [],
   "source": [
    "#shrink data where we can\n",
    "categorical_columns = z3.select_dtypes(exclude=['int64', 'float']).columns.tolist()\n",
    "for col in categorical_columns:\n",
    "    z3[col] = z3[col].astype('category')\n",
    "z3.info()"
   ]
  },
  {
   "cell_type": "code",
   "execution_count": null,
   "metadata": {},
   "outputs": [],
   "source": [
    "#create dummy variables\n",
    "Category_Cleaned = auto_data_dummies['Category_Cleaned']\n",
    "auto_data_dummies= pd.get_dummies(z3) #changed from z2\n"
   ]
  },
  {
   "cell_type": "code",
   "execution_count": null,
   "metadata": {},
   "outputs": [],
   "source": [
    "new_file = 'auto_data_dummies.csv'\n",
    "new_file_name_path = os.path.join(basepath,sub_file, new_file)\n",
    "auto_data_dummies.to_csv(new_file_name_path, index=False)"
   ]
  },
  {
   "cell_type": "code",
   "execution_count": null,
   "metadata": {},
   "outputs": [],
   "source": [
    "df =auto_data_dummies.corr(method ='pearson')\n",
    "df = df[((df > 0.7) | (df < -0.7)) & (df != 1)]\n",
    "non_empty_cols = [col for col in df.columns if ~df[col].isnull().all()]\n",
    "empty_cols = [col for col in df.columns if df[col].isnull().all()]"
   ]
  },
  {
   "cell_type": "markdown",
   "metadata": {},
   "source": [
    "## Pre Processing Feature Selection: Dropping Dummy Variables\n",
    "### Eliminate variables due to intercorrelation\n",
    "\n",
    "\n",
    "1) Group Intercorrelation\n",
    "When we have a categorical variables and convert them into dummies we can cannot have all the dummies in the group since  the last dummy variable will be a linear combination of the other dummies. So we eliminate one variable from the group.\n",
    "\n",
    "2) Eliminate variables where absolute correlation is greater 0.8"
   ]
  },
  {
   "cell_type": "code",
   "execution_count": null,
   "metadata": {},
   "outputs": [],
   "source": [
    "auto_data_dummies_small = auto_data_dummies.drop(columns= empty_cols)\n",
    "plt.figure(figsize=(14,12))\n",
    "sns.heatmap(auto_data_dummies_small.corr(),linewidths=.1, annot=True)\n",
    "plt.yticks(rotation=0);\n",
    "plt.savefig('correlation',bbox_inches='tight')\n",
    "\n",
    "#Eliminate variables where absolute correlation is greater 0.8\n",
    "auto_data_dummies.drop(columns= ['condition_good', 'fuel_diesel', 'transmission_other', 'drive_fwd', 'Division_Pacific']) \n",
    "\n",
    "auto_data_dummies.drop(columns= ['size_unlisted', 'paint_color_unlisted', 'manufacturer_Infiniti']) \n",
    "auto_data_dummies.info()\n"
   ]
  },
  {
   "cell_type": "markdown",
   "metadata": {},
   "source": [
    "## Seperate Data for Test and Trial"
   ]
  },
  {
   "cell_type": "code",
   "execution_count": null,
   "metadata": {},
   "outputs": [],
   "source": [
    "\n",
    "#seperate X and y from each other\n",
    "X = auto_data_dummies\n",
    "print(type(X))\n",
    "y = auto_data_dummies['price']\n",
    "\n",
    "X =X.drop(columns=['price'], axis=1)\n",
    "\n",
    "#split train, trial and vals\n",
    "\n",
    "# Create train and test sets\n",
    "X_train, X_test, y_train, y_test = train_test_split(X, y , test_size= 0.25, random_state=42)\n",
    "\n",
    "\n",
    "# Create val and train sets\n",
    "X_train, X_val, y_train, y_val = train_test_split(X_train, y_train, test_size = 3/11)"
   ]
  },
  {
   "cell_type": "markdown",
   "metadata": {},
   "source": [
    "## Use the MinMax Scaler on Data"
   ]
  },
  {
   "cell_type": "code",
   "execution_count": null,
   "metadata": {},
   "outputs": [],
   "source": [
    "#standardize numeric variables\n",
    "from sklearn.preprocessing import MinMaxScaler\n",
    "\n",
    "#create scaler\n",
    "scaler = MinMaxScaler()\n",
    "\n",
    "#Scale numeric data1\n",
    "X_train_mm = scaler.fit_transform(X_train)\n",
    "X_val_mm = scaler.transform(X_val)\n",
    "X_test_mm = scaler.transform(X_test)"
   ]
  },
  {
   "cell_type": "code",
   "execution_count": null,
   "metadata": {},
   "outputs": [],
   "source": [
    "df_cl_list=X_train.columns.tolist()\n",
    "df3 = pd.DataFrame(X_train_mm, columns = df_cl_list)\n",
    "df3 = df3.iloc[:, : 9]\n",
    "df3.info()"
   ]
  },
  {
   "cell_type": "code",
   "execution_count": null,
   "metadata": {},
   "outputs": [],
   "source": [
    "boxplot = df3.boxplot(grid=False, vert=False,fontsize=9)"
   ]
  },
  {
   "cell_type": "code",
   "execution_count": null,
   "metadata": {},
   "outputs": [],
   "source": [
    "from sklearn.linear_model import Ridge\n",
    "#ridge = Ridge(solver='svd')\n",
    "#ridge1 = Ridge(solver='svd')  \n",
    "    \n",
    "\n",
    "ridge = Ridge(solver='lsqr') #fastest solver for Ridge Regression\n",
    "ridge1 = Ridge(solver='lsqr') #fastest solver for Ridge Regression \n",
    "    \n",
    "    \n",
    "#Instantiate and fit a ridge reg to the min_max scaled data\n",
    "ridge_scaled = ridge.fit(X_train_mm, y_train)\n",
    "\n",
    "\n",
    "# Instantiate and fit ridge reg classifier to the unscaled data\n",
    "ridge_unscaled = ridge1.fit(X_train, y_train)\n",
    "\n",
    "\n",
    "# Compute and print metrics\n",
    "print('Accuracy with Min Max Scaling: {}'.format(ridge_scaled.score(X_val_mm, y_val)))\n",
    "print('Accuracy without Scaling: {}'.format(ridge_unscaled.score(X_val, y_val)))\n"
   ]
  },
  {
   "cell_type": "markdown",
   "metadata": {},
   "source": [
    "## Testing Models"
   ]
  },
  {
   "cell_type": "markdown",
   "metadata": {},
   "source": [
    "## Comparison of the models:\n",
    "\n",
    "We tested 6 different regression models \n",
    "* Linear\n",
    "* Linear Log\n",
    "* Ridge\n",
    "* Ridge with PCA\n",
    "* Linear with PCA\n",
    "* elasticnet with PCA\n",
    "\n",
    "We Test with Two parameterrs\n",
    "* R^2\n",
    "* RLMSE (Root Mean Squared Error)\n",
    "\n",
    "The R^2 tells tells us how accurate the regression is. But our dealer is using our prediction to decide if the asking price is lower than the predicted price he could get on Craig's list. The dealer is risk averse he does not want to take the deal if there is a high chance that the predicted price he is using is larger than the actual price. Therefore the better model is the one that is less likely to understimate the price. \n",
    "\n",
    "The RLMSE creates a larger penalty if the price is under the value than if it is over the value. This will\n",
    "\n",
    "    "
   ]
  },
  {
   "cell_type": "markdown",
   "metadata": {},
   "source": [
    "#### Base testing 1 - Linear"
   ]
  },
  {
   "cell_type": "code",
   "execution_count": null,
   "metadata": {},
   "outputs": [],
   "source": [
    "# Apply Linear model to training data:\n",
    "linear = LinearRegression() \n",
    "linear.fit(X_train_mm, y_train)\n",
    "\n",
    "\n",
    "# Predict using model:\n",
    "y_predict_linear=linear.predict(X_val_mm)\n",
    "y_predict_linear[y_predict_linear<0] = 0 #The minimum price for a car is 0\n",
    "\n",
    "from sklearn.model_selection import cross_val_score\n",
    "from sklearn.model_selection import cross_validate\n",
    "\n",
    "cv_scores_train = cross_val_score(estimator= linear, X=X_train_mm, y=y_train, cv=5)\n",
    "cv_scores_test = cross_val_score(estimator= linear, X=X_val_mm, y=y_val, cv=5)\n",
    "print(cv_scores_test)\n",
    "\n",
    "\n",
    "\n",
    "from sklearn.metrics import mean_squared_log_error\n",
    "\n",
    "cv_scores_linear_test= cv_scores_test.mean()\n",
    "cv_scores_linear_train= cv_scores_train.mean()\n",
    "cv_scores_linear_std= cv_scores_test.std()\n",
    "print('For Linear Regression:')\n",
    "print ('Mean cross validation test score: ' +str(cv_scores_linear_test))\n",
    "print ('Mean cross validation train score: ' +str(cv_scores_linear_train))\n",
    "print ('Standard deviation in cv scores: ' +str(cv_scores_linear_std))\n",
    "\n",
    "RMSLE_lin= mean_squared_log_error(y_val, y_predict_linear)\n",
    "print ('RMSLE: ' +str(RMSLE_lin))\n"
   ]
  },
  {
   "cell_type": "code",
   "execution_count": null,
   "metadata": {},
   "outputs": [],
   "source": [
    "prediction_error = y_val- y_predict_linear\n",
    "price = y_val\n",
    "p= sns.jointplot(x=price, y=prediction_error, kind=\"reg\", xlim= [9000, 70000] )\n",
    "p.fig.suptitle(\"Scatterplot of Linear Model Error\")\n",
    "p.ax_joint.collections[0].set_alpha(0)\n",
    "p.fig.tight_layout()\n",
    "p.fig.subplots_adjust(top=0.95) # Reduce plot to make room \n"
   ]
  },
  {
   "cell_type": "code",
   "execution_count": null,
   "metadata": {},
   "outputs": [],
   "source": [
    "diff = y_val- y_predict_linear\n",
    "diff.hist(bins = 40)\n",
    "plt.title('Histogram of prediction linear errors')\n",
    "plt.xlabel('Price prediction error')\n",
    "plt.ylabel('Frequency')"
   ]
  },
  {
   "cell_type": "markdown",
   "metadata": {},
   "source": [
    "#### Base testing 2 - Linear_Log"
   ]
  },
  {
   "cell_type": "code",
   "execution_count": null,
   "metadata": {},
   "outputs": [],
   "source": [
    "# Apply Linear Log model to training data:\n",
    "linlog = LinearRegression() #previous optimization different study\n",
    "\n",
    "y_train_lg = np.log(y_train)\n",
    "y_val_lg = np.log(y_val)\n",
    "\n"
   ]
  },
  {
   "cell_type": "code",
   "execution_count": null,
   "metadata": {},
   "outputs": [],
   "source": [
    "linlog.fit(X_train_mm, y_train_lg)\n",
    "\n",
    "\n",
    "# Predict using model:\n",
    "y_predict_linlog=linear.predict(X_val_mm)\n",
    "y_predict_linlog[y_predict_linlog<0] = 0 #The minimum price for a car is 0\n",
    "\n"
   ]
  },
  {
   "cell_type": "code",
   "execution_count": null,
   "metadata": {},
   "outputs": [],
   "source": [
    "cv_scores_train = cross_val_score(estimator= linear, X=X_train_mm, y=y_train_lg, cv=5)\n",
    "cv_scores_test = cross_val_score(estimator= linear, X=X_val_mm, y=y_val_lg, cv=5)\n",
    "print(cv_scores_test)\n",
    "\n",
    "\n",
    "cv_scores_linlog_test= cv_scores_test.mean()\n",
    "cv_scores_linlog_train= cv_scores_train.mean()\n",
    "cv_scores_linlog_std= cv_scores_test.std()\n",
    "print('For Linear Log Regression:')\n",
    "print ('Mean cross validation test score: ' +str(cv_scores_linlog_test))\n",
    "print ('Mean cross validation train score: ' +str(cv_scores_linlog_train))\n",
    "print ('Standard deviation in cv scores: ' +str(cv_scores_linlog_std))\n",
    "\n",
    "RMSLE_linlog= mean_squared_log_error(y_val, y_predict_linlog)\n",
    "print ('RMSLE: ' +str(RMSLE_linlog))\n"
   ]
  },
  {
   "cell_type": "markdown",
   "metadata": {},
   "source": [
    "#### Base testing 3 - Ridge"
   ]
  },
  {
   "cell_type": "code",
   "execution_count": null,
   "metadata": {},
   "outputs": [],
   "source": [
    "# Apply Ridge model to training data:\n",
    "from sklearn.linear_model import Ridge\n",
    "    \n",
    "ridge_s = Ridge(solver='lsqr') #We specify solver because otherwise the program decides whichever solver it deems best\n",
    "\n",
    "\n",
    "ridge_s.fit(X_train_mm, y_train)\n",
    "#ridge_s.fit(X_train_mm, y_train)\n",
    "\n",
    "# Predict using model:\n",
    "y_predict_ridge=ridge_s.predict(X_val_mm)\n",
    "y_predict_ridge[y_predict_ridge<0] = 0\n",
    "\n",
    "\n",
    "cv_scores_train = cross_val_score(estimator= ridge_s, X=X_train_mm, y=y_train, cv=5)\n",
    "cv_scores_test = cross_val_score(estimator= ridge_s, X=X_val_mm, y=y_val, cv=5)\n",
    "print(cv_scores_test)\n",
    "\n",
    "\n",
    "cv_scores_ridge_test= cv_scores_test.mean()\n",
    "cv_scores_ridge_train= cv_scores_train.mean()\n",
    "cv_scores_ridge_std= cv_scores_test.std()\n",
    "print('For Ridge Regression:')\n",
    "print ('Mean cross validation test score: ' +str(cv_scores_ridge_test))\n",
    "print ('Mean cross validation train score: ' +str(cv_scores_ridge_train))\n",
    "print ('Standard deviation in cv scores: ' +str(cv_scores_ridge_std))\n",
    "\n",
    "RMSLE_ridge= mean_squared_log_error(y_val, y_predict_ridge)\n",
    "print ('RMSLE: ' +str(RMSLE_ridge))\n"
   ]
  },
  {
   "cell_type": "code",
   "execution_count": null,
   "metadata": {},
   "outputs": [],
   "source": [
    "prediction_error = y_val- y_predict_ridge\n",
    "price = y_val\n",
    "cylinders= X_val['cylinders'] \n",
    "\n",
    "p= sns.jointplot(x=price, y=prediction_error, kind=\"kde\" , hue= cylinders, xlim= [9000, 70000] )\n",
    "p.ax_joint.set_xlabel('Price in $', fontweight='bold')\n",
    "p.ax_joint.set_ylabel('Error in $', fontweight='bold')\n",
    "\n",
    "p.fig.suptitle(\"Scatterplot of Ridge Model Error\")\n",
    "p.ax_joint.collections[0].set_alpha(0)\n",
    "p.fig.tight_layout()\n",
    "p.fig.subplots_adjust(top=0.95) # Reduce plot to make room "
   ]
  },
  {
   "cell_type": "code",
   "execution_count": null,
   "metadata": {},
   "outputs": [],
   "source": [
    "diff = y_val- y_predict_ridge\n",
    "diff.hist(bins = 40, range=[-30000, 30000])\n",
    "plt.title('Histogram of prediction Ridge errors')\n",
    "plt.xlabel('Price prediction error')\n",
    "plt.ylabel('Frequency')"
   ]
  },
  {
   "cell_type": "markdown",
   "metadata": {},
   "source": [
    "#### Base testing 4 - Elasticnet"
   ]
  },
  {
   "cell_type": "code",
   "execution_count": null,
   "metadata": {},
   "outputs": [],
   "source": [
    "elastic = ElasticNet( selection= 'random'  ) #random was selected as the selector since it is faster\n",
    "elastic.fit(X_train_mm, y_train)\n",
    "\n",
    "\n",
    "# Predict using model:\n",
    "y_predict_elastic=elastic.predict(X_val_mm)\n",
    "\n",
    "\n",
    "y_predict_elastic_s = y_predict_elastic\n",
    "y_predict_elastic_s[y_predict_elastic_s<0] = 0\n",
    "\n",
    "\n",
    "cv_scores_train = cross_val_score(estimator= elastic, X=X_train_mm, y=y_train, cv=5)\n",
    "cv_scores_test = cross_val_score(estimator= elastic, X=X_val_mm, y=y_val, cv=5)\n",
    "print(cv_scores_test)\n",
    "\n",
    "\n",
    "cv_scores_elastic_test= cv_scores_test.mean()\n",
    "cv_scores_elastic_train= cv_scores_train.mean()\n",
    "cv_scores_elastic_std= cv_scores_test.std()\n",
    "print('For ElasticNet:')\n",
    "print ('Mean cross validation test score: ' +str(cv_scores_elastic_test))\n",
    "print ('Mean cross validation train score: ' +str(cv_scores_elastic_train))\n",
    "print ('Standard deviation in cv scores: ' +str(cv_scores_elastic_std))\n",
    "\n",
    "RMSLE_elastic= mean_squared_log_error(y_val, y_predict_elastic_s)\n",
    "print ('RMSLE: ' +str(RMSLE_elastic))\n",
    "\n"
   ]
  },
  {
   "cell_type": "code",
   "execution_count": null,
   "metadata": {},
   "outputs": [],
   "source": [
    "prediction_error = y_val- y_predict_elastic\n",
    "price = y_val\n",
    "\n",
    "p= sns.jointplot(x=price, y=prediction_error, kind=\"reg\", xlim= [9000, 70000] )\n",
    "\n",
    "p.fig.suptitle(\"Scatterplot of Elastic regression with PCA  Error\")\n",
    "p.ax_joint.collections[0].set_alpha(0)\n",
    "p.fig.tight_layout()\n",
    "p.fig.subplots_adjust(top=0.95) # Reduce plot to make room "
   ]
  },
  {
   "cell_type": "markdown",
   "metadata": {},
   "source": [
    "#### Base testing 5 - Linear PCA"
   ]
  },
  {
   "cell_type": "code",
   "execution_count": null,
   "metadata": {},
   "outputs": [],
   "source": [
    "from sklearn.decomposition import PCA\n",
    "from sklearn.pipeline import Pipeline\n",
    "\n",
    "\n",
    "# Define a pipeline to search for the best combination of PCA truncation\n",
    "# and classifier regularization.\n",
    "pca = PCA(n_components=85) #from previous opt\n",
    "# set the tolerance to a large value to make the example faster\n",
    "linear = LinearRegression()\n",
    "pc_lin = Pipeline(steps=[('pca', pca), ('linear', linear)])\n",
    "pc_lin.fit(X_train, y_train)\n",
    "\n",
    "# Predict using model:\n",
    "y_predict_pc_lin=pc_lin.predict(X_val_mm)\n",
    "y_predict_pc_lin_s = y_predict_pc_lin\n",
    "y_predict_pc_lin_s[y_predict_pc_lin_s<0] = 0\n",
    "\n",
    "\n",
    "cv_scores_train = cross_val_score(estimator= pc_lin, X=X_train_mm, y=y_train, cv=5)\n",
    "cv_scores_test = cross_val_score(estimator= pc_lin, X=X_val_mm, y=y_val, cv=5)\n",
    "print(cv_scores_test)\n",
    "\n",
    "\n",
    "cv_scores_pc_lin_test= cv_scores_test.mean()\n",
    "cv_scores_pc_lin_train= cv_scores_train.mean()\n",
    "cv_scores_pc_lin_std= cv_scores_test.std()\n",
    "print('For Linear Regression with PCA:')\n",
    "print ('Mean cross validation test score: ' +str(cv_scores_pc_lin_test))\n",
    "print ('Mean cross validation train score: ' +str(cv_scores_pc_lin_train))\n",
    "print ('Standard deviation in cv scores: ' +str(cv_scores_pc_lin_std))\n",
    "\n",
    "RMSLE_pc_lin= mean_squared_log_error(y_val, y_predict_pc_lin_s)\n",
    "print ('RMSLE: ' +str(RMSLE_pc_lin))\n",
    "\n"
   ]
  },
  {
   "cell_type": "markdown",
   "metadata": {},
   "source": [
    "#### Base testing 6 - Ridge PCA"
   ]
  },
  {
   "cell_type": "code",
   "execution_count": null,
   "metadata": {},
   "outputs": [],
   "source": [
    "\n",
    "\n",
    "# Define a pipeline to search for the best combination of PCA truncation\n",
    "# and classifier regularization.\n",
    "pca = PCA(n_components=85) #from previous opt\n",
    "# set the tolerance to a large value to make the example faster\n",
    "ridge_p =  Ridge(solver='lsqr') #fastest solver for ridge\n",
    "#ridge_p =  Ridge(solver='svd', alpha=10) #fastest solver for ridge\n",
    "pc_ridge = Pipeline(steps=[('pca', pca), ('ridge', ridge_p)])\n",
    "pc_ridge.fit(X_train, y_train)\n",
    "\n",
    "\n",
    "# Predict using model:\n",
    "y_predict_pc_ridge=pc_ridge.predict(X_val_mm)\n",
    "\n",
    "y_predict_pc_ridge_s = y_predict_pc_ridge\n",
    "y_predict_pc_ridge_s[y_predict_pc_ridge_s<0] = 0\n",
    "\n",
    "\n",
    "cv_scores_train = cross_val_score(estimator= pc_ridge, X=X_train_mm, y=y_train, cv=5)\n",
    "cv_scores_test = cross_val_score(estimator= pc_ridge, X=X_val_mm, y=y_val, cv=5)\n",
    "print(cv_scores_test)\n",
    "\n",
    "\n",
    "cv_scores_pc_ridge_test= cv_scores_test.mean()\n",
    "cv_scores_pc_ridge_train= cv_scores_train.mean()\n",
    "cv_scores_pc_ridge_std= cv_scores_test.std()\n",
    "print('For Ridge Regression with PCA:')\n",
    "print ('Mean cross validation test score: ' +str(cv_scores_pc_ridge_test))\n",
    "print ('Mean cross validation train score: ' +str(cv_scores_pc_ridge_train))\n",
    "print ('Standard deviation in cv scores: ' +str(cv_scores_pc_ridge_std))\n",
    "\n",
    "\n",
    "RMSLE_pc_ridge= mean_squared_log_error(y_val, y_predict_pc_ridge_s)\n",
    "print ('RMSLE: ' +str(RMSLE_pc_ridge))"
   ]
  },
  {
   "cell_type": "code",
   "execution_count": null,
   "metadata": {},
   "outputs": [],
   "source": [
    "prediction_error = y_val- y_predict_pc_ridge\n",
    "price = y_val\n",
    "\n",
    "p= sns.jointplot(x=price, y=prediction_error, kind=\"kde\", xlim= [4000, 70000] )\n",
    "p.fig.suptitle(\"Scatterplot of Ridge regression with PCA  Error\")\n",
    "p.ax_joint.collections[0].set_alpha(0)\n",
    "p.fig.tight_layout()\n",
    "p.fig.subplots_adjust(top=0.95) # Reduce plot to make room \n"
   ]
  },
  {
   "cell_type": "markdown",
   "metadata": {},
   "source": [
    "#### Base testing 7 - Elasticnet PCA"
   ]
  },
  {
   "cell_type": "code",
   "execution_count": null,
   "metadata": {},
   "outputs": [],
   "source": [
    "\n",
    "\n",
    "# Define a pipeline to search for the best combination of PCA truncation\n",
    "# and classifier regularization.\n",
    "pca = PCA(n_components=85) #from previous opt\n",
    "# set the tolerance to a large value to make the example faster\n",
    "elastic_p =  ElasticNet(selection= 'random'  )\n",
    "pc_elastic = Pipeline(steps=[('pca', pca), ('elastic', elastic)])\n",
    "pc_elastic.fit(X_train, y_train)\n",
    "\n",
    "# Predict using model:\n",
    "y_predict_pc_elastic=pc_elastic.predict(X_val_mm)\n",
    "y_predict_pc_elastic_s = y_predict_pc_elastic\n",
    "y_predict_pc_elastic_s[y_predict_pc_elastic_s<0] = 0\n",
    "\n",
    "\n",
    "cv_scores_train = cross_val_score(estimator= pc_elastic, X=X_train_mm, y=y_train, cv=5)\n",
    "cv_scores_test = cross_val_score(estimator= pc_elastic, X=X_val_mm, y=y_val, cv=5)\n",
    "print(cv_scores_test)\n",
    "\n",
    "\n",
    "cv_scores_pc_elastic_test= cv_scores_test.mean()\n",
    "cv_scores_pc_elastic_train= cv_scores_train.mean()\n",
    "cv_scores_pc_elastic_std= cv_scores_test.std()\n",
    "print('For Linear Regression:')\n",
    "print ('Mean cross validation test score: ' +str(cv_scores_pc_elastic_test))\n",
    "print ('Mean cross validation train score: ' +str(cv_scores_pc_elastic_train))\n",
    "print ('Standard deviation in cv scores: ' +str(cv_scores_pc_elastic_std))\n",
    "\n",
    "RMSLE_pc_elastic= mean_squared_log_error(y_val, y_predict_pc_elastic)\n",
    "print ('RMSLE: ' +str(RMSLE_pc_elastic))\n"
   ]
  },
  {
   "cell_type": "markdown",
   "metadata": {},
   "source": [
    "### Comparing Models"
   ]
  },
  {
   "cell_type": "markdown",
   "metadata": {},
   "source": [
    "As we look at the 6 models we find a two trends\n",
    "1) Ridge Regression and Ridge Regression with PCA have a higher RMSLE than the other regressions\n",
    "    * In fact if we take 10 times the std and subtracted that from the R^2 is still higher than the lower 3 regressions\n",
    "2) Linear regression with PCA and Ridge regression with PCA have similar  R^2 values (aprox 0.7). However it has a signficantly lower RMSLE score.\n",
    "\n",
    "This leaves us looking at Ridge Regression with PCA as the model we want to hypertune the parameters for.\n",
    "We will also check if the model will look better with more or less features.\n"
   ]
  },
  {
   "cell_type": "markdown",
   "metadata": {},
   "source": [
    "#### Comparing Models table"
   ]
  },
  {
   "cell_type": "code",
   "execution_count": null,
   "metadata": {},
   "outputs": [],
   "source": [
    "myLabels = [ 'Linear','LinearLog','Ridge','Elastic','Linear with PC', 'Ridge with PC', 'Elastic with PC']\n",
    "RMSLE= [ RMSLE_lin, RMSLE_linlog, RMSLE_ridge, RMSLE_elastic,  RMSLE_pc_lin, RMSLE_pc_ridge, RMSLE_pc_elastic]\n",
    "\n",
    "score_test= [ cv_scores_linear_test, cv_scores_linlog_test, cv_scores_ridge_test, cv_scores_elastic_test,\n",
    "             cv_scores_pc_lin_test, cv_scores_pc_ridge_test, cv_scores_pc_elastic_test]\n",
    "score_train= [ cv_scores_linear_train, cv_scores_linlog_train, cv_scores_ridge_train, cv_scores_elastic_train, cv_scores_pc_lin_train, cv_scores_pc_ridge_train, cv_scores_pc_elastic_train]\n",
    "score_std= [ cv_scores_linear_std, cv_scores_linlog_std, cv_scores_ridge_std, cv_scores_elastic_std, cv_scores_pc_lin_std, cv_scores_pc_ridge_std, cv_scores_pc_elastic_std]\n",
    "\n",
    "score_tab = pd.DataFrame(list(zip(myLabels, RMSLE, score_train, score_test, score_std)), \n",
    "               columns =['Algorithm', 'RMSLE', 'R2 train score', 'R2 test score', 'R2 deviation train score' ]) \n",
    "pd.options.display.float_format = '{:.3f}'.format\n",
    "\n",
    "score_tab"
   ]
  },
  {
   "cell_type": "markdown",
   "metadata": {},
   "source": [
    "#### Comparing Models Graph"
   ]
  },
  {
   "cell_type": "code",
   "execution_count": null,
   "metadata": {},
   "outputs": [],
   "source": [
    "#remove linear and linear log from columns since their r2 is worse than the uniform\n",
    "\n",
    "myLabels1 = [ 'Ridge','Elastic','Linear with PC', 'Ridge with PC', 'Elastic with PC']\n",
    "RMSLE1 = [RMSLE_ridge, RMSLE_elastic,  RMSLE_pc_lin, RMSLE_pc_ridge, RMSLE_pc_elastic]\n",
    "\n",
    "score_test1= [ cv_scores_ridge_test, cv_scores_elastic_test,\n",
    "             cv_scores_pc_lin_test, cv_scores_pc_ridge_test, cv_scores_pc_elastic_test]\n",
    "score_train1= [ cv_scores_ridge_train, cv_scores_elastic_train, cv_scores_pc_lin_train, cv_scores_pc_ridge_train, cv_scores_pc_elastic_train]\n",
    "score_std1= [  cv_scores_ridge_std, cv_scores_elastic_std, cv_scores_pc_lin_std, cv_scores_pc_ridge_std, cv_scores_pc_elastic_std]\n",
    "\n",
    "score_tab1 = pd.DataFrame(list(zip(myLabels1, RMSLE1, score_train1, score_test1, score_std1)), \n",
    "               columns =['Algorithm', 'RMSLE', 'R2 train score', 'R2 test score', 'R2 deviation train score' ]) \n",
    "score_tab1"
   ]
  },
  {
   "cell_type": "code",
   "execution_count": null,
   "metadata": {},
   "outputs": [],
   "source": [
    "index=[1,2,3,4,5]\n",
    "index_acc=[1.2,2.2,3.2,4.2,5.2]\n",
    "plt.figure(figsize=(10,5))\n",
    "plt.xlabel('Models',fontsize=15)\n",
    "plt.ylabel ('RMSLE scores',fontsize=15)\n",
    "plt.title('Comparison of the algorithms',fontsize=15)\n",
    "_=plt.bar(index,RMSLE1,color='m',alpha=0.6,label='RMSLE',edgecolor='k',width=0.2)\n",
    "plt.xticks([1, 2,3,4,5], myLabels1)\n",
    "plt.legend()\n",
    "plt.savefig(\"Figx_Model_Comparison_RMSLE.png\")\n",
    "plt.show()"
   ]
  },
  {
   "cell_type": "code",
   "execution_count": null,
   "metadata": {},
   "outputs": [],
   "source": [
    "#plotting and comparing R2 train/test scores:\n",
    "\n",
    "index=[1,2,3,4,5]\n",
    "index_acc=[1.2,2.2,3.2,4.2,5.2]\n",
    "plt.figure(figsize=(10,5))\n",
    "plt.xlabel('Models',fontsize=15)\n",
    "plt.ylabel ('R2 scores',fontsize=15)\n",
    "plt.title('Comparison of the algorithms',fontsize=15)\n",
    "_=plt.bar(index,score_train1,color='b',alpha=0.6,label='Training score',edgecolor='k',width=0.2)\n",
    "_=plt.bar(index_acc,score_test1,color='cyan',alpha=0.8,label='Test score',edgecolor='k',width=0.2)\n",
    "plt.xticks([1, 2,3,4,5], myLabels1)\n",
    "plt.legend()\n",
    "plt.savefig(\"Figx_ModelComparison.png\")\n",
    "plt.show()"
   ]
  },
  {
   "cell_type": "code",
   "execution_count": null,
   "metadata": {},
   "outputs": [],
   "source": [
    "#plotting and comparing R2 train/test scores:\n",
    "\n",
    "index=[1,2,3,4,5]\n",
    "plt.figure(figsize=(10,5))\n",
    "plt.xlabel('Models',fontsize=15)\n",
    "plt.ylabel ('R2 Standard Deviation scores',fontsize=15)\n",
    "plt.title('Comparison of the algorithms',fontsize=15)\n",
    "_=plt.bar(index,score_std1,color='b',alpha=0.6,label='Standard Deviation Test Scores',edgecolor='k',width=0.2)\n",
    "plt.xticks([1, 2,3,4,5], myLabels1)\n",
    "plt.legend()\n",
    "plt.savefig(\"Figx_ModelComparison_Std.png\")\n",
    "plt.show()"
   ]
  },
  {
   "cell_type": "markdown",
   "metadata": {},
   "source": [
    "#### Notes\n",
    "The r2 scores are very close between the models. Therefore we pick the one with the lowest standard deviation between R2 scores which is the Ridge regression."
   ]
  },
  {
   "cell_type": "markdown",
   "metadata": {},
   "source": [
    "### Optimizing Ridge Regression"
   ]
  },
  {
   "cell_type": "markdown",
   "metadata": {},
   "source": [
    "Now that we know that Ridge Regression (with and without PCA) looks like the best model we use a grid search to find the best parameters"
   ]
  },
  {
   "cell_type": "markdown",
   "metadata": {},
   "source": [
    "### Applying Grid search CV for hyperparameter Tuning:"
   ]
  },
  {
   "cell_type": "markdown",
   "metadata": {},
   "source": [
    "#### Hyperparameter Tuning: Ridge Regression"
   ]
  },
  {
   "cell_type": "code",
   "execution_count": null,
   "metadata": {},
   "outputs": [],
   "source": [
    "#as I cannot use RMSLE to Grid searchI do that on my own. I don't cr"
   ]
  },
  {
   "cell_type": "code",
   "execution_count": null,
   "metadata": {},
   "outputs": [],
   "source": [
    "alphas = [0.01, 0.1, 1, 10]\n",
    "#solvers = ['svd', 'cholesky', 'lsqr', 'sag']\n",
    "solvers = ['svd', 'lsqr', 'cholesky', 'sag']\n",
    "\n",
    "Fit_Ls = [True, False]\n",
    "c = []\n",
    "from sklearn.linear_model import Ridge\n",
    "from sklearn.decomposition import PCA\n",
    "\n",
    "for solverx in solvers:\n",
    "    for alphax in alphas:\n",
    "        for Fit_L in Fit_Ls:\n",
    "            ridge_z = Ridge(alpha= alphax, solver= solverx, fit_intercept=Fit_Ls)\n",
    "            ridge_z.fit(X_train_mm, y_train)\n",
    "            y_predict_ridge_z=ridge_z.predict(X_val_mm)\n",
    "            y_predict_ridge_z[y_predict_ridge_z<0] = 0\n",
    "            RMSLE_ridge= mean_squared_log_error(y_val, y_predict_ridge_z)\n",
    "            c.append([alphax, solverx, Fit_L, RMSLE_ridge])\n",
    "c_df = pd.DataFrame(c, columns=['alpha', 'solver', 'Fit_Ls', 'RMSLE'])            \n",
    "print(c_df)\n",
    "#we note that the alpha is the changer so we remove alphas greater than 1 from ourlist\n",
    "\n"
   ]
  },
  {
   "cell_type": "code",
   "execution_count": null,
   "metadata": {},
   "outputs": [],
   "source": [
    "# Testing different Ridge Regressions\n",
    "params_Ridge = {'alpha': [1, 0.1, 0.001],  \"fit_intercept\": [True, False], 'solver': ['svd', 'lsqr', 'cholesky']}\n",
    "ridge_reg = Ridge()\n",
    "\n",
    "\n",
    "\n",
    "Ridge_GS = GridSearchCV(ridge_reg, param_grid=params_Ridge, cv=5, verbose=8)\n",
    "\n",
    "Ridge_GS.fit(X_train_mm, y_train)\n",
    "print('For non scaled data using Ridge Regression')\n",
    "print('Best Score: {}'.format(Ridge_GS.best_score_))\n",
    "print('Best estimator: {}'.format(Ridge_GS.best_estimator_))\n",
    "print('Best parameters: {}'.format(Ridge_GS.best_params_))\n"
   ]
  },
  {
   "cell_type": "markdown",
   "metadata": {},
   "source": [
    "Using the best parameters from the grid search we create the best ridge model"
   ]
  },
  {
   "cell_type": "code",
   "execution_count": null,
   "metadata": {},
   "outputs": [],
   "source": [
    "print('For hyper parameter tuned Ridge Regression')\n",
    "print('Best Score: {}'.format(Ridge_GS.best_score_))\n",
    "print('Best estimator: {}'.format(Ridge_GS.best_estimator_))\n",
    "print('Best parameters: {}'.format(Ridge_GS.best_params_))\n",
    "#Ridge(alpha=0.1, solver='svd')\n"
   ]
  },
  {
   "cell_type": "code",
   "execution_count": null,
   "metadata": {},
   "outputs": [],
   "source": [
    "Ridge_opt = Ridge(**Ridge_GS.best_params_)\n",
    "\n",
    "from sklearn.model_selection import cross_val_score\n",
    "all_accuracies = cross_val_score(estimator=Ridge_opt, X=X_train_mm, y=y_train, cv=7)\n",
    "print(all_accuracies)\n",
    "\n",
    "Ridge_opt.fit(X_train_mm, y_train)\n",
    "\n",
    "\n",
    "y_predict_Ridge_opt=Ridge_opt.predict(X_val_mm)\n",
    "y_predict_Ridge_opt[y_predict_Ridge_opt<0] = 0\n",
    "ridge_opt_score= Ridge_opt.score(X_val_mm, y_val)\n",
    "\n",
    "print('Ridge using outside test_data : {}'.format(ridge_opt_score))\n",
    "\n",
    "cv_scores_train = cross_val_score(estimator= Ridge_opt, X=X_train_mm, y=y_train, cv=5)\n",
    "\n",
    "#we are going to use a larger set now to test\n",
    "cv_scores_test = cross_val_score(estimator= Ridge_opt, X=X_test_mm, y=y_test, cv=5)\n",
    "print(cv_scores_test)\n",
    "\n",
    "RMSLE_Ridge_opt= mean_squared_log_error(y_predict_Ridge_opt, y_val)\n",
    "\n",
    "\n",
    "cv_scores_ridge_opt_test= cv_scores_test.mean()\n",
    "cv_scores_ridge_opt_train= cv_scores_train.mean()\n",
    "cv_scores_ridge_opt_std= cv_scores_test.std()\n",
    "print('For Ridge Regression:')\n",
    "print ('Mean cross validation test score: ' +str(cv_scores_ridge_opt_test))\n",
    "print ('Mean cross validation train score: ' +str(cv_scores_ridge_opt_train))\n",
    "print ('Standard deviation in cv scores: ' +str(cv_scores_ridge_opt_std))\n",
    "print ('RMSLE: ' +str(RMSLE_Ridge_opt))"
   ]
  },
  {
   "cell_type": "markdown",
   "metadata": {},
   "source": [
    "### Looking at the error for Optimized Ridge"
   ]
  },
  {
   "cell_type": "code",
   "execution_count": null,
   "metadata": {},
   "outputs": [],
   "source": [
    "diff = y_val- y_predict_Ridge_opt\n",
    "awd = X_val['drive_4wd']\n",
    "cylinders = X_val['cylinders']\n",
    "Tesla = X_val['manufacturer_Tesla']\n",
    "electric = X_val['fuel_electric']==1\n",
    "\n",
    "gas = X_val['fuel_gas']==1\n",
    "sns.histplot(x=diff, binrange=[-30000, 30000], hue= gas)\n",
    "plt.title('Histogram of Errr for Ridge Regression with hyper tuned Parameters')\n",
    "plt.xlabel('Price Prediction Error $')\n",
    "\n",
    "plt.xlabel('Difference in Price')\n"
   ]
  },
  {
   "cell_type": "code",
   "execution_count": null,
   "metadata": {},
   "outputs": [],
   "source": [
    "p= sns.jointplot(x=y_val, y=y_predict_Ridge_opt, kind=\"kde\", xlim= [4000, 70000], hue= gas )\n",
    "p.fig.suptitle(\"Scatterplot of Ridge regression with PCA  Error\")\n",
    "p.ax_joint.collections[0].set_alpha(0)\n",
    "p.fig.tight_layout()\n",
    "p.fig.subplots_adjust(top=0.95) # Reduce plot to make room \n"
   ]
  },
  {
   "cell_type": "markdown",
   "metadata": {},
   "source": [
    "### Calculating Coefficents and it's importance"
   ]
  },
  {
   "cell_type": "code",
   "execution_count": null,
   "metadata": {},
   "outputs": [],
   "source": [
    "\n",
    "#Table and features\n",
    "feature_names = X_train.columns\n",
    "\n",
    "coefs = pd.DataFrame(\n",
    "    Ridge_opt.coef_,\n",
    "    columns=['Coefficients'], index=feature_names\n",
    ")\n",
    "\n",
    "\n",
    "from sklearn.model_selection import cross_validate\n",
    "from sklearn.model_selection import RepeatedKFold\n",
    "\n",
    "cv_model = cross_validate(\n",
    "    Ridge_opt, X_train_mm, y_train, cv=RepeatedKFold(n_splits=5, n_repeats=5),\n",
    "    return_estimator=True\n",
    ")\n",
    "\n",
    "coefs2 = pd.DataFrame(\n",
    "    [est.coef_  for est in cv_model['estimator']],\n",
    "    columns=feature_names\n",
    ")\n",
    "\n",
    "fig, axs = plt.subplots(1, 2, figsize=(14, 24), sharey=True, sharex=True)\n",
    "\n",
    "\n",
    "ax = plt.subplot(121)\n",
    "sns.barplot(x='Coefficients', y=feature_names, data=coefs)\n",
    "plt.title(\"Coefficents value\")\n",
    "\n",
    "plt.subplot(122)\n",
    "#graphing coefficent and importance\n",
    "#sns.swarmplot(data=coefs2, orient='h', color='k', alpha=0.5, size=3)\n",
    "sns.stripplot(data=coefs2, orient='h', color='k', alpha=0.5, size=3)\n",
    "sns.boxplot(data=coefs2, orient='h', color='cyan', saturation=0.5)\n",
    "plt.axvline(x=0, color='.5')\n",
    "plt.title(\"Coefficents variability\")\n",
    "plt.xlabel('Coefficient importance')\n",
    "\n",
    "plt.subplots_adjust(left=.3)\n",
    "\n",
    "for ax in fig.get_axes():\n",
    "    ax.label_outer()\n",
    "#fig.title('Ridge model no PCA Coefficents')"
   ]
  },
  {
   "cell_type": "code",
   "execution_count": null,
   "metadata": {},
   "outputs": [],
   "source": [
    "### Ridge PCA chained\n",
    "\n",
    "#we are going to use the best parameters from the previous search and see\n",
    "\n",
    "\n",
    "# Define a pipeline to search for the best combination of PCA truncation\n",
    "# and classifier regularization.\n",
    "pca = PCA()\n",
    "# set the tolerance to a large value to make the example faster\n",
    "#ridge = Ridge(solver='lsqr')\n",
    "pipe = Pipeline(steps=[('pca', pca), ('ridge', ridge)])\n",
    "\n",
    "#we use the best solver from the previous regression\n",
    "\n",
    "param_grid = {\n",
    "    'pca__n_components': [3, 5, 7, 10, 15, 30, 60, 85, 90],\n",
    "    'ridge__alpha': [1, 0.1, 0.001],\n",
    "    'ridge__solver': [Ridge_GS.best_estimator_.solver]\n",
    "}\n",
    "search = GridSearchCV(pipe, param_grid, cv=5, n_jobs=-1, verbose= 8)\n",
    "search.fit(X_train, y_train)\n",
    "\n",
    "print('For Min Max scaled data using chained PCA and Ridge  Regression')\n",
    "print('Best Score: {}'.format(search.best_score_))\n",
    "print('Best estimator: {}'.format(search.best_estimator_))\n",
    "print('Best parameters: {}'.format(search.best_params_))\n"
   ]
  },
  {
   "cell_type": "code",
   "execution_count": null,
   "metadata": {},
   "outputs": [],
   "source": [
    "\n",
    "pipe_p = search.best_estimator_\n",
    "\n",
    "\n",
    "from sklearn.model_selection import cross_val_score\n",
    "all_accuracies = cross_val_score(estimator=pipe_p, X=X_train_mm, y=y_train, cv=7)\n",
    "print(all_accuracies)\n",
    "\n",
    "pipe_p.fit(X_train_mm, y_train)\n",
    "\n",
    "\n",
    "y_predict_Ridge_opt_pca=pipe_p.predict(X_val_mm)\n",
    "y_predict_Ridge_opt_pca[y_predict_Ridge_opt_pca<0] = 0\n",
    "Ridge_opt_pca_score= pipe_p.score(X_val_mm, y_val)\n",
    "\n",
    "print('Ridge using outside test_data : {}'.format(Ridge_opt_pca_score))\n",
    "\n",
    "cv_scores_train = cross_val_score(estimator= pipe_p, X=X_train_mm, y=y_train, cv=5)\n",
    "\n",
    "#we are going to use a larger set now to test\n",
    "cv_scores_test = cross_val_score(estimator= pipe_p, X=X_test_mm, y=y_test, cv=5)\n",
    "print(cv_scores_test)\n",
    "\n",
    "RMSLE_Ridge_opt_pca= mean_squared_log_error(y_predict_Ridge_opt_pca, y_val)\n",
    "\n",
    "\n",
    "cv_scores_ridge_opt_pca_test= cv_scores_test.mean()\n",
    "cv_scores_ridge_opt_pca_train= cv_scores_train.mean()\n",
    "cv_scores_ridge_opt_pca_std= cv_scores_test.std()\n",
    "print('For Optimized Ridge Regression with PCA:')\n",
    "print ('Mean cross validation test score: ' +str(cv_scores_ridge_opt_pca_test))\n",
    "print ('Mean cross validation train score: ' +str(cv_scores_ridge_opt_pca_train))\n",
    "print ('Standard deviation in cv scores: ' +str(cv_scores_ridge_opt_pca_std))\n",
    "print ('RMSLE: ' +str(RMSLE_Ridge_opt_pca))"
   ]
  },
  {
   "cell_type": "markdown",
   "metadata": {},
   "source": [
    "We graph the predictions using an optimized Ridge Regression vs the actuals"
   ]
  },
  {
   "cell_type": "markdown",
   "metadata": {},
   "source": [
    "### Looking at the error for Optimized Ridge with PCA"
   ]
  },
  {
   "cell_type": "code",
   "execution_count": null,
   "metadata": {},
   "outputs": [],
   "source": [
    "diff_pca = y_val- y_predict_Ridge_opt_pca\n",
    "awd = X_val['drive_4wd']\n",
    "cylinders = X_val['cylinders']\n",
    "Tesla = X_val['manufacturer_Tesla']\n",
    "electric = X_val['fuel_electric']==1\n",
    "\n",
    "gas = X_val['fuel_gas']==1\n",
    "sns.histplot(x=diff, binrange=[-30000, 30000], hue= gas)\n",
    "plt.title('Histogram of Error for Optimized Ridge Regression with PCA')\n",
    "plt.xlabel('Price Prediction Error $')\n",
    "\n",
    "plt.xlabel('Difference in Price')\n"
   ]
  },
  {
   "cell_type": "code",
   "execution_count": null,
   "metadata": {},
   "outputs": [],
   "source": [
    "p= sns.jointplot(x=y_val, y=y_predict_Ridge_opt_pca, kind=\"kde\", xlim= [4000, 70000], hue= gas )\n",
    "p.fig.suptitle(\"Scatterplot of Ridge regression with PCA  Error\")\n",
    "p.ax_joint.collections[0].set_alpha(0)\n",
    "p.fig.tight_layout()\n",
    "p.fig.subplots_adjust(top=0.95) # Reduce plot to make room \n"
   ]
  },
  {
   "cell_type": "markdown",
   "metadata": {},
   "source": [
    "### Calculating Coefficents and it's importance"
   ]
  },
  {
   "cell_type": "markdown",
   "metadata": {},
   "source": [
    "Next we determine which features have an actual importance. Since we used PCA we find out how much each additional compent helped to explain the data.\n",
    "We note that it is the first by the time we get to PCA n_components=10 we have explained most of the data"
   ]
  },
  {
   "cell_type": "code",
   "execution_count": null,
   "metadata": {},
   "outputs": [],
   "source": [
    "# Plot the PCA spectrum\n",
    "pca.fit(X_train)\n",
    "\n",
    "fig, (ax0, ax1) = plt.subplots(nrows=2, sharex=True, figsize=(6, 6))\n",
    "ax0.plot(np.arange(1, pca.n_components_ + 1),\n",
    "         pca.explained_variance_ratio_, '+', linewidth=2)\n",
    "ax0.set_ylabel('PCA explained variance ratio')\n",
    "\n",
    "ax0.axvline(search.best_estimator_.named_steps['pca'].n_components,\n",
    "            linestyle=':', label='n_components chosen')\n",
    "ax0.legend(prop=dict(size=12))\n",
    "\n",
    "# For each number of components, find the best classifier results\n",
    "results = pd.DataFrame(search.cv_results_)\n",
    "components_col = 'param_pca__n_components'\n",
    "best_clfs = results.groupby(components_col).apply(\n",
    "    lambda g: g.nlargest(1, 'mean_test_score'))\n",
    "\n",
    "best_clfs.plot(x=components_col, y='mean_test_score', yerr='std_test_score',\n",
    "               legend=False, ax=ax1)\n",
    "ax1.set_ylabel('accuracy (val)')\n",
    "ax1.set_xlabel('n_components')\n",
    "\n",
    "plt.xlim(-1, 90)\n",
    "\n",
    "plt.tight_layout()\n",
    "plt.show()\n"
   ]
  },
  {
   "cell_type": "code",
   "execution_count": null,
   "metadata": {},
   "outputs": [],
   "source": [
    "from sklearn.metrics import median_absolute_error\n",
    "\n",
    "y_pred = Ridge_opt.predict(X_train_mm)\n",
    "mae = median_absolute_error(y_train, y_pred)\n",
    "string_score = f'MAE on training set: $ {mae:.2f} '\n",
    "y_pred = Ridge_opt.predict(X_val_mm)\n",
    "mae = median_absolute_error(y_val, y_pred)\n",
    "string_score += f'\\nMAE on testing set: $ {mae:.2f} '\n",
    "plt.scatter(y_val, y_pred)\n",
    "#ax.plot([0, 1], [0, 1], transform=ax.transAxes, ls=\"--\", c=\"red\")\n",
    "#plt.text(-2, 0, string_score)\n",
    "plt.title('Ridge model, Hypertuned parameters')\n",
    "plt.ylabel('Model predictions')\n",
    "plt.xlabel('Truths')\n",
    "plt.xlim([9000, 7000])\n",
    "plt.ylim([9000, 7000])\n",
    "print(string_score)"
   ]
  },
  {
   "cell_type": "markdown",
   "metadata": {},
   "source": [
    "Compare Models"
   ]
  },
  {
   "cell_type": "code",
   "execution_count": null,
   "metadata": {},
   "outputs": [],
   "source": [
    "# stop when you get here"
   ]
  },
  {
   "cell_type": "markdown",
   "metadata": {},
   "source": [
    "Whe we compare the models there is not much difference between the train scores. However the Ridge non optimized has  lower test score when we look at the standard deviation we can see that it already showed a higher standard deviation\n",
    "\n",
    "First let us get an idea what these model look like "
   ]
  },
  {
   "cell_type": "code",
   "execution_count": null,
   "metadata": {},
   "outputs": [],
   "source": [
    "search.best_params_"
   ]
  },
  {
   "cell_type": "code",
   "execution_count": null,
   "metadata": {},
   "outputs": [],
   "source": [
    "myLabels_r = [ 'Ridge', 'Ridge with PCA', 'Ridge Optimized', 'Ridge Optimized with PCA']\n",
    "solver_r = [ridge_s.solver,ridge_p.solver, Ridge_opt.solver, search.best_params_['ridge__solver']]\n",
    "alpha_r = [ridge_s.alpha,ridge_p.alpha, Ridge_opt.alpha, search.best_params_['ridge__alpha']]\n",
    "\n",
    " \n",
    "pca_r = [False , True, False, True]\n",
    "n_components_r = ['NA', '85', 'NA', search.best_params_['pca__n_components']]\n",
    "\n",
    "RMSLE_r = [RMSLE_ridge, RMSLE_pc_ridge, RMSLE_Ridge_opt, RMSLE_Ridge_opt_pca]\n",
    "score_test_r= [cv_scores_ridge_test, cv_scores_pc_ridge_test, cv_scores_ridge_opt_test, cv_scores_ridge_opt_pca_test]\n",
    "score_train_r= [cv_scores_ridge_train, cv_scores_pc_ridge_train, cv_scores_ridge_opt_train, cv_scores_ridge_opt_pca_train]\n",
    "score_std_r= [cv_scores_ridge_std, cv_scores_pc_ridge_std, cv_scores_ridge_opt_std, cv_scores_ridge_opt_pca_std]\n",
    "            \n",
    "score_tab_r = pd.DataFrame(list(zip(myLabels_r, RMSLE_r, score_train_r, score_test_r, score_std_r)), \n",
    "               columns =['Algorithm', 'RMSLE','R2 train score', 'R2 test score', 'R2 deviation train score' ])\n",
    "\n",
    "\n",
    "equation_tab_r = pd.DataFrame(list(zip(myLabels_r, solver_r, alpha_r,pca_r, n_components_r)), \n",
    "columns =['Algorithm', 'Solver', 'Alpha', 'Has PCA', 'PCA components'])\n",
    "\n",
    "equation_tab_r"
   ]
  },
  {
   "cell_type": "code",
   "execution_count": null,
   "metadata": {},
   "outputs": [],
   "source": [
    "score_tab_r"
   ]
  },
  {
   "cell_type": "markdown",
   "metadata": {},
   "source": [
    "### Choosing the Model aka Conflusion\n",
    "Now we check on how the results of these algorithm compare. Both optimized regressions have a betteer score than the non optimized regression. \n",
    "\n",
    "We therefore go with the model that is simpler aka the Ridge without PCA. The data has been less processed and the factors are easier to explain.\n"
   ]
  },
  {
   "cell_type": "code",
   "execution_count": null,
   "metadata": {},
   "outputs": [],
   "source": [
    "#Forecast for the price of the Tesla "
   ]
  },
  {
   "cell_type": "code",
   "execution_count": null,
   "metadata": {},
   "outputs": [],
   "source": [
    "#Future Studies"
   ]
  },
  {
   "cell_type": "code",
   "execution_count": null,
   "metadata": {},
   "outputs": [],
   "source": [
    "#Write conclusgion\n",
    "    #Future steps\n",
    "    #Scrape MSRP for all vehicles\n",
    "    # do an f regression to further limit factors\n",
    "    #Multiple years of data\n",
    "    #actual selling price"
   ]
  }
 ],
 "metadata": {
  "kernelspec": {
   "display_name": "Python 3",
   "language": "python",
   "name": "python3"
  },
  "language_info": {
   "codemirror_mode": {
    "name": "ipython",
    "version": 3
   },
   "file_extension": ".py",
   "mimetype": "text/x-python",
   "name": "python",
   "nbconvert_exporter": "python",
   "pygments_lexer": "ipython3",
   "version": "3.7.9"
  }
 },
 "nbformat": 4,
 "nbformat_minor": 4
}
