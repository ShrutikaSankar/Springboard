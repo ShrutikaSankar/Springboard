{
 "cells": [
  {
   "cell_type": "code",
   "execution_count": 445,
   "metadata": {},
   "outputs": [],
   "source": [
    "#Need intro and questions to be put here\n",
    "# Dealer is giving  you a list of vehicles (Teslas? )\n",
    "# Normally you'd sell at your store but due to Covid people do not want to enter your store\n",
    "# One ofc your seller's suggest Craiglist and sys he's willing to sell the vehicle on it\n",
    "# We have seller who is willing to sell the vehicles for us on Craigslist should we take it?\n",
    "#story boarding might give us more info"
   ]
  },
  {
   "cell_type": "code",
   "execution_count": 446,
   "metadata": {},
   "outputs": [],
   "source": [
    "#Intro"
   ]
  },
  {
   "cell_type": "code",
   "execution_count": 447,
   "metadata": {},
   "outputs": [],
   "source": [
    "#Problem"
   ]
  },
  {
   "cell_type": "markdown",
   "metadata": {},
   "source": [
    "## Prepping the Data"
   ]
  },
  {
   "cell_type": "markdown",
   "metadata": {},
   "source": [
    "Loading Software"
   ]
  },
  {
   "cell_type": "code",
   "execution_count": 448,
   "metadata": {},
   "outputs": [],
   "source": [
    "#load python packages\n",
    "import os\n",
    "import pandas as pd\n",
    "import datetime\n",
    "import seaborn as sns\n",
    "import matplotlib.pyplot as plt\n",
    "import numpy as np\n",
    "%matplotlib inline\n",
    "import urllib\n",
    "import requests\n",
    "import json\n",
    "from sklearn.preprocessing import OneHotEncoder\n",
    "from sklearn.pipeline import Pipeline\n",
    "from sklearn.model_selection import train_test_split\n",
    "from sklearn.model_selection import GridSearchCV\n",
    "from sklearn.metrics import classification_report\n",
    "from sklearn.neighbors import KNeighborsClassifier\n",
    "from sklearn.linear_model import Ridge, LinearRegression, LogisticRegression, ElasticNet\n",
    "from sklearn.preprocessing import MinMaxScaler, StandardScaler\n",
    "\n"
   ]
  },
  {
   "cell_type": "code",
   "execution_count": 449,
   "metadata": {},
   "outputs": [],
   "source": [
    "#Data in question (Auto Data)"
   ]
  },
  {
   "cell_type": "markdown",
   "metadata": {},
   "source": [
    "Loading Data"
   ]
  },
  {
   "cell_type": "code",
   "execution_count": 450,
   "metadata": {},
   "outputs": [
    {
     "name": "stdout",
     "output_type": "stream",
     "text": [
      "C:\\Users\\Tiki\\Documents\\Sprinboard2\\Capstone_cars\n",
      "['.ipynb_checkpoints', '575_1100_compressed_data.csv', '575_1100_compressed_data.csv.zip', '62920_1026452_bundle_archive.zip', 'auto1.ipynb', 'auto1_datawrangling.ipynb', 'auto2.ipynb', 'auto2_Combining Data.ipynb', 'auto3.ipynb', 'autodata3_EDA.ipynb', 'autodata4-imputing Data.ipynb', 'autodata4-PCA.ipynb', 'autodata4.ipynb', 'auto_clean.ipynb', 'auto_clean_copy2.ipynb', 'auto_clean_copy2backup.ipynb', 'auto_clean_copy3.ipynb', 'correlation.png', 'cylinder_drive.png', 'cylinder_drive_mileage_price.png', 'data', 'Fig1_Price_before_deletion.png', 'Fig2_Price_after_deletion.png', 'figures', 'Figx_ModelComparison.png', 'Figx_ModelComparison_Std.png', 'Figx_Model_Comparison_RMSLE.png', 'Figx_Model_Comparison_std.png', 'Scrap.ipynb']\n",
      "If you are using the data in my github the data is actually already at the auto_data.csv stage renamed\n",
      "However all the code can be run except for one cell which is clearly marked\n"
     ]
    },
    {
     "ename": "KeyboardInterrupt",
     "evalue": "",
     "output_type": "error",
     "traceback": [
      "\u001b[1;31m---------------------------------------------------------------------------\u001b[0m",
      "\u001b[1;31mKeyboardInterrupt\u001b[0m                         Traceback (most recent call last)",
      "\u001b[1;32m<ipython-input-450-3795fbb14263>\u001b[0m in \u001b[0;36m<module>\u001b[1;34m\u001b[0m\n\u001b[0;32m     15\u001b[0m \u001b[0msub_file\u001b[0m \u001b[1;33m=\u001b[0m \u001b[1;34m'data'\u001b[0m\u001b[1;33m\u001b[0m\u001b[1;33m\u001b[0m\u001b[0m\n\u001b[0;32m     16\u001b[0m \u001b[0mfile_name_path\u001b[0m \u001b[1;33m=\u001b[0m \u001b[0mos\u001b[0m\u001b[1;33m.\u001b[0m\u001b[0mpath\u001b[0m\u001b[1;33m.\u001b[0m\u001b[0mjoin\u001b[0m\u001b[1;33m(\u001b[0m\u001b[0mbasepath\u001b[0m\u001b[1;33m,\u001b[0m \u001b[0msub_file\u001b[0m\u001b[1;33m,\u001b[0m \u001b[0mfile\u001b[0m\u001b[1;33m)\u001b[0m\u001b[1;33m\u001b[0m\u001b[1;33m\u001b[0m\u001b[0m\n\u001b[1;32m---> 17\u001b[1;33m \u001b[0mauto_data\u001b[0m\u001b[1;33m=\u001b[0m \u001b[0mpd\u001b[0m\u001b[1;33m.\u001b[0m\u001b[0mread_csv\u001b[0m\u001b[1;33m(\u001b[0m\u001b[0mfile_name_path\u001b[0m\u001b[1;33m)\u001b[0m\u001b[1;33m\u001b[0m\u001b[1;33m\u001b[0m\u001b[0m\n\u001b[0m\u001b[0;32m     18\u001b[0m \u001b[1;33m\u001b[0m\u001b[0m\n\u001b[0;32m     19\u001b[0m \u001b[1;33m\u001b[0m\u001b[0m\n",
      "\u001b[1;32m~\\anaconda\\lib\\site-packages\\pandas\\io\\parsers.py\u001b[0m in \u001b[0;36mread_csv\u001b[1;34m(filepath_or_buffer, sep, delimiter, header, names, index_col, usecols, squeeze, prefix, mangle_dupe_cols, dtype, engine, converters, true_values, false_values, skipinitialspace, skiprows, skipfooter, nrows, na_values, keep_default_na, na_filter, verbose, skip_blank_lines, parse_dates, infer_datetime_format, keep_date_col, date_parser, dayfirst, cache_dates, iterator, chunksize, compression, thousands, decimal, lineterminator, quotechar, quoting, doublequote, escapechar, comment, encoding, dialect, error_bad_lines, warn_bad_lines, delim_whitespace, low_memory, memory_map, float_precision)\u001b[0m\n\u001b[0;32m    684\u001b[0m     )\n\u001b[0;32m    685\u001b[0m \u001b[1;33m\u001b[0m\u001b[0m\n\u001b[1;32m--> 686\u001b[1;33m     \u001b[1;32mreturn\u001b[0m \u001b[0m_read\u001b[0m\u001b[1;33m(\u001b[0m\u001b[0mfilepath_or_buffer\u001b[0m\u001b[1;33m,\u001b[0m \u001b[0mkwds\u001b[0m\u001b[1;33m)\u001b[0m\u001b[1;33m\u001b[0m\u001b[1;33m\u001b[0m\u001b[0m\n\u001b[0m\u001b[0;32m    687\u001b[0m \u001b[1;33m\u001b[0m\u001b[0m\n\u001b[0;32m    688\u001b[0m \u001b[1;33m\u001b[0m\u001b[0m\n",
      "\u001b[1;32m~\\anaconda\\lib\\site-packages\\pandas\\io\\parsers.py\u001b[0m in \u001b[0;36m_read\u001b[1;34m(filepath_or_buffer, kwds)\u001b[0m\n\u001b[0;32m    456\u001b[0m \u001b[1;33m\u001b[0m\u001b[0m\n\u001b[0;32m    457\u001b[0m     \u001b[1;32mtry\u001b[0m\u001b[1;33m:\u001b[0m\u001b[1;33m\u001b[0m\u001b[1;33m\u001b[0m\u001b[0m\n\u001b[1;32m--> 458\u001b[1;33m         \u001b[0mdata\u001b[0m \u001b[1;33m=\u001b[0m \u001b[0mparser\u001b[0m\u001b[1;33m.\u001b[0m\u001b[0mread\u001b[0m\u001b[1;33m(\u001b[0m\u001b[0mnrows\u001b[0m\u001b[1;33m)\u001b[0m\u001b[1;33m\u001b[0m\u001b[1;33m\u001b[0m\u001b[0m\n\u001b[0m\u001b[0;32m    459\u001b[0m     \u001b[1;32mfinally\u001b[0m\u001b[1;33m:\u001b[0m\u001b[1;33m\u001b[0m\u001b[1;33m\u001b[0m\u001b[0m\n\u001b[0;32m    460\u001b[0m         \u001b[0mparser\u001b[0m\u001b[1;33m.\u001b[0m\u001b[0mclose\u001b[0m\u001b[1;33m(\u001b[0m\u001b[1;33m)\u001b[0m\u001b[1;33m\u001b[0m\u001b[1;33m\u001b[0m\u001b[0m\n",
      "\u001b[1;32m~\\anaconda\\lib\\site-packages\\pandas\\io\\parsers.py\u001b[0m in \u001b[0;36mread\u001b[1;34m(self, nrows)\u001b[0m\n\u001b[0;32m   1194\u001b[0m     \u001b[1;32mdef\u001b[0m \u001b[0mread\u001b[0m\u001b[1;33m(\u001b[0m\u001b[0mself\u001b[0m\u001b[1;33m,\u001b[0m \u001b[0mnrows\u001b[0m\u001b[1;33m=\u001b[0m\u001b[1;32mNone\u001b[0m\u001b[1;33m)\u001b[0m\u001b[1;33m:\u001b[0m\u001b[1;33m\u001b[0m\u001b[1;33m\u001b[0m\u001b[0m\n\u001b[0;32m   1195\u001b[0m         \u001b[0mnrows\u001b[0m \u001b[1;33m=\u001b[0m \u001b[0m_validate_integer\u001b[0m\u001b[1;33m(\u001b[0m\u001b[1;34m\"nrows\"\u001b[0m\u001b[1;33m,\u001b[0m \u001b[0mnrows\u001b[0m\u001b[1;33m)\u001b[0m\u001b[1;33m\u001b[0m\u001b[1;33m\u001b[0m\u001b[0m\n\u001b[1;32m-> 1196\u001b[1;33m         \u001b[0mret\u001b[0m \u001b[1;33m=\u001b[0m \u001b[0mself\u001b[0m\u001b[1;33m.\u001b[0m\u001b[0m_engine\u001b[0m\u001b[1;33m.\u001b[0m\u001b[0mread\u001b[0m\u001b[1;33m(\u001b[0m\u001b[0mnrows\u001b[0m\u001b[1;33m)\u001b[0m\u001b[1;33m\u001b[0m\u001b[1;33m\u001b[0m\u001b[0m\n\u001b[0m\u001b[0;32m   1197\u001b[0m \u001b[1;33m\u001b[0m\u001b[0m\n\u001b[0;32m   1198\u001b[0m         \u001b[1;31m# May alter columns / col_dict\u001b[0m\u001b[1;33m\u001b[0m\u001b[1;33m\u001b[0m\u001b[1;33m\u001b[0m\u001b[0m\n",
      "\u001b[1;32m~\\anaconda\\lib\\site-packages\\pandas\\io\\parsers.py\u001b[0m in \u001b[0;36mread\u001b[1;34m(self, nrows)\u001b[0m\n\u001b[0;32m   2153\u001b[0m     \u001b[1;32mdef\u001b[0m \u001b[0mread\u001b[0m\u001b[1;33m(\u001b[0m\u001b[0mself\u001b[0m\u001b[1;33m,\u001b[0m \u001b[0mnrows\u001b[0m\u001b[1;33m=\u001b[0m\u001b[1;32mNone\u001b[0m\u001b[1;33m)\u001b[0m\u001b[1;33m:\u001b[0m\u001b[1;33m\u001b[0m\u001b[1;33m\u001b[0m\u001b[0m\n\u001b[0;32m   2154\u001b[0m         \u001b[1;32mtry\u001b[0m\u001b[1;33m:\u001b[0m\u001b[1;33m\u001b[0m\u001b[1;33m\u001b[0m\u001b[0m\n\u001b[1;32m-> 2155\u001b[1;33m             \u001b[0mdata\u001b[0m \u001b[1;33m=\u001b[0m \u001b[0mself\u001b[0m\u001b[1;33m.\u001b[0m\u001b[0m_reader\u001b[0m\u001b[1;33m.\u001b[0m\u001b[0mread\u001b[0m\u001b[1;33m(\u001b[0m\u001b[0mnrows\u001b[0m\u001b[1;33m)\u001b[0m\u001b[1;33m\u001b[0m\u001b[1;33m\u001b[0m\u001b[0m\n\u001b[0m\u001b[0;32m   2156\u001b[0m         \u001b[1;32mexcept\u001b[0m \u001b[0mStopIteration\u001b[0m\u001b[1;33m:\u001b[0m\u001b[1;33m\u001b[0m\u001b[1;33m\u001b[0m\u001b[0m\n\u001b[0;32m   2157\u001b[0m             \u001b[1;32mif\u001b[0m \u001b[0mself\u001b[0m\u001b[1;33m.\u001b[0m\u001b[0m_first_chunk\u001b[0m\u001b[1;33m:\u001b[0m\u001b[1;33m\u001b[0m\u001b[1;33m\u001b[0m\u001b[0m\n",
      "\u001b[1;32mpandas\\_libs\\parsers.pyx\u001b[0m in \u001b[0;36mpandas._libs.parsers.TextReader.read\u001b[1;34m()\u001b[0m\n",
      "\u001b[1;32mpandas\\_libs\\parsers.pyx\u001b[0m in \u001b[0;36mpandas._libs.parsers.TextReader._read_low_memory\u001b[1;34m()\u001b[0m\n",
      "\u001b[1;32mpandas\\_libs\\parsers.pyx\u001b[0m in \u001b[0;36mpandas._libs.parsers.TextReader._read_rows\u001b[1;34m()\u001b[0m\n",
      "\u001b[1;32mpandas\\_libs\\parsers.pyx\u001b[0m in \u001b[0;36mpandas._libs.parsers.TextReader._convert_column_data\u001b[1;34m()\u001b[0m\n",
      "\u001b[1;32m~\\anaconda\\lib\\site-packages\\pandas\\core\\dtypes\\common.py\u001b[0m in \u001b[0;36mis_extension_array_dtype\u001b[1;34m(arr_or_dtype)\u001b[0m\n\u001b[0;32m   1503\u001b[0m     \u001b[1;32mFalse\u001b[0m\u001b[1;33m\u001b[0m\u001b[1;33m\u001b[0m\u001b[0m\n\u001b[0;32m   1504\u001b[0m     \"\"\"\n\u001b[1;32m-> 1505\u001b[1;33m     \u001b[0mdtype\u001b[0m \u001b[1;33m=\u001b[0m \u001b[0mgetattr\u001b[0m\u001b[1;33m(\u001b[0m\u001b[0marr_or_dtype\u001b[0m\u001b[1;33m,\u001b[0m \u001b[1;34m\"dtype\"\u001b[0m\u001b[1;33m,\u001b[0m \u001b[0marr_or_dtype\u001b[0m\u001b[1;33m)\u001b[0m\u001b[1;33m\u001b[0m\u001b[1;33m\u001b[0m\u001b[0m\n\u001b[0m\u001b[0;32m   1506\u001b[0m     \u001b[1;32mreturn\u001b[0m \u001b[0misinstance\u001b[0m\u001b[1;33m(\u001b[0m\u001b[0mdtype\u001b[0m\u001b[1;33m,\u001b[0m \u001b[0mExtensionDtype\u001b[0m\u001b[1;33m)\u001b[0m \u001b[1;32mor\u001b[0m \u001b[0mregistry\u001b[0m\u001b[1;33m.\u001b[0m\u001b[0mfind\u001b[0m\u001b[1;33m(\u001b[0m\u001b[0mdtype\u001b[0m\u001b[1;33m)\u001b[0m \u001b[1;32mis\u001b[0m \u001b[1;32mnot\u001b[0m \u001b[1;32mNone\u001b[0m\u001b[1;33m\u001b[0m\u001b[1;33m\u001b[0m\u001b[0m\n\u001b[0;32m   1507\u001b[0m \u001b[1;33m\u001b[0m\u001b[0m\n",
      "\u001b[1;31mKeyboardInterrupt\u001b[0m: "
     ]
    }
   ],
   "source": [
    "#Get Path\n",
    "os.getcwd()\n",
    "basepath = os.getcwd()\n",
    "print(basepath)\n",
    "lis_dir = os.listdir()\n",
    "print(lis_dir)\n",
    "\n",
    "# Create the list of file names: filenames\n",
    "\n",
    "file = 'vehicles.csv'\n",
    "\n",
    "print('If you are using the data in my github the data is actually already at the auto_data.csv stage renamed')\n",
    "print('However all the code can be run except for one cell which is clearly marked')\n",
    "\n",
    "sub_file = 'data'\n",
    "file_name_path = os.path.join(basepath, sub_file, file)\n",
    "auto_data= pd.read_csv(file_name_path)\n",
    "\n",
    "\n",
    "\n",
    "#Open data\n",
    "auto_data.head(5)"
   ]
  },
  {
   "cell_type": "markdown",
   "metadata": {},
   "source": [
    "Exploratory Data1"
   ]
  },
  {
   "cell_type": "code",
   "execution_count": null,
   "metadata": {},
   "outputs": [],
   "source": [
    "#Print the columns names of the entire dataframe\n",
    "print(auto_data.columns)\n",
    "# Review the column names, null value counts and data types of your data frame.\n",
    "auto_data.info()\n"
   ]
  },
  {
   "cell_type": "markdown",
   "metadata": {},
   "source": [
    "Variables drop\n",
    "* url   - We will not be using urls in this study\n",
    "* region_url   -  We will not be using urls in this study\n",
    "* description   - Unique for each vehicle\n",
    "* VIN   - Unique for each vehicle\n",
    "* image_url - We will not be using urls in this study \n",
    "* county    - there is no non 0 data points there\n",
    "\n",
    "Drop if data\n",
    "* if condition is unknown from wreck to clean we don't need it\n",
    "* if model year is unknown we do not know the age\n",
    "* Odometer measures mileage, if we don't know the wear on the cars\n",
    "* if we don't know the model car we don't know the car\n",
    "* If we don't know the price we don't have the data we are predicting for\n"
   ]
  },
  {
   "cell_type": "code",
   "execution_count": null,
   "metadata": {},
   "outputs": [],
   "source": [
    "\n",
    "auto_data= auto_data.drop(columns=['url', 'region_url', 'image_url', 'county', 'description', 'vin'])\n",
    "print(auto_data.columns)\n",
    "auto_data= auto_data.dropna(subset=['condition', 'year', 'odometer', 'model', 'price'])\n",
    "\n",
    "#known main points for an auto sale condition, age, mileage, type of car if the cars don't have it we don't want it"
   ]
  },
  {
   "cell_type": "markdown",
   "metadata": {},
   "source": [
    "### Transforming Rules: Common Sense\n",
    "\n",
    "* Cylinders come in whole numbers for an engine (there is no quarter cylinder)\n",
    "* Manufacturer names should be consistent"
   ]
  },
  {
   "cell_type": "code",
   "execution_count": null,
   "metadata": {},
   "outputs": [],
   "source": [
    "#Turn Cylinder column from string to numeric\n",
    "auto_data['cyl'] = auto_data['cylinders']\n",
    "auto_data['cyl'] = auto_data['cyl'].replace('other', np.nan)\n",
    "auto_data['cyl'] = auto_data['cyl'].astype(str).str[0:2]\n",
    "auto_data['cyl'] = auto_data['cyl'].str.strip()\n",
    "auto_data['cyl'] = auto_data['cyl'].replace('na', np.nan)\n",
    "auto_data['cyl'] = pd.to_numeric(auto_data['cyl'])\n",
    "auto_data['cylinders']= auto_data['cyl']\n",
    "auto_data= auto_data.drop(['cyl'], axis=1)\n",
    "\n",
    "#plot Cylinders\n",
    "plt.title(\"Numerical Cylinders\")\n",
    "hist = auto_data.cylinders.hist(bins=10)"
   ]
  },
  {
   "cell_type": "code",
   "execution_count": null,
   "metadata": {},
   "outputs": [],
   "source": [
    "#Neaten Strings\n",
    "#Fix manufacturer\n",
    "auto_data['manufacturer']= auto_data['manufacturer'].str.title().str.strip()\n",
    "auto_data['manufacturer']= auto_data['manufacturer'].str.replace(' ', '-')\n",
    "auto_data['manufacturer']= auto_data['manufacturer'].str.replace('Land-Rover', 'Rover') \n",
    "auto_data['manufacturer']= auto_data['manufacturer'].str.replace('Rover', 'Land-Rover') \n",
    "auto_data['manufacturer']= auto_data['manufacturer'].str.replace('Porche', 'Porsche')\n",
    "auto_data['manufacturer']= auto_data['manufacturer'].str.replace('---', '-')\n",
    "auto_data['manufacturer']= auto_data['manufacturer'].str.replace('--', '-')\n",
    "\n",
    "\n",
    "#Fix model\n",
    "auto_data['model']= auto_data['model'].str.title().str.strip()\n",
    "auto_data['model']= auto_data['model'].str.replace(' ', '-')\n",
    "auto_data['model']= auto_data['model'].str.replace('---', '-')\n",
    "auto_data['model']= auto_data['model'].str.replace('--', '-')\n",
    "\n",
    "#fix Type\n",
    "auto_data['type']= auto_data['type'].str.title().str.strip()\n",
    "\n",
    "#States are state codes\n",
    "auto_data['state'] = auto_data['state'].str.upper().str.strip()\n",
    "\n",
    "#If no paint color is given its unlisted and its unrealistc to try to impute it\n",
    "auto_data['paint_color'] = auto_data['paint_color'].fillna('unlisted')\n"
   ]
  },
  {
   "cell_type": "code",
   "execution_count": null,
   "metadata": {},
   "outputs": [],
   "source": [
    "auto_data.info()"
   ]
  },
  {
   "cell_type": "markdown",
   "metadata": {},
   "source": [
    "Cleaning Rules: Common Sense\n",
    "\n",
    "* This study is not looking at over luxury cars/ antique cars  so \n",
    "    * None of the vehicles should have a price greater than half a million\n",
    "* This study is not looking at motorbikes or bus's \n",
    "    * we don't need harley davidson's or henessey's \n",
    "    *\n",
    "* This study is not looking at junker cars so we do not need vehicles \n",
    "    * of a value of a 100 dollars or less\n",
    "    * with over a half milion miles on them\n",
    "    * are of poor condition\n",
    "    * older than 10 years old (we are also not looking at antique cars\n",
    "    * that has a condition/title status is better than salvage \n",
    "* Cleaning Obvious errors:\n",
    "    * We are looking at used vehicles so the vehicles age should be greater than 1 year\n",
    "* We do not need to take into consideration vehicles older than 10 years old. \n",
    "\n",
    "\n"
   ]
  },
  {
   "cell_type": "code",
   "execution_count": null,
   "metadata": {},
   "outputs": [],
   "source": [
    "# If we are dealing with a vehicle with over a half milion miles we have more problem\n",
    "auto_data = auto_data[(auto_data.odometer< 500000)] \n",
    "\n",
    "\n",
    "#This study is not look at eather junkers or antiques so \n",
    "#a: age has to be greater than 0 and less than 11 years\n",
    "#b: price has to be greater than $100 and less than half million\n",
    "#c: mileage has to be greater than or equal to 0 and less than half million\n",
    "\n",
    "auto_data['age'] = 2020-auto_data['year']\n",
    "auto_data = auto_data[(auto_data.age > 0) & (auto_data.age <= 10)]\n",
    "auto_data = auto_data[(auto_data.price >= 100) & (auto_data.price <= 500000)]\n",
    "auto_data = auto_data[(auto_data.odometer >= 0) & (auto_data.odometer <= 500000)]\n",
    "\n",
    "\n",
    "print(f\"Maximum price: $ {auto_data.price.max()} \\nMinimum price: $ {auto_data.price.min()} \")\n",
    "print(f\"Maximum age:  {auto_data.age.max()} years \\nMinimum age: {auto_data.age.min()} years \")\n",
    "print(f\"Maximum mileage: {auto_data.odometer.max()} \\nMinimum mileage: {auto_data.odometer.min()} \")\n"
   ]
  },
  {
   "cell_type": "code",
   "execution_count": null,
   "metadata": {},
   "outputs": [],
   "source": [
    "#This study is not look junkers so condition and title_ status is better than salvage\n",
    "\n",
    "#See Status of Vehicles\n",
    "auto_data.title_status.value_counts().plot.bar()\n",
    "plt.title(\"Status of the vehicles\")\n",
    "plt.show()\n"
   ]
  },
  {
   "cell_type": "code",
   "execution_count": null,
   "metadata": {},
   "outputs": [],
   "source": [
    "#See Condition of Vehicles\n",
    "\n",
    "auto_data.condition.value_counts().plot.bar()\n",
    "plt.title(\"Condition of the vehicles\")\n",
    "plt.show()"
   ]
  },
  {
   "cell_type": "code",
   "execution_count": null,
   "metadata": {},
   "outputs": [],
   "source": [
    "#This study does not look junkers so condition and title_ status is better than salvage\n",
    "\n",
    "idx1 = auto_data[auto_data[\"condition\"] == \"salvage\"].index\n",
    "\n",
    "for w in [\"salvage\",\"lien\",\"missing\",\"parts only\", 'rebuilt']:\n",
    "    idx2 = auto_data[auto_data[\"title_status\"] == w].index\n",
    "    idx1 = idx1.union(idx2)\n",
    "    \n",
    "auto_data.drop(idx1, axis = 0, inplace = True)"
   ]
  },
  {
   "cell_type": "code",
   "execution_count": null,
   "metadata": {},
   "outputs": [],
   "source": [
    "#We are not looking at motorbikes\n",
    "\n",
    "#Graph manufacturers\n",
    "\n",
    "auto_data.manufacturer.value_counts().plot.bar()\n",
    "plt.title(\"manufacturer of the vehicles\")\n",
    "plt.show()"
   ]
  },
  {
   "cell_type": "code",
   "execution_count": null,
   "metadata": {},
   "outputs": [],
   "source": [
    "\n",
    "#We are not looking at motorbikes\n",
    "auto_data = auto_data[auto_data.manufacturer != 'Harley-Davidson']\n",
    "auto_data = auto_data[auto_data.manufacturer != 'Hennessey']"
   ]
  },
  {
   "cell_type": "code",
   "execution_count": null,
   "metadata": {},
   "outputs": [],
   "source": [
    "#We are not looking at buses\n",
    "#Graph type\n",
    "\n",
    "auto_data.type.value_counts().plot.bar()\n",
    "plt.title(\"type\")\n",
    "plt.show()"
   ]
  },
  {
   "cell_type": "code",
   "execution_count": null,
   "metadata": {},
   "outputs": [],
   "source": [
    "#We are not looking at bus\n",
    "auto_data = auto_data[auto_data.type != 'bus']\n"
   ]
  },
  {
   "cell_type": "code",
   "execution_count": null,
   "metadata": {},
   "outputs": [],
   "source": [
    "#Create Make Model Model Year Key (Useful for later)\n",
    "auto_data['mmy_a']=auto_data['manufacturer']+' '+auto_data['model']+ ' '+ auto_data['year'].astype(int).astype(str)\n",
    "auto_data['mmy_a']=auto_data['mmy_a'].str.title()\n",
    "\n",
    "auto_data['mmy_a2']=auto_data['manufacturer']+' '+auto_data['model'].str.split(' ').str[0]+ ' '+ auto_data['year'].astype(int).astype(str)\n",
    "auto_data['mmy_a2']=auto_data['mmy_a2'].str.title()\n"
   ]
  },
  {
   "cell_type": "code",
   "execution_count": null,
   "metadata": {},
   "outputs": [],
   "source": [
    "auto_data.info()"
   ]
  },
  {
   "cell_type": "code",
   "execution_count": null,
   "metadata": {},
   "outputs": [],
   "source": [
    "auto_data.describe()"
   ]
  },
  {
   "cell_type": "markdown",
   "metadata": {},
   "source": [
    "Save Data"
   ]
  },
  {
   "cell_type": "code",
   "execution_count": null,
   "metadata": {},
   "outputs": [],
   "source": [
    "sub_file = 'data'\n",
    "new_file = 'auto_data.csv'\n",
    "new_file_name_path = os.path.join(basepath,sub_file, new_file)\n",
    "auto_data.to_csv(new_file_name_path, index=False)"
   ]
  },
  {
   "cell_type": "markdown",
   "metadata": {},
   "source": [
    "## Categorical Data\n",
    "We want data on what segment the vehicle is in as that might change the prices signicantly.\n",
    "We got this data from back4app an open data source.\n",
    "Website: https://www.back4app.com/database/back4app/car-make-model-dataset"
   ]
  },
  {
   "cell_type": "code",
   "execution_count": null,
   "metadata": {},
   "outputs": [],
   "source": [
    "#Get Categorical Data\n",
    "\n",
    "where = urllib.parse.quote_plus(\"\"\"\n",
    "{\n",
    "    \"Category\": {\n",
    "        \"$exists\": true\n",
    "    },\n",
    "    \"Year\": {\n",
    "        \"$gte\": 2010\n",
    "    }\n",
    "}\n",
    "\"\"\")\n",
    "url = 'https://parseapi.back4app.com/classes/Carmodels_Car_Model_List?limit=5000&where=%s' % where\n",
    "headers = {\n",
    "    'X-Parse-Application-Id': 'pozCwVISt2yfzi2wJjwo0JiMIJclsUAOchP4AuJO', # This is your app's application id\n",
    "    'X-Parse-REST-API-Key': 'Jtc8r91VIJOizG8ReKkaseZcugQjAx4vG1WKbJye' # This is your app's REST API key\n",
    "}\n",
    "data_json = json.loads(requests.get(url, headers=headers).content.decode('utf-8')) # Here you have the data that you need\n",
    "\n",
    "\n",
    "#import collections"
   ]
  },
  {
   "cell_type": "code",
   "execution_count": null,
   "metadata": {},
   "outputs": [],
   "source": [
    "#the above data was too nested a dictionaries listed in a list that was in a list that was a dictionary\n",
    "print(type(data_json))\n",
    "list_values = [ v for v in data_json.values() ] #undoes dictionary\n",
    "\n",
    "list_value_items = [y for x in list_values for y in x] # undoes list\n",
    "\n",
    "cat_data = pd.DataFrame.from_dict(list_value_items) #turns list of dictionaries into data frame\n"
   ]
  },
  {
   "cell_type": "code",
   "execution_count": null,
   "metadata": {},
   "outputs": [],
   "source": [
    "#we don't need object id or created at\n",
    "cat_data= cat_data.drop(['objectId', 'createdAt'], axis=1)\n",
    "print(cat_data.head())\n",
    "cat_data.describe()"
   ]
  },
  {
   "cell_type": "code",
   "execution_count": null,
   "metadata": {},
   "outputs": [],
   "source": [
    "#Neaten Strings\n",
    "cat_data['Make'] = cat_data['Make'].str.title().str.strip()\n",
    "cat_data['Make']= cat_data['Make'].str.replace(' ', '-') \n",
    "cat_data['Model'] = cat_data['Model'].str.title().str.strip()\n",
    "cat_data['Model']= cat_data['Model'].str.replace(' ', '-') \n",
    "\n",
    "#Create Key\n",
    "cat_data['mmy']=cat_data['Make']+' '+cat_data['Model'].str.strip()+ ' '+ cat_data['Year'].astype(int).astype(str)\n",
    "cat_data['mmy']= cat_data['mmy'].str.title()\n",
    "\n",
    "cat_data['mmy2']=cat_data['Make']+' '+cat_data['Model'].str.split(' ').str[0]+' '+ cat_data['Year'].astype(int).astype(str)\n",
    "cat_data['mmy2']= cat_data['mmy2'].str.title()\n",
    "\n"
   ]
  },
  {
   "cell_type": "code",
   "execution_count": null,
   "metadata": {},
   "outputs": [],
   "source": [
    "cat_data.info()"
   ]
  },
  {
   "cell_type": "code",
   "execution_count": null,
   "metadata": {},
   "outputs": [],
   "source": [
    "\n",
    "#Save Categorical Data\n",
    "sub_file = 'data'\n",
    "new_file = 'cat_data.csv'\n",
    "new_file_name_path = os.path.join(basepath,sub_file, new_file)\n",
    "cat_data.to_csv(new_file_name_path, index=False)"
   ]
  },
  {
   "cell_type": "markdown",
   "metadata": {},
   "source": [
    "## Find MSRP data\n",
    "The original price of the car will heavily effect the older price. Let's bring that out.\n",
    "This data is a downloaded file from https://www.kaggle.com/CooperUnion/cardataset . This data was obtained by scraping edmunds (a car rating website) and twitter."
   ]
  },
  {
   "cell_type": "code",
   "execution_count": null,
   "metadata": {},
   "outputs": [],
   "source": [
    "# Create the list of file names: filenames\n",
    "file ='msrp.csv'\n",
    "sub_file = 'data'\n",
    "file_name_path = os.path.join(basepath, sub_file, file)\n",
    "msrp_data= pd.read_csv(file_name_path)\n",
    "\n",
    "#Open data\n",
    "msrp_data.head(5)"
   ]
  },
  {
   "cell_type": "code",
   "execution_count": null,
   "metadata": {},
   "outputs": [],
   "source": [
    "#From the previous cleaning rules we eliminate vehicles with value of over half a million and an age over 10 years\n",
    "\n",
    "print(f\"Maximum MSRP: {msrp_data.MSRP.max()} \\nMinimum MSRP: {msrp_data.MSRP.min()} \")\n",
    "# If we are dealing with a vehicle with an MSRP over half milion miles we have more problem\n",
    "msrp_data = msrp_data[(msrp_data.MSRP< 500000 )] \n",
    "print(f\"Maximum Year: {msrp_data.Year.max()} \\nMinimum Year: {msrp_data.Year.min()} \")\n",
    "# We only need vehicles with over a 2009 MY\n",
    "msrp_data = msrp_data[(msrp_data.Year> 2009 )] \n",
    "\n"
   ]
  },
  {
   "cell_type": "code",
   "execution_count": null,
   "metadata": {},
   "outputs": [],
   "source": [
    "# Clean Strings/ Neaten Strings\n",
    "\n",
    "msrp_data['Make']= msrp_data['Make'].str.title().str.strip()\n",
    "msrp_data['Make']= msrp_data['Make'].str.replace(' ', '-')\n",
    "msrp_data['Model']= msrp_data['Model'].str.title().str.strip()\n",
    "msrp_data['Model']= msrp_data['Model'].str.replace(' ', '-')\n",
    "\n",
    "#Make Keys\n",
    "msrp_data['mmy']=msrp_data['Make']+' '+msrp_data['Model']+ ' '+ msrp_data['Year'].astype(int).astype(str)\n",
    "msrp_data['mmy']= msrp_data['mmy'].str.title()\n",
    "msrp_data['mmy2']=msrp_data['Make']+' '+msrp_data['Model'].str.split(' ').str[0]+ ' '+ msrp_data['Year'].astype(int).astype(str)\n",
    "msrp_data['mmy2']= msrp_data['mmy2'].str.title()\n",
    "\n"
   ]
  },
  {
   "cell_type": "code",
   "execution_count": null,
   "metadata": {},
   "outputs": [],
   "source": [
    "MSRP_dict = msrp_data.groupby(['Make', 'Model', 'Year', 'mmy', 'mmy2'])['MSRP'].mean().reset_index()"
   ]
  },
  {
   "cell_type": "code",
   "execution_count": null,
   "metadata": {},
   "outputs": [],
   "source": [
    "MSRP_dict.info()"
   ]
  },
  {
   "cell_type": "code",
   "execution_count": null,
   "metadata": {},
   "outputs": [],
   "source": [
    "sub_file = 'data'\n",
    "new_file = 'msrp.csv'\n",
    "new_file_name_path = os.path.join(basepath,sub_file, new_file)\n",
    "msrp_data.to_csv(new_file_name_path, index=False)"
   ]
  },
  {
   "cell_type": "markdown",
   "metadata": {},
   "source": [
    "# Merging Data"
   ]
  },
  {
   "cell_type": "code",
   "execution_count": null,
   "metadata": {},
   "outputs": [],
   "source": [
    "## Merging Auto and MSRP"
   ]
  },
  {
   "cell_type": "markdown",
   "metadata": {},
   "source": [
    "#Create Dictionaries to map with\n",
    "\n",
    "First the MMY\n",
    "* automobiles models are referenced by its a) manufacture b) model name, and C) model year (otherwise known as the MMY)\n",
    "* Each mmy has an average MSRP to go with it and a specific groups of catehories can be in \n",
    "    * (ex a camry can be sedan or hatchback it can't be a pickup)\n",
    "* We will therefore use the MMYas a key to map the MSRP and category to the main data set\n",
    "\n",
    "Issue: Model names of automobile\n",
    "* The trim of a model is referencing a set of additional features comes with (example Camry Lux has leather seats)\n",
    "* The trim changes the price of a vehicle\n",
    "* Therefore sometimes sellers will add the trim after the model design to give a better idea of what they are selling\n",
    "* This leads to the model name not being consistent across tables.\n",
    "\n",
    "Fixing the Issue\n",
    "* To ensure better mapping we will therefore use 2 keys \n",
    "* The first key will match the full name of the model for the mmy\n",
    "* The second key will match the first word name of the model for the mmy\n",
    "* We will try to map to first the key if a map isn't reached we use the results from the second key.\n",
    "* both keys include the manufacturer and model year\n",
    "\n"
   ]
  },
  {
   "cell_type": "code",
   "execution_count": null,
   "metadata": {},
   "outputs": [],
   "source": [
    "#Create Dictionaries to map with\n",
    "\n",
    "\n",
    "#create mmy key2 for autos\n",
    "auto_data['model2']= auto_data['model'].str.split(' ').str[0]\n",
    "auto_data['mmy_a2']=auto_data['manufacturer']+' '+auto_data['model2']+ ' '+ auto_data['year'].astype(int).astype(str)\n",
    "\n",
    "#auto_dictionary\n",
    "auto_dict= auto_data[['manufacturer', 'model', 'year', 'mmy_a', 'mmy_a2']].drop_duplicates(keep='last')\n",
    "\n",
    "#MSRP_dictionary_1 has only the first key\n",
    "MSRP_dict1 = MSRP_dict[['mmy', 'MSRP']]\n",
    "\n",
    "#MSRP_dictionary_2 has only the second key\n",
    "MSRP_dict2= MSRP_dict[['mmy2', 'MSRP']]\n",
    "MSRP_dict2['MSRP_vague'] = MSRP_dict2['MSRP']\n",
    "MSRP_dict2= MSRP_dict2.drop(columns= ['MSRP'])\n",
    "\n"
   ]
  },
  {
   "cell_type": "code",
   "execution_count": null,
   "metadata": {},
   "outputs": [],
   "source": [
    "#Merge auto_dict and MSRP dictionary 1 into df1 using the 1st key\n",
    "df1= pd.merge(auto_dict, MSRP_dict1, left_on='mmy_a', right_on= 'mmy', how='outer' )\n",
    "#Merge dictionary3 and MSRP dictionary 2 into auto_msrp_dictionary using the second key\n",
    "a_m_dict= pd.merge(df1, MSRP_dict2, left_on='mmy_a2', right_on= 'mmy2', how='outer' )\n",
    "\n",
    "#fill any null results in MSRP from first key map by results in second key\n",
    "a_m_dict['MSRP']=a_m_dict['MSRP'].fillna(a_m_dict['MSRP_vague']) \n",
    "\n",
    "#drop duplicates\n",
    "a_m_dict= a_m_dict[['mmy_a', 'mmy', 'mmy2','MSRP']].drop_duplicates(subset=['mmy_a', 'mmy', 'mmy2'], keep= 'last' )\n"
   ]
  },
  {
   "cell_type": "code",
   "execution_count": null,
   "metadata": {},
   "outputs": [],
   "source": [
    "#Cat_dictionary_1 has only the first key\n",
    "cat_dict= cat_data[['Make', 'Model', 'Year', 'mmy', 'mmy2','Category']].drop_duplicates(subset=['Make', 'Model', 'Year', 'mmy', 'mmy2'], keep='last')\n",
    "cat_dict1 = cat_dict[['mmy', 'Category']]\n",
    "\n",
    "\n",
    "#Cat_dictionary_2 has only the second key\n",
    "cat_dict2= cat_dict[['mmy2', 'Category']]\n",
    "cat_dict2['Category_vague'] = cat_dict2['Category']\n",
    "cat_dict2= cat_dict2.drop(columns= ['Category'])\n"
   ]
  },
  {
   "cell_type": "code",
   "execution_count": null,
   "metadata": {},
   "outputs": [],
   "source": [
    "#Merge auto dictionary and cat dictionary 1 into dictionary into df1 using the first key\n",
    "df1= pd.merge(auto_dict, cat_dict1, left_on='mmy_a', right_on= 'mmy', how='outer' )\n",
    "\n",
    "#Merge dictionary3 and cat dictionary 2 into auto_cat_dictionary using the second key\n",
    "a_c_dict= pd.merge(df1, cat_dict2, left_on='mmy_a2', right_on= 'mmy2', how='outer' )\n",
    "\n",
    "#Fill in blanks in the Category left from the first key with results from the second key (if any)\n",
    "a_c_dict['Category']=a_c_dict['Category'].fillna(a_c_dict['Category_vague']) \n",
    "\n",
    "\n",
    "#drop duplicates \n",
    "a_c_dict= a_c_dict[['mmy_a', 'mmy', 'mmy2','Category']].drop_duplicates(subset=['mmy_a', 'mmy', 'mmy2'], keep= 'last' )\n"
   ]
  },
  {
   "cell_type": "code",
   "execution_count": null,
   "metadata": {},
   "outputs": [],
   "source": [
    "print(a_c_dict.info())\n",
    "print(a_m_dict.info())"
   ]
  },
  {
   "cell_type": "code",
   "execution_count": null,
   "metadata": {},
   "outputs": [],
   "source": [
    "#Merge Cat and MSRP\n",
    "#We still have two keys mmy_a and mmy\n",
    "\n",
    "a_m_dict_1= a_m_dict[['mmy_a', 'MSRP']].dropna()\n",
    "a_m_dict_2= a_m_dict[['mmy', 'MSRP']].dropna()\n",
    "a_m_dict_3= a_m_dict[['mmy2', 'MSRP']].dropna()\n",
    "\n",
    "a_m_dict_2= a_m_dict_2.rename(columns={\"MSRP\": \"MSRP_2\"})\n",
    "a_m_dict_3= a_m_dict_3.rename(columns={\"MSRP\": \"MSRP_3\"})\n"
   ]
  },
  {
   "cell_type": "code",
   "execution_count": null,
   "metadata": {},
   "outputs": [],
   "source": [
    "#Merge a_c and a_m dict on first key\n",
    "df1= pd.merge(a_c_dict, a_m_dict_1, on='mmy_a', how='outer')\n"
   ]
  },
  {
   "cell_type": "code",
   "execution_count": null,
   "metadata": {},
   "outputs": [],
   "source": [
    "#Merge a_c and a_m dict on second key\n",
    "df2 = pd.merge(df1,  a_m_dict_2, left_on='mmy', right_on='mmy', how='outer' )\n"
   ]
  },
  {
   "cell_type": "code",
   "execution_count": null,
   "metadata": {},
   "outputs": [],
   "source": [
    "#Merge a_c and a_m dict on third key\n",
    "a_m_c_dict = pd.merge(df2,  a_m_dict_3, on='mmy2', how='outer' )\n",
    "a_m_c_dict.info()\n",
    "\n"
   ]
  },
  {
   "cell_type": "code",
   "execution_count": null,
   "metadata": {},
   "outputs": [],
   "source": [
    "#Fill in blanks in the MSRP left from 1st key with results from the 2nd and 3rd key (if any)\n",
    "a_m_c_dict['MSRP']=a_m_c_dict['MSRP'].fillna(a_m_c_dict['MSRP_2']) \n",
    "a_m_c_dict['MSRP']=a_m_c_dict['MSRP'].fillna(a_m_c_dict['MSRP_3']) \n",
    "\n",
    "#drop duplicates\n",
    "a_m_c_dict= a_m_c_dict[['mmy_a', 'MSRP', 'Category']].drop_duplicates(subset=['mmy_a'], keep= 'last' )\n",
    "\n",
    "#drop if missing 'mmy_a'\n",
    "a_m_c_dict = a_m_c_dict[a_m_c_dict['mmy_a'].notna()]\n"
   ]
  },
  {
   "cell_type": "markdown",
   "metadata": {},
   "source": [
    "Merge Dictionaries with auto"
   ]
  },
  {
   "cell_type": "code",
   "execution_count": null,
   "metadata": {},
   "outputs": [],
   "source": [
    "z= pd.merge(auto_data, a_m_c_dict, on='mmy_a', how='left')\n",
    "z.info()\n",
    "auto_data= z"
   ]
  },
  {
   "cell_type": "markdown",
   "metadata": {},
   "source": [
    "###  Find State data\n",
    "We can use geographic data to find other data we need. Two things that common wisdom suggests effect car prices \n",
    "1) Amount of money people make \n",
    "2) gas prices \n",
    "We can find the average income people make in the state as well as the aproximate gas prices when this Craigslist dataset was collected.\n",
    "\n",
    "Gas prices come from AAA which shows the daily average gas prices for a state. They do not store this data so the data was scraped from the next nearest date available from the scraping of the Craiglist data which was Feb 22 https://web.archive.org/web/20200226222808/https://gasprices.aaa.com/state-gas-price-averages/\n",
    "This data for household income was from https://dqydj.com/average-income-by-state-median-top-percentiles/ a place that holds financial data and that is recommend by the WSJ and the NYT. This has already been done\n"
   ]
  },
  {
   "cell_type": "markdown",
   "metadata": {},
   "source": [
    "## Add State Data"
   ]
  },
  {
   "cell_type": "code",
   "execution_count": null,
   "metadata": {},
   "outputs": [],
   "source": [
    "\n",
    "\n",
    "#get_state_data\n",
    "state_file ='state_data.csv'\n",
    "\n",
    "print('p')\n",
    "file_name_path = os.path.join(basepath, 'data', state_file)\n",
    "state_data= pd.read_csv(file_name_path)\n",
    "state_data.info()\n",
    "#Open data\n"
   ]
  },
  {
   "cell_type": "code",
   "execution_count": null,
   "metadata": {},
   "outputs": [],
   "source": [
    "#merge_with_state_data\n",
    "auto_data_m= auto_data.merge(state_data, left_on='state', right_on='State_Code')\n",
    "auto_data_m.info()\n",
    "auto_data = auto_data_m"
   ]
  },
  {
   "cell_type": "code",
   "execution_count": null,
   "metadata": {},
   "outputs": [],
   "source": [
    "#save data\n",
    "\n",
    "new_file = 'auto_data_m_cl.csv'\n",
    "new_file_name_path = os.path.join(basepath,sub_file, new_file)\n",
    "auto_data_m.to_csv(new_file_name_path, index=False)"
   ]
  },
  {
   "cell_type": "markdown",
   "metadata": {},
   "source": [
    "## Impute the Data"
   ]
  },
  {
   "cell_type": "markdown",
   "metadata": {},
   "source": [
    "When looking at the vehicles we note that there are lot of nulls about the vehicles features (example: the number of cylinders, drive, transmission, size, and type of vehicle). When buying a vehicle these are things you would usually ask the seller because it does effect the price of the vehicle (a vehicle with more cylinders usually is of higher value than one is of less). \n",
    "\n",
    "While these features can differ within a make model model year (MMY) of a vehicle we can narrow down what the feature should be given the other features of the vehicle. For example: a 2016 Jaguar F Type can be all wheel drive or all-wheel drive ,  be a coupe or convertible, be automatic or manual transmission. You would think there be at least 8 configurations of the F-type.   However only a certain grouping of configurations (called Trims) that these vehicle are sold as.  There are actually on 6 configurations for the 2016 Jaguar F-Type because you can only get a manual transmission with rear wheel drive. \n",
    "\n",
    "If we don't have enough data to impute the vehicle given MMY and the other features we can determine the feature given it's MMY. This is because A) There is usually a most popular trim for the MMY of a vehicle. B) Some features do not differ within MMY for example the 2017 Honda Accord only has 4 cylinders. \n",
    "\n",
    "\n",
    "If make model model year does not give us a value we can look at just the make and model. The most likely configuration for model does change for each model year. However the trims of these features only change for every redesign of the model which does not happen every model year. So after looking at mmy we look at make model.\n",
    "\n",
    "\n",
    "Finally we are also missing longitude and latitude data. We can find the probable longitude and latitude given the most longitude and latitude for that state.\n"
   ]
  },
  {
   "cell_type": "code",
   "execution_count": null,
   "metadata": {},
   "outputs": [],
   "source": [
    "file = 'auto_data_m_cl.csv'\n",
    "\n",
    "sub_file = 'data'\n",
    "file_name_path = os.path.join(basepath, sub_file, file)\n",
    "auto_data= pd.read_csv(file_name_path)\n"
   ]
  },
  {
   "cell_type": "code",
   "execution_count": null,
   "metadata": {},
   "outputs": [],
   "source": [
    "auto_data['type']= auto_data['type'].str.title().str.strip()\n",
    "\n",
    "auto_data['type'].value_counts()"
   ]
  },
  {
   "cell_type": "code",
   "execution_count": null,
   "metadata": {},
   "outputs": [],
   "source": [
    "auto_data.isnull().sum()"
   ]
  },
  {
   "cell_type": "code",
   "execution_count": null,
   "metadata": {},
   "outputs": [],
   "source": [
    "auto_data['cylinders'] = pd.to_numeric(auto_data['cylinders'])\n",
    "\n",
    "q1 = auto_data\n",
    "#Create possible Trim configurations look at cylinders, drive and transmission\n",
    "q1['mmy_a_d_t'] = q1['mmy_a'].astype(str)+' '+q1['drive'].astype(str)+' '+q1['transmission'].astype(str)\n",
    "q1['mmy_a_t'] = q1['mmy_a'].astype(str)+' '+q1['transmission'].astype(str)\n",
    "q1['mmy_a_d'] = q1['mmy_a'].astype(str)+' '+q1['drive'].astype(str)\n",
    "\n",
    "#Remove trim if there is missing value in the grouping\n",
    "q1.loc[(q1['transmission'].isna()), 'mmy_a_d_t' ] = np.nan\n",
    "q1.loc[(q1['transmission'].isna()), 'mmy_a_t' ] = np.nan\n",
    "q1.loc[(q1['transmission'].str.contains('nan', na= False)), 'mmy_a_d_t' ] = np.nan\n",
    "q1.loc[(q1['transmission'].str.contains('nan', na= False)), 'mmy_a_t' ] = np.nan\n",
    "q1.loc[(q1['drive'].isna()), 'mmy_a_d_t' ] = np.nan\n",
    "q1.loc[(q1['drive'].isna()), 'mmy_a_d' ] = np.nan\n",
    "q1.loc[(q1['drive'].str.contains('nan', na= False)), 'mmy_a_d_t' ] = np.nan\n",
    "q1.loc[(q1['drive'].str.contains('nan', na= False)), 'mmy_a_d' ] = np.nan\n",
    "\n",
    "#Create Make Model Category\n",
    "q1['mm']=q1['manufacturer'].astype(str)+' '+q1['model'].astype(str)\n",
    "q1['mm2']=q1['manufacturer'].astype(str)+' '+q1['model2'].astype(str)\n"
   ]
  },
  {
   "cell_type": "code",
   "execution_count": null,
   "metadata": {},
   "outputs": [],
   "source": [
    "def comp_F(q1):\n",
    "    q1['cylinders1'] = q1['cylinders']\n",
    "    q1['size1'] = q1['size']\n",
    "    q1['Category1'] = q1['Category']\n",
    "    q1['type1'] = q1['type']\n",
    "    q1['drive1'] = q1['drive']\n",
    "    q1['transmission1'] = q1['transmission']\n",
    "    \n",
    "def comp_D(q1):\n",
    "    q1['cylinders'] = q1['cylinders'].fillna(q1['cylinders1'])\n",
    "    q1['size'] = q1['size'].fillna(q1['size1'])\n",
    "    q1['Category'] = q1['Category'].fillna(q1['Category1'])\n",
    "    q1['type'] = q1['type'].fillna(q1['type1'])\n",
    "    q1['drive'] = q1['drive'].fillna(q1['drive1'])\n",
    "    q1['transmission1'] = q1['transmission'].fillna(q1['transmission1'])"
   ]
  },
  {
   "cell_type": "markdown",
   "metadata": {},
   "source": [
    "print(q1['cylinders'].isnull().sum())\n",
    "print(q1['cylinders'].value_counts())\n",
    "q1['cylinders1'] = q1['cylinders']\n",
    "q1['cylinders1'] = q1.groupby(['mmy_a_d_t', 'type'], sort=False)['cylinders1'].apply(lambda x: x.fillna(next(iter(x.mode()), np.nan)))\n",
    "q1['cylinders'] = q1['cylinders'].fillna(q1['cylinders1'])\n",
    "\n",
    "\n",
    "print(q1['cylinders'].isnull().sum())\n",
    "print(q1['cylinders'].value_counts())"
   ]
  },
  {
   "cell_type": "code",
   "execution_count": null,
   "metadata": {},
   "outputs": [],
   "source": [
    "print(q1['cylinders'].value_counts())\n",
    "comp_F(q1)\n",
    "q1['cylinders1'] = q1.groupby(['mmy_a_d_t', 'type'], sort=False)['cylinders1'].apply(lambda x: x.fillna(next(iter(x.mode()), np.nan)))\n",
    "comp_D(q1)\n",
    "q1[['cylinders', 'size', 'type', 'drive', 'transmission', 'Category' ]].isnull().sum()\n",
    "print(q1['cylinders'].value_counts())"
   ]
  },
  {
   "cell_type": "code",
   "execution_count": null,
   "metadata": {},
   "outputs": [],
   "source": [
    "q1['cylinders'].value_counts()"
   ]
  },
  {
   "cell_type": "code",
   "execution_count": null,
   "metadata": {},
   "outputs": [],
   "source": [
    "#impute by trim\n",
    "comp_F(q1)\n",
    "q1['MSRP1'] = q1['MSRP']\n",
    "\n",
    "print('Before imputation the number of nulls are:')\n",
    "print(q1[['cylinders', 'size', 'type', 'drive', 'transmission', 'Category' ]].isnull().sum())\n",
    "\n",
    "\n",
    "q1['MSRP'] = q1.groupby(['mmy_a_d_t', 'type'], sort=False)['MSRP'].apply(lambda x: x.fillna(next(iter(x.mode()), np.nan)))\n",
    "q1['cylinders1'] = q1.groupby(['mmy_a_d_t'], sort=False)['cylinders1'].apply(lambda x: x.fillna(next(iter(x.mode()), np.nan)))\n",
    "q1['size1'] = q1.groupby(['mmy_a_d_t'], sort=False)['size1'].apply(lambda x: x.fillna(next(iter(x.mode()), np.nan)))\n",
    "q1['type1'] = q1.groupby(['mmy_a_d_t'], sort=False)['type1'].apply(lambda x: x.fillna(next(iter(x.mode()), np.nan)))\n",
    "q1['Category1'] = q1.groupby(['mmy_a_d_t'], sort=False)['Category1'].apply(lambda x: x.fillna(next(iter(x.mode()), np.nan)))\n",
    "q1['drive1'] = q1.groupby(['mmy_a_t'], sort=False)['drive1'].apply(lambda x: x.fillna(next(iter(x.mode()), np.nan)))\n",
    "q1['transmission1'] = q1.groupby(['mmy_a_d'], sort=False)['transmission1'].apply(lambda x: x.fillna(next(iter(x.mode()), np.nan)))\n",
    "\n",
    "q1['MSRP'] = q1['MSRP'].fillna(q1['MSRP1'])\n",
    "comp_D(q1)\n",
    "\n",
    "print('After trim imputation the number of nulls are:')\n",
    "print(q1[['cylinders', 'size', 'type', 'drive', 'transmission', 'Category' ]].isnull().sum())\n",
    "\n"
   ]
  },
  {
   "cell_type": "code",
   "execution_count": null,
   "metadata": {},
   "outputs": [],
   "source": [
    "#impute by Make Model Model Year\n",
    "comp_F(q1)\n",
    "cols = ['cylinders1', 'size1', 'Category1', 'type1', 'drive1', 'transmission1']\n",
    "\n",
    "q1['cylinders1'] = q1.groupby(['mmy_a'], sort=False)['cylinders1'].apply(lambda x: x.fillna(next(iter(x.mode()), np.nan)))\n",
    "q1['size1'] = q1.groupby(['mmy_a'], sort=False)['size1'].apply(lambda x: x.fillna(next(iter(x.mode()), np.nan)))\n",
    "q1['type1'] = q1.groupby(['mmy_a'], sort=False)['type1'].apply(lambda x: x.fillna(next(iter(x.mode()), np.nan)))\n",
    "q1['Category1'] = q1.groupby(['mmy_a'], sort=False)['Category1'].apply(lambda x: x.fillna(next(iter(x.mode()), np.nan)))\n",
    "q1['drive1'] = q1.groupby(['mmy_a'], sort=False)['drive1'].apply(lambda x: x.fillna(next(iter(x.mode()), np.nan)))\n",
    "q1['transmission1'] = q1.groupby(['mmy_a'], sort=False)['transmission1'].apply(lambda x: x.fillna(next(iter(x.mode()), np.nan)))\n",
    "\n",
    "\n",
    "comp_D(q1)\n",
    "print('After manufacture model and model year  imputation the number of nulls are:')\n",
    "print(q1[['cylinders', 'size', 'type', 'drive', 'transmission', 'Category' ]].isnull().sum())\n"
   ]
  },
  {
   "cell_type": "code",
   "execution_count": null,
   "metadata": {},
   "outputs": [],
   "source": [
    "#impute by Make Model\n",
    "comp_F(q1)\n",
    "q1['cylinders1'] = q1.groupby(['mm'], sort=False)['cylinders1'].apply(lambda x: x.fillna(next(iter(x.mode()), np.nan)))\n",
    "q1['size1'] = q1.groupby(['mm'], sort=False)['size1'].apply(lambda x: x.fillna(next(iter(x.mode()), np.nan)))\n",
    "q1['type1'] = q1.groupby(['mm'], sort=False)['type1'].apply(lambda x: x.fillna(next(iter(x.mode()), np.nan)))\n",
    "q1['Category1'] = q1.groupby(['mm'], sort=False)['Category1'].apply(lambda x: x.fillna(next(iter(x.mode()), np.nan)))\n",
    "q1['drive1'] = q1.groupby(['mm'], sort=False)['drive1'].apply(lambda x: x.fillna(next(iter(x.mode()), np.nan)))\n",
    "q1['transmission1'] = q1.groupby(['mm'], sort=False)['transmission1'].apply(lambda x: x.fillna(next(iter(x.mode()), np.nan)))\n",
    "comp_D(q1)\n",
    "print('After manufacture model and model year  imputation the number of nulls are:')\n",
    "print(q1[['cylinders', 'size', 'type', 'drive', 'transmission', 'Category' ]].isnull().sum())\n"
   ]
  },
  {
   "cell_type": "code",
   "execution_count": null,
   "metadata": {},
   "outputs": [],
   "source": [
    "q1.info()"
   ]
  },
  {
   "cell_type": "code",
   "execution_count": null,
   "metadata": {},
   "outputs": [],
   "source": [
    "#Drop Excess Variables that were used for imputation\n",
    "q1 = q1.drop(columns=['cylinders1', 'size1','Category1','type1' , 'drive1', 'transmission1', 'MSRP1'], axis=1 )\n",
    "q1 = q1.drop(columns=['mmy_a', 'mmy_a2','mmy_a_d_t','mmy_a_d' , 'mmy_a_t', 'mm', 'mm2', 'model2'], axis=1 )"
   ]
  },
  {
   "cell_type": "code",
   "execution_count": null,
   "metadata": {},
   "outputs": [],
   "source": [
    "#impute longitude and latitude from state\n",
    "q1['lat'] = q1.groupby(['state'], sort=False)['lat'].apply(lambda x: x.fillna(x.mode().iloc[0]))\n",
    "q1['long'] = q1.groupby(['state'], sort=False)['long'].apply(lambda x: x.fillna(x.mode().iloc[0]))\n",
    "\n",
    "#impute fuel\n",
    "q1['fuel'] = q1['fuel'].fillna(q1['fuel'].mode()[0])\n",
    "q1['MSRP'] = q1['MSRP'].fillna(0)\n",
    "print(q1.isnull().sum())"
   ]
  },
  {
   "cell_type": "code",
   "execution_count": null,
   "metadata": {},
   "outputs": [],
   "source": [
    "#If no paint color is given its unlisted and its unrealistc to try to impute it\n",
    "q1['paint_color'] = q1['paint_color'].fillna('unlisted')"
   ]
  },
  {
   "cell_type": "code",
   "execution_count": null,
   "metadata": {},
   "outputs": [],
   "source": [
    "q1['Avg_Mileage'] = q1['odometer']/ q1['age']\n",
    "q1['resid'] = q1['MSRP']/ q1['price']\n",
    "q1.info()"
   ]
  },
  {
   "cell_type": "code",
   "execution_count": null,
   "metadata": {},
   "outputs": [],
   "source": [
    "\n",
    "categorical_columns = q1.select_dtypes(exclude=['int64', 'float']).columns.tolist()\n",
    "\n",
    "for col in categorical_columns:\n",
    "    q1[col] = q1[col].astype('category')\n",
    "q1.info()"
   ]
  },
  {
   "cell_type": "markdown",
   "metadata": {},
   "source": [
    "Save Data"
   ]
  },
  {
   "cell_type": "code",
   "execution_count": null,
   "metadata": {},
   "outputs": [],
   "source": [
    "#save data\n",
    "\n",
    "new_file = 'auto_data_merged_cl.csv'\n",
    "new_file_name_path = os.path.join(basepath,sub_file, new_file)\n",
    "q1.to_csv(new_file_name_path, index=False)"
   ]
  },
  {
   "cell_type": "markdown",
   "metadata": {},
   "source": [
    "## Exploratory Data getting rid of outliers"
   ]
  },
  {
   "cell_type": "markdown",
   "metadata": {},
   "source": [
    "We do not want any outliers in our dataset before we make any calculations. That said:\n",
    "1) We already eliminated a lot of the ouliers due to the common sense cleaning rules.\n",
    "2) The values for price, and mileage in the vehicle is a skew distribution with a long tail and not a normal distribution.\n",
    "\n",
    "Therefore we are conservative in our deletion of outliers.\n",
    "\n",
    "We beleive we should investigate four outliers when:\n",
    "* The 98the percentile and the 99th percentile differ by larger than 1 standard deviation. Then all values greater than the 98th percentile are likely to be outliers.\n",
    "* Similarly elimiate if 99th percentile and maximum differ by larger than 1 standard deviation. Then all values greater than the 99th percentile are likely to be outliers.\n",
    "\n",
    "The results of this investigation is that price, odometer, residual and average mileage needed to be investigaated.\n",
    "\n",
    "We did not want to get rid of any vehicles that are in the same price range of the Teslas so we eliminated vehicles\n"
   ]
  },
  {
   "cell_type": "code",
   "execution_count": null,
   "metadata": {},
   "outputs": [],
   "source": [
    "#Get Path\n",
    "os.getcwd()\n",
    "basepath = os.getcwd()\n",
    "print(basepath)\n",
    "lis_dir = os.listdir()\n",
    "print(lis_dir)\n",
    "\n",
    "# Create the list of file names: filenames\n",
    "file ='auto_data_merged_cl.csv'\n",
    "sub_file = 'data'\n",
    "file_name_path = os.path.join(basepath, sub_file, file)\n",
    "auto_data= pd.read_csv(file_name_path)\n"
   ]
  },
  {
   "cell_type": "code",
   "execution_count": null,
   "metadata": {},
   "outputs": [],
   "source": [
    "auto_data.info()"
   ]
  },
  {
   "cell_type": "code",
   "execution_count": null,
   "metadata": {},
   "outputs": [],
   "source": [
    "auto_data['resid'] = auto_data['resid'].fillna(0)\n",
    "auto_data.describe(percentiles= [0.05, .25, .5, .75, 0.95,  0.98, 0.99, 0.999] )\n",
    "# Rule if the maximum number of the 98the percentile and the 99th percentile differ by larger than 1 std then you elimate those numbers\n",
    "# Similarly elimiate if 99th percentile and maximum is one standard deviation away elimate to 99th percentile\n"
   ]
  },
  {
   "cell_type": "markdown",
   "metadata": {},
   "source": [
    "* Rule if the maximum number of the 98, 99 percentile differ by larger than 1 std you investigate\n",
    "    * The results of this investigation is in price, odometer and average mileage\n",
    "* Similarly we check if adding 98 percentile + 1std is worth doing\n",
    "\n"
   ]
  },
  {
   "cell_type": "code",
   "execution_count": null,
   "metadata": {},
   "outputs": [],
   "source": [
    "#Investigate price \n",
    "price = auto_data.price\n",
    "sns.boxplot(price)\n",
    "plt.savefig(\"Fig1_Price_before_deletion.png\")\n",
    "plt.title(\"Distribution of the price before deletion\")\n",
    "plt.show()\n",
    "#so many outliers!"
   ]
  },
  {
   "cell_type": "code",
   "execution_count": null,
   "metadata": {},
   "outputs": [],
   "source": [
    "#We do not want to get rid of any vehicles that are in the same price range of the Teslas so we eliminated \n",
    "#vehicles under the maximum Tesla price\n",
    "\n",
    "\n",
    "tes = auto_data[auto_data.manufacturer == 'Tesla']\n",
    "Tes_price = tes['price'].max()\n",
    "auto_data= auto_data[auto_data.price< Tes_price ]\n",
    "price = auto_data.price\n",
    "sns.boxplot(price)\n",
    "plt.title(\"Distribution of the price after deletion\")\n",
    "plt.savefig(\"Fig2_Price_after_deletion.png\")\n",
    "plt.show()\n"
   ]
  },
  {
   "cell_type": "code",
   "execution_count": null,
   "metadata": {},
   "outputs": [],
   "source": [
    "#Investigate Mileage\n",
    "miles = auto_data.odometer\n",
    "sns.boxplot(miles)\n",
    "plt.title(\"Distribution of mileage on vehicles before deletion\")\n",
    "plt.show()\n",
    "#so many outliers!"
   ]
  },
  {
   "cell_type": "code",
   "execution_count": null,
   "metadata": {},
   "outputs": [],
   "source": [
    "#We eliminate vehicles over the 98th percentile\n",
    "odometer_p98 = auto_data['odometer'].quantile(.98)\n",
    "\n",
    "auto_data= auto_data[auto_data.odometer< odometer_p98 ]\n",
    "miles = auto_data.odometer\n",
    "sns.boxplot(miles)\n",
    "plt.title(\"Distribution of mileage on vehicles after deletion\")\n",
    "plt.show()"
   ]
  },
  {
   "cell_type": "code",
   "execution_count": null,
   "metadata": {},
   "outputs": [],
   "source": [
    "#Investigate Average Mileage\n",
    "# Average Milage is the mileage divided by the age let's see that relationship \n",
    "g = sns.jointplot(x= 'age', y='odometer',data=auto_data , kind='kde')\n",
    "_ = g.title = 'Age vs Mileage'\n",
    "#We van see clustered Non Linear replationsip between age and mileage and some pretty clear boundries"
   ]
  },
  {
   "cell_type": "code",
   "execution_count": null,
   "metadata": {},
   "outputs": [],
   "source": [
    "#Investigate Average Mileage using boxplot\n",
    "avg_miles = auto_data.Avg_Mileage\n",
    "sns.boxplot(avg_miles)\n",
    "plt.title(\"Distribution of avg mileage per year on vehicles before deletion\")\n",
    "plt.show()\n",
    "#so many outliers!"
   ]
  },
  {
   "cell_type": "code",
   "execution_count": null,
   "metadata": {},
   "outputs": [],
   "source": [
    "#We eliminate vehicles over the 99th percentile\n",
    "avm_p99 = auto_data['Avg_Mileage'].quantile(.99)\n",
    "\n",
    "auto_data= auto_data[auto_data.Avg_Mileage< avm_p99]\n",
    "avg_miles = auto_data.Avg_Mileage\n",
    "sns.boxplot(avg_miles)\n",
    "plt.title(\"Distribution of avg mileage per year on vehicles after deletion\")\n",
    "plt.show()\n",
    "plt.show()"
   ]
  },
  {
   "cell_type": "markdown",
   "metadata": {},
   "source": [
    "We Eliminate the Superluxury Vehicles"
   ]
  },
  {
   "cell_type": "code",
   "execution_count": null,
   "metadata": {},
   "outputs": [],
   "source": [
    "#We are not loooking up superluxury cars aka\n",
    "auto_data= auto_data[auto_data.manufacturer != 'Ferrari']\n",
    "auto_data = auto_data[auto_data.manufacturer != 'Aston-Martin']"
   ]
  },
  {
   "cell_type": "markdown",
   "metadata": {},
   "source": [
    "## EDA Explain some of the relationships within the data"
   ]
  },
  {
   "cell_type": "code",
   "execution_count": null,
   "metadata": {},
   "outputs": [],
   "source": [
    "auto_data.cylinders.value_counts()"
   ]
  },
  {
   "cell_type": "code",
   "execution_count": null,
   "metadata": {},
   "outputs": [],
   "source": [
    "#Check Cylinders\n",
    "#Investigate cylinders\n",
    "auto_data['cylinders'] = pd.to_numeric(auto_data['cylinders'])\n",
    "cylinders = auto_data.cylinders\n",
    "sns.boxplot(cylinders)\n",
    "plt.title(\"Distribution of avg mileage per year on vehicles before deletion\")\n",
    "plt.show()\n",
    "cylinders.value_counts()\n",
    "#We eliminate 12 as it only has 8 values \n",
    "auto_data =  auto_data[auto_data['cylinders']<12]\n"
   ]
  },
  {
   "cell_type": "code",
   "execution_count": null,
   "metadata": {},
   "outputs": [],
   "source": [
    "#There is an interesting relationship between cylinders, and drive\n",
    "size_type_table = pd.crosstab(index=auto_data[\"drive\"], columns=auto_data[\"cylinders\"])\n",
    "plt.figure(figsize=(14,12))\n",
    "size_type_table.plot(kind=\"bar\",  figsize=(8,8), stacked=True)\n",
    "plt.show()\n",
    "plt.savefig(\"cylinder_drive.png\")\n"
   ]
  },
  {
   "cell_type": "code",
   "execution_count": null,
   "metadata": {},
   "outputs": [],
   "source": [
    "#There is an interesting relationship between cylinders, drive, mileage and price\n",
    "plt.figure(figsize=(14,12))\n",
    "sns.catplot(x=\"cylinders\", y=\"price\", hue='drive', kind='point', data=auto_data)\n",
    "plt.show()\n",
    "plt.savefig(\"cylinder_drive_mileage_price.png\")\n"
   ]
  },
  {
   "cell_type": "code",
   "execution_count": null,
   "metadata": {},
   "outputs": [],
   "source": [
    "g = sns.lmplot(x= 'odometer', y='price', data=auto_data,  col=\"cylinders\", hue='drive', col_wrap=3, scatter_kws={\"alpha\":.6, \"s\": 5})\n",
    "g = (g.set( ylim=(0, 100000)))"
   ]
  },
  {
   "cell_type": "code",
   "execution_count": null,
   "metadata": {},
   "outputs": [],
   "source": [
    "# More visuals regarding the distributions are in eda3"
   ]
  },
  {
   "cell_type": "markdown",
   "metadata": {},
   "source": [
    "## Cleaning Category/ type\n",
    "* Category refers to the type of design of the vehicle ( examplesedan, hatchback), and it is something people take into consideration while buying a vehicle\n",
    "* However the naming convention for this is non standard across manufactuers (\"pickup\" vs \"truck\" refers to the same type from Ford and GM respectively)\n",
    "* Considering there are many users on Craigslist even though type is often in the description of a vehicle sold the naming convention would not be consistent from one user description to the next. \n",
    "* Since Category type is scraped from the user description means that type is inconsistent across the database\n",
    "\n",
    "* A Singular third party from an automible expert in this case the USA government will give us a consistent naming convention across all vehicles\n",
    "* However the goverment gives us a group of possible types a vehicle could be given make model model year\n",
    "\n",
    "* By combining the user description and the third party categories we get a specific category for each vehicle which has a conistent naming convention across vehicles\n",
    "\n",
    "* For the merge's we have we are going to check if the category within the description matches what the third party gave\n"
   ]
  },
  {
   "cell_type": "code",
   "execution_count": null,
   "metadata": {},
   "outputs": [],
   "source": [
    "auto_data['type'].value_counts()"
   ]
  },
  {
   "cell_type": "code",
   "execution_count": null,
   "metadata": {},
   "outputs": [],
   "source": [
    "auto_data['Category'].value_counts()"
   ]
  },
  {
   "cell_type": "code",
   "execution_count": null,
   "metadata": {},
   "outputs": [],
   "source": [
    "auto_data['Category2']= auto_data['Category'].str.strip().str.split(', ').str[0]\n",
    "auto_data['Category3']= auto_data['Category'].str.strip().str.split(', ')\n",
    "auto_data['Category3']= auto_data['Category3'].str.len()\n",
    "auto_data['type'] = auto_data['type'].replace('Truck', 'Pickup')\n",
    "auto_data['Category2']= auto_data['Category'].str.strip().str.split(', ').str[0]\n",
    "auto_data['type2']= auto_data['type'].replace('Offroad', np.nan)\n",
    "auto_data['type2']= auto_data['type2'].replace('Other', np.nan)\n",
    "auto_data['type2'] = auto_data['type2'].replace('Mini-Van', 'Van')\n",
    "auto_data['type2'] = auto_data['type2'].replace('Van', 'Van/Minivan')\n",
    "auto_data['Categoryf']= auto_data['Category'].fillna('0')\n",
    "auto_data['typef']= auto_data['type2'].fillna('zzzz')\n",
    "auto_data['Category_Cleaned1']= np.nan"
   ]
  },
  {
   "cell_type": "code",
   "execution_count": null,
   "metadata": {},
   "outputs": [],
   "source": [
    "auto_data['typef'].value_counts()"
   ]
  },
  {
   "cell_type": "code",
   "execution_count": null,
   "metadata": {},
   "outputs": [],
   "source": [
    "#If category length = 1 we do not need to look any further\n",
    "auto_data['Category_Cleaned'] = np.where(auto_data['Category3'] == 1 , auto_data['Category'], np.nan)\n",
    "print(auto_data['Category_Cleaned'].isnull().sum())\n",
    "\n",
    "#check if vehicle type listed in description is the sameone that is in the data replace in that case\n",
    "auto_data['cat_tiki_check0']= auto_data.apply(lambda x: x.typef in x.Categoryf, axis=1)\n",
    "auto_data.loc[auto_data['cat_tiki_check0'] == True, 'Category_Cleaned1'] = auto_data.type\n",
    "auto_data['Category_Cleaned'] = auto_data['Category_Cleaned'].fillna(auto_data['Category_Cleaned1'])\n",
    "\n",
    "#If we can't specify through type and there are only two values listed in Category we pick the first\n",
    "auto_data['Category_Cleaned'] = auto_data['Category_Cleaned'].fillna(auto_data['Category2'])\n",
    "\n",
    "\n",
    "#If we can't specify through type and there more than two values listed in Category we use a cleaned version of type\n",
    "auto_data['type2']= auto_data['type'].replace('Offroad', np.nan)\n",
    "auto_data['type2']= auto_data['type2'].replace('Other', np.nan)\n",
    "auto_data['type2'] = auto_data['type2'].replace('Mini-Van', 'Van')\n",
    "auto_data['type2'] = auto_data['type2'].replace('Van', 'Van/Minivan')\n",
    "\n",
    "auto_data['Category_Cleaned'] = auto_data['Category_Cleaned'].fillna(auto_data['type2'])\n",
    "print(auto_data['Category_Cleaned'].isnull().sum())\n",
    "\n",
    "#If we can't specify through any of the above we call it unlisted\n",
    "auto_data['Category_Cleaned'] = auto_data['Category_Cleaned'].fillna('Unlisted')\n"
   ]
  },
  {
   "cell_type": "code",
   "execution_count": null,
   "metadata": {},
   "outputs": [],
   "source": [
    "auto_data.columns"
   ]
  },
  {
   "cell_type": "code",
   "execution_count": null,
   "metadata": {},
   "outputs": [],
   "source": [
    "\n",
    "auto_data =auto_data.drop(columns = ['Category2', 'type2', 'Category3', 'Categoryf', 'typef', 'cat_tiki_check0', 'Category_Cleaned1'] )\n"
   ]
  },
  {
   "cell_type": "markdown",
   "metadata": {},
   "source": [
    "## Feature Selection: Dropping Categorical Variables\n",
    "* We want to reduce the number of unnecessary variables. Bellow are some of the reasons:\n",
    "* We Eliminate categorical variables that are included in another variable (aka intercorrelation)\n",
    "    * Example Division, State, and region. As each state has only one division. Each region can only fit in one states\n",
    "    * We eliminated type and Category as they both fit within Category_cleaned\n",
    "* We Eliminate categorical variables that are either unique to each vehicle (not counding id) or have too many categories within it because that would create too many dummy variables \n",
    "    * There are over 10000 models and while models are not completely unique to each vehicle considering we are trying to determine the asking price when we don't know the value of the model it goes around the point of the study. However again it could be something to look into.\n",
    "    * There are over 400 regions while this could be an interesting study we don't need it as we have division, longitude and latitude. It might be something to look into for another study\n",
    "    * There are over 50 states while this could be an interesting study we don't need it as we have division, longitude and latitude. It might be something to look into for another study.\n",
    "* We eliminate variables that have only one value as the don't add anything to the model\n",
    "    * title status"
   ]
  },
  {
   "cell_type": "code",
   "execution_count": null,
   "metadata": {},
   "outputs": [],
   "source": [
    "auto_data.select_dtypes(exclude=['int64', 'float']).nunique()"
   ]
  },
  {
   "cell_type": "code",
   "execution_count": null,
   "metadata": {},
   "outputs": [],
   "source": [
    "#drop categorical variables unique to each entry and/or having over 100 categories within\n",
    "z2 =auto_data.drop(columns= ['model' ], axis=1)\n",
    "\n",
    "#drop state due to combo of intercorrelation \n",
    "z2 =z2.drop(columns= ['region', 'state', 'type', 'Category', 'State_Code', 'State '], axis=1)\n",
    "\n",
    "#drop to having only 1 value\n",
    "z2 =z2.drop(columns= ['title_status'], axis=1)\n",
    "\n",
    "z2 =z2.drop(columns= ['resid'], axis=1)"
   ]
  },
  {
   "cell_type": "code",
   "execution_count": null,
   "metadata": {},
   "outputs": [],
   "source": [
    "z2['size']= z2['size'].fillna('unlisted')"
   ]
  },
  {
   "cell_type": "code",
   "execution_count": null,
   "metadata": {},
   "outputs": [],
   "source": [
    "#Dropping Nulls- We prefer our data to be without nulls with the exception of MSRP and resid there are few nulls so we eliminate those\n",
    "\n",
    "z2= z2.dropna()\n"
   ]
  },
  {
   "cell_type": "markdown",
   "metadata": {},
   "source": [
    "## Feature Selection: Dropping Categorical Variables\n",
    "### Eliminate variables due to intercorrelation"
   ]
  },
  {
   "cell_type": "markdown",
   "metadata": {},
   "source": [
    "We check correlation between our features. We do not want highly correlated variables (aka correlation whose absolute value is of over 0.8 in our data). In our investigation we only find year which is highly correlated to age. We therefore eliminated year from our variables."
   ]
  },
  {
   "cell_type": "code",
   "execution_count": null,
   "metadata": {},
   "outputs": [],
   "source": [
    "#plot correlation\n",
    "plt.figure(figsize=(14,12))\n",
    "sns.heatmap(z2.corr(),linewidths=.1, annot=True)\n",
    "plt.yticks(rotation=0);\n",
    "plt.savefig('correlation',bbox_inches='tight')"
   ]
  },
  {
   "cell_type": "code",
   "execution_count": null,
   "metadata": {},
   "outputs": [],
   "source": [
    "#dropping year- highly correlated with age amd c\n",
    "z2= z2.drop(columns= ['year'])"
   ]
  },
  {
   "cell_type": "markdown",
   "metadata": {},
   "source": [
    "## Pre Processing the Data\n",
    "\n",
    "Befeore we can use the data to generate a model we need to make the data able to be understood by the model. In this case we scale the data and turn all our categorical variables into dummy variables. We then seperate the data into our training data and test data.\n"
   ]
  },
  {
   "cell_type": "markdown",
   "metadata": {},
   "source": [
    "## Chosing Scaler Standardization\n",
    "\n",
    "#### Standizing Data\n",
    "* We have a few methods of standardization to choose from: Robust, Minmax, Normalize and Standardize\n",
    "* We use Robust if we want to minimize impact of outliers\n",
    "* We use Normalize if we think the distrubtion within a variable needs to be normalized and/or has a normal distribution\n",
    "* We use Standardize when we think most of the variables have similar distribution and no/few dummy variables"
   ]
  },
  {
   "cell_type": "code",
   "execution_count": null,
   "metadata": {},
   "outputs": [],
   "source": [
    "\n",
    "hist = z2.hist(figsize=(40,22))\n",
    "#The data for price is and age are not a normal destribution so both normalize scaler is bad idea "
   ]
  },
  {
   "cell_type": "code",
   "execution_count": null,
   "metadata": {},
   "outputs": [],
   "source": [
    "z3 = z2.drop(columns=['id'])\n",
    "\n",
    "boxplot = z3.boxplot(grid=False, vert=False,fontsize=9)\n",
    "#No large outliers as that was cleaned out already earlier will not use Robust Scaler"
   ]
  },
  {
   "cell_type": "code",
   "execution_count": null,
   "metadata": {},
   "outputs": [],
   "source": [
    "#save data\n",
    "\n",
    "new_file = 'auto_data_cleaned.csv'\n",
    "new_file_name_path = os.path.join(basepath,sub_file, new_file)\n",
    "z3.to_csv(new_file_name_path, index=False)"
   ]
  },
  {
   "cell_type": "markdown",
   "metadata": {},
   "source": [
    "#### Choosing Min Max Scaler\n",
    "* The data for price is and age are not a normal destribution we eliminate normalize scaler\n",
    "* No large outliers as that was cleaned out already earlier we eliminate  Robust Scaler\n",
    "* As we have dummy variables we can eliminate standard scaler \n",
    "* That leaves us with Min Max scaler"
   ]
  },
  {
   "cell_type": "markdown",
   "metadata": {},
   "source": [
    "## Create Dummy Variables"
   ]
  },
  {
   "cell_type": "code",
   "execution_count": 451,
   "metadata": {},
   "outputs": [
    {
     "name": "stdout",
     "output_type": "stream",
     "text": [
      "C:\\Users\\Tiki\\Documents\\Sprinboard2\\Capstone_cars\n",
      "['.ipynb_checkpoints', '575_1100_compressed_data.csv', '575_1100_compressed_data.csv.zip', '62920_1026452_bundle_archive.zip', 'auto1.ipynb', 'auto1_datawrangling.ipynb', 'auto2.ipynb', 'auto2_Combining Data.ipynb', 'auto3.ipynb', 'autodata3_EDA.ipynb', 'autodata4-imputing Data.ipynb', 'autodata4-PCA.ipynb', 'autodata4.ipynb', 'auto_clean.ipynb', 'auto_clean_copy2.ipynb', 'auto_clean_copy2backup.ipynb', 'auto_clean_copy3.ipynb', 'correlation.png', 'cylinder_drive.png', 'cylinder_drive_mileage_price.png', 'data', 'Fig1_Price_before_deletion.png', 'Fig2_Price_after_deletion.png', 'figures', 'Figx_ModelComparison.png', 'Figx_ModelComparison_Std.png', 'Figx_Model_Comparison_RMSLE.png', 'Figx_Model_Comparison_std.png', 'Scrap.ipynb']\n"
     ]
    }
   ],
   "source": [
    "#Get Path\n",
    "os.getcwd()\n",
    "basepath = os.getcwd()\n",
    "print(basepath)\n",
    "lis_dir = os.listdir()\n",
    "print(lis_dir)\n",
    "\n",
    "# Create the list of file names: filenames\n",
    "file ='auto_data_cleaned.csv'\n",
    "sub_file = 'data'\n",
    "file_name_path = os.path.join(basepath, sub_file, file)\n",
    "z3 = pd.read_csv(file_name_path)\n",
    "z3 = z3.reset_index()"
   ]
  },
  {
   "cell_type": "code",
   "execution_count": 452,
   "metadata": {},
   "outputs": [
    {
     "name": "stdout",
     "output_type": "stream",
     "text": [
      "<class 'pandas.core.frame.DataFrame'>\n",
      "RangeIndex: 114751 entries, 0 to 114750\n",
      "Data columns (total 20 columns):\n",
      " #   Column                   Non-Null Count   Dtype   \n",
      "---  ------                   --------------   -----   \n",
      " 0   index                    114751 non-null  int64   \n",
      " 1   price                    114751 non-null  int64   \n",
      " 2   manufacturer             114751 non-null  category\n",
      " 3   condition                114751 non-null  category\n",
      " 4   cylinders                114751 non-null  float64 \n",
      " 5   fuel                     114751 non-null  category\n",
      " 6   odometer                 114751 non-null  float64 \n",
      " 7   transmission             114751 non-null  category\n",
      " 8   drive                    114751 non-null  category\n",
      " 9   size                     114751 non-null  category\n",
      " 10  paint_color              114751 non-null  category\n",
      " 11  lat                      114751 non-null  float64 \n",
      " 12  long                     114751 non-null  float64 \n",
      " 13  age                      114751 non-null  float64 \n",
      " 14  MSRP                     114751 non-null  float64 \n",
      " 15  Avg_Gas_Price            114751 non-null  float64 \n",
      " 16  Division                 114751 non-null  category\n",
      " 17  Median Household Income  114751 non-null  float64 \n",
      " 18  Avg_Mileage              114751 non-null  float64 \n",
      " 19  Category_Cleaned         114751 non-null  category\n",
      "dtypes: category(9), float64(9), int64(2)\n",
      "memory usage: 10.6 MB\n"
     ]
    }
   ],
   "source": [
    "#shrink data where we can\n",
    "categorical_columns = z3.select_dtypes(exclude=['int64', 'float']).columns.tolist()\n",
    "for col in categorical_columns:\n",
    "    z3[col] = z3[col].astype('category')\n",
    "z3.info()"
   ]
  },
  {
   "cell_type": "code",
   "execution_count": 453,
   "metadata": {},
   "outputs": [],
   "source": [
    "#create dummy variables\n",
    "Category_Cleaned = z3['Category_Cleaned']\n",
    "auto_data_dummies= pd.get_dummies(z3) #changed from z2\n"
   ]
  },
  {
   "cell_type": "code",
   "execution_count": 454,
   "metadata": {},
   "outputs": [],
   "source": [
    "new_file = 'auto_data_dummies.csv'\n",
    "new_file_name_path = os.path.join(basepath,sub_file, new_file)\n",
    "auto_data_dummies.to_csv(new_file_name_path, index=False)"
   ]
  },
  {
   "cell_type": "code",
   "execution_count": 455,
   "metadata": {},
   "outputs": [],
   "source": [
    "df =auto_data_dummies.corr(method ='pearson')\n",
    "df = df[((df > 0.7) | (df < -0.7)) & (df != 1)]\n",
    "non_empty_cols = [col for col in df.columns if ~df[col].isnull().all()]\n",
    "empty_cols = [col for col in df.columns if df[col].isnull().all()]"
   ]
  },
  {
   "cell_type": "markdown",
   "metadata": {},
   "source": [
    "## Pre Processing Feature Selection: Dropping Dummy Variables\n",
    "### Eliminate variables due to intercorrelation\n",
    "\n",
    "\n",
    "1) Group Intercorrelation\n",
    "When we have a categorical variables and convert them into dummies we can cannot have all the dummies in the group since  the last dummy variable will be a linear combination of the other dummies. So we eliminate one variable from the group.\n",
    "\n",
    "2) Eliminate variables where absolute correlation is greater 0.8"
   ]
  },
  {
   "cell_type": "code",
   "execution_count": 456,
   "metadata": {},
   "outputs": [
    {
     "name": "stdout",
     "output_type": "stream",
     "text": [
      "<class 'pandas.core.frame.DataFrame'>\n",
      "RangeIndex: 114751 entries, 0 to 114750\n",
      "Columns: 101 entries, index to Category_Cleaned_Wagon\n",
      "dtypes: float64(9), int64(2), uint8(90)\n",
      "memory usage: 19.5 MB\n"
     ]
    },
    {
     "data": {
      "image/png": "[encoded data removed]",
      "text/plain": [
       "<Figure size 1008x864 with 2 Axes>"
      ]
     },
     "metadata": {
      "needs_background": "light"
     },
     "output_type": "display_data"
    }
   ],
   "source": [
    "auto_data_dummies_small = auto_data_dummies.drop(columns= empty_cols)\n",
    "plt.figure(figsize=(14,12))\n",
    "sns.heatmap(auto_data_dummies_small.corr(),linewidths=.1, annot=True)\n",
    "plt.yticks(rotation=0);\n",
    "plt.savefig('correlation',bbox_inches='tight')\n",
    "\n",
    "#Eliminate variables where absolute correlation is greater 0.8\n",
    "auto_data_dummies.drop(columns= ['condition_good', 'fuel_diesel', 'transmission_other', 'drive_fwd', 'Division_Pacific']) \n",
    "\n",
    "auto_data_dummies.drop(columns= ['size_unlisted', 'paint_color_unlisted', 'manufacturer_Infiniti']) \n",
    "auto_data_dummies.info()\n"
   ]
  },
  {
   "cell_type": "markdown",
   "metadata": {},
   "source": [
    "## Seperate Data for Test and Trial"
   ]
  },
  {
   "cell_type": "code",
   "execution_count": 457,
   "metadata": {},
   "outputs": [
    {
     "name": "stdout",
     "output_type": "stream",
     "text": [
      "<class 'pandas.core.frame.DataFrame'>\n"
     ]
    }
   ],
   "source": [
    "\n",
    "#seperate X and y from each other\n",
    "X = auto_data_dummies\n",
    "print(type(X))\n",
    "y = auto_data_dummies['price']\n",
    "\n",
    "X =X.drop(columns=['price'], axis=1)\n",
    "\n",
    "#split train, trial and vals\n",
    "\n",
    "# Create train and test sets\n",
    "X_train, X_test, y_train, y_test = train_test_split(X, y , test_size= 0.25, random_state=42)\n",
    "\n",
    "\n",
    "# Create val and train sets\n",
    "X_train, X_val, y_train, y_val = train_test_split(X_train, y_train, test_size = 3/11)"
   ]
  },
  {
   "cell_type": "markdown",
   "metadata": {},
   "source": [
    "## Use the MinMax Scaler on Data"
   ]
  },
  {
   "cell_type": "code",
   "execution_count": 458,
   "metadata": {},
   "outputs": [],
   "source": [
    "#standardize numeric variables\n",
    "from sklearn.preprocessing import MinMaxScaler\n",
    "\n",
    "#create scaler\n",
    "scaler = MinMaxScaler()\n",
    "\n",
    "#Scale numeric data1\n",
    "X_train_mm = scaler.fit_transform(X_train)\n",
    "X_val_mm = scaler.transform(X_val)\n",
    "X_test_mm = scaler.transform(X_test)"
   ]
  },
  {
   "cell_type": "code",
   "execution_count": 459,
   "metadata": {},
   "outputs": [
    {
     "name": "stdout",
     "output_type": "stream",
     "text": [
      "<class 'pandas.core.frame.DataFrame'>\n",
      "RangeIndex: 62591 entries, 0 to 62590\n",
      "Data columns (total 9 columns):\n",
      " #   Column                   Non-Null Count  Dtype  \n",
      "---  ------                   --------------  -----  \n",
      " 0   index                    62591 non-null  float64\n",
      " 1   cylinders                62591 non-null  float64\n",
      " 2   odometer                 62591 non-null  float64\n",
      " 3   lat                      62591 non-null  float64\n",
      " 4   long                     62591 non-null  float64\n",
      " 5   age                      62591 non-null  float64\n",
      " 6   MSRP                     62591 non-null  float64\n",
      " 7   Avg_Gas_Price            62591 non-null  float64\n",
      " 8   Median Household Income  62591 non-null  float64\n",
      "dtypes: float64(9)\n",
      "memory usage: 4.3 MB\n"
     ]
    }
   ],
   "source": [
    "df_cl_list=X_train.columns.tolist()\n",
    "df3 = pd.DataFrame(X_train_mm, columns = df_cl_list)\n",
    "df3 = df3.iloc[:, : 9]\n",
    "df3.info()"
   ]
  },
  {
   "cell_type": "code",
   "execution_count": 460,
   "metadata": {},
   "outputs": [
    {
     "data": {
      "image/png": "[encoded data removed]",
      "text/plain": [
       "<Figure size 432x288 with 1 Axes>"
      ]
     },
     "metadata": {
      "needs_background": "light"
     },
     "output_type": "display_data"
    }
   ],
   "source": [
    "boxplot = df3.boxplot(grid=False, vert=False,fontsize=9)"
   ]
  },
  {
   "cell_type": "code",
   "execution_count": 461,
   "metadata": {},
   "outputs": [
    {
     "name": "stdout",
     "output_type": "stream",
     "text": [
      "Accuracy with Min Max Scaling: 0.7092627999510107\n",
      "Accuracy without Scaling: 0.2527953157285182\n"
     ]
    }
   ],
   "source": [
    "from sklearn.linear_model import Ridge\n",
    "#ridge = Ridge(solver='svd')\n",
    "#ridge1 = Ridge(solver='svd')  \n",
    "    \n",
    "\n",
    "ridge = Ridge(solver='lsqr') #fastest solver for Ridge Regression\n",
    "ridge1 = Ridge(solver='lsqr') #fastest solver for Ridge Regression \n",
    "    \n",
    "    \n",
    "#Instantiate and fit a ridge reg to the min_max scaled data\n",
    "ridge_scaled = ridge.fit(X_train_mm, y_train)\n",
    "\n",
    "\n",
    "# Instantiate and fit ridge reg classifier to the unscaled data\n",
    "ridge_unscaled = ridge1.fit(X_train, y_train)\n",
    "\n",
    "\n",
    "# Compute and print metrics\n",
    "print('Accuracy with Min Max Scaling: {}'.format(ridge_scaled.score(X_val_mm, y_val)))\n",
    "print('Accuracy without Scaling: {}'.format(ridge_unscaled.score(X_val, y_val)))\n"
   ]
  },
  {
   "cell_type": "markdown",
   "metadata": {},
   "source": [
    "## Testing Models"
   ]
  },
  {
   "cell_type": "markdown",
   "metadata": {},
   "source": [
    "## Comparison of the models:\n",
    "\n",
    "We tested 6 different regression models \n",
    "* Linear\n",
    "* Linear Log\n",
    "* Ridge\n",
    "* Ridge with PCA\n",
    "* Linear with PCA\n",
    "* elasticnet with PCA\n",
    "\n",
    "We Test with Two parameterrs\n",
    "* MAE\n",
    "* RMSLE (Root Mean Squared Log Error)\n",
    "\n",
    "Our dealer is using our prediction to decide if the asking price is lower than the predicted price he could get on Craig's list. The dealer is risk averse he does not want to take the deal if there is a high chance that the predicted price he is using is larger than the actual price. Therefore between two equally accurate models he would prefer if the  predictions under valued the car then over valued the car.\n",
    "\n",
    "The RMSLE creates a larger penalty if the prediction is under the value than if it is over the value. Second RMSLe if we are looking at something with a long y tail distribution. This is seen in car prices. That said RMSLE usually also looks at something with exponent growth which is not the case here. We will use this as a first measurement of fit.\n",
    "\n",
    "\n",
    "The Median Absolute Error is useful for just getting an overall fit of the model.It is a quick and easy way to compare how well one model does versus the other. Further it is not effected by the number of parameters as say R squared. This will give us the close prediction that we want. We will use this as our second measurement of fit.\n",
    "\n",
    "Note for RMSLE we are looking at the lowest number not the highest."
   ]
  },
  {
   "cell_type": "markdown",
   "metadata": {},
   "source": [
    "#### Base testing Creating RMSLE "
   ]
  },
  {
   "cell_type": "markdown",
   "metadata": {},
   "source": [
    "We are going to put some restraints on the prediction. We know that the minimum price of the car is 0. So when we take the regressions we will zero out and predictions greater than 0."
   ]
  },
  {
   "cell_type": "code",
   "execution_count": null,
   "metadata": {},
   "outputs": [],
   "source": [
    "\n"
   ]
  },
  {
   "cell_type": "code",
   "execution_count": 472,
   "metadata": {},
   "outputs": [],
   "source": [
    "\n",
    "def quick_run(estimatorx, X_train, y_train, X_test, y_test, folds=5, name_g= 'default'):\n",
    "    \"\"\"\n",
    "    Put in X and Y train and test values as well as the regression\n",
    "    ___\n",
    "    Returns:  Y_ predictions and cross validated statistics\n",
    "    \"\"\"\n",
    "    from sklearn.metrics import make_scorer, r2_score, median_absolute_error\n",
    "    from sklearn.model_selection import cross_val_score\n",
    "    #make rmsle score\n",
    "    def rmsle(real, predicted):\n",
    "        predicted[predicted<0] = 0\n",
    "        return np.mean(np.square(np.log1p(real) - np.log1p(predicted)))    \n",
    "    def MedianAbsoluteError(real:np.ndarray, predicted:np.ndarray) -> np.float64:\n",
    "        \"\"\"\n",
    "        The Root Mean Squared Log Error (RMSLE) metric \n",
    "        \n",
    "        :param y_true: The ground truth labels given in the dataset\n",
    "        :param y_pred: Our predictions\n",
    "        :return: The RMSLE score\n",
    "        \"\"\"\n",
    "        predicted[predicted<0] = 0\n",
    "        return np.sqrt(median_absolute_error(real, predicted))\n",
    "\n",
    "    rmsle_score = make_scorer(rmsle, greater_is_better=False)\n",
    "    mae = make_scorer(MedianAbsoluteError, greater_is_better=False)\n",
    "    #fit estimate\n",
    "    estimatorx.fit(X_train, y_train)\n",
    "        \n",
    "    # Predict using model:\n",
    "    y_predict= estimatorx.predict(X_train)\n",
    "    y_predict_test = estimatorx.predict(X_test)\n",
    "    y_predict[y_predict<0] = 0 #The minimum price for a car is 0\n",
    "    y_predict_test[y_predict_test<0] = 0 #The minimum price for a car is 0   \n",
    "    \n",
    "    #Cross validate scores for rmsle\n",
    "    #cv_scores_train = cross_val_score(estimator= estimatorx, X=X_train, y=y_train, cv=folds, scoring=rmsle_score)\n",
    "    #cv_scores_test = cross_val_score(estimator= estimatorx, X=X_test, y=y_test, cv=folds, scoring=rmsle_score)\n",
    "    \n",
    "    cv_scores_train = cross_val_score(estimator= estimatorx, X=X_train, y=y_train, cv=folds, scoring=rmsle_score)\n",
    "    cv_scores_test = cross_val_score(estimator= estimatorx, X=X_test, y=y_test, cv=folds, scoring=rmsle_score)\n",
    "    \n",
    "    #Cross validate scores for R2\n",
    "    cv_mae_train = cross_val_score(estimator= estimatorx, X=X_train, y=y_train, cv=folds, scoring=mae)\n",
    "    cv_mae_test = cross_val_score(estimator= estimatorx, X=X_test, y=y_test, cv=folds, scoring=mae)\n",
    "    \n",
    "    #get stats for cross validated scored rmsle\n",
    "    \n",
    "    cv_scores_test_mean= cv_scores_test.mean()\n",
    "    cv_scores_train_mean= cv_scores_train.mean()\n",
    "    cv_scores_test_std= cv_scores_test.std()\n",
    "    \n",
    "    #get stats for cross validated scored rmsle\n",
    "    cv_mae_test_mean= cv_mae_test.mean()\n",
    "    cv_mae_test_std= cv_mae_test.std()\n",
    "    cv_mae_train_mean= cv_mae_train.mean()\n",
    "    if name_g == 'default':\n",
    "        name_reg = str(estimatorx)\n",
    "    else:\n",
    "        name_reg = name_g\n",
    "    c= [name_reg,cv_mae_train_mean,  cv_mae_test_mean, cv_mae_test_std, cv_scores_train_mean, cv_scores_test_mean, cv_scores_test_std]\n",
    "    \n",
    "\n",
    "    print('Cross Validated Scores for regression equation: {} '.format(name_reg))\n",
    "    print('RMSLE: ')\n",
    "    print ('Mean train score: ' +str(cv_scores_train_mean))\n",
    "    print ('Mean test score: ' +str(cv_scores_test_mean))\n",
    "    print ('Standard Deviation test score: ' +str(cv_scores_test_std))\n",
    "    print('')\n",
    "    print('Negative Median Absolute Error: ')\n",
    "    print ('Mean train score: ' +str(cv_mae_train_mean))\n",
    "    print ('Mean test score: ' +str(cv_mae_test_mean))\n",
    "    print ('Standard Deviation test score: ' +str(cv_mae_test_std))\n",
    "    print('')\n",
    "    diff = y_predict_test- y_test\n",
    "    diff.hist(bins = 40)\n",
    "    plt.title('Histogram of Error for {} '.format(name_reg))\n",
    "    plt.xlabel('Error in Price Prediction')\n",
    "    plt.ylabel('Frequency')\n",
    "    return y_predict_test, c\n",
    "\n"
   ]
  },
  {
   "cell_type": "markdown",
   "metadata": {},
   "source": [
    "#### Base testing 1 - Linear"
   ]
  },
  {
   "cell_type": "code",
   "execution_count": 473,
   "metadata": {},
   "outputs": [
    {
     "name": "stdout",
     "output_type": "stream",
     "text": [
      "Cross Validated Scores for regression equation: Linear \n",
      "RMSLE: \n",
      "Mean train score: -0.9027800329751301\n",
      "Mean test score: -0.932255861267409\n",
      "Standard Deviation test score: 0.11459547931430787\n",
      "\n",
      "Negative Median Absolute Error: \n",
      "Mean train score: -48.82513204353845\n",
      "Mean test score: -49.4519262760159\n",
      "Standard Deviation test score: 0.6666990261647011\n",
      "\n"
     ]
    },
    {
     "data": {
      "image/png": "[encoded data removed]",
      "text/plain": [
       "<Figure size 432x288 with 1 Axes>"
      ]
     },
     "metadata": {
      "needs_background": "light"
     },
     "output_type": "display_data"
    }
   ],
   "source": [
    "# Apply Linear model to training data:\n",
    "linear = LinearRegression() \n",
    "y_predict_test_linear, c_linear = quick_run(linear, X_train, y_train, X_val_mm, y_val, name_g= 'Linear')"
   ]
  },
  {
   "cell_type": "markdown",
   "metadata": {},
   "source": [
    "#### Base testing 2 - Linear_Log"
   ]
  },
  {
   "cell_type": "code",
   "execution_count": 474,
   "metadata": {},
   "outputs": [
    {
     "name": "stdout",
     "output_type": "stream",
     "text": [
      "Cross Validated Scores for regression equation: Linear Log \n",
      "RMSLE: \n",
      "Mean train score: -0.0035588683512425717\n",
      "Mean test score: -0.003530513201391005\n",
      "Standard Deviation test score: 0.00024057537003983578\n",
      "\n",
      "Negative Median Absolute Error: \n",
      "Mean train score: -0.41417667932097524\n",
      "Mean test score: -0.41824760339301675\n",
      "Standard Deviation test score: 0.0033115055006499913\n",
      "\n"
     ]
    },
    {
     "data": {
      "image/png": "[encoded data removed]",
      "text/plain": [
       "<Figure size 432x288 with 1 Axes>"
      ]
     },
     "metadata": {
      "needs_background": "light"
     },
     "output_type": "display_data"
    }
   ],
   "source": [
    "# Apply Linear Log model to training data:\n",
    "linlog = LinearRegression() #previous optimization different study\n",
    "y_train_lg = np.log(y_train)\n",
    "y_val_lg = np.log(y_val)\n",
    "y_predict_test_linlog, c_linlog = quick_run(linlog, X_train, y_train_lg, X_val_mm, y_val_lg, name_g ='Linear Log')\n"
   ]
  },
  {
   "cell_type": "markdown",
   "metadata": {},
   "source": [
    "#### Base testing 3 - Ridge"
   ]
  },
  {
   "cell_type": "code",
   "execution_count": 475,
   "metadata": {},
   "outputs": [
    {
     "name": "stdout",
     "output_type": "stream",
     "text": [
      "Cross Validated Scores for regression equation: Ridge \n",
      "RMSLE: \n",
      "Mean train score: -0.4897947878447342\n",
      "Mean test score: -0.9308827198592237\n",
      "Standard Deviation test score: 0.1126013581898865\n",
      "\n",
      "Negative Median Absolute Error: \n",
      "Mean train score: -70.9328424054175\n",
      "Mean test score: -49.45617990934977\n",
      "Standard Deviation test score: 0.6014504005236043\n",
      "\n"
     ]
    },
    {
     "data": {
      "image/png": "[encoded data removed]",
      "text/plain": [
       "<Figure size 432x288 with 1 Axes>"
      ]
     },
     "metadata": {
      "needs_background": "light"
     },
     "output_type": "display_data"
    }
   ],
   "source": [
    "# Apply Ridge model to training data:\n",
    "ridge_s = Ridge(solver=  'lsqr') #We specify solver because otherwise the program decides whichever solver it deems best\n",
    "y_predict_test_ridge, c_ridge = quick_run(ridge_s, X_train, y_train, X_val_mm, y_val, name_g= 'Ridge')\n",
    "\n"
   ]
  },
  {
   "cell_type": "markdown",
   "metadata": {},
   "source": [
    "#### Base testing 4 - Elasticnet"
   ]
  },
  {
   "cell_type": "code",
   "execution_count": 476,
   "metadata": {},
   "outputs": [
    {
     "name": "stdout",
     "output_type": "stream",
     "text": [
      "Cross Validated Scores for regression equation: ElasticNet \n",
      "RMSLE: \n",
      "Mean train score: -0.4611033884597534\n",
      "Mean test score: -0.448079470064064\n",
      "Standard Deviation test score: 0.020117631703649958\n",
      "\n",
      "Negative Median Absolute Error: \n",
      "Mean train score: -51.3364435573248\n",
      "Mean test score: -66.65941278094814\n",
      "Standard Deviation test score: 0.3361033383883277\n",
      "\n"
     ]
    },
    {
     "data": {
      "image/png": "[encoded data removed]",
      "text/plain": [
       "<Figure size 432x288 with 1 Axes>"
      ]
     },
     "metadata": {
      "needs_background": "light"
     },
     "output_type": "display_data"
    }
   ],
   "source": [
    "elastic = ElasticNet( selection= 'random'  ) #random was selected as the selector since it is faster\n",
    "y_predict_test_elastic, c_elastic = quick_run(elastic, X_train, y_train, X_val_mm, y_val,  name_g= 'ElasticNet')\n"
   ]
  },
  {
   "cell_type": "markdown",
   "metadata": {},
   "source": [
    "#### Base testing 5 - Linear PCA"
   ]
  },
  {
   "cell_type": "code",
   "execution_count": 477,
   "metadata": {},
   "outputs": [
    {
     "name": "stdout",
     "output_type": "stream",
     "text": [
      "Cross Validated Scores for regression equation: PCA Linear \n",
      "RMSLE: \n",
      "Mean train score: -0.5038409265623894\n",
      "Mean test score: -0.4538315854074787\n",
      "Standard Deviation test score: 0.01859515702709868\n",
      "\n",
      "Negative Median Absolute Error: \n",
      "Mean train score: -71.46364658144839\n",
      "Mean test score: -66.3215404156238\n",
      "Standard Deviation test score: 0.20684351958068575\n",
      "\n"
     ]
    },
    {
     "data": {
      "image/png": "[encoded data removed]",
      "text/plain": [
       "<Figure size 432x288 with 1 Axes>"
      ]
     },
     "metadata": {
      "needs_background": "light"
     },
     "output_type": "display_data"
    }
   ],
   "source": [
    "from sklearn.decomposition import PCA\n",
    "from sklearn.pipeline import Pipeline\n",
    "\n",
    "\n",
    "# Define a pipeline to search for the best combination of PCA truncation\n",
    "# and classifier regularization.\n",
    "pca = PCA(n_components=3) #from previous opt\n",
    "# set the tolerance to a large value to make the example faster\n",
    "linearz = LinearRegression()\n",
    "pc_lin = Pipeline(steps=[('pca', pca), ('linear', linearz)])\n",
    "\n",
    "y_predict_test_pca_lin, c_pca_lin = quick_run(pc_lin, X_train, y_train, X_val_mm, y_val, name_g= 'PCA Linear')\n"
   ]
  },
  {
   "cell_type": "markdown",
   "metadata": {},
   "source": [
    "#### Base testing 6 - Ridge PCA"
   ]
  },
  {
   "cell_type": "code",
   "execution_count": 478,
   "metadata": {},
   "outputs": [
    {
     "name": "stdout",
     "output_type": "stream",
     "text": [
      "Cross Validated Scores for regression equation: PCA Ridge \n",
      "RMSLE: \n",
      "Mean train score: -0.5038409265623892\n",
      "Mean test score: -0.45380600346870387\n",
      "Standard Deviation test score: 0.018594837886522123\n",
      "\n",
      "Negative Median Absolute Error: \n",
      "Mean train score: -71.4636465814489\n",
      "Mean test score: -66.31521953389263\n",
      "Standard Deviation test score: 0.2176123186047406\n",
      "\n"
     ]
    },
    {
     "data": {
      "image/png": "[encoded data removed]",
      "text/plain": [
       "<Figure size 432x288 with 1 Axes>"
      ]
     },
     "metadata": {
      "needs_background": "light"
     },
     "output_type": "display_data"
    }
   ],
   "source": [
    "# Define a pipeline to search for the best combination of PCA truncation\n",
    "# and classifier regularization.\n",
    "pca = PCA(n_components=3) #from previous opt\n",
    "# set the tolerance to a large value to make the example faster\n",
    "ridge_p =  Ridge(solver='lsqr') #fastest solver for ridge\n",
    "pc_ridge = Pipeline(steps=[('pca', pca), ('ridge', ridge_p)])\n",
    "\n",
    "y_predict_test_pca_ridge, c_pca_ridge = quick_run(pc_ridge, X_train, y_train, X_val_mm, y_val, name_g= 'PCA Ridge')\n",
    "\n"
   ]
  },
  {
   "cell_type": "markdown",
   "metadata": {},
   "source": [
    "#### Base testing 7 - Elasticnet PCA"
   ]
  },
  {
   "cell_type": "code",
   "execution_count": 479,
   "metadata": {},
   "outputs": [
    {
     "name": "stdout",
     "output_type": "stream",
     "text": [
      "Cross Validated Scores for regression equation: PCA Elastic \n",
      "RMSLE: \n",
      "Mean train score: -0.5038409265623893\n",
      "Mean test score: -0.4538099724407877\n",
      "Standard Deviation test score: 0.018552242978391847\n",
      "\n",
      "Negative Median Absolute Error: \n",
      "Mean train score: -71.46364658144894\n",
      "Mean test score: -66.30532167423283\n",
      "Standard Deviation test score: 0.20095163552879408\n",
      "\n"
     ]
    },
    {
     "data": {
      "image/png": "[encoded data removed]",
      "text/plain": [
       "<Figure size 432x288 with 1 Axes>"
      ]
     },
     "metadata": {
      "needs_background": "light"
     },
     "output_type": "display_data"
    }
   ],
   "source": [
    "# Define a pipeline to search for the best combination of PCA truncation\n",
    "# and classifier regularization.\n",
    "pca = PCA(n_components=3) #from previous opt\n",
    "# set the tolerance to a large value to make the example faster\n",
    "elastic_p =  ElasticNet( selection= 'random' )  #fastest selection for elastic\n",
    "\n",
    "pc_elastic = Pipeline(steps=[('pca', pca), ('elastic_p', elastic_p)])\n",
    "\n",
    "y_predict_test_pca_elastic, c_pca_elastic = quick_run(pc_ridge, X_train, y_train, X_val_mm, y_val, name_g= 'PCA Elastic')\n"
   ]
  },
  {
   "cell_type": "markdown",
   "metadata": {},
   "source": [
    "### Comparing Models"
   ]
  },
  {
   "cell_type": "markdown",
   "metadata": {},
   "source": [
    "As we look at the 6 models we find a two trends:\n",
    "* Ridge Regression and Ridge Regression with PCA have a higher RMSLE than the other regressions\n",
    "* Regressions with PCA with the same components have identical values for RMSLE and MAE\n",
    "\n",
    "This leaves us looking at Ridge Regression with PCA as the model we want to hypertune the parameters for.\n",
    "We will also check if the model will look better with more or less features.\n",
    "\n",
    "\n",
    "\n"
   ]
  },
  {
   "cell_type": "markdown",
   "metadata": {},
   "source": [
    "#### Comparing Models table"
   ]
  },
  {
   "cell_type": "code",
   "execution_count": null,
   "metadata": {},
   "outputs": [],
   "source": [
    "score_columns= ['Algorithm', 'MAE Train', 'MAE Test',  'MAE Test std', 'RMSLE Train', 'RMSLE Test',  'RMSLE Test std']\n",
    "c_data =[c_linear, c_ridge, c_elastic, c_pca_lin, c_pca_ridge, c_pca_elastic]\n",
    "convert_dict = {'MAE Train': int, 'MAE Test': int} \n",
    "score_tab = pd.DataFrame(c_data, columns= score_columns )\n",
    "score_tab = score_tab.astype(convert_dict) "
   ]
  },
  {
   "cell_type": "code",
   "execution_count": null,
   "metadata": {},
   "outputs": [],
   "source": [
    "pd.options.display.float_format = '{:.3f}'.format\n",
    "score_tab.sort_values('RMSLE Test', ascending= False)"
   ]
  },
  {
   "cell_type": "markdown",
   "metadata": {},
   "source": [
    "#### Comparing Models Graph"
   ]
  },
  {
   "cell_type": "code",
   "execution_count": null,
   "metadata": {},
   "outputs": [],
   "source": [
    "from matplotlib import cm\n",
    "score_tab_RMSLE= score_tab[['Algorithm','RMSLE Train', 'RMSLE Test']].set_index('Algorithm')\n",
    "cmap = cm.get_cmap('Spectral') \n",
    "\n",
    "ax=score_tab_RMSLE.plot.bar(rot=0, figsize=(10,6), cmap=cmap )\n",
    "ax.tick_params(labelbottom=False,labeltop=True)\n",
    "plt.title('Comparison of Algorithms on RMSLE score', fontsize=12)\n",
    "plt.xlabel('Models',fontsize=10)\n",
    "plt.ylabel ('RMSLE scores',fontsize=10)\n",
    "plt.savefig(\"Figx_ModelComparison.png\")\n"
   ]
  },
  {
   "cell_type": "code",
   "execution_count": null,
   "metadata": {},
   "outputs": [],
   "source": [
    "from matplotlib import cm\n",
    "score_tab_RMSLE= score_tab[['Algorithm','MAE Train', 'MAE Test']].set_index('Algorithm')\n",
    "cmap = cm.get_cmap('tab10') \n",
    "\n",
    "ax=score_tab_RMSLE.plot.bar(rot=0, figsize=(10,6), cmap=cmap )\n",
    "ax.tick_params(labelbottom=False,labeltop=True)\n",
    "plt.title('Comparison of Algorithms on MAE score', fontsize=12)\n",
    "plt.xlabel('Models',fontsize=10)\n",
    "plt.ylabel ('RMSLE scores',fontsize=10)\n",
    "plt.savefig(\"Figx_ModelComparison.png\")\n"
   ]
  },
  {
   "cell_type": "markdown",
   "metadata": {},
   "source": [
    "#### Notes\n",
    "The  $R^{2}$ scores are very close between the models. Therefore we pick the one with the lowest standard deviation between $R^{2}$ scores which is the Ridge regression."
   ]
  },
  {
   "cell_type": "markdown",
   "metadata": {},
   "source": [
    "### Optimizing Ridge Regression"
   ]
  },
  {
   "cell_type": "markdown",
   "metadata": {},
   "source": [
    "Now that we know that Ridge Regression (with and without PCA) looks like the best model we use a grid search to find the best parameters"
   ]
  },
  {
   "cell_type": "markdown",
   "metadata": {},
   "source": [
    "### Applying Grid search CV for hyperparameter Tuning:"
   ]
  },
  {
   "cell_type": "markdown",
   "metadata": {},
   "source": [
    "#### Hyperparameter Tuning: Ridge Regression"
   ]
  },
  {
   "cell_type": "code",
   "execution_count": null,
   "metadata": {},
   "outputs": [],
   "source": [
    "#as I cannot use RMSLE to Grid searchI do that on my own. I don't cr"
   ]
  },
  {
   "cell_type": "code",
   "execution_count": null,
   "metadata": {},
   "outputs": [],
   "source": [
    "# Testing different Ridge Regressions\n",
    "params_Ridge = {'alpha': [1, 0.1, 0.001],  \"fit_intercept\": [True, False], 'solver': ['svd', 'lsqr', 'cholesky']}\n",
    "ridge_reg = Ridge()\n",
    "\n",
    "\n",
    "\n",
    "Ridge_GS = GridSearchCV(ridge_reg, param_grid=params_Ridge, cv=5, verbose=8)\n",
    "\n",
    "Ridge_GS.fit(X_train_mm, y_train)\n",
    "print('For non scaled data using Ridge Regression')\n",
    "print('Best Score: {}'.format(Ridge_GS.best_score_))\n",
    "print('Best estimator: {}'.format(Ridge_GS.best_estimator_))\n",
    "print('Best parameters: {}'.format(Ridge_GS.best_params_))\n"
   ]
  },
  {
   "cell_type": "markdown",
   "metadata": {},
   "source": [
    "Using the best parameters from the grid search we create the best ridge model"
   ]
  },
  {
   "cell_type": "code",
   "execution_count": null,
   "metadata": {},
   "outputs": [],
   "source": [
    "print('For hyper parameter tuned Ridge Regression')\n",
    "print('Best Score: {}'.format(Ridge_GS.best_score_))\n",
    "print('Best estimator: {}'.format(Ridge_GS.best_estimator_))\n",
    "print('Best parameters: {}'.format(Ridge_GS.best_params_))\n",
    "#Ridge(alpha=0.1, solver='svd')\n"
   ]
  },
  {
   "cell_type": "code",
   "execution_count": null,
   "metadata": {},
   "outputs": [],
   "source": [
    "Ridge_opt = Ridge(**Ridge_GS.best_params_)\n",
    "\n",
    "from sklearn.model_selection import cross_val_score\n",
    "all_accuracies = cross_val_score(estimator=Ridge_opt, X=X_train_mm, y=y_train, cv=7)\n",
    "print(all_accuracies)\n",
    "\n",
    "Ridge_opt.fit(X_train_mm, y_train)\n",
    "\n",
    "\n",
    "y_predict_Ridge_opt=Ridge_opt.predict(X_val_mm)\n",
    "y_predict_Ridge_opt[y_predict_Ridge_opt<0] = 0\n",
    "ridge_opt_score= Ridge_opt.score(X_val_mm, y_val)\n",
    "\n",
    "print('Ridge using outside test_data : {}'.format(ridge_opt_score))\n",
    "\n",
    "cv_scores_train = cross_val_score(estimator= Ridge_opt, X=X_train_mm, y=y_train, cv=5)\n",
    "\n",
    "#we are going to use a larger set now to test\n",
    "cv_scores_test = cross_val_score(estimator= Ridge_opt, X=X_test_mm, y=y_test, cv=5)\n",
    "print(cv_scores_test)\n",
    "\n",
    "RMSLE_Ridge_opt= mean_squared_log_error(y_predict_Ridge_opt, y_val)\n",
    "\n",
    "\n",
    "cv_scores_ridge_opt_test= cv_scores_test.mean()\n",
    "cv_scores_ridge_opt_train= cv_scores_train.mean()\n",
    "cv_scores_ridge_opt_std= cv_scores_test.std()\n",
    "print('For Ridge Regression:')\n",
    "print ('Mean cross validation test score: ' +str(cv_scores_ridge_opt_test))\n",
    "print ('Mean cross validation train score: ' +str(cv_scores_ridge_opt_train))\n",
    "print ('Standard deviation in cv scores: ' +str(cv_scores_ridge_opt_std))\n",
    "print ('RMSLE: ' +str(RMSLE_Ridge_opt))"
   ]
  },
  {
   "cell_type": "markdown",
   "metadata": {},
   "source": [
    "### Looking at the error for Optimized Ridge Regression"
   ]
  },
  {
   "cell_type": "code",
   "execution_count": null,
   "metadata": {},
   "outputs": [],
   "source": [
    "diff = y_val- y_predict_Ridge_opt\n",
    "awd = X_val['drive_4wd']\n",
    "cylinders = X_val['cylinders']\n",
    "Tesla = X_val['manufacturer_Tesla']\n",
    "electric = X_val['fuel_electric']==1\n",
    "\n",
    "gas = X_val['fuel_gas']==1\n",
    "sns.histplot(x=diff, binrange=[-30000, 30000], hue= gas)\n",
    "plt.title('Histogram of Errr for Ridge Regression with hyper tuned Parameters')\n",
    "plt.xlabel('Price Prediction Error $')\n",
    "\n",
    "plt.xlabel('Difference in Price')\n"
   ]
  },
  {
   "cell_type": "code",
   "execution_count": null,
   "metadata": {},
   "outputs": [],
   "source": [
    "p= sns.jointplot(x=y_val, y=y_predict_Ridge_opt, kind=\"kde\", xlim= [4000, 70000], hue= gas )\n",
    "p.fig.suptitle(\"Scatterplot of Ridge regression with PCA  Error\")\n",
    "p.ax_joint.collections[0].set_alpha(0)\n",
    "p.fig.tight_layout()\n",
    "p.fig.subplots_adjust(top=0.95) # Reduce plot to make room \n"
   ]
  },
  {
   "cell_type": "markdown",
   "metadata": {},
   "source": [
    "### Calculating Coefficents and it's importance"
   ]
  },
  {
   "cell_type": "code",
   "execution_count": null,
   "metadata": {},
   "outputs": [],
   "source": [
    "\n",
    "#Table and features\n",
    "feature_names = X_train.columns\n",
    "\n",
    "coefs = pd.DataFrame(\n",
    "    Ridge_opt.coef_,\n",
    "    columns=['Coefficients'], index=feature_names\n",
    ")\n",
    "\n",
    "\n",
    "from sklearn.model_selection import cross_validate\n",
    "from sklearn.model_selection import RepeatedKFold\n",
    "\n",
    "cv_model = cross_validate(\n",
    "    Ridge_opt, X_train_mm, y_train, cv=RepeatedKFold(n_splits=5, n_repeats=5),\n",
    "    return_estimator=True\n",
    ")\n",
    "\n",
    "coefs2 = pd.DataFrame(\n",
    "    [est.coef_  for est in cv_model['estimator']],\n",
    "    columns=feature_names\n",
    ")\n",
    "\n",
    "fig, axs = plt.subplots(1, 2, figsize=(14, 24), sharey=True, sharex=True)\n",
    "\n",
    "\n",
    "ax = plt.subplot(121)\n",
    "sns.barplot(x='Coefficients', y=feature_names, data=coefs)\n",
    "plt.title(\"Coefficents value\")\n",
    "\n",
    "plt.subplot(122)\n",
    "#graphing coefficent and importance\n",
    "#sns.swarmplot(data=coefs2, orient='h', color='k', alpha=0.5, size=3)\n",
    "sns.stripplot(data=coefs2, orient='h', color='k', alpha=0.5, size=3)\n",
    "sns.boxplot(data=coefs2, orient='h', color='cyan', saturation=0.5)\n",
    "plt.axvline(x=0, color='.5')\n",
    "plt.title(\"Coefficents variability\")\n",
    "plt.xlabel('Coefficient importance')\n",
    "\n",
    "plt.subplots_adjust(left=.3)\n",
    "\n",
    "for ax in fig.get_axes():\n",
    "    ax.label_outer()\n",
    "#fig.title('Ridge model no PCA Coefficents')"
   ]
  },
  {
   "cell_type": "code",
   "execution_count": null,
   "metadata": {},
   "outputs": [],
   "source": [
    "### Ridge PCA chained\n",
    "\n",
    "#we are going to use the best parameters from the previous search and see\n",
    "\n",
    "\n",
    "# Define a pipeline to search for the best combination of PCA truncation\n",
    "# and classifier regularization.\n",
    "pca = PCA()\n",
    "# set the tolerance to a large value to make the example faster\n",
    "#ridge = Ridge(solver='lsqr')\n",
    "pipe = Pipeline(steps=[('pca', pca), ('ridge', ridge)])\n",
    "\n",
    "#we use the best solver from the previous regression\n",
    "\n",
    "param_grid = {\n",
    "    'pca__n_components': [3, 5, 7, 10, 15, 30, 60, 85, 90],\n",
    "    'ridge__alpha': [1, 0.1, 0.001],\n",
    "    'ridge__solver': [Ridge_GS.best_estimator_.solver]\n",
    "}\n",
    "search = GridSearchCV(pipe, param_grid, cv=5, n_jobs=-1, verbose= 8)\n",
    "search.fit(X_train, y_train)\n",
    "\n",
    "print('For Min Max scaled data using chained PCA and Ridge  Regression')\n",
    "print('Best Score: {}'.format(search.best_score_))\n",
    "print('Best estimator: {}'.format(search.best_estimator_))\n",
    "print('Best parameters: {}'.format(search.best_params_))\n"
   ]
  },
  {
   "cell_type": "code",
   "execution_count": null,
   "metadata": {},
   "outputs": [],
   "source": [
    "\n",
    "pipe_p = search.best_estimator_\n",
    "\n",
    "\n",
    "from sklearn.model_selection import cross_val_score\n",
    "all_accuracies = cross_val_score(estimator=pipe_p, X=X_train_mm, y=y_train, cv=7)\n",
    "print(all_accuracies)\n",
    "\n",
    "pipe_p.fit(X_train_mm, y_train)\n",
    "\n",
    "\n",
    "y_predict_Ridge_opt_pca=pipe_p.predict(X_val_mm)\n",
    "y_predict_Ridge_opt_pca[y_predict_Ridge_opt_pca<0] = 0\n",
    "Ridge_opt_pca_score= pipe_p.score(X_val_mm, y_val)\n",
    "\n",
    "print('Ridge using outside test_data : {}'.format(Ridge_opt_pca_score))\n",
    "\n",
    "cv_scores_train = cross_val_score(estimator= pipe_p, X=X_train_mm, y=y_train, cv=5)\n",
    "\n",
    "#we are going to use a larger set now to test\n",
    "cv_scores_test = cross_val_score(estimator= pipe_p, X=X_test_mm, y=y_test, cv=5)\n",
    "print(cv_scores_test)\n",
    "\n",
    "RMSLE_Ridge_opt_pca= mean_squared_log_error(y_predict_Ridge_opt_pca, y_val)\n",
    "\n",
    "\n",
    "cv_scores_ridge_opt_pca_test= cv_scores_test.mean()\n",
    "cv_scores_ridge_opt_pca_train= cv_scores_train.mean()\n",
    "cv_scores_ridge_opt_pca_std= cv_scores_test.std()\n",
    "print('For Optimized Ridge Regression with PCA:')\n",
    "print ('Mean cross validation test score: ' +str(cv_scores_ridge_opt_pca_test))\n",
    "print ('Mean cross validation train score: ' +str(cv_scores_ridge_opt_pca_train))\n",
    "print ('Standard deviation in cv scores: ' +str(cv_scores_ridge_opt_pca_std))\n",
    "print ('RMSLE: ' +str(RMSLE_Ridge_opt_pca))"
   ]
  },
  {
   "cell_type": "markdown",
   "metadata": {},
   "source": [
    "We graph the predictions using an optimized Ridge Regression vs the actuals"
   ]
  },
  {
   "cell_type": "markdown",
   "metadata": {},
   "source": [
    "### Looking at the error for Optimized Ridge with PCA"
   ]
  },
  {
   "cell_type": "code",
   "execution_count": null,
   "metadata": {},
   "outputs": [],
   "source": [
    "diff_pca = y_val- y_predict_Ridge_opt_pca\n",
    "awd = X_val['drive_4wd']\n",
    "cylinders = X_val['cylinders']\n",
    "Tesla = X_val['manufacturer_Tesla']\n",
    "electric = X_val['fuel_electric']==1\n",
    "\n",
    "gas = X_val['fuel_gas']==1\n",
    "sns.histplot(x=diff, binrange=[-30000, 30000], hue= gas)\n",
    "plt.title('Histogram of Error for Optimized Ridge Regression with PCA')\n",
    "plt.xlabel('Price Prediction Error $')\n",
    "\n",
    "plt.xlabel('Difference in Price')\n"
   ]
  },
  {
   "cell_type": "code",
   "execution_count": null,
   "metadata": {},
   "outputs": [],
   "source": [
    "p= sns.jointplot(x=y_val, y=y_predict_Ridge_opt_pca, kind=\"kde\", xlim= [4000, 70000], hue= gas )\n",
    "p.fig.suptitle(\"Scatterplot of Ridge regression with PCA  Error\")\n",
    "p.ax_joint.collections[0].set_alpha(0)\n",
    "p.fig.tight_layout()\n",
    "p.fig.subplots_adjust(top=0.95) # Reduce plot to make room \n"
   ]
  },
  {
   "cell_type": "markdown",
   "metadata": {},
   "source": [
    "### Calculating Coefficents and it's importance"
   ]
  },
  {
   "cell_type": "markdown",
   "metadata": {},
   "source": [
    "Next we determine which features have an actual importance. Since we used PCA we find out how much each additional compent helped to explain the data.\n",
    "We note that it is the first by the time we get to PCA n_components=10 we have explained most of the data"
   ]
  },
  {
   "cell_type": "code",
   "execution_count": null,
   "metadata": {},
   "outputs": [],
   "source": [
    "# Plot the PCA spectrum\n",
    "pca.fit(X_train)\n",
    "\n",
    "fig, (ax0, ax1) = plt.subplots(nrows=2, sharex=True, figsize=(6, 6))\n",
    "ax0.plot(np.arange(1, pca.n_components_ + 1),\n",
    "         pca.explained_variance_ratio_, '+', linewidth=2)\n",
    "ax0.set_ylabel('PCA explained variance ratio')\n",
    "\n",
    "ax0.axvline(search.best_estimator_.named_steps['pca'].n_components,\n",
    "            linestyle=':', label='n_components chosen')\n",
    "ax0.legend(prop=dict(size=12))\n",
    "\n",
    "# For each number of components, find the best classifier results\n",
    "results = pd.DataFrame(search.cv_results_)\n",
    "components_col = 'param_pca__n_components'\n",
    "best_clfs = results.groupby(components_col).apply(\n",
    "    lambda g: g.nlargest(1, 'mean_test_score'))\n",
    "\n",
    "best_clfs.plot(x=components_col, y='mean_test_score', yerr='std_test_score',\n",
    "               legend=False, ax=ax1)\n",
    "ax1.set_ylabel('accuracy (val)')\n",
    "ax1.set_xlabel('n_components')\n",
    "\n",
    "plt.xlim(-1, 90)\n",
    "\n",
    "plt.tight_layout()\n",
    "plt.show()\n"
   ]
  },
  {
   "cell_type": "code",
   "execution_count": null,
   "metadata": {},
   "outputs": [],
   "source": [
    "from sklearn.metrics import median_absolute_error\n",
    "\n",
    "y_pred = Ridge_opt.predict(X_train_mm)\n",
    "mae = median_absolute_error(y_train, y_pred)\n",
    "string_score = f'MAE on training set: $ {mae:.2f} '\n",
    "y_pred = Ridge_opt.predict(X_val_mm)\n",
    "mae = median_absolute_error(y_val, y_pred)\n",
    "string_score += f'\\nMAE on testing set: $ {mae:.2f} '\n",
    "plt.scatter(y_val, y_pred)\n",
    "#ax.plot([0, 1], [0, 1], transform=ax.transAxes, ls=\"--\", c=\"red\")\n",
    "#plt.text(-2, 0, string_score)\n",
    "plt.title('Ridge model, Hypertuned parameters')\n",
    "plt.ylabel('Model predictions')\n",
    "plt.xlabel('Truths')\n",
    "plt.xlim([9000, 7000])\n",
    "plt.ylim([9000, 7000])\n",
    "print(string_score)"
   ]
  },
  {
   "cell_type": "markdown",
   "metadata": {},
   "source": [
    "Compare Models"
   ]
  },
  {
   "cell_type": "code",
   "execution_count": null,
   "metadata": {},
   "outputs": [],
   "source": [
    "# stop when you get here"
   ]
  },
  {
   "cell_type": "markdown",
   "metadata": {},
   "source": [
    "Whe we compare the models there is not much difference between the train scores. However the Ridge non optimized has  lower test score when we look at the standard deviation we can see that it already showed a higher standard deviation\n",
    "\n",
    "First let us get an idea what these model look like "
   ]
  },
  {
   "cell_type": "code",
   "execution_count": null,
   "metadata": {},
   "outputs": [],
   "source": [
    "search.best_params_"
   ]
  },
  {
   "cell_type": "code",
   "execution_count": null,
   "metadata": {},
   "outputs": [],
   "source": [
    "myLabels_r = [ 'Ridge', 'Ridge with PCA', 'Ridge Optimized', 'Ridge Optimized with PCA']\n",
    "solver_r = [ridge_s.solver,ridge_p.solver, Ridge_opt.solver, search.best_params_['ridge__solver']]\n",
    "alpha_r = [ridge_s.alpha,ridge_p.alpha, Ridge_opt.alpha, search.best_params_['ridge__alpha']]\n",
    "\n",
    " \n",
    "pca_r = [False , True, False, True]\n",
    "n_components_r = ['NA', '85', 'NA', search.best_params_['pca__n_components']]\n",
    "\n",
    "RMSLE_r = [RMSLE_ridge, RMSLE_pc_ridge, RMSLE_Ridge_opt, RMSLE_Ridge_opt_pca]\n",
    "score_test_r= [cv_scores_ridge_test, cv_scores_pc_ridge_test, cv_scores_ridge_opt_test, cv_scores_ridge_opt_pca_test]\n",
    "score_train_r= [cv_scores_ridge_train, cv_scores_pc_ridge_train, cv_scores_ridge_opt_train, cv_scores_ridge_opt_pca_train]\n",
    "score_std_r= [cv_scores_ridge_std, cv_scores_pc_ridge_std, cv_scores_ridge_opt_std, cv_scores_ridge_opt_pca_std]\n",
    "            \n",
    "score_tab_r = pd.DataFrame(list(zip(myLabels_r, RMSLE_r, score_train_r, score_test_r, score_std_r)), \n",
    "               columns =['Algorithm', 'RMSLE','R2 train score', 'R2 test score', 'R2 deviation train score' ])\n",
    "\n",
    "\n",
    "equation_tab_r = pd.DataFrame(list(zip(myLabels_r, solver_r, alpha_r,pca_r, n_components_r)), \n",
    "columns =['Algorithm', 'Solver', 'Alpha', 'Has PCA', 'PCA components'])\n",
    "\n",
    "equation_tab_r"
   ]
  },
  {
   "cell_type": "code",
   "execution_count": null,
   "metadata": {},
   "outputs": [],
   "source": [
    "score_tab_r"
   ]
  },
  {
   "cell_type": "markdown",
   "metadata": {},
   "source": [
    "### Choosing the Model aka Concusion\n",
    "Now we check on how the results of these algorithm compare. Both optimized regressions have a betteer score than the non optimized regression. \n",
    "\n",
    "We therefore go with the model that is simpler aka the Ridge without PCA. The data has been less processed and the factors are easier to explain.\n"
   ]
  },
  {
   "cell_type": "code",
   "execution_count": null,
   "metadata": {},
   "outputs": [],
   "source": [
    "#Forecast for the price of the Tesla "
   ]
  },
  {
   "cell_type": "code",
   "execution_count": null,
   "metadata": {},
   "outputs": [],
   "source": [
    "#Future Studies"
   ]
  },
  {
   "cell_type": "code",
   "execution_count": null,
   "metadata": {},
   "outputs": [],
   "source": [
    "#Write conclusgion\n",
    "    #Future steps\n",
    "    #Scrape MSRP for all vehicles\n",
    "    # do an f regression to further limit factors\n",
    "    #Multiple years of data\n",
    "    #actual selling price"
   ]
  }
 ],
 "metadata": {
  "kernelspec": {
   "display_name": "Python 3",
   "language": "python",
   "name": "python3"
  },
  "language_info": {
   "codemirror_mode": {
    "name": "ipython",
    "version": 3
   },
   "file_extension": ".py",
   "mimetype": "text/x-python",
   "name": "python",
   "nbconvert_exporter": "python",
   "pygments_lexer": "ipython3",
   "version": "3.7.9"
  }
 },
 "nbformat": 4,
 "nbformat_minor": 4
}
