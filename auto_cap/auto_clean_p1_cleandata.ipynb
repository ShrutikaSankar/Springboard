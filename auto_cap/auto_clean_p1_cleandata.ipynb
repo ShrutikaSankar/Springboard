{
 "cells": [
  {
   "cell_type": "markdown",
   "metadata": {},
   "source": [
    "## Prepping the Data"
   ]
  },
  {
   "cell_type": "markdown",
   "metadata": {},
   "source": [
    "Loading Software"
   ]
  },
  {
   "cell_type": "code",
   "execution_count": null,
   "metadata": {},
   "outputs": [],
   "source": [
    "#load python packages\n",
    "import os\n",
    "import pandas as pd\n",
    "import datetime\n",
    "import seaborn as sns\n",
    "import matplotlib.pyplot as plt\n",
    "import numpy as np\n",
    "%matplotlib inline\n",
    "import urllib\n",
    "import requests\n",
    "import json\n",
    "from sklearn.preprocessing import OneHotEncoder\n",
    "from sklearn.pipeline import Pipeline"
   ]
  },
  {
   "cell_type": "markdown",
   "metadata": {},
   "source": [
    "Load Data"
   ]
  },
  {
   "cell_type": "code",
   "execution_count": null,
   "metadata": {},
   "outputs": [],
   "source": [
    "#Get Path\n",
    "os.getcwd()\n",
    "basepath = os.getcwd()\n",
    "print(basepath)\n",
    "lis_dir = os.listdir()\n",
    "print(lis_dir)\n",
    "\n",
    "# Create the list of file names: filenames\n",
    "\n",
    "file = 'vehicles.csv'\n",
    "\n",
    "print('If you are using the data in my github the data is actually already at the auto_data.csv stage renamed')\n",
    "print('However all the code can be run except for one cell which is clearly marked')\n",
    "\n",
    "sub_file = 'data'\n",
    "file_name_path = os.path.join(basepath, sub_file, file)\n",
    "auto_data= pd.read_csv(file_name_path)\n",
    "\n",
    "\n",
    "\n",
    "#Open data\n",
    "auto_data.head(5)"
   ]
  },
  {
   "cell_type": "code",
   "execution_count": null,
   "metadata": {},
   "outputs": [],
   "source": [
    "#Print the columns names of the entire dataframe\n",
    "print(auto_data.columns)\n",
    "# Review the column names, null value counts and data types of your data frame.\n",
    "auto_data.info()"
   ]
  },
  {
   "cell_type": "markdown",
   "metadata": {},
   "source": [
    "### Dropping Variables from Craigslist Data\n",
    "\n",
    "Variables drop\n",
    "* url   - We will not be using urls in this study\n",
    "* region_url   -  We will not be using urls in this study\n",
    "* description   - Unique for each vehicle\n",
    "* VIN   - Unique for each vehicle\n",
    "* image_url - We will not be using urls in this study \n",
    "* county    - there is no non 0 data points there\n",
    "\n",
    "Drop if data is missing price since we don't know the price we cannot use the vehicle to help build our model to predict price.\n",
    "\n",
    "Drop if data is model, model year, mileage and condition.\n",
    "* Common wisdom suggests that the model, age, mileage and condition (war) are the usual contributors to vehicle price.\n",
    "* While this study will look at other variables we will keep these as the minimum variables.\n"
   ]
  },
  {
   "cell_type": "code",
   "execution_count": null,
   "metadata": {},
   "outputs": [],
   "source": [
    "auto_data= auto_data.drop(columns=['url', 'region_url', 'image_url', 'county', 'description', 'vin'])\n",
    "\n",
    "print(auto_data.columns)\n",
    "\n",
    "auto_data= auto_data.dropna(subset=['condition', 'year', 'odometer', 'model', 'price'])\n",
    "\n",
    "​\n",
    "\n",
    "#known main points for an auto sale condition, age, mileage, type of car if the cars don't have it we don't want it\n",
    "\n",
    "Index(['id', 'region', 'price', 'year', 'manufacturer', 'model', 'condition',\n",
    "       'cylinders', 'fuel', 'odometer', 'title_status', 'transmission',\n",
    "       'drive', 'size', 'type', 'paint_color', 'state', 'lat', 'long'],\n",
    "      dtype='object')"
   ]
  },
  {
   "cell_type": "markdown",
   "metadata": {},
   "source": [
    "### Transforming Strings from Craigslist Data\n",
    "* Cylinders come in whole numbers for an engine (there is no quarter cylinder) so these strings can be converted to integers.\n",
    "* The manufacturer and model regardless of spacing and capitalization aka cars labeled as \"BMW\" or \"bmw\" or \"BMW   \" are all manufactured by BMW."
   ]
  },
  {
   "cell_type": "code",
   "execution_count": null,
   "metadata": {},
   "outputs": [],
   "source": [
    "#Turn Cylinder column from string to numeric\n",
    "auto_data['cyl'] = auto_data['cylinders']\n",
    "auto_data['cyl'] = auto_data['cyl'].replace('other', np.nan)\n",
    "auto_data['cyl'] = auto_data['cyl'].astype(str).str[0:2]\n",
    "auto_data['cyl'] = auto_data['cyl'].str.strip()\n",
    "auto_data['cyl'] = auto_data['cyl'].replace('na', np.nan)\n",
    "auto_data['cyl'] = pd.to_numeric(auto_data['cyl'])\n",
    "auto_data['cylinders']= auto_data['cyl']\n",
    "auto_data= auto_data.drop(['cyl'], axis=1)\n",
    "\n",
    "#plot Cylinders\n",
    "plt.title(\"Numerical Cylinders\")\n",
    "hist = auto_data.cylinders.hist(bins=10)"
   ]
  },
  {
   "cell_type": "code",
   "execution_count": null,
   "metadata": {},
   "outputs": [],
   "source": [
    "#Neaten Strings\n",
    "#Fix manufacturer\n",
    "auto_data['manufacturer']= auto_data['manufacturer'].str.title().str.strip()\n",
    "auto_data['manufacturer']= auto_data['manufacturer'].str.replace(' ', '-')\n",
    "auto_data['manufacturer']= auto_data['manufacturer'].str.replace('Land-Rover', 'Rover') \n",
    "auto_data['manufacturer']= auto_data['manufacturer'].str.replace('Rover', 'Land-Rover') \n",
    "auto_data['manufacturer']= auto_data['manufacturer'].str.replace('Porche', 'Porsche')\n",
    "auto_data['manufacturer']= auto_data['manufacturer'].str.replace('---', '-')\n",
    "auto_data['manufacturer']= auto_data['manufacturer'].str.replace('--', '-')\n",
    "\n",
    "\n",
    "#Fix model\n",
    "auto_data['model']= auto_data['model'].str.title().str.strip()\n",
    "auto_data['model']= auto_data['model'].str.replace(' ', '-')\n",
    "auto_data['model']= auto_data['model'].str.replace('---', '-')\n",
    "auto_data['model']= auto_data['model'].str.replace('--', '-')\n",
    "\n",
    "#fix Type\n",
    "auto_data['type']= auto_data['type'].str.title().str.strip()\n",
    "\n",
    "#States are state codes\n",
    "auto_data['state'] = auto_data['state'].str.upper().str.strip()\n",
    "\n",
    "#If no paint color is given its unlisted and its unrealistc to try to impute it\n",
    "auto_data['paint_color'] = auto_data['paint_color'].fillna('unlisted')\n"
   ]
  },
  {
   "cell_type": "markdown",
   "metadata": {},
   "source": [
    "### Cleaning Rules: Common Sense\n",
    "\n",
    "We want to use data that will help us predict the price of a good condition vehicle. Therefore we are not looking at million dollar superluxury cars nor are we looking at vehicle that are being sold for scraps or as junkers.\n",
    "\n",
    "* This study is not looking at Super luxury cars/ antique cars: \n",
    "    * None of the vehicles should have a price greater than half a million\n",
    "    * They should not be from a Super Luxury Brand (Aston Martin, Ferrari)\n",
    "* This study is not looking at motorbikes or busses \n",
    "    * We don't need Harley Davidson’s or Hennessey’s \n",
    "* This study is not looking at junker cars so we do not need vehicles:\n",
    "    * Priced at 1000 dollars or less\n",
    "    * That have over a half million miles on them\n",
    "    * In poor condition or have a title status equal or worse than salvage\n",
    "    * Are over than 10 years old (we are also not looking at antique cars)\n",
    "* Cleaning obvious errors:\n",
    "    * We are looking at used vehicles so the vehicles age should be greater than 1 year"
   ]
  },
  {
   "cell_type": "code",
   "execution_count": null,
   "metadata": {},
   "outputs": [],
   "source": [
    "# If we are dealing with a vehicle with over a half milion miles we have more problem\n",
    "auto_data = auto_data[(auto_data.odometer< 500000)] \n",
    "\n",
    "\n",
    "#This study is not look at eather junkers or antiques so \n",
    "#a: age has to be greater than 0 and less than 11 years\n",
    "#b: price has to be greater than $100 and less than half million\n",
    "#c: mileage has to be greater than or equal to 0 and less than half million\n",
    "\n",
    "auto_data['age'] = 2020-auto_data['year']\n",
    "auto_data = auto_data[(auto_data.age > 0) & (auto_data.age <= 10)]\n",
    "auto_data = auto_data[(auto_data.price >= 100) & (auto_data.price <= 500000)]\n",
    "auto_data = auto_data[(auto_data.odometer >= 0) & (auto_data.odometer <= 500000)]\n",
    "\n",
    "\n",
    "print(f\"Maximum price: $ {auto_data.price.max()} \\nMinimum price: $ {auto_data.price.min()} \")\n",
    "print(f\"Maximum age:  {auto_data.age.max()} years \\nMinimum age: {auto_data.age.min()} years \")\n",
    "print(f\"Maximum mileage: {auto_data.odometer.max()} \\nMinimum mileage: {auto_data.odometer.min()} \")\n"
   ]
  },
  {
   "cell_type": "code",
   "execution_count": null,
   "metadata": {},
   "outputs": [],
   "source": [
    "#This study is not look junkers so condition and title_ status is better than salvage\n",
    "\n",
    "#See Status of Vehicles\n",
    "auto_data.title_status.value_counts().plot.bar()\n",
    "plt.title(\"Status of the vehicles\")\n",
    "plt.show()"
   ]
  },
  {
   "cell_type": "code",
   "execution_count": null,
   "metadata": {},
   "outputs": [],
   "source": [
    "#See Condition of Vehicles\n",
    "\n",
    "auto_data.condition.value_counts().plot.bar()\n",
    "plt.title(\"Condition of the vehicles\")\n",
    "plt.show()"
   ]
  },
  {
   "cell_type": "code",
   "execution_count": null,
   "metadata": {},
   "outputs": [],
   "source": [
    "#This study does not look junkers so condition and title_ status is better than salvage\n",
    "\n",
    "idx1 = auto_data[auto_data[\"condition\"] == \"salvage\"].index\n",
    "\n",
    "for w in [\"salvage\",\"lien\",\"missing\",\"parts only\", 'rebuilt']:\n",
    "    idx2 = auto_data[auto_data[\"title_status\"] == w].index\n",
    "    idx1 = idx1.union(idx2)\n",
    "    \n",
    "auto_data.drop(idx1, axis = 0, inplace = True)\n",
    "\n",
    "\n",
    "#Graph manufacturers\n",
    "\n",
    "auto_data.manufacturer.value_counts().plot.bar()\n",
    "plt.title(\"manufacturer of the vehicles\")\n",
    "plt.show()\n",
    "\n",
    "#We are not looking at motorbikes so the manufacturers of motorbikes are eliminated\n",
    "auto_data = auto_data[auto_data.manufacturer != 'Harley-Davidson']\n",
    "auto_data = auto_data[auto_data.manufacturer != 'Hennessey']\n"
   ]
  },
  {
   "cell_type": "code",
   "execution_count": null,
   "metadata": {},
   "outputs": [],
   "source": [
    "#We are not looking at buses\n",
    "#Graph type\n",
    "\n",
    "auto_data.type.value_counts().plot.bar()\n",
    "plt.title(\"type\")\n",
    "plt.show()\n",
    "\n",
    "#We are not looking at bus\n",
    "auto_data = auto_data[auto_data.type != 'bus']"
   ]
  },
  {
   "cell_type": "code",
   "execution_count": null,
   "metadata": {},
   "outputs": [],
   "source": [
    "#Create Make Model Model Year Key (Useful for later)\n",
    "auto_data['mmy_a']=auto_data['manufacturer']+' '+auto_data['model']+ ' '+ auto_data['year'].astype(int).astype(str)\n",
    "auto_data['mmy_a']=auto_data['mmy_a'].str.title()\n",
    "\n",
    "auto_data['mmy_a2']=auto_data['manufacturer']+' '+auto_data['model'].str.split(' ').str[0]+ ' '+ auto_data['year'].astype(int).astype(str)\n",
    "auto_data['mmy_a2']=auto_data['mmy_a2'].str.title()\n"
   ]
  },
  {
   "cell_type": "code",
   "execution_count": null,
   "metadata": {},
   "outputs": [],
   "source": [
    "auto_data.info()"
   ]
  },
  {
   "cell_type": "code",
   "execution_count": null,
   "metadata": {},
   "outputs": [],
   "source": [
    "auto_data.describe()"
   ]
  },
  {
   "cell_type": "markdown",
   "metadata": {},
   "source": [
    "Save Cleaned Craig'slist Data"
   ]
  },
  {
   "cell_type": "code",
   "execution_count": null,
   "metadata": {},
   "outputs": [],
   "source": [
    "sub_file = 'data'\n",
    "new_file = 'auto_data.csv'\n",
    "new_file_name_path = os.path.join(basepath,sub_file, new_file)\n",
    "auto_data.to_csv(new_file_name_path, index=False)"
   ]
  },
  {
   "cell_type": "markdown",
   "metadata": {},
   "source": [
    "## Categorical Data\n",
    "We want data on what segment the vehicle is in as that might change the prices significantly.\n",
    "We got this data from back4app an open data source that uses categories based on US department of transportation.\n",
    "\n",
    "Website: https://www.back4app.com/database/back4app/car-make-model-dataset"
   ]
  },
  {
   "cell_type": "code",
   "execution_count": null,
   "metadata": {},
   "outputs": [],
   "source": [
    "#Get Categorical Data\n",
    "\n",
    "where = urllib.parse.quote_plus(\"\"\"\n",
    "{\n",
    "    \"Category\": {\n",
    "        \"$exists\": true\n",
    "    },\n",
    "    \"Year\": {\n",
    "        \"$gte\": 2010\n",
    "    }\n",
    "}\n",
    "\"\"\")\n",
    "url = 'https://parseapi.back4app.com/classes/Carmodels_Car_Model_List?limit=5000&where=%s' % where\n",
    "headers = {\n",
    "    'X-Parse-Application-Id': 'pozCwVISt2yfzi2wJjwo0JiMIJclsUAOchP4AuJO', # This is your app's application id\n",
    "    'X-Parse-REST-API-Key': 'Jtc8r91VIJOizG8ReKkaseZcugQjAx4vG1WKbJye' # This is your app's REST API key\n",
    "}\n",
    "data_json = json.loads(requests.get(url, headers=headers).content.decode('utf-8')) # Here you have the data that you need\n",
    "\n",
    "\n",
    "#import collections"
   ]
  },
  {
   "cell_type": "code",
   "execution_count": null,
   "metadata": {},
   "outputs": [],
   "source": [
    "#the above data was too nested a dictionaries listed in a list that was in a list that was a dictionary\n",
    "print(type(data_json))\n",
    "list_values = [ v for v in data_json.values() ] #undoes dictionary\n",
    "\n",
    "list_value_items = [y for x in list_values for y in x] # undoes list\n",
    "\n",
    "cat_data = pd.DataFrame.from_dict(list_value_items) #turns list of dictionaries into data frame"
   ]
  },
  {
   "cell_type": "markdown",
   "metadata": {},
   "source": [
    "### Dropping Variables from Categorical Data"
   ]
  },
  {
   "cell_type": "code",
   "execution_count": null,
   "metadata": {},
   "outputs": [],
   "source": [
    "#we don't need object id or created at\n",
    "cat_data= cat_data.drop(['objectId', 'createdAt'], axis=1)\n",
    "print(cat_data.head())\n",
    "cat_data.describe()"
   ]
  },
  {
   "cell_type": "markdown",
   "metadata": {},
   "source": [
    "### Transforming Strings from Categorical Data"
   ]
  },
  {
   "cell_type": "code",
   "execution_count": null,
   "metadata": {},
   "outputs": [],
   "source": [
    "#Neaten Strings\n",
    "cat_data['Make'] = cat_data['Make'].str.title().str.strip()\n",
    "cat_data['Make']= cat_data['Make'].str.replace(' ', '-') \n",
    "cat_data['Model'] = cat_data['Model'].str.title().str.strip()\n",
    "cat_data['Model']= cat_data['Model'].str.replace(' ', '-') \n",
    "\n",
    "#Create Key\n",
    "cat_data['mmy']=cat_data['Make']+' '+cat_data['Model'].str.strip()+ ' '+ cat_data['Year'].astype(int).astype(str)\n",
    "cat_data['mmy']= cat_data['mmy'].str.title()\n",
    "\n",
    "cat_data['mmy2']=cat_data['Make']+' '+cat_data['Model'].str.split(' ').str[0]+' '+ cat_data['Year'].astype(int).astype(str)\n",
    "cat_data['mmy2']= cat_data['mmy2'].str.title()\n",
    "\n"
   ]
  },
  {
   "cell_type": "markdown",
   "metadata": {},
   "source": [
    "Save Cleaned Categorical Data"
   ]
  },
  {
   "cell_type": "code",
   "execution_count": null,
   "metadata": {},
   "outputs": [],
   "source": [
    "#Save Categorical Data\n",
    "sub_file = 'data'\n",
    "new_file = 'cat_data.csv'\n",
    "new_file_name_path = os.path.join(basepath,sub_file, new_file)\n",
    "cat_data.to_csv(new_file_name_path, index=False)"
   ]
  },
  {
   "cell_type": "markdown",
   "metadata": {},
   "source": [
    "## Find MSRP data\n",
    "The original price of the car will heavily effect the older price. Let's bring that out.\n",
    "This data is a downloaded file from https://www.kaggle.com/CooperUnion/cardataset . This data was obtained by scraping edmunds (a car rating website) and twitter."
   ]
  },
  {
   "cell_type": "code",
   "execution_count": null,
   "metadata": {},
   "outputs": [],
   "source": [
    "# Create the list of file names: filenames\n",
    "file ='msrp.csv'\n",
    "sub_file = 'data'\n",
    "file_name_path = os.path.join(basepath, sub_file, file)\n",
    "msrp_data= pd.read_csv(file_name_path)\n",
    "\n",
    "#Open data\n",
    "msrp_data.head(5)"
   ]
  },
  {
   "cell_type": "code",
   "execution_count": null,
   "metadata": {},
   "outputs": [],
   "source": [
    "#From the previous cleaning rules we eliminate vehicles with value of over half a million and an age over 10 years\n",
    "\n",
    "print(f\"Maximum MSRP: {msrp_data.MSRP.max()} \\nMinimum MSRP: {msrp_data.MSRP.min()} \")\n",
    "# If we are dealing with a vehicle with an MSRP over half milion miles we have more problem\n",
    "msrp_data = msrp_data[(msrp_data.MSRP< 500000 )] \n",
    "print(f\"Maximum Year: {msrp_data.Year.max()} \\nMinimum Year: {msrp_data.Year.min()} \")\n",
    "# We only need vehicles with over a 2009 MY\n",
    "msrp_data = msrp_data[(msrp_data.Year> 2009 )] "
   ]
  },
  {
   "cell_type": "markdown",
   "metadata": {},
   "source": [
    "### Transforming Strings from Categorical Data"
   ]
  },
  {
   "cell_type": "code",
   "execution_count": null,
   "metadata": {},
   "outputs": [],
   "source": [
    "# Clean Strings/ Neaten Strings\n",
    "\n",
    "msrp_data['Make']= msrp_data['Make'].str.title().str.strip()\n",
    "msrp_data['Make']= msrp_data['Make'].str.replace(' ', '-')\n",
    "msrp_data['Model']= msrp_data['Model'].str.title().str.strip()\n",
    "msrp_data['Model']= msrp_data['Model'].str.replace(' ', '-')\n",
    "\n",
    "#Make Keys\n",
    "msrp_data['mmy']=msrp_data['Make']+' '+msrp_data['Model']+ ' '+ msrp_data['Year'].astype(int).astype(str)\n",
    "msrp_data['mmy']= msrp_data['mmy'].str.title()\n",
    "msrp_data['mmy2']=msrp_data['Make']+' '+msrp_data['Model'].str.split(' ').str[0]+ ' '+ msrp_data['Year'].astype(int).astype(str)\n",
    "msrp_data['mmy2']= msrp_data['mmy2'].str.title()\n"
   ]
  },
  {
   "cell_type": "code",
   "execution_count": null,
   "metadata": {},
   "outputs": [],
   "source": [
    "MSRP_dict = msrp_data.groupby(['Make', 'Model', 'Year', 'mmy', 'mmy2'])['MSRP'].mean().reset_index()\n",
    "MSRP_dict.info()"
   ]
  },
  {
   "cell_type": "markdown",
   "metadata": {},
   "source": [
    "Save Cleaned MSRP Data"
   ]
  },
  {
   "cell_type": "code",
   "execution_count": null,
   "metadata": {},
   "outputs": [],
   "source": [
    "sub_file = 'data'\n",
    "new_file = 'msrp2.csv'\n",
    "new_file_name_path = os.path.join(basepath,sub_file, new_file)\n",
    "msrp_data.to_csv(new_file_name_path, index=False)"
   ]
  }
 ],
 "metadata": {
  "kernelspec": {
   "display_name": "Python 3",
   "language": "python",
   "name": "python3"
  },
  "language_info": {
   "codemirror_mode": {
    "name": "ipython",
    "version": 3
   },
   "file_extension": ".py",
   "mimetype": "text/x-python",
   "name": "python",
   "nbconvert_exporter": "python",
   "pygments_lexer": "ipython3",
   "version": "3.7.9"
  }
 },
 "nbformat": 4,
 "nbformat_minor": 4
}
