{
 "cells": [
  {
   "cell_type": "markdown",
   "metadata": {},
   "source": [
    "# Predicting Prices of Used Cars on Craigslist"
   ]
  },
  {
   "cell_type": "markdown",
   "metadata": {},
   "source": [
    "## Impute the Data"
   ]
  },
  {
   "cell_type": "markdown",
   "metadata": {},
   "source": [
    "When looking at the vehicles we note that there are lot of nulls about the vehicles features (example: the number of cylinders, drive, transmission, size, and type of vehicle). When buying a vehicle these are things you would usually ask the seller because it does effect the price of the vehicle (a vehicle with more cylinders usually is of higher value than one is of less). \n",
    "\n",
    "While these features can differ within a make (aka brand here listed as manufacturer) model, and model year (MMY) of a vehicle we can narrow down what the feature should be given the other features of the vehicle. For example: a  2016 Jaguar F-Type  can be all wheel drive or all-wheel drive ,  be a coupe or convertible, be automatic or manual transmission. You would think there be at least 8 configurations of the F-type.   However only a certain grouping of configurations (called Trims) that these vehicle are sold as.  There are actually on 6 configurations for the 2016 Jaguar F-Type because you can only get a manual transmission with rear wheel drive. \n",
    "\n",
    "If we don't have enough data to impute the vehicle given MMY and the other features we can determine the feature given its MMY. This is because A) There is usually a most popular trim for the MMY of a vehicle. B) Some features do not differ within MMY for example the 2017 Honda Accord only has 4 cylinders. \n",
    "\n",
    "If MMY does not give us a value we can look at just the make and model. The most likely configuration for model does change for each model year. However the trims of these features only change for every redesign of the model which does not happen every model year. So after looking a MMY we look at make model.\n"
   ]
  },
  {
   "cell_type": "markdown",
   "metadata": {},
   "source": [
    "Load data"
   ]
  },
  {
   "cell_type": "code",
   "execution_count": 46,
   "metadata": {},
   "outputs": [],
   "source": [
    "#load python packages\n",
    "import os\n",
    "import pandas as pd\n",
    "import numpy as np\n",
    "\n",
    "#load data\n",
    "basepath = os.getcwd()\n",
    "sub_file = 'data'\n",
    "file = 'auto_data_m_cl.csv'\n",
    "file_name_path = os.path.join(basepath, sub_file, file)\n",
    "auto_data= pd.read_csv(file_name_path)\n"
   ]
  },
  {
   "cell_type": "code",
   "execution_count": null,
   "metadata": {},
   "outputs": [],
   "source": [
    "#Determine how many nulls there are\n",
    "auto_data.isnull().sum()"
   ]
  },
  {
   "cell_type": "code",
   "execution_count": null,
   "metadata": {},
   "outputs": [],
   "source": [
    "#Double check data columns type and cylinders are clean\n",
    "\n",
    "auto_data['type']= auto_data['type'].str.title().str.strip()\n",
    "auto_data['cylinders'] = pd.to_numeric(auto_data['cylinders'])"
   ]
  },
  {
   "cell_type": "code",
   "execution_count": 47,
   "metadata": {},
   "outputs": [
    {
     "name": "stdout",
     "output_type": "stream",
     "text": [
      "Sedan          30180\n",
      "Suv            25195\n",
      "Pickup         18029\n",
      "Truck          12821\n",
      "Other          10044\n",
      "Coupe           7996\n",
      "Hatchback       6954\n",
      "Van             3599\n",
      "Wagon           3052\n",
      "Mini-Van        2128\n",
      "Convertible     1624\n",
      "Offroad          156\n",
      "Bus              137\n",
      "Name: type, dtype: int64\n",
      "id                              0\n",
      "region                          0\n",
      "price                           0\n",
      "year                            0\n",
      "manufacturer                 2837\n",
      "model                           0\n",
      "condition                       0\n",
      "cylinders                   38128\n",
      "fuel                            3\n",
      "odometer                        0\n",
      "title_status                    6\n",
      "transmission                  130\n",
      "drive                       22899\n",
      "size                        82643\n",
      "type                        13949\n",
      "paint_color                     0\n",
      "state                           0\n",
      "lat                          1118\n",
      "long                         1118\n",
      "age                             0\n",
      "mmy_a                        2837\n",
      "mmy_a2                       2837\n",
      "model2                          0\n",
      "MSRP                       121663\n",
      "Category                    97038\n",
      "State                           0\n",
      "Avg_Gas_Price                   0\n",
      "Division                        0\n",
      "Median Household Income         0\n",
      "State_Code                      0\n",
      "dtype: int64\n"
     ]
    }
   ],
   "source": [
    "\n",
    "print(auto_data['type'].value_counts())"
   ]
  },
  {
   "cell_type": "markdown",
   "metadata": {},
   "source": [
    "### Create Trim Configuratons and MM categories"
   ]
  },
  {
   "cell_type": "code",
   "execution_count": 48,
   "metadata": {},
   "outputs": [],
   "source": [
    "\n",
    "q1 = auto_data\n",
    "#Create possible Trim configurations look at cylinders, drive and transmission\n",
    "q1['mmy_a_d_t'] = q1['mmy_a'].astype(str)+' '+q1['drive'].astype(str)+' '+q1['transmission'].astype(str)\n",
    "q1['mmy_a_t'] = q1['mmy_a'].astype(str)+' '+q1['transmission'].astype(str)\n",
    "q1['mmy_a_d'] = q1['mmy_a'].astype(str)+' '+q1['drive'].astype(str)\n",
    "\n",
    "#Remove trim if there is missing value in the grouping\n",
    "q1.loc[(q1['transmission'].isna()), 'mmy_a_d_t' ] = np.nan\n",
    "q1.loc[(q1['transmission'].isna()), 'mmy_a_t' ] = np.nan\n",
    "q1.loc[(q1['transmission'].str.contains('nan', na= False)), 'mmy_a_d_t' ] = np.nan\n",
    "q1.loc[(q1['transmission'].str.contains('nan', na= False)), 'mmy_a_t' ] = np.nan\n",
    "q1.loc[(q1['drive'].isna()), 'mmy_a_d_t' ] = np.nan\n",
    "q1.loc[(q1['drive'].isna()), 'mmy_a_d' ] = np.nan\n",
    "q1.loc[(q1['drive'].str.contains('nan', na= False)), 'mmy_a_d_t' ] = np.nan\n",
    "q1.loc[(q1['drive'].str.contains('nan', na= False)), 'mmy_a_d' ] = np.nan\n",
    "\n",
    "#Create Make Model Category\n",
    "q1['mm']=q1['manufacturer'].astype(str)+' '+q1['model'].astype(str)\n",
    "q1['mm2']=q1['manufacturer'].astype(str)+' '+q1['model2'].astype(str)\n"
   ]
  },
  {
   "cell_type": "markdown",
   "metadata": {},
   "source": [
    "Define functions to ease imputation coding"
   ]
  },
  {
   "cell_type": "code",
   "execution_count": 49,
   "metadata": {},
   "outputs": [],
   "source": [
    "def comp_F(q1):\n",
    "    \"\"\" \n",
    "    Input Auto data\n",
    "    ___\n",
    "    Copy columns cylinders, size, Category, type, drive and transmission \n",
    "    into new columns cylinders1, size1, Category1, type1, drive1 and transmission1\n",
    "    \"\"\"\n",
    "    q1['cylinders1'] = q1['cylinders']\n",
    "    q1['size1'] = q1['size']\n",
    "    q1['Category1'] = q1['Category']\n",
    "    q1['type1'] = q1['type']\n",
    "    q1['drive1'] = q1['drive']\n",
    "    q1['transmission1'] = q1['transmission']\n",
    "    \n",
    "def comp_D(q1):\n",
    "    \"\"\" \n",
    "    Input Auto data\n",
    "    ___\n",
    "    Fill nulls from columns cylinders, size, Category, type, drive and transmission\n",
    "    with the values from columns cylinders1, size1, Category1, type1, drive1 and transmission1\n",
    "    \"\"\"\n",
    "    q1['cylinders'] = q1['cylinders'].fillna(q1['cylinders1'])\n",
    "    q1['size'] = q1['size'].fillna(q1['size1'])\n",
    "    q1['Category'] = q1['Category'].fillna(q1['Category1'])\n",
    "    q1['type'] = q1['type'].fillna(q1['type1'])\n",
    "    q1['drive'] = q1['drive'].fillna(q1['drive1'])\n",
    "    q1['transmission1'] = q1['transmission'].fillna(q1['transmission1'])"
   ]
  },
  {
   "cell_type": "markdown",
   "metadata": {},
   "source": [
    "#### Impute null values by Trim\n",
    "Impute null values in columns MSRP, cylinders, size, Category, type, drive and transmission with mode value by Trim"
   ]
  },
  {
   "cell_type": "code",
   "execution_count": 50,
   "metadata": {},
   "outputs": [
    {
     "name": "stdout",
     "output_type": "stream",
     "text": [
      "Before imputation the number of nulls are:\n",
      "cylinders       38128\n",
      "size            82643\n",
      "type            13949\n",
      "drive           22899\n",
      "transmission      130\n",
      "Category        97038\n",
      "dtype: int64\n",
      "After trim imputation the number of nulls are:\n",
      "cylinders        26101\n",
      "size             53662\n",
      "type              7062\n",
      "drive             7192\n",
      "transmission       130\n",
      "Category         97038\n",
      "MSRP            121663\n",
      "dtype: int64\n"
     ]
    }
   ],
   "source": [
    "#Generate new columns MSRP1, cylinders1, size1, Category1, type1, drive1 and transmission1\n",
    "comp_F(q1)\n",
    "q1['MSRP1'] = q1['MSRP']\n",
    "\n",
    "print('Before imputation the number of nulls are:')\n",
    "print(q1[['cylinders', 'size', 'type', 'drive', 'transmission', 'Category' ]].isnull().sum())\n",
    "\n",
    "#For each trim calculate the mode of columns MSRP, cylinders, size, Category, type, drive and transmission\n",
    "q1['MSRP1'] = q1.groupby(['mmy_a', 'cylinders'], sort=False)['MSRP'].apply(lambda x: x.fillna(next(iter(x.mode()), np.nan)))\n",
    "q1['cylinders1'] = q1.groupby(['mmy_a_d_t'], sort=False)['cylinders1'].apply(lambda x: x.fillna(next(iter(x.mode()), np.nan)))\n",
    "q1['size1'] = q1.groupby(['mmy_a_d_t'], sort=False)['size1'].apply(lambda x: x.fillna(next(iter(x.mode()), np.nan)))\n",
    "q1['type1'] = q1.groupby(['mmy_a_d_t'], sort=False)['type1'].apply(lambda x: x.fillna(next(iter(x.mode()), np.nan)))\n",
    "q1['Category1'] = q1.groupby(['mmy_a_d_t'], sort=False)['Category1'].apply(lambda x: x.fillna(next(iter(x.mode()), np.nan)))\n",
    "q1['drive1'] = q1.groupby(['mmy_a_t'], sort=False)['drive1'].apply(lambda x: x.fillna(next(iter(x.mode()), np.nan)))\n",
    "q1['transmission1'] = q1.groupby(['mmy_a_d'], sort=False)['transmission1'].apply(lambda x: x.fillna(next(iter(x.mode()), np.nan)))\n",
    "\n",
    "#Fill nulls in columns MSRP, cylinders, size, Category, type, drive and transmission\n",
    "# with values their respective calculated column \n",
    "comp_D(q1)\n",
    "q1['MSRP'] = q1['MSRP'].fillna(q1['MSRP1'])\n",
    "\n",
    "\n",
    "print('After trim imputation the number of nulls are:')\n",
    "print(q1[['cylinders', 'size', 'type', 'drive', 'transmission', 'Category', 'MSRP' ]].isnull().sum())\n",
    "\n"
   ]
  },
  {
   "cell_type": "markdown",
   "metadata": {},
   "source": [
    "#### Impute null values by MMY \n",
    "Impute null values in columns MSRP, cylinders, size, Category, type, drive and transmission with mode value \n",
    "by MMY (Make, Model, Model year)"
   ]
  },
  {
   "cell_type": "code",
   "execution_count": 51,
   "metadata": {},
   "outputs": [
    {
     "name": "stdout",
     "output_type": "stream",
     "text": [
      "After manufacture model and model year  imputation the number of nulls are:\n",
      "cylinders       18777\n",
      "size            40472\n",
      "type             2556\n",
      "drive            6389\n",
      "transmission      130\n",
      "Category        97038\n",
      "dtype: int64\n"
     ]
    }
   ],
   "source": [
    "\n",
    "#Generate new columns MSRP1, cylinders1, size1, Category1, type1, drive1 and transmission1\n",
    "comp_F(q1)\n",
    "q1['MSRP1'] = q1['MSRP']\n",
    "\n",
    "#For each MMY calculate the mode of columns MSRP, cylinders, size, Category, type, drive and transmission\n",
    "q1['MSRP1'] = q1.groupby(['mmy_a'], sort=False)['MSRP'].apply(lambda x: x.fillna(next(iter(x.mode()), np.nan)))\n",
    "q1['cylinders1'] = q1.groupby(['mmy_a'], sort=False)['cylinders1'].apply(lambda x: x.fillna(next(iter(x.mode()), np.nan)))\n",
    "q1['size1'] = q1.groupby(['mmy_a'], sort=False)['size1'].apply(lambda x: x.fillna(next(iter(x.mode()), np.nan)))\n",
    "q1['type1'] = q1.groupby(['mmy_a'], sort=False)['type1'].apply(lambda x: x.fillna(next(iter(x.mode()), np.nan)))\n",
    "q1['Category1'] = q1.groupby(['mmy_a'], sort=False)['Category1'].apply(lambda x: x.fillna(next(iter(x.mode()), np.nan)))\n",
    "q1['drive1'] = q1.groupby(['mmy_a'], sort=False)['drive1'].apply(lambda x: x.fillna(next(iter(x.mode()), np.nan)))\n",
    "q1['transmission1'] = q1.groupby(['mmy_a'], sort=False)['transmission1'].apply(lambda x: x.fillna(next(iter(x.mode()), np.nan)))\n",
    "\n",
    "#Fill nulls in columns MSRP, cylinders, size, Category, type, drive and transmission\n",
    "# with values their respective calculated column \n",
    "comp_D(q1)\n",
    "q1['MSRP'] = q1['MSRP'].fillna(q1['MSRP1'])\n",
    "\n",
    "print('After manufacture model and model year  imputation the number of nulls are:')\n",
    "print(q1[['cylinders', 'size', 'type', 'drive', 'transmission', 'Category' ]].isnull().sum())\n"
   ]
  },
  {
   "cell_type": "markdown",
   "metadata": {},
   "source": [
    "#### Impute null values by Make Model\n",
    "Impute null values in columns MSRP, cylinders, size, Category, type, drive and transmission with mode value \n",
    "by MMY (Make, Model, Model year)"
   ]
  },
  {
   "cell_type": "code",
   "execution_count": 52,
   "metadata": {},
   "outputs": [
    {
     "name": "stdout",
     "output_type": "stream",
     "text": [
      "After manufacture model and model year  imputation the number of nulls are:\n",
      "cylinders       12907\n",
      "size            26774\n",
      "type             1253\n",
      "drive            3228\n",
      "transmission      130\n",
      "Category        95929\n",
      "dtype: int64\n"
     ]
    }
   ],
   "source": [
    "#Generate new columns cylinders1, size1, Category1, type1, drive1 and transmission1\n",
    "comp_F(q1)\n",
    "\n",
    "#For each make model calculate the mode of columns MSRP, cylinders, size, Category, type, drive and transmission\n",
    "q1['cylinders1'] = q1.groupby(['mm'], sort=False)['cylinders1'].apply(lambda x: x.fillna(next(iter(x.mode()), np.nan)))\n",
    "q1['size1'] = q1.groupby(['mm'], sort=False)['size1'].apply(lambda x: x.fillna(next(iter(x.mode()), np.nan)))\n",
    "q1['type1'] = q1.groupby(['mm'], sort=False)['type1'].apply(lambda x: x.fillna(next(iter(x.mode()), np.nan)))\n",
    "q1['Category1'] = q1.groupby(['mm'], sort=False)['Category1'].apply(lambda x: x.fillna(next(iter(x.mode()), np.nan)))\n",
    "q1['drive1'] = q1.groupby(['mm'], sort=False)['drive1'].apply(lambda x: x.fillna(next(iter(x.mode()), np.nan)))\n",
    "q1['transmission1'] = q1.groupby(['mm'], sort=False)['transmission1'].apply(lambda x: x.fillna(next(iter(x.mode()), np.nan)))\n",
    "\n",
    "#Fill nulls in columns cylinders, size, Category, type, drive and transmission\n",
    "# with values their respective calculated column \n",
    "comp_D(q1)\n",
    "print('After manufacture model and model year  imputation the number of nulls are:')\n",
    "print(q1[['cylinders', 'size', 'type', 'drive', 'transmission', 'Category' ]].isnull().sum())\n"
   ]
  },
  {
   "cell_type": "code",
   "execution_count": 53,
   "metadata": {},
   "outputs": [
    {
     "name": "stdout",
     "output_type": "stream",
     "text": [
      "<class 'pandas.core.frame.DataFrame'>\n",
      "RangeIndex: 135864 entries, 0 to 135863\n",
      "Data columns (total 42 columns):\n",
      " #   Column                   Non-Null Count   Dtype  \n",
      "---  ------                   --------------   -----  \n",
      " 0   id                       135864 non-null  int64  \n",
      " 1   region                   135864 non-null  object \n",
      " 2   price                    135864 non-null  int64  \n",
      " 3   year                     135864 non-null  float64\n",
      " 4   manufacturer             133027 non-null  object \n",
      " 5   model                    135864 non-null  object \n",
      " 6   condition                135864 non-null  object \n",
      " 7   cylinders                122957 non-null  float64\n",
      " 8   fuel                     135861 non-null  object \n",
      " 9   odometer                 135864 non-null  float64\n",
      " 10  title_status             135858 non-null  object \n",
      " 11  transmission             135734 non-null  object \n",
      " 12  drive                    132636 non-null  object \n",
      " 13  size                     109090 non-null  object \n",
      " 14  type                     134611 non-null  object \n",
      " 15  paint_color              135864 non-null  object \n",
      " 16  state                    135864 non-null  object \n",
      " 17  lat                      134746 non-null  float64\n",
      " 18  long                     134746 non-null  float64\n",
      " 19  age                      135864 non-null  float64\n",
      " 20  mmy_a                    133027 non-null  object \n",
      " 21  mmy_a2                   133027 non-null  object \n",
      " 22  model2                   135864 non-null  object \n",
      " 23  MSRP                     14201 non-null   float64\n",
      " 24  Category                 39935 non-null   object \n",
      " 25  State                    135864 non-null  object \n",
      " 26  Avg_Gas_Price            135864 non-null  float64\n",
      " 27  Division                 135864 non-null  object \n",
      " 28  Median Household Income  135864 non-null  float64\n",
      " 29  State_Code               135864 non-null  object \n",
      " 30  mmy_a_d_t                112839 non-null  object \n",
      " 31  mmy_a_t                  135734 non-null  object \n",
      " 32  mmy_a_d                  112965 non-null  object \n",
      " 33  mm                       135864 non-null  object \n",
      " 34  mm2                      135864 non-null  object \n",
      " 35  cylinders1               122957 non-null  float64\n",
      " 36  size1                    109090 non-null  object \n",
      " 37  Category1                39935 non-null   object \n",
      " 38  type1                    134611 non-null  object \n",
      " 39  drive1                   132636 non-null  object \n",
      " 40  transmission1            135813 non-null  object \n",
      " 41  MSRP1                    14201 non-null   float64\n",
      "dtypes: float64(11), int64(2), object(29)\n",
      "memory usage: 43.5+ MB\n"
     ]
    }
   ],
   "source": [
    "q1.info()"
   ]
  },
  {
   "cell_type": "code",
   "execution_count": 54,
   "metadata": {},
   "outputs": [],
   "source": [
    "#Drop Excess Variables that were used for imputation\n",
    "q1 = q1.drop(columns=['cylinders1', 'size1','Category1','type1' , 'drive1', 'transmission1', 'MSRP1'], axis=1 )\n",
    "q1 = q1.drop(columns=['mmy_a', 'mmy_a2','mmy_a_d_t','mmy_a_d' , 'mmy_a_t', 'mm', 'mm2', 'model2'], axis=1 )"
   ]
  },
  {
   "cell_type": "markdown",
   "metadata": {},
   "source": [
    "#### Impute null values by in lat, long, fuel, paint color and  MSRP"
   ]
  },
  {
   "cell_type": "code",
   "execution_count": 55,
   "metadata": {},
   "outputs": [
    {
     "name": "stdout",
     "output_type": "stream",
     "text": [
      "id                             0\n",
      "region                         0\n",
      "price                          0\n",
      "year                           0\n",
      "manufacturer                2837\n",
      "model                          0\n",
      "condition                      0\n",
      "cylinders                  12907\n",
      "fuel                           0\n",
      "odometer                       0\n",
      "title_status                   6\n",
      "transmission                 130\n",
      "drive                       3228\n",
      "size                       26774\n",
      "type                        1253\n",
      "paint_color                    0\n",
      "state                          0\n",
      "lat                            0\n",
      "long                           0\n",
      "age                            0\n",
      "MSRP                           0\n",
      "Category                   95929\n",
      "State                          0\n",
      "Avg_Gas_Price                  0\n",
      "Division                       0\n",
      "Median Household Income        0\n",
      "State_Code                     0\n",
      "dtype: int64\n"
     ]
    }
   ],
   "source": [
    "#impute longitude and latitude from state\n",
    "q1['lat'] = q1.groupby(['state'], sort=False)['lat'].apply(lambda x: x.fillna(x.mode().iloc[0]))\n",
    "q1['long'] = q1.groupby(['state'], sort=False)['long'].apply(lambda x: x.fillna(x.mode().iloc[0]))\n",
    "\n",
    "#impute fuel\n",
    "q1['fuel'] = q1['fuel'].fillna(q1['fuel'].mode()[0])\n",
    "q1['MSRP'] = q1['MSRP'].fillna(0)\n",
    "\n",
    "#If no paint color is given its unlisted and its unrealistc to try to impute it\n",
    "q1['paint_color'] = q1['paint_color'].fillna('unlisted')\n",
    "\n",
    "print(q1.isnull().sum())"
   ]
  },
  {
   "cell_type": "markdown",
   "metadata": {},
   "source": [
    "#### Create Columns Average Mileage and Residuals"
   ]
  },
  {
   "cell_type": "code",
   "execution_count": 57,
   "metadata": {},
   "outputs": [
    {
     "name": "stdout",
     "output_type": "stream",
     "text": [
      "<class 'pandas.core.frame.DataFrame'>\n",
      "RangeIndex: 135864 entries, 0 to 135863\n",
      "Data columns (total 29 columns):\n",
      " #   Column                   Non-Null Count   Dtype  \n",
      "---  ------                   --------------   -----  \n",
      " 0   id                       135864 non-null  int64  \n",
      " 1   region                   135864 non-null  object \n",
      " 2   price                    135864 non-null  int64  \n",
      " 3   year                     135864 non-null  float64\n",
      " 4   manufacturer             133027 non-null  object \n",
      " 5   model                    135864 non-null  object \n",
      " 6   condition                135864 non-null  object \n",
      " 7   cylinders                122957 non-null  float64\n",
      " 8   fuel                     135864 non-null  object \n",
      " 9   odometer                 135864 non-null  float64\n",
      " 10  title_status             135858 non-null  object \n",
      " 11  transmission             135734 non-null  object \n",
      " 12  drive                    132636 non-null  object \n",
      " 13  size                     109090 non-null  object \n",
      " 14  type                     134611 non-null  object \n",
      " 15  paint_color              135864 non-null  object \n",
      " 16  state                    135864 non-null  object \n",
      " 17  lat                      135864 non-null  float64\n",
      " 18  long                     135864 non-null  float64\n",
      " 19  age                      135864 non-null  float64\n",
      " 20  MSRP                     135864 non-null  float64\n",
      " 21  Category                 39935 non-null   object \n",
      " 22  State                    135864 non-null  object \n",
      " 23  Avg_Gas_Price            135864 non-null  float64\n",
      " 24  Division                 135864 non-null  object \n",
      " 25  Median Household Income  135864 non-null  float64\n",
      " 26  State_Code               135864 non-null  object \n",
      " 27  Avg_Mileage              135864 non-null  float64\n",
      " 28  resid                    135864 non-null  float64\n",
      "dtypes: float64(11), int64(2), object(16)\n",
      "memory usage: 30.1+ MB\n"
     ]
    }
   ],
   "source": [
    "q1['Avg_Mileage'] = q1['odometer']/ q1['age']\n",
    "q1['resid'] = q1['MSRP']/ q1['price']\n",
    "q1.info()"
   ]
  },
  {
   "cell_type": "markdown",
   "metadata": {},
   "source": [
    "## Cleaning Category/ type\n",
    "* Category refers to the type of design of the vehicle ( example hatchback), and it is something people take into consideration while buying a vehicle\n",
    "* However the naming convention for this is non standard across manufactuers (\"pickup\" vs \"truck\" refers to the same type from Ford and GM respectively)\n",
    "* Considering there are many users on Craigslist even though type is often in the description of a vehicle sold the naming convention would not be consistent from one user description to the next. \n",
    "* Since Category type is scraped from the user description means that type is inconsistent across the database\n",
    "\n",
    "* A Singular third party from an automible expert in this case the USA government will give us a consistent naming convention across all vehicles\n",
    "* However the goverment gives us a group of possible types a vehicle could be given make model model year\n",
    "\n",
    "* By combining the user description and the third party categories we get a specific category for each vehicle which has a conistent naming convention across vehicles\n",
    "\n",
    "* For the merge's we have we are going to check if the category within the description matches what the third party gave\n"
   ]
  },
  {
   "cell_type": "markdown",
   "metadata": {},
   "source": [
    "Check to see unique values in type and Category"
   ]
  },
  {
   "cell_type": "code",
   "execution_count": null,
   "metadata": {},
   "outputs": [],
   "source": [
    "q1['type'].value_counts()"
   ]
  },
  {
   "cell_type": "code",
   "execution_count": null,
   "metadata": {},
   "outputs": [],
   "source": [
    "q1['Category'].value_counts()"
   ]
  },
  {
   "cell_type": "markdown",
   "metadata": {},
   "source": [
    "Transform Category Column and Type Column"
   ]
  },
  {
   "cell_type": "code",
   "execution_count": null,
   "metadata": {},
   "outputs": [],
   "source": [
    "#Transform empty strings in Category into null values\n",
    "q1['Category']= q1['Category'].replace(r'^\\s*$', np.nan, regex=True)\n",
    "\n",
    "#Create column that has the first possible category vehicle could be\n",
    "q1['Category2']= q1['Category'].str.strip().str.split(', ').str[0]\n",
    "\n",
    "#Create column that has the number of possible categories a vehicle could be\n",
    "q1['Category3']= q1['Category'].str.strip().str.split(', ')\n",
    "q1['Category3']= q1['Category3'].str.len()\n",
    "\n",
    "\n",
    "#In type column make truck and pick up consistent\n",
    "q1['type'] = q1['type'].replace('Truck', 'Pickup')\n",
    "\n",
    "#Create column with type where Other is listed as null and Van/ Mini-Van and Van/Minivan are all Can/Minivan\n",
    "q1['type2']= q1['type2'].replace('Other', np.nan)\n",
    "q1['type2'] = q1['type2'].replace('Mini-Van', 'Van')\n",
    "q1['type2'] = q1['type2'].replace('Van', 'Van/Minivan')"
   ]
  },
  {
   "cell_type": "code",
   "execution_count": null,
   "metadata": {},
   "outputs": [],
   "source": [
    "#To iterate over variable we cannot have values so we fill na with blank value\n",
    "q1['Categoryf']= q1['Category'].fillna('blank')\n",
    "q1['typef']= q1['type2'].fillna('blank')\n",
    "\n",
    "#Create Column to put cleaned Category variable into\n",
    "q1['Category_Cleaned']= np.nan\n",
    "\n"
   ]
  },
  {
   "cell_type": "code",
   "execution_count": null,
   "metadata": {},
   "outputs": [],
   "source": [
    "#If category length = 1 then Category_Cleaned= Category variable\n",
    "q1['Category_Cleaned'] = np.where(q1['Category3'] == 1 , q1['Category'], np.nan)\n",
    "print(q1['Category_Cleaned'].isnull().sum())\n",
    "\n",
    "#If the value in the type column is in the list within the Category column then Cleaned_Category=type\n",
    "#check if vehicle type listed in description is in Category Column\n",
    "q1['cat_tiki_check0']= q1.apply(lambda x: x.typef in x.Categoryf, axis=1)\n",
    "#Replace Category_Cleaned variable with type variable if check is true\n",
    "q1.loc[q1['cat_tiki_check0'] == True, 'Category_Cleaned'] = q1.type\n",
    "print(q1['Category_Cleaned'].isnull().sum())\n",
    "\n",
    "#If category length = 2 we pick the first category\n",
    "q1['Category_Cleaned1']= np.nan\n",
    "q1['Category_Cleaned1'] = np.where(q1['Category3'] == 2 , q1['Category2'], np.nan)\n",
    "q1['Category_Cleaned'] = q1['Category_Cleaned'].fillna(q1['Category_Cleaned1'])\n",
    "q1['Category_Cleaned'] = q1['Category_Cleaned'].fillna('Unlisted')\n",
    "\n",
    "q1 =q1.drop(columns = ['Category2', 'type2', 'Category3', 'Categoryf', 'typef', 'cat_tiki_check0', 'Category_Cleaned1'] )\n"
   ]
  },
  {
   "cell_type": "markdown",
   "metadata": {},
   "source": [
    "#### Turn all string variables into Categorical columns"
   ]
  },
  {
   "cell_type": "code",
   "execution_count": 58,
   "metadata": {},
   "outputs": [
    {
     "name": "stdout",
     "output_type": "stream",
     "text": [
      "<class 'pandas.core.frame.DataFrame'>\n",
      "RangeIndex: 135864 entries, 0 to 135863\n",
      "Data columns (total 29 columns):\n",
      " #   Column                   Non-Null Count   Dtype   \n",
      "---  ------                   --------------   -----   \n",
      " 0   id                       135864 non-null  int64   \n",
      " 1   region                   135864 non-null  category\n",
      " 2   price                    135864 non-null  int64   \n",
      " 3   year                     135864 non-null  float64 \n",
      " 4   manufacturer             133027 non-null  category\n",
      " 5   model                    135864 non-null  category\n",
      " 6   condition                135864 non-null  category\n",
      " 7   cylinders                122957 non-null  float64 \n",
      " 8   fuel                     135864 non-null  category\n",
      " 9   odometer                 135864 non-null  float64 \n",
      " 10  title_status             135858 non-null  category\n",
      " 11  transmission             135734 non-null  category\n",
      " 12  drive                    132636 non-null  category\n",
      " 13  size                     109090 non-null  category\n",
      " 14  type                     134611 non-null  category\n",
      " 15  paint_color              135864 non-null  category\n",
      " 16  state                    135864 non-null  category\n",
      " 17  lat                      135864 non-null  float64 \n",
      " 18  long                     135864 non-null  float64 \n",
      " 19  age                      135864 non-null  float64 \n",
      " 20  MSRP                     135864 non-null  float64 \n",
      " 21  Category                 39935 non-null   category\n",
      " 22  State                    135864 non-null  category\n",
      " 23  Avg_Gas_Price            135864 non-null  float64 \n",
      " 24  Division                 135864 non-null  category\n",
      " 25  Median Household Income  135864 non-null  float64 \n",
      " 26  State_Code               135864 non-null  category\n",
      " 27  Avg_Mileage              135864 non-null  float64 \n",
      " 28  resid                    135864 non-null  float64 \n",
      "dtypes: category(16), float64(11), int64(2)\n",
      "memory usage: 16.2 MB\n"
     ]
    }
   ],
   "source": [
    "\n",
    "categorical_columns = q1.select_dtypes(exclude=['int64', 'float']).columns.tolist()\n",
    "\n",
    "for col in categorical_columns:\n",
    "    q1[col] = q1[col].astype('category')\n",
    "q1.info()"
   ]
  },
  {
   "cell_type": "markdown",
   "metadata": {},
   "source": [
    "Save Data"
   ]
  },
  {
   "cell_type": "code",
   "execution_count": 59,
   "metadata": {},
   "outputs": [],
   "source": [
    "#save data\n",
    "\n",
    "new_file = 'auto_data_merged_cl.csv'\n",
    "new_file_name_path = os.path.join(basepath,sub_file, new_file)\n",
    "q1.to_csv(new_file_name_path, index=False)"
   ]
  }
 ],
 "metadata": {
  "kernelspec": {
   "display_name": "Python 3",
   "language": "python",
   "name": "python3"
  },
  "language_info": {
   "codemirror_mode": {
    "name": "ipython",
    "version": 3
   },
   "file_extension": ".py",
   "mimetype": "text/x-python",
   "name": "python",
   "nbconvert_exporter": "python",
   "pygments_lexer": "ipython3",
   "version": "3.7.9"
  }
 },
 "nbformat": 4,
 "nbformat_minor": 4
}
