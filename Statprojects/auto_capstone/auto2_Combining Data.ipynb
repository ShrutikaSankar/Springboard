{
 "cells": [
  {
   "cell_type": "code",
   "execution_count": 247,
   "metadata": {},
   "outputs": [],
   "source": [
    "#load python packages\n",
    "import os\n",
    "import pandas as pd\n",
    "import datetime\n",
    "import seaborn as sns\n",
    "import matplotlib.pyplot as plt\n",
    "import numpy as np\n",
    "%matplotlib inline\n",
    "from sklearn.preprocessing import LabelEncoder, StandardScaler\n",
    "import json\n",
    "import urllib\n",
    "import requests\n",
    "import datetime"
   ]
  },
  {
   "cell_type": "code",
   "execution_count": 248,
   "metadata": {},
   "outputs": [
    {
     "name": "stdout",
     "output_type": "stream",
     "text": [
      "C:\\Users\\Tiki\\Documents\\Sprinboard2\\Capstone_cars\n",
      "['.ipynb_checkpoints', '575_1100_compressed_data.csv', '575_1100_compressed_data.csv.zip', '62920_1026452_bundle_archive.zip', 'auto1.ipynb', 'auto1_datawrangling.ipynb', 'auto2.ipynb', 'auto3.ipynb', 'Combining Data.ipynb', 'correlation.png', 'data']\n"
     ]
    }
   ],
   "source": [
    "#Get Path\n",
    "os.getcwd()\n",
    "basepath = os.getcwd()\n",
    "print(basepath)\n",
    "lis_dir = os.listdir()\n",
    "print(lis_dir)\n"
   ]
  },
  {
   "cell_type": "code",
   "execution_count": 249,
   "metadata": {},
   "outputs": [
    {
     "name": "stdout",
     "output_type": "stream",
     "text": [
      "p\n",
      "y\n"
     ]
    },
    {
     "data": {
      "text/html": [
       "<div>\n",
       "<style scoped>\n",
       "    .dataframe tbody tr th:only-of-type {\n",
       "        vertical-align: middle;\n",
       "    }\n",
       "\n",
       "    .dataframe tbody tr th {\n",
       "        vertical-align: top;\n",
       "    }\n",
       "\n",
       "    .dataframe thead th {\n",
       "        text-align: right;\n",
       "    }\n",
       "</style>\n",
       "<table border=\"1\" class=\"dataframe\">\n",
       "  <thead>\n",
       "    <tr style=\"text-align: right;\">\n",
       "      <th></th>\n",
       "      <th>id</th>\n",
       "      <th>url</th>\n",
       "      <th>region</th>\n",
       "      <th>region_url</th>\n",
       "      <th>price</th>\n",
       "      <th>year</th>\n",
       "      <th>manufacturer</th>\n",
       "      <th>model</th>\n",
       "      <th>condition</th>\n",
       "      <th>cylinders</th>\n",
       "      <th>...</th>\n",
       "      <th>size</th>\n",
       "      <th>type</th>\n",
       "      <th>paint_color</th>\n",
       "      <th>image_url</th>\n",
       "      <th>description</th>\n",
       "      <th>county</th>\n",
       "      <th>state</th>\n",
       "      <th>lat</th>\n",
       "      <th>long</th>\n",
       "      <th>age</th>\n",
       "    </tr>\n",
       "  </thead>\n",
       "  <tbody>\n",
       "    <tr>\n",
       "      <th>0</th>\n",
       "      <td>7088744126</td>\n",
       "      <td>https://greensboro.craigslist.org/cto/d/greens...</td>\n",
       "      <td>greensboro</td>\n",
       "      <td>https://greensboro.craigslist.org</td>\n",
       "      <td>9500</td>\n",
       "      <td>2011.0</td>\n",
       "      <td>jaguar</td>\n",
       "      <td>xf</td>\n",
       "      <td>excellent</td>\n",
       "      <td>NaN</td>\n",
       "      <td>...</td>\n",
       "      <td>NaN</td>\n",
       "      <td>NaN</td>\n",
       "      <td>blue</td>\n",
       "      <td>https://images.craigslist.org/00505_f22HGItCRp...</td>\n",
       "      <td>2011 jaguar XF premium - estate sale. Retired ...</td>\n",
       "      <td>NaN</td>\n",
       "      <td>nc</td>\n",
       "      <td>36.1032</td>\n",
       "      <td>-79.8794</td>\n",
       "      <td>9.0</td>\n",
       "    </tr>\n",
       "    <tr>\n",
       "      <th>1</th>\n",
       "      <td>7093461424</td>\n",
       "      <td>https://denver.craigslist.org/ctd/d/westminste...</td>\n",
       "      <td>denver</td>\n",
       "      <td>https://denver.craigslist.org</td>\n",
       "      <td>7995</td>\n",
       "      <td>2010.0</td>\n",
       "      <td>chevrolet</td>\n",
       "      <td>silverado 1500 4wd</td>\n",
       "      <td>excellent</td>\n",
       "      <td>8.0</td>\n",
       "      <td>...</td>\n",
       "      <td>full-size</td>\n",
       "      <td>truck</td>\n",
       "      <td>white</td>\n",
       "      <td>https://images.craigslist.org/00u0u_8Z0ctz08dr...</td>\n",
       "      <td>This Silverado work truck must've been used by...</td>\n",
       "      <td>NaN</td>\n",
       "      <td>co</td>\n",
       "      <td>39.8302</td>\n",
       "      <td>-105.0370</td>\n",
       "      <td>10.0</td>\n",
       "    </tr>\n",
       "    <tr>\n",
       "      <th>2</th>\n",
       "      <td>7088708344</td>\n",
       "      <td>https://greensboro.craigslist.org/ctd/d/greens...</td>\n",
       "      <td>greensboro</td>\n",
       "      <td>https://greensboro.craigslist.org</td>\n",
       "      <td>15300</td>\n",
       "      <td>2015.0</td>\n",
       "      <td>honda</td>\n",
       "      <td>accord lx-s coupe 2d</td>\n",
       "      <td>good</td>\n",
       "      <td>NaN</td>\n",
       "      <td>...</td>\n",
       "      <td>NaN</td>\n",
       "      <td>coupe</td>\n",
       "      <td>black</td>\n",
       "      <td>https://images.craigslist.org/00g0g_3FpqFaExYI...</td>\n",
       "      <td>Welcome to Carvana—the new way to buy a car (e...</td>\n",
       "      <td>NaN</td>\n",
       "      <td>nc</td>\n",
       "      <td>36.0700</td>\n",
       "      <td>-79.8200</td>\n",
       "      <td>5.0</td>\n",
       "    </tr>\n",
       "    <tr>\n",
       "      <th>3</th>\n",
       "      <td>7076226877</td>\n",
       "      <td>https://syracuse.craigslist.org/cto/d/syracuse...</td>\n",
       "      <td>syracuse</td>\n",
       "      <td>https://syracuse.craigslist.org</td>\n",
       "      <td>10950</td>\n",
       "      <td>2011.0</td>\n",
       "      <td>buick</td>\n",
       "      <td>lucerne cxl v6</td>\n",
       "      <td>excellent</td>\n",
       "      <td>6.0</td>\n",
       "      <td>...</td>\n",
       "      <td>full-size</td>\n",
       "      <td>sedan</td>\n",
       "      <td>red</td>\n",
       "      <td>https://images.craigslist.org/00r0r_dBDjHZSiKK...</td>\n",
       "      <td>Grandma's 2011 Buick Lucerne. 43,418  babied m...</td>\n",
       "      <td>NaN</td>\n",
       "      <td>ny</td>\n",
       "      <td>43.1226</td>\n",
       "      <td>-76.1284</td>\n",
       "      <td>9.0</td>\n",
       "    </tr>\n",
       "    <tr>\n",
       "      <th>4</th>\n",
       "      <td>7076224988</td>\n",
       "      <td>https://syracuse.craigslist.org/cto/d/cicero-2...</td>\n",
       "      <td>syracuse</td>\n",
       "      <td>https://syracuse.craigslist.org</td>\n",
       "      <td>9400</td>\n",
       "      <td>2011.0</td>\n",
       "      <td>bmw</td>\n",
       "      <td>x5</td>\n",
       "      <td>good</td>\n",
       "      <td>6.0</td>\n",
       "      <td>...</td>\n",
       "      <td>NaN</td>\n",
       "      <td>SUV</td>\n",
       "      <td>blue</td>\n",
       "      <td>https://images.craigslist.org/00p0p_hdJbqFNwf3...</td>\n",
       "      <td>Selling a 2011 BMW X5 in mint condition with f...</td>\n",
       "      <td>NaN</td>\n",
       "      <td>ny</td>\n",
       "      <td>43.1707</td>\n",
       "      <td>-76.0962</td>\n",
       "      <td>9.0</td>\n",
       "    </tr>\n",
       "  </tbody>\n",
       "</table>\n",
       "<p>5 rows × 26 columns</p>\n",
       "</div>"
      ],
      "text/plain": [
       "           id                                                url      region  \\\n",
       "0  7088744126  https://greensboro.craigslist.org/cto/d/greens...  greensboro   \n",
       "1  7093461424  https://denver.craigslist.org/ctd/d/westminste...      denver   \n",
       "2  7088708344  https://greensboro.craigslist.org/ctd/d/greens...  greensboro   \n",
       "3  7076226877  https://syracuse.craigslist.org/cto/d/syracuse...    syracuse   \n",
       "4  7076224988  https://syracuse.craigslist.org/cto/d/cicero-2...    syracuse   \n",
       "\n",
       "                          region_url  price    year manufacturer  \\\n",
       "0  https://greensboro.craigslist.org   9500  2011.0       jaguar   \n",
       "1      https://denver.craigslist.org   7995  2010.0    chevrolet   \n",
       "2  https://greensboro.craigslist.org  15300  2015.0        honda   \n",
       "3    https://syracuse.craigslist.org  10950  2011.0        buick   \n",
       "4    https://syracuse.craigslist.org   9400  2011.0          bmw   \n",
       "\n",
       "                  model  condition  cylinders  ...       size   type  \\\n",
       "0                    xf  excellent        NaN  ...        NaN    NaN   \n",
       "1    silverado 1500 4wd  excellent        8.0  ...  full-size  truck   \n",
       "2  accord lx-s coupe 2d       good        NaN  ...        NaN  coupe   \n",
       "3        lucerne cxl v6  excellent        6.0  ...  full-size  sedan   \n",
       "4                    x5       good        6.0  ...        NaN    SUV   \n",
       "\n",
       "  paint_color                                          image_url  \\\n",
       "0        blue  https://images.craigslist.org/00505_f22HGItCRp...   \n",
       "1       white  https://images.craigslist.org/00u0u_8Z0ctz08dr...   \n",
       "2       black  https://images.craigslist.org/00g0g_3FpqFaExYI...   \n",
       "3         red  https://images.craigslist.org/00r0r_dBDjHZSiKK...   \n",
       "4        blue  https://images.craigslist.org/00p0p_hdJbqFNwf3...   \n",
       "\n",
       "                                         description county state      lat  \\\n",
       "0  2011 jaguar XF premium - estate sale. Retired ...    NaN    nc  36.1032   \n",
       "1  This Silverado work truck must've been used by...    NaN    co  39.8302   \n",
       "2  Welcome to Carvana—the new way to buy a car (e...    NaN    nc  36.0700   \n",
       "3  Grandma's 2011 Buick Lucerne. 43,418  babied m...    NaN    ny  43.1226   \n",
       "4  Selling a 2011 BMW X5 in mint condition with f...    NaN    ny  43.1707   \n",
       "\n",
       "       long   age  \n",
       "0  -79.8794   9.0  \n",
       "1 -105.0370  10.0  \n",
       "2  -79.8200   5.0  \n",
       "3  -76.1284   9.0  \n",
       "4  -76.0962   9.0  \n",
       "\n",
       "[5 rows x 26 columns]"
      ]
     },
     "execution_count": 249,
     "metadata": {},
     "output_type": "execute_result"
    }
   ],
   "source": [
    "# Create the list of file names: filenames\n",
    "file ='auto_data.csv'\n",
    "sub_file = 'data'\n",
    "print('p')\n",
    "file_name_path = os.path.join(basepath, sub_file, file)\n",
    "print('y')\n",
    "auto_data= pd.read_csv(file_name_path)\n",
    "#Open data\n",
    "auto_data.head(5)"
   ]
  },
  {
   "cell_type": "code",
   "execution_count": 250,
   "metadata": {},
   "outputs": [],
   "source": [
    "auto_data= auto_data.drop(columns=['url', 'region_url', 'image_url', 'county'], axis=1)\n"
   ]
  },
  {
   "cell_type": "code",
   "execution_count": 251,
   "metadata": {},
   "outputs": [
    {
     "name": "stdout",
     "output_type": "stream",
     "text": [
      "Maximum mileage: 499103.0 \n",
      "Minimum mileage: 0.0 \n",
      "Maximum price: $ 450000 \n",
      "Minimum price: $ 100 \n",
      "Maximum age:  10.0 years \n",
      "Minimum age: 0.0 years \n"
     ]
    }
   ],
   "source": [
    "print(f\"Maximum mileage: {auto_data.odometer.max()} \\nMinimum mileage: {auto_data.odometer.min()} \")\n",
    "# If we are dealing with a vehicle with over a half milion miles we have more problem\n",
    "\n",
    "auto_data = auto_data[(auto_data.odometer< 500000)] \n",
    "\n",
    "print(f\"Maximum price: $ {auto_data.price.max()} \\nMinimum price: $ {auto_data.price.min()} \")\n",
    "\n",
    "#None of the vehicles we have even brand new have a value of half a milion\n",
    "#We will also delete the cars with a price less than $100, because it might be a mistake if the price is so low.\n",
    "auto_data = auto_data[(auto_data.price >= 100) & (auto_data.price <= 300000)]\n",
    "\n",
    "\n",
    "print(f\"Maximum age:  {auto_data.age.max()} years \\nMinimum age: {auto_data.age.min()} years \")"
   ]
  },
  {
   "cell_type": "code",
   "execution_count": 252,
   "metadata": {},
   "outputs": [],
   "source": [
    "#Create mmy_a # column\n",
    "auto_data.columns\n",
    "\n",
    "#Fix manufacturer\n",
    "auto_data['manufacturer']= auto_data['manufacturer'].str.strip() \n",
    "auto_data['manufacturer']= auto_data['manufacturer'].str.replace('land rover' , 'land-rover') \n",
    "auto_data['manufacturer']= auto_data['manufacturer'].str.replace('rover' , 'land-rover') \n",
    "auto_data['manufacturer']= auto_data['manufacturer'].str.replace('land-land' , 'land')\n",
    "auto_data['manufacturer']= auto_data['manufacturer'].str.replace('rover' , 'land-rover') \n",
    "auto_data['manufacturer']= auto_data['manufacturer'].str.replace('porche', 'porsche')\n",
    "auto_data['manufacturer']= auto_data['manufacturer'].str.replace(' ', '-')\n",
    "\n",
    "#fix Model\n",
    "auto_data['model']= auto_data['model'].str.strip() \n",
    "auto_data['modelx']= auto_data['model'].str.replace(' ', '-')\n",
    "auto_data['modelx']= auto_data['model'].str.replace('---', '-')\n",
    "auto_data['modelx']= auto_data['model'].str.replace('--', '-')\n",
    "\n",
    "\n",
    "\n"
   ]
  },
  {
   "cell_type": "code",
   "execution_count": 253,
   "metadata": {},
   "outputs": [
    {
     "data": {
      "text/html": [
       "<div>\n",
       "<style scoped>\n",
       "    .dataframe tbody tr th:only-of-type {\n",
       "        vertical-align: middle;\n",
       "    }\n",
       "\n",
       "    .dataframe tbody tr th {\n",
       "        vertical-align: top;\n",
       "    }\n",
       "\n",
       "    .dataframe thead th {\n",
       "        text-align: right;\n",
       "    }\n",
       "</style>\n",
       "<table border=\"1\" class=\"dataframe\">\n",
       "  <thead>\n",
       "    <tr style=\"text-align: right;\">\n",
       "      <th></th>\n",
       "      <th>id</th>\n",
       "      <th>region</th>\n",
       "      <th>price</th>\n",
       "      <th>year</th>\n",
       "      <th>manufacturer</th>\n",
       "      <th>model</th>\n",
       "      <th>condition</th>\n",
       "      <th>cylinders</th>\n",
       "      <th>fuel</th>\n",
       "      <th>odometer</th>\n",
       "      <th>...</th>\n",
       "      <th>paint_color</th>\n",
       "      <th>description</th>\n",
       "      <th>state</th>\n",
       "      <th>lat</th>\n",
       "      <th>long</th>\n",
       "      <th>age</th>\n",
       "      <th>modelx</th>\n",
       "      <th>mmy_a</th>\n",
       "      <th>model2</th>\n",
       "      <th>mmy_a2</th>\n",
       "    </tr>\n",
       "  </thead>\n",
       "  <tbody>\n",
       "    <tr>\n",
       "      <th>0</th>\n",
       "      <td>7088744126</td>\n",
       "      <td>greensboro</td>\n",
       "      <td>9500</td>\n",
       "      <td>2011.0</td>\n",
       "      <td>jaguar</td>\n",
       "      <td>xf</td>\n",
       "      <td>excellent</td>\n",
       "      <td>NaN</td>\n",
       "      <td>gas</td>\n",
       "      <td>85000.0</td>\n",
       "      <td>...</td>\n",
       "      <td>blue</td>\n",
       "      <td>2011 jaguar XF premium - estate sale. Retired ...</td>\n",
       "      <td>nc</td>\n",
       "      <td>36.1032</td>\n",
       "      <td>-79.8794</td>\n",
       "      <td>9.0</td>\n",
       "      <td>xf</td>\n",
       "      <td>jaguar xf 2011</td>\n",
       "      <td>NaN</td>\n",
       "      <td>NaN</td>\n",
       "    </tr>\n",
       "    <tr>\n",
       "      <th>1</th>\n",
       "      <td>7093461424</td>\n",
       "      <td>denver</td>\n",
       "      <td>7995</td>\n",
       "      <td>2010.0</td>\n",
       "      <td>chevrolet</td>\n",
       "      <td>silverado 1500 4wd</td>\n",
       "      <td>excellent</td>\n",
       "      <td>8.0</td>\n",
       "      <td>gas</td>\n",
       "      <td>194050.0</td>\n",
       "      <td>...</td>\n",
       "      <td>white</td>\n",
       "      <td>This Silverado work truck must've been used by...</td>\n",
       "      <td>co</td>\n",
       "      <td>39.8302</td>\n",
       "      <td>-105.0370</td>\n",
       "      <td>10.0</td>\n",
       "      <td>silverado 1500 4wd</td>\n",
       "      <td>chevrolet silverado 1500 4wd 2010</td>\n",
       "      <td>silverado 1500</td>\n",
       "      <td>chevrolet silverado 1500 2010</td>\n",
       "    </tr>\n",
       "    <tr>\n",
       "      <th>2</th>\n",
       "      <td>7088708344</td>\n",
       "      <td>greensboro</td>\n",
       "      <td>15300</td>\n",
       "      <td>2015.0</td>\n",
       "      <td>honda</td>\n",
       "      <td>accord lx-s coupe 2d</td>\n",
       "      <td>good</td>\n",
       "      <td>NaN</td>\n",
       "      <td>gas</td>\n",
       "      <td>54296.0</td>\n",
       "      <td>...</td>\n",
       "      <td>black</td>\n",
       "      <td>Welcome to Carvana—the new way to buy a car (e...</td>\n",
       "      <td>nc</td>\n",
       "      <td>36.0700</td>\n",
       "      <td>-79.8200</td>\n",
       "      <td>5.0</td>\n",
       "      <td>accord lx-s coupe 2d</td>\n",
       "      <td>honda accord lx-s coupe 2d 2015</td>\n",
       "      <td>accord lx-s</td>\n",
       "      <td>honda accord lx-s 2015</td>\n",
       "    </tr>\n",
       "    <tr>\n",
       "      <th>3</th>\n",
       "      <td>7076226877</td>\n",
       "      <td>syracuse</td>\n",
       "      <td>10950</td>\n",
       "      <td>2011.0</td>\n",
       "      <td>buick</td>\n",
       "      <td>lucerne cxl v6</td>\n",
       "      <td>excellent</td>\n",
       "      <td>6.0</td>\n",
       "      <td>gas</td>\n",
       "      <td>43418.0</td>\n",
       "      <td>...</td>\n",
       "      <td>red</td>\n",
       "      <td>Grandma's 2011 Buick Lucerne. 43,418  babied m...</td>\n",
       "      <td>ny</td>\n",
       "      <td>43.1226</td>\n",
       "      <td>-76.1284</td>\n",
       "      <td>9.0</td>\n",
       "      <td>lucerne cxl v6</td>\n",
       "      <td>buick lucerne cxl v6 2011</td>\n",
       "      <td>lucerne cxl</td>\n",
       "      <td>buick lucerne cxl 2011</td>\n",
       "    </tr>\n",
       "    <tr>\n",
       "      <th>4</th>\n",
       "      <td>7076224988</td>\n",
       "      <td>syracuse</td>\n",
       "      <td>9400</td>\n",
       "      <td>2011.0</td>\n",
       "      <td>bmw</td>\n",
       "      <td>x5</td>\n",
       "      <td>good</td>\n",
       "      <td>6.0</td>\n",
       "      <td>gas</td>\n",
       "      <td>145000.0</td>\n",
       "      <td>...</td>\n",
       "      <td>blue</td>\n",
       "      <td>Selling a 2011 BMW X5 in mint condition with f...</td>\n",
       "      <td>ny</td>\n",
       "      <td>43.1707</td>\n",
       "      <td>-76.0962</td>\n",
       "      <td>9.0</td>\n",
       "      <td>x5</td>\n",
       "      <td>bmw x5 2011</td>\n",
       "      <td>NaN</td>\n",
       "      <td>NaN</td>\n",
       "    </tr>\n",
       "  </tbody>\n",
       "</table>\n",
       "<p>5 rows × 26 columns</p>\n",
       "</div>"
      ],
      "text/plain": [
       "           id      region  price    year manufacturer                 model  \\\n",
       "0  7088744126  greensboro   9500  2011.0       jaguar                    xf   \n",
       "1  7093461424      denver   7995  2010.0    chevrolet    silverado 1500 4wd   \n",
       "2  7088708344  greensboro  15300  2015.0        honda  accord lx-s coupe 2d   \n",
       "3  7076226877    syracuse  10950  2011.0        buick        lucerne cxl v6   \n",
       "4  7076224988    syracuse   9400  2011.0          bmw                    x5   \n",
       "\n",
       "   condition  cylinders fuel  odometer  ... paint_color  \\\n",
       "0  excellent        NaN  gas   85000.0  ...        blue   \n",
       "1  excellent        8.0  gas  194050.0  ...       white   \n",
       "2       good        NaN  gas   54296.0  ...       black   \n",
       "3  excellent        6.0  gas   43418.0  ...         red   \n",
       "4       good        6.0  gas  145000.0  ...        blue   \n",
       "\n",
       "                                         description state      lat      long  \\\n",
       "0  2011 jaguar XF premium - estate sale. Retired ...    nc  36.1032  -79.8794   \n",
       "1  This Silverado work truck must've been used by...    co  39.8302 -105.0370   \n",
       "2  Welcome to Carvana—the new way to buy a car (e...    nc  36.0700  -79.8200   \n",
       "3  Grandma's 2011 Buick Lucerne. 43,418  babied m...    ny  43.1226  -76.1284   \n",
       "4  Selling a 2011 BMW X5 in mint condition with f...    ny  43.1707  -76.0962   \n",
       "\n",
       "    age                modelx                              mmy_a  \\\n",
       "0   9.0                    xf                     jaguar xf 2011   \n",
       "1  10.0    silverado 1500 4wd  chevrolet silverado 1500 4wd 2010   \n",
       "2   5.0  accord lx-s coupe 2d    honda accord lx-s coupe 2d 2015   \n",
       "3   9.0        lucerne cxl v6          buick lucerne cxl v6 2011   \n",
       "4   9.0                    x5                        bmw x5 2011   \n",
       "\n",
       "           model2                         mmy_a2  \n",
       "0             NaN                            NaN  \n",
       "1  silverado 1500  chevrolet silverado 1500 2010  \n",
       "2     accord lx-s         honda accord lx-s 2015  \n",
       "3     lucerne cxl         buick lucerne cxl 2011  \n",
       "4             NaN                            NaN  \n",
       "\n",
       "[5 rows x 26 columns]"
      ]
     },
     "execution_count": 253,
     "metadata": {},
     "output_type": "execute_result"
    }
   ],
   "source": [
    "#crreate key\n",
    "#auto_data['mmy_a']=auto_data['manufacturer'].str.strip()+' '+auto_data['modelx'].str.strip()+ ' '+ auto_data['year'].astype(int).astype(str)\n",
    "auto_data['mmy_a']=auto_data['manufacturer'].str.strip()+' '+auto_data['model'].str.strip()+ ' '+ auto_data['year'].astype(int).astype(str)\n",
    "auto_data['mmy_a']=auto_data['mmy_a'].str.lower()\n",
    "\n",
    "#auto_data['model2']= auto_data['model'].str.strip().str.split(' ').str[0]+'-'+auto_data['model'].str.strip().str.split(' ').str[1]\n",
    "auto_data['model2']= auto_data['model'].str.strip().str.split(' ').str[0]+' '+auto_data['model'].str.strip().str.split(' ').str[1]\n",
    "\n",
    "auto_data['model2']= auto_data['model2'].str.strip()\n",
    "auto_data['mmy_a2']=auto_data['manufacturer']+' '+auto_data['model2']+ ' '+ auto_data['year'].astype(int).astype(str)\n",
    "auto_data['mmy_a2']= auto_data['mmy_a2'].str.lower()\n",
    "auto_data.head()"
   ]
  },
  {
   "cell_type": "code",
   "execution_count": 254,
   "metadata": {},
   "outputs": [
    {
     "name": "stdout",
     "output_type": "stream",
     "text": [
      "<class 'pandas.core.frame.DataFrame'>\n",
      "Int64Index: 142138 entries, 0 to 142140\n",
      "Data columns (total 26 columns):\n",
      " #   Column        Non-Null Count   Dtype  \n",
      "---  ------        --------------   -----  \n",
      " 0   id            142138 non-null  int64  \n",
      " 1   region        142138 non-null  object \n",
      " 2   price         142138 non-null  int64  \n",
      " 3   year          142138 non-null  float64\n",
      " 4   manufacturer  139154 non-null  object \n",
      " 5   model         142138 non-null  object \n",
      " 6   condition     142138 non-null  object \n",
      " 7   cylinders     103418 non-null  float64\n",
      " 8   fuel          142128 non-null  object \n",
      " 9   odometer      142138 non-null  float64\n",
      " 10  title_status  142132 non-null  object \n",
      " 11  transmission  142006 non-null  object \n",
      " 12  vin           103835 non-null  object \n",
      " 13  drive         118448 non-null  object \n",
      " 14  size          56919 non-null   object \n",
      " 15  type          127086 non-null  object \n",
      " 16  paint_color   118150 non-null  object \n",
      " 17  description   142136 non-null  object \n",
      " 18  state         142138 non-null  object \n",
      " 19  lat           140989 non-null  float64\n",
      " 20  long          140989 non-null  float64\n",
      " 21  age           142138 non-null  float64\n",
      " 22  modelx        142138 non-null  object \n",
      " 23  mmy_a         139154 non-null  object \n",
      " 24  model2        91641 non-null   object \n",
      " 25  mmy_a2        88881 non-null   object \n",
      "dtypes: float64(6), int64(2), object(18)\n",
      "memory usage: 29.3+ MB\n"
     ]
    }
   ],
   "source": [
    "#find summary statistics\n",
    "auto_data.info()"
   ]
  },
  {
   "cell_type": "markdown",
   "metadata": {},
   "source": [
    "## Load MSRP Data"
   ]
  },
  {
   "cell_type": "code",
   "execution_count": 255,
   "metadata": {},
   "outputs": [
    {
     "data": {
      "text/html": [
       "<div>\n",
       "<style scoped>\n",
       "    .dataframe tbody tr th:only-of-type {\n",
       "        vertical-align: middle;\n",
       "    }\n",
       "\n",
       "    .dataframe tbody tr th {\n",
       "        vertical-align: top;\n",
       "    }\n",
       "\n",
       "    .dataframe thead th {\n",
       "        text-align: right;\n",
       "    }\n",
       "</style>\n",
       "<table border=\"1\" class=\"dataframe\">\n",
       "  <thead>\n",
       "    <tr style=\"text-align: right;\">\n",
       "      <th></th>\n",
       "      <th>Make</th>\n",
       "      <th>Model</th>\n",
       "      <th>Year</th>\n",
       "      <th>Engine Fuel Type</th>\n",
       "      <th>Engine HP</th>\n",
       "      <th>Engine Cylinders</th>\n",
       "      <th>Transmission Type</th>\n",
       "      <th>Driven_Wheels</th>\n",
       "      <th>Number of Doors</th>\n",
       "      <th>Market Category</th>\n",
       "      <th>Vehicle Size</th>\n",
       "      <th>Vehicle Style</th>\n",
       "      <th>highway MPG</th>\n",
       "      <th>city mpg</th>\n",
       "      <th>Popularity</th>\n",
       "      <th>MSRP</th>\n",
       "    </tr>\n",
       "  </thead>\n",
       "  <tbody>\n",
       "    <tr>\n",
       "      <th>0</th>\n",
       "      <td>BMW</td>\n",
       "      <td>1 Series M</td>\n",
       "      <td>2011</td>\n",
       "      <td>premium unleaded (required)</td>\n",
       "      <td>335.0</td>\n",
       "      <td>6.0</td>\n",
       "      <td>MANUAL</td>\n",
       "      <td>rear wheel drive</td>\n",
       "      <td>2.0</td>\n",
       "      <td>Factory Tuner,Luxury,High-Performance</td>\n",
       "      <td>Compact</td>\n",
       "      <td>Coupe</td>\n",
       "      <td>26</td>\n",
       "      <td>19</td>\n",
       "      <td>3916</td>\n",
       "      <td>46135</td>\n",
       "    </tr>\n",
       "    <tr>\n",
       "      <th>1</th>\n",
       "      <td>BMW</td>\n",
       "      <td>1 Series</td>\n",
       "      <td>2011</td>\n",
       "      <td>premium unleaded (required)</td>\n",
       "      <td>300.0</td>\n",
       "      <td>6.0</td>\n",
       "      <td>MANUAL</td>\n",
       "      <td>rear wheel drive</td>\n",
       "      <td>2.0</td>\n",
       "      <td>Luxury,Performance</td>\n",
       "      <td>Compact</td>\n",
       "      <td>Convertible</td>\n",
       "      <td>28</td>\n",
       "      <td>19</td>\n",
       "      <td>3916</td>\n",
       "      <td>40650</td>\n",
       "    </tr>\n",
       "    <tr>\n",
       "      <th>2</th>\n",
       "      <td>BMW</td>\n",
       "      <td>1 Series</td>\n",
       "      <td>2011</td>\n",
       "      <td>premium unleaded (required)</td>\n",
       "      <td>300.0</td>\n",
       "      <td>6.0</td>\n",
       "      <td>MANUAL</td>\n",
       "      <td>rear wheel drive</td>\n",
       "      <td>2.0</td>\n",
       "      <td>Luxury,High-Performance</td>\n",
       "      <td>Compact</td>\n",
       "      <td>Coupe</td>\n",
       "      <td>28</td>\n",
       "      <td>20</td>\n",
       "      <td>3916</td>\n",
       "      <td>36350</td>\n",
       "    </tr>\n",
       "    <tr>\n",
       "      <th>3</th>\n",
       "      <td>BMW</td>\n",
       "      <td>1 Series</td>\n",
       "      <td>2011</td>\n",
       "      <td>premium unleaded (required)</td>\n",
       "      <td>230.0</td>\n",
       "      <td>6.0</td>\n",
       "      <td>MANUAL</td>\n",
       "      <td>rear wheel drive</td>\n",
       "      <td>2.0</td>\n",
       "      <td>Luxury,Performance</td>\n",
       "      <td>Compact</td>\n",
       "      <td>Coupe</td>\n",
       "      <td>28</td>\n",
       "      <td>18</td>\n",
       "      <td>3916</td>\n",
       "      <td>29450</td>\n",
       "    </tr>\n",
       "    <tr>\n",
       "      <th>4</th>\n",
       "      <td>BMW</td>\n",
       "      <td>1 Series</td>\n",
       "      <td>2011</td>\n",
       "      <td>premium unleaded (required)</td>\n",
       "      <td>230.0</td>\n",
       "      <td>6.0</td>\n",
       "      <td>MANUAL</td>\n",
       "      <td>rear wheel drive</td>\n",
       "      <td>2.0</td>\n",
       "      <td>Luxury</td>\n",
       "      <td>Compact</td>\n",
       "      <td>Convertible</td>\n",
       "      <td>28</td>\n",
       "      <td>18</td>\n",
       "      <td>3916</td>\n",
       "      <td>34500</td>\n",
       "    </tr>\n",
       "  </tbody>\n",
       "</table>\n",
       "</div>"
      ],
      "text/plain": [
       "  Make       Model  Year             Engine Fuel Type  Engine HP  \\\n",
       "0  BMW  1 Series M  2011  premium unleaded (required)      335.0   \n",
       "1  BMW    1 Series  2011  premium unleaded (required)      300.0   \n",
       "2  BMW    1 Series  2011  premium unleaded (required)      300.0   \n",
       "3  BMW    1 Series  2011  premium unleaded (required)      230.0   \n",
       "4  BMW    1 Series  2011  premium unleaded (required)      230.0   \n",
       "\n",
       "   Engine Cylinders Transmission Type     Driven_Wheels  Number of Doors  \\\n",
       "0               6.0            MANUAL  rear wheel drive              2.0   \n",
       "1               6.0            MANUAL  rear wheel drive              2.0   \n",
       "2               6.0            MANUAL  rear wheel drive              2.0   \n",
       "3               6.0            MANUAL  rear wheel drive              2.0   \n",
       "4               6.0            MANUAL  rear wheel drive              2.0   \n",
       "\n",
       "                         Market Category Vehicle Size Vehicle Style  \\\n",
       "0  Factory Tuner,Luxury,High-Performance      Compact         Coupe   \n",
       "1                     Luxury,Performance      Compact   Convertible   \n",
       "2                Luxury,High-Performance      Compact         Coupe   \n",
       "3                     Luxury,Performance      Compact         Coupe   \n",
       "4                                 Luxury      Compact   Convertible   \n",
       "\n",
       "   highway MPG  city mpg  Popularity   MSRP  \n",
       "0           26        19        3916  46135  \n",
       "1           28        19        3916  40650  \n",
       "2           28        20        3916  36350  \n",
       "3           28        18        3916  29450  \n",
       "4           28        18        3916  34500  "
      ]
     },
     "execution_count": 255,
     "metadata": {},
     "output_type": "execute_result"
    }
   ],
   "source": [
    "# Create the list of file names: filenames\n",
    "file_m ='msrp.csv'\n",
    "sub_file = 'data'\n",
    "file_name_path_m = os.path.join(basepath, sub_file, file_m)\n",
    "msrp_data= pd.read_csv(file_name_path_m)\n",
    "#Open data\n",
    "msrp_data.head(5)\n"
   ]
  },
  {
   "cell_type": "code",
   "execution_count": 256,
   "metadata": {},
   "outputs": [
    {
     "name": "stdout",
     "output_type": "stream",
     "text": [
      "Maximum MSRP: 497650 \n",
      "Minimum MSRP: 11965 \n",
      "Maximum Year: 2017 \n",
      "Minimum Year: 2010 \n"
     ]
    }
   ],
   "source": [
    "print(f\"Maximum MSRP: {msrp_data.MSRP.max()} \\nMinimum MSRP: {msrp_data.MSRP.min()} \")\n",
    "# If we are dealing with a vehicle with an MSRP over half milion miles we have more problem\n",
    "msrp_data = msrp_data[(msrp_data.MSRP< 500000 )] \n",
    "print(f\"Maximum Year: {msrp_data.Year.max()} \\nMinimum Year: {msrp_data.Year.min()} \")\n",
    "# We only need vehicles with over a 2009 MY\n",
    "msrp_data = msrp_data[(msrp_data.Year> 2009 )] "
   ]
  },
  {
   "cell_type": "code",
   "execution_count": 257,
   "metadata": {},
   "outputs": [
    {
     "data": {
      "text/plain": [
       "Index(['Make', 'Model', 'Year', 'Engine Fuel Type', 'Engine HP',\n",
       "       'Engine Cylinders', 'Transmission Type', 'Driven_Wheels',\n",
       "       'Number of Doors', 'Market Category', 'Vehicle Size', 'Vehicle Style',\n",
       "       'highway MPG', 'city mpg', 'Popularity', 'MSRP'],\n",
       "      dtype='object')"
      ]
     },
     "execution_count": 257,
     "metadata": {},
     "output_type": "execute_result"
    }
   ],
   "source": [
    "msrp_data.columns"
   ]
  },
  {
   "cell_type": "code",
   "execution_count": 258,
   "metadata": {},
   "outputs": [
    {
     "data": {
      "text/plain": [
       "0    bmw 1 series m 2011\n",
       "1      bmw 1 series 2011\n",
       "2      bmw 1 series 2011\n",
       "3      bmw 1 series 2011\n",
       "4      bmw 1 series 2011\n",
       "Name: mmy_m, dtype: object"
      ]
     },
     "execution_count": 258,
     "metadata": {},
     "output_type": "execute_result"
    }
   ],
   "source": [
    "msrp_data.columns\n",
    "msrp_data['Make']= msrp_data['Make'].str.strip() \n",
    "msrp_data['Make']= msrp_data['Make'].str.replace(' ', '-')\n",
    "#msrp_data['Modelx']= msrp_data['Model'].str.strip() \n",
    "#msrp_data['Modelx']= msrp_data['Modelx'].str.replace(' ', '-')\n",
    "#msrp_data['mmy_m']=msrp_data['Make'].str.strip()+' '+msrp_data['Modelx'].str.strip()+ ' '+ msrp_data['Year'].astype(int).astype(str)\n",
    "msrp_data['mmy_m']=msrp_data['Make'].str.strip()+' '+msrp_data['Model'].str.strip()+ ' '+ msrp_data['Year'].astype(int).astype(str)\n",
    "msrp_data['mmy_m']= msrp_data['mmy_m'].str.lower()\n",
    "msrp_data['mmy_m'].head()"
   ]
  },
  {
   "cell_type": "code",
   "execution_count": 259,
   "metadata": {},
   "outputs": [],
   "source": [
    "MSRP_dict = msrp_data.groupby(['Make', 'Model', 'Year', 'mmy_m'])['MSRP'].mean().reset_index()\n"
   ]
  },
  {
   "cell_type": "markdown",
   "metadata": {},
   "source": [
    "## Combine Auto key and MSRP key"
   ]
  },
  {
   "cell_type": "code",
   "execution_count": 260,
   "metadata": {},
   "outputs": [],
   "source": [
    "df1= auto_data[['manufacturer', 'model', 'model2', 'year', 'mmy_a2', 'mmy_a']]\n",
    "df1 = df1[df1.manufacturer != 'harley-davidson']\n",
    "df1 = df1[df1.manufacturer != 'hennessey']\n",
    "df1= df1.drop_duplicates(keep='last')\n",
    "df2= MSRP_dict"
   ]
  },
  {
   "cell_type": "code",
   "execution_count": 261,
   "metadata": {},
   "outputs": [
    {
     "name": "stdout",
     "output_type": "stream",
     "text": [
      "<class 'pandas.core.frame.DataFrame'>\n",
      "Int64Index: 23464 entries, 0 to 23463\n",
      "Data columns (total 11 columns):\n",
      " #   Column        Non-Null Count  Dtype  \n",
      "---  ------        --------------  -----  \n",
      " 0   manufacturer  21736 non-null  object \n",
      " 1   model         23464 non-null  object \n",
      " 2   model2        20176 non-null  object \n",
      " 3   year          23464 non-null  float64\n",
      " 4   mmy_a2        18638 non-null  object \n",
      " 5   mmy_a         21736 non-null  object \n",
      " 6   Make          855 non-null    object \n",
      " 7   Model         855 non-null    object \n",
      " 8   Year          855 non-null    float64\n",
      " 9   mmy_m         855 non-null    object \n",
      " 10  MSRP          855 non-null    float64\n",
      "dtypes: float64(3), object(8)\n",
      "memory usage: 2.1+ MB\n"
     ]
    }
   ],
   "source": [
    "a_m_dict= pd.merge(df1, df2, left_on='mmy_a', right_on= 'mmy_m', how='left' )\n",
    "a_m_dict.info()\n",
    "a_m_dict =a_m_dict.dropna()"
   ]
  },
  {
   "cell_type": "code",
   "execution_count": 262,
   "metadata": {},
   "outputs": [
    {
     "name": "stdout",
     "output_type": "stream",
     "text": [
      "<class 'pandas.core.frame.DataFrame'>\n",
      "Int64Index: 23464 entries, 0 to 23463\n",
      "Data columns (total 11 columns):\n",
      " #   Column        Non-Null Count  Dtype  \n",
      "---  ------        --------------  -----  \n",
      " 0   manufacturer  21736 non-null  object \n",
      " 1   model         23464 non-null  object \n",
      " 2   model2        20176 non-null  object \n",
      " 3   year          23464 non-null  float64\n",
      " 4   mmy_a2        18638 non-null  object \n",
      " 5   mmy_a         21736 non-null  object \n",
      " 6   Make          820 non-null    object \n",
      " 7   Model         820 non-null    object \n",
      " 8   Year          820 non-null    float64\n",
      " 9   mmy_m         820 non-null    object \n",
      " 10  MSRP          820 non-null    float64\n",
      "dtypes: float64(3), object(8)\n",
      "memory usage: 2.1+ MB\n"
     ]
    }
   ],
   "source": [
    "a_m_dict_append= pd.merge(df1, df2, left_on='mmy_a2', right_on= 'mmy_m', how='left' )\n",
    "a_m_dict_append.info()\n",
    "a_m_dict_append =a_m_dict_append.dropna()\n",
    "a_m_dict= a_m_dict.append(a_m_dict_append)\n",
    "a_m_dict = a_m_dict.drop_duplicates(subset=['mmy_a'], keep='first')\n",
    "\n"
   ]
  },
  {
   "cell_type": "code",
   "execution_count": 263,
   "metadata": {},
   "outputs": [
    {
     "name": "stdout",
     "output_type": "stream",
     "text": [
      "<class 'pandas.core.frame.DataFrame'>\n",
      "Int64Index: 828 entries, 53 to 23438\n",
      "Data columns (total 11 columns):\n",
      " #   Column        Non-Null Count  Dtype  \n",
      "---  ------        --------------  -----  \n",
      " 0   manufacturer  828 non-null    object \n",
      " 1   model         828 non-null    object \n",
      " 2   model2        828 non-null    object \n",
      " 3   year          828 non-null    float64\n",
      " 4   mmy_a2        828 non-null    object \n",
      " 5   mmy_a         828 non-null    object \n",
      " 6   Make          828 non-null    object \n",
      " 7   Model         828 non-null    object \n",
      " 8   Year          828 non-null    float64\n",
      " 9   mmy_m         828 non-null    object \n",
      " 10  MSRP          828 non-null    float64\n",
      "dtypes: float64(3), object(8)\n",
      "memory usage: 77.6+ KB\n"
     ]
    }
   ],
   "source": [
    "a_m_dict.info()"
   ]
  },
  {
   "cell_type": "markdown",
   "metadata": {},
   "source": [
    "## Cat Data"
   ]
  },
  {
   "cell_type": "code",
   "execution_count": 264,
   "metadata": {},
   "outputs": [
    {
     "data": {
      "text/html": [
       "<div>\n",
       "<style scoped>\n",
       "    .dataframe tbody tr th:only-of-type {\n",
       "        vertical-align: middle;\n",
       "    }\n",
       "\n",
       "    .dataframe tbody tr th {\n",
       "        vertical-align: top;\n",
       "    }\n",
       "\n",
       "    .dataframe thead th {\n",
       "        text-align: right;\n",
       "    }\n",
       "</style>\n",
       "<table border=\"1\" class=\"dataframe\">\n",
       "  <thead>\n",
       "    <tr style=\"text-align: right;\">\n",
       "      <th></th>\n",
       "      <th>Year</th>\n",
       "      <th>Make</th>\n",
       "      <th>Model</th>\n",
       "      <th>Category</th>\n",
       "      <th>updatedAt</th>\n",
       "    </tr>\n",
       "  </thead>\n",
       "  <tbody>\n",
       "    <tr>\n",
       "      <th>0</th>\n",
       "      <td>2020</td>\n",
       "      <td>Audi</td>\n",
       "      <td>Q3</td>\n",
       "      <td>SUV</td>\n",
       "      <td>2020-01-27T20:44:17.665Z</td>\n",
       "    </tr>\n",
       "    <tr>\n",
       "      <th>1</th>\n",
       "      <td>2020</td>\n",
       "      <td>Cadillac</td>\n",
       "      <td>Escalade ESV</td>\n",
       "      <td>SUV</td>\n",
       "      <td>2020-01-27T20:44:17.665Z</td>\n",
       "    </tr>\n",
       "    <tr>\n",
       "      <th>2</th>\n",
       "      <td>2020</td>\n",
       "      <td>Chevrolet</td>\n",
       "      <td>Malibu</td>\n",
       "      <td>Sedan</td>\n",
       "      <td>2020-01-27T20:44:17.665Z</td>\n",
       "    </tr>\n",
       "    <tr>\n",
       "      <th>3</th>\n",
       "      <td>2020</td>\n",
       "      <td>Chevrolet</td>\n",
       "      <td>Corvette</td>\n",
       "      <td>Coupe, Convertible</td>\n",
       "      <td>2020-01-27T20:44:17.665Z</td>\n",
       "    </tr>\n",
       "    <tr>\n",
       "      <th>4</th>\n",
       "      <td>2020</td>\n",
       "      <td>Acura</td>\n",
       "      <td>RLX</td>\n",
       "      <td>Sedan</td>\n",
       "      <td>2020-01-27T20:44:17.665Z</td>\n",
       "    </tr>\n",
       "  </tbody>\n",
       "</table>\n",
       "</div>"
      ],
      "text/plain": [
       "   Year       Make         Model            Category                 updatedAt\n",
       "0  2020       Audi            Q3                 SUV  2020-01-27T20:44:17.665Z\n",
       "1  2020   Cadillac  Escalade ESV                 SUV  2020-01-27T20:44:17.665Z\n",
       "2  2020  Chevrolet        Malibu               Sedan  2020-01-27T20:44:17.665Z\n",
       "3  2020  Chevrolet      Corvette  Coupe, Convertible  2020-01-27T20:44:17.665Z\n",
       "4  2020      Acura           RLX               Sedan  2020-01-27T20:44:17.665Z"
      ]
     },
     "execution_count": 264,
     "metadata": {},
     "output_type": "execute_result"
    }
   ],
   "source": [
    "sub_file = 'data'\n",
    "new_file = 'cat_data.csv'\n",
    "cat_file_name_path = os.path.join(basepath,sub_file, new_file)\n",
    "cat_data= pd.read_csv(cat_file_name_path)\n",
    "cat_data.head()\n"
   ]
  },
  {
   "cell_type": "code",
   "execution_count": 265,
   "metadata": {},
   "outputs": [],
   "source": [
    "#Create Cat key\n",
    "cat_data['make'] = cat_data['Make'].str.lower()\n",
    "cat_data['make'] = cat_data['make'].str.strip()\n",
    "cat_data['make']= cat_data['make'].str.replace(' ', '-') \n",
    "cat_data['mmy']=cat_data['make']+' '+cat_data['Model'].str.strip()+ ' '+ cat_data['Year'].astype(int).astype(str)\n",
    "cat_data['mmy']= cat_data['mmy'].str.lower()\n"
   ]
  },
  {
   "cell_type": "code",
   "execution_count": 266,
   "metadata": {},
   "outputs": [],
   "source": [
    "#merge MSRP cat\n",
    "msrp_dict2 = MSRP_dict[['mmy_m', 'MSRP']]\n",
    "cat_data= pd.merge(cat_data, msrp_dict2, left_on='mmy', right_on= 'mmy_m', how='left')"
   ]
  },
  {
   "cell_type": "code",
   "execution_count": 267,
   "metadata": {},
   "outputs": [
    {
     "name": "stdout",
     "output_type": "stream",
     "text": [
      "<class 'pandas.core.frame.DataFrame'>\n",
      "Int64Index: 4082 entries, 0 to 4081\n",
      "Data columns (total 9 columns):\n",
      " #   Column     Non-Null Count  Dtype  \n",
      "---  ------     --------------  -----  \n",
      " 0   Year       4082 non-null   int64  \n",
      " 1   Make       4082 non-null   object \n",
      " 2   Model      4082 non-null   object \n",
      " 3   Category   4082 non-null   object \n",
      " 4   updatedAt  4082 non-null   object \n",
      " 5   make       4082 non-null   object \n",
      " 6   mmy        4082 non-null   object \n",
      " 7   mmy_m      959 non-null    object \n",
      " 8   MSRP       959 non-null    float64\n",
      "dtypes: float64(1), int64(1), object(7)\n",
      "memory usage: 318.9+ KB\n"
     ]
    }
   ],
   "source": [
    "cat_data.info()"
   ]
  },
  {
   "cell_type": "code",
   "execution_count": 268,
   "metadata": {},
   "outputs": [],
   "source": [
    "## Merge Cat Data"
   ]
  },
  {
   "cell_type": "code",
   "execution_count": 269,
   "metadata": {},
   "outputs": [],
   "source": [
    "#create mergeable sets\n",
    "df1= auto_data[['manufacturer', 'model', 'year', 'mmy_a', 'mmy_a2']]\n",
    "df1= df1.drop_duplicates(keep='last')\n",
    "df1 = df1[df1.manufacturer != 'harley-davidson']\n",
    "df1 = df1[df1.manufacturer != 'hennessey']\n",
    "df2= cat_data[['Make',  'make', 'Model', 'Year', 'mmy', 'Category', 'MSRP']]\n",
    "df2= df2.drop_duplicates(keep='last')"
   ]
  },
  {
   "cell_type": "code",
   "execution_count": 270,
   "metadata": {},
   "outputs": [
    {
     "name": "stdout",
     "output_type": "stream",
     "text": [
      "<class 'pandas.core.frame.DataFrame'>\n",
      "Int64Index: 23464 entries, 3 to 142140\n",
      "Data columns (total 5 columns):\n",
      " #   Column        Non-Null Count  Dtype  \n",
      "---  ------        --------------  -----  \n",
      " 0   manufacturer  21736 non-null  object \n",
      " 1   model         23464 non-null  object \n",
      " 2   year          23464 non-null  float64\n",
      " 3   mmy_a         21736 non-null  object \n",
      " 4   mmy_a2        18638 non-null  object \n",
      "dtypes: float64(1), object(4)\n",
      "memory usage: 1.1+ MB\n"
     ]
    }
   ],
   "source": [
    "df1.info()"
   ]
  },
  {
   "cell_type": "code",
   "execution_count": 271,
   "metadata": {},
   "outputs": [
    {
     "name": "stdout",
     "output_type": "stream",
     "text": [
      "<class 'pandas.core.frame.DataFrame'>\n",
      "Int64Index: 23464 entries, 0 to 23463\n",
      "Data columns (total 12 columns):\n",
      " #   Column        Non-Null Count  Dtype  \n",
      "---  ------        --------------  -----  \n",
      " 0   manufacturer  21736 non-null  object \n",
      " 1   model         23464 non-null  object \n",
      " 2   year          23464 non-null  float64\n",
      " 3   mmy_a         21736 non-null  object \n",
      " 4   mmy_a2        18638 non-null  object \n",
      " 5   Make          2254 non-null   object \n",
      " 6   make          2254 non-null   object \n",
      " 7   Model         2254 non-null   object \n",
      " 8   Year          2254 non-null   float64\n",
      " 9   mmy           2254 non-null   object \n",
      " 10  Category      2254 non-null   object \n",
      " 11  MSRP          685 non-null    float64\n",
      "dtypes: float64(3), object(9)\n",
      "memory usage: 2.3+ MB\n"
     ]
    }
   ],
   "source": [
    "#merge1\n",
    "z= pd.merge(df1, df2, left_on='mmy_a', right_on='mmy', how='left')\n",
    "z.info()"
   ]
  },
  {
   "cell_type": "code",
   "execution_count": 272,
   "metadata": {},
   "outputs": [
    {
     "name": "stdout",
     "output_type": "stream",
     "text": [
      "<class 'pandas.core.frame.DataFrame'>\n",
      "Int64Index: 2254 entries, 5 to 23463\n",
      "Data columns (total 8 columns):\n",
      " #   Column        Non-Null Count  Dtype  \n",
      "---  ------        --------------  -----  \n",
      " 0   manufacturer  2254 non-null   object \n",
      " 1   model         2254 non-null   object \n",
      " 2   year          2254 non-null   float64\n",
      " 3   mmy_a         2254 non-null   object \n",
      " 4   Make          2254 non-null   object \n",
      " 5   Model         2254 non-null   object \n",
      " 6   Year          2254 non-null   float64\n",
      " 7   Category      2254 non-null   object \n",
      "dtypes: float64(2), object(6)\n",
      "memory usage: 158.5+ KB\n"
     ]
    }
   ],
   "source": [
    "dict_cat = z[['manufacturer', 'model', 'year', 'mmy_a' , 'Make', 'Model', 'Year', 'Category' ]].dropna()\n",
    "dict_cat_m = z[['manufacturer', 'model', 'year', 'mmy_a' , 'Make', 'Model', 'Year', 'Category', 'MSRP' ]].dropna()\n",
    "dict_cat.info()"
   ]
  },
  {
   "cell_type": "code",
   "execution_count": 273,
   "metadata": {},
   "outputs": [],
   "source": [
    "#merge2\n",
    "z= pd.merge(df1, df2, left_on='mmy_a2', right_on= 'mmy', how='left' )\n",
    "dict_cat_append= z[['manufacturer', 'model', 'year', 'mmy_a' , 'mmy', 'Make', 'Model', 'Year', 'Category' ]].dropna()\n",
    "dict_cat_m_append= z[['manufacturer', 'model', 'year', 'mmy_a' ,  'mmy', 'Make', 'Model', 'Year', 'Category', 'MSRP' ]].dropna()\n",
    "\n"
   ]
  },
  {
   "cell_type": "code",
   "execution_count": 274,
   "metadata": {},
   "outputs": [
    {
     "name": "stdout",
     "output_type": "stream",
     "text": [
      "<class 'pandas.core.frame.DataFrame'>\n",
      "Int64Index: 3530 entries, 5 to 23449\n",
      "Data columns (total 9 columns):\n",
      " #   Column        Non-Null Count  Dtype  \n",
      "---  ------        --------------  -----  \n",
      " 0   manufacturer  3530 non-null   object \n",
      " 1   model         3530 non-null   object \n",
      " 2   year          3530 non-null   float64\n",
      " 3   mmy_a         3530 non-null   object \n",
      " 4   Make          3530 non-null   object \n",
      " 5   Model         3530 non-null   object \n",
      " 6   Year          3530 non-null   float64\n",
      " 7   Category      3530 non-null   object \n",
      " 8   mmy           1276 non-null   object \n",
      "dtypes: float64(2), object(7)\n",
      "memory usage: 275.8+ KB\n"
     ]
    }
   ],
   "source": [
    "#append dictionary\n",
    "dict_cat= dict_cat.append(dict_cat_append)\n",
    "dict_cat_m= dict_cat_m.append(dict_cat_m_append)\n",
    "dict_cat= dict_cat.drop_duplicates(keep='last')\n",
    "dict_cat_m= dict_cat_m.drop_duplicates(keep='last')\n",
    "dict_cat.info()"
   ]
  },
  {
   "cell_type": "code",
   "execution_count": 275,
   "metadata": {},
   "outputs": [
    {
     "name": "stdout",
     "output_type": "stream",
     "text": [
      "<class 'pandas.core.frame.DataFrame'>\n",
      "Int64Index: 3530 entries, 0 to 3529\n",
      "Data columns (total 10 columns):\n",
      " #   Column        Non-Null Count  Dtype  \n",
      "---  ------        --------------  -----  \n",
      " 0   manufacturer  3530 non-null   object \n",
      " 1   model         3530 non-null   object \n",
      " 2   year          3530 non-null   float64\n",
      " 3   mmy_a         3530 non-null   object \n",
      " 4   Make          3530 non-null   object \n",
      " 5   Model         3530 non-null   object \n",
      " 6   Year          3530 non-null   float64\n",
      " 7   Category      3530 non-null   object \n",
      " 8   mmy           1276 non-null   object \n",
      " 9   MSRP          1138 non-null   float64\n",
      "dtypes: float64(3), object(7)\n",
      "memory usage: 303.4+ KB\n"
     ]
    }
   ],
   "source": [
    "#combine dictionary\n",
    "dict_cat_s= pd.merge(dict_cat, dict_cat_m, on=['manufacturer', 'model', 'year', 'mmy_a', 'Make', 'Model', 'Year',\n",
    "       'Category', 'mmy'], how='left')\n",
    "dict_cat_s.info()\n"
   ]
  },
  {
   "cell_type": "code",
   "execution_count": 276,
   "metadata": {},
   "outputs": [
    {
     "name": "stdout",
     "output_type": "stream",
     "text": [
      "<class 'pandas.core.frame.DataFrame'>\n",
      "Int64Index: 828 entries, 53 to 23438\n",
      "Data columns (total 11 columns):\n",
      " #   Column        Non-Null Count  Dtype  \n",
      "---  ------        --------------  -----  \n",
      " 0   manufacturer  828 non-null    object \n",
      " 1   model         828 non-null    object \n",
      " 2   model2        828 non-null    object \n",
      " 3   year          828 non-null    float64\n",
      " 4   mmy_a2        828 non-null    object \n",
      " 5   mmy_a         828 non-null    object \n",
      " 6   Make          828 non-null    object \n",
      " 7   Model         828 non-null    object \n",
      " 8   Year          828 non-null    float64\n",
      " 9   mmy_m         828 non-null    object \n",
      " 10  MSRP          828 non-null    float64\n",
      "dtypes: float64(3), object(8)\n",
      "memory usage: 77.6+ KB\n"
     ]
    }
   ],
   "source": [
    "a_m_dict.info()\n"
   ]
  },
  {
   "cell_type": "code",
   "execution_count": 277,
   "metadata": {},
   "outputs": [],
   "source": [
    "a_m_dict_s= a_m_dict[['mmy_a', 'MSRP']].drop_duplicates(keep='last')"
   ]
  },
  {
   "cell_type": "code",
   "execution_count": 278,
   "metadata": {},
   "outputs": [
    {
     "name": "stdout",
     "output_type": "stream",
     "text": [
      "<class 'pandas.core.frame.DataFrame'>\n",
      "Int64Index: 3530 entries, 0 to 3529\n",
      "Data columns (total 11 columns):\n",
      " #   Column        Non-Null Count  Dtype  \n",
      "---  ------        --------------  -----  \n",
      " 0   manufacturer  3530 non-null   object \n",
      " 1   model         3530 non-null   object \n",
      " 2   year          3530 non-null   float64\n",
      " 3   mmy_a         3530 non-null   object \n",
      " 4   Make          3530 non-null   object \n",
      " 5   Model         3530 non-null   object \n",
      " 6   Year          3530 non-null   float64\n",
      " 7   Category      3530 non-null   object \n",
      " 8   mmy           1276 non-null   object \n",
      " 9   MSRP_x        1138 non-null   float64\n",
      " 10  MSRP_y        581 non-null    float64\n",
      "dtypes: float64(4), object(7)\n",
      "memory usage: 330.9+ KB\n"
     ]
    }
   ],
   "source": [
    "#combine Cat dat and MSRP data again in dictionary\n",
    "dict_cat_t= pd.merge(dict_cat_s, a_m_dict_s, on=['mmy_a'], how='left')\n",
    "dict_cat_t.info()\n"
   ]
  },
  {
   "cell_type": "code",
   "execution_count": 279,
   "metadata": {},
   "outputs": [
    {
     "name": "stdout",
     "output_type": "stream",
     "text": [
      "<class 'pandas.core.frame.DataFrame'>\n",
      "Int64Index: 3530 entries, 0 to 3529\n",
      "Data columns (total 12 columns):\n",
      " #   Column        Non-Null Count  Dtype  \n",
      "---  ------        --------------  -----  \n",
      " 0   manufacturer  3530 non-null   object \n",
      " 1   model         3530 non-null   object \n",
      " 2   year          3530 non-null   float64\n",
      " 3   mmy_a         3530 non-null   object \n",
      " 4   Make          3530 non-null   object \n",
      " 5   Model         3530 non-null   object \n",
      " 6   Year          3530 non-null   float64\n",
      " 7   Category      3530 non-null   object \n",
      " 8   mmy           1276 non-null   object \n",
      " 9   MSRP_x        1138 non-null   float64\n",
      " 10  MSRP_y        581 non-null    float64\n",
      " 11  MSRP          1153 non-null   float64\n",
      "dtypes: float64(5), object(7)\n",
      "memory usage: 358.5+ KB\n"
     ]
    }
   ],
   "source": [
    "dict_cat_h= dict_cat_t\n",
    "dict_cat_h['MSRP'] = dict_cat_h['MSRP_x'].fillna(dict_cat_h['MSRP_y'])\n",
    "dict_cat_h.info()"
   ]
  },
  {
   "cell_type": "code",
   "execution_count": 280,
   "metadata": {},
   "outputs": [
    {
     "name": "stdout",
     "output_type": "stream",
     "text": [
      "<class 'pandas.core.frame.DataFrame'>\n",
      "Int64Index: 3530 entries, 0 to 3529\n",
      "Data columns (total 10 columns):\n",
      " #   Column        Non-Null Count  Dtype  \n",
      "---  ------        --------------  -----  \n",
      " 0   manufacturer  3530 non-null   object \n",
      " 1   model         3530 non-null   object \n",
      " 2   year          3530 non-null   float64\n",
      " 3   mmy_a         3530 non-null   object \n",
      " 4   Make          3530 non-null   object \n",
      " 5   Model         3530 non-null   object \n",
      " 6   Year          3530 non-null   float64\n",
      " 7   Category      3530 non-null   object \n",
      " 8   mmy           1276 non-null   object \n",
      " 9   MSRP          1153 non-null   float64\n",
      "dtypes: float64(3), object(7)\n",
      "memory usage: 303.4+ KB\n"
     ]
    }
   ],
   "source": [
    "pop = dict_cat_h.pop('MSRP_x')\n",
    "pop = dict_cat_h.pop('MSRP_y')\n",
    "dict_cat_h.info()"
   ]
  },
  {
   "cell_type": "code",
   "execution_count": 281,
   "metadata": {},
   "outputs": [],
   "source": [
    "pop = dict_cat_h.pop('mmy')"
   ]
  },
  {
   "cell_type": "code",
   "execution_count": 282,
   "metadata": {},
   "outputs": [
    {
     "name": "stdout",
     "output_type": "stream",
     "text": [
      "<class 'pandas.core.frame.DataFrame'>\n",
      "Int64Index: 3228 entries, 0 to 3528\n",
      "Data columns (total 9 columns):\n",
      " #   Column        Non-Null Count  Dtype  \n",
      "---  ------        --------------  -----  \n",
      " 0   manufacturer  3228 non-null   object \n",
      " 1   model         3228 non-null   object \n",
      " 2   year          3228 non-null   float64\n",
      " 3   mmy_a         3228 non-null   object \n",
      " 4   Make          3228 non-null   object \n",
      " 5   Model         3228 non-null   object \n",
      " 6   Year          3228 non-null   float64\n",
      " 7   Category      3228 non-null   object \n",
      " 8   MSRP          1044 non-null   float64\n",
      "dtypes: float64(3), object(6)\n",
      "memory usage: 252.2+ KB\n"
     ]
    }
   ],
   "source": [
    "#slim dictionary\n",
    "#slim dictionary\n",
    "dict_cat_h= dict_cat_h.drop_duplicates(keep='first')\n",
    "\n",
    "dict_cat_h= dict_cat_h.drop_duplicates(keep='first')\n",
    "dict_cat_h.info()"
   ]
  },
  {
   "cell_type": "code",
   "execution_count": 283,
   "metadata": {},
   "outputs": [
    {
     "name": "stdout",
     "output_type": "stream",
     "text": [
      "<class 'pandas.core.frame.DataFrame'>\n",
      "Int64Index: 3221 entries, 0 to 616\n",
      "Data columns (total 3 columns):\n",
      " #   Column    Non-Null Count  Dtype  \n",
      "---  ------    --------------  -----  \n",
      " 0   mmy_a     3221 non-null   object \n",
      " 1   Category  3221 non-null   object \n",
      " 2   MSRP      1041 non-null   float64\n",
      "dtypes: float64(1), object(2)\n",
      "memory usage: 100.7+ KB\n"
     ]
    }
   ],
   "source": [
    "dict_cat_h = dict_cat_h[['mmy_a', 'Category', 'MSRP']]\n",
    "dict_cat_h = dict_cat_h.sort_values('MSRP',na_position='first')\n",
    "dict_cat_h = dict_cat_h.drop_duplicates(subset=['mmy_a'], keep='last')\n",
    "dict_cat_h.info()"
   ]
  },
  {
   "cell_type": "code",
   "execution_count": 284,
   "metadata": {},
   "outputs": [
    {
     "name": "stdout",
     "output_type": "stream",
     "text": [
      "<class 'pandas.core.frame.DataFrame'>\n",
      "Int64Index: 142138 entries, 0 to 142137\n",
      "Data columns (total 28 columns):\n",
      " #   Column        Non-Null Count   Dtype  \n",
      "---  ------        --------------   -----  \n",
      " 0   id            142138 non-null  int64  \n",
      " 1   region        142138 non-null  object \n",
      " 2   price         142138 non-null  int64  \n",
      " 3   year          142138 non-null  float64\n",
      " 4   manufacturer  139154 non-null  object \n",
      " 5   model         142138 non-null  object \n",
      " 6   condition     142138 non-null  object \n",
      " 7   cylinders     103418 non-null  float64\n",
      " 8   fuel          142128 non-null  object \n",
      " 9   odometer      142138 non-null  float64\n",
      " 10  title_status  142132 non-null  object \n",
      " 11  transmission  142006 non-null  object \n",
      " 12  vin           103835 non-null  object \n",
      " 13  drive         118448 non-null  object \n",
      " 14  size          56919 non-null   object \n",
      " 15  type          127086 non-null  object \n",
      " 16  paint_color   118150 non-null  object \n",
      " 17  description   142136 non-null  object \n",
      " 18  state         142138 non-null  object \n",
      " 19  lat           140989 non-null  float64\n",
      " 20  long          140989 non-null  float64\n",
      " 21  age           142138 non-null  float64\n",
      " 22  modelx        142138 non-null  object \n",
      " 23  mmy_a         139154 non-null  object \n",
      " 24  model2        91641 non-null   object \n",
      " 25  mmy_a2        88881 non-null   object \n",
      " 26  Category      45761 non-null   object \n",
      " 27  MSRP          13725 non-null   float64\n",
      "dtypes: float64(7), int64(2), object(19)\n",
      "memory usage: 31.4+ MB\n"
     ]
    }
   ],
   "source": [
    "#pull dictionary to auto\n",
    "auto_data= pd.merge(auto_data, dict_cat_h, on='mmy_a', how='left')\n",
    "auto_data.info()"
   ]
  },
  {
   "cell_type": "code",
   "execution_count": 285,
   "metadata": {},
   "outputs": [],
   "source": [
    "#Save data as new file\n",
    "new_file = 'auto_data_complete.csv'\n",
    "new_file_name_path = os.path.join(basepath,sub_file, new_file)\n",
    "auto_data.to_csv(new_file_name_path, index=False)"
   ]
  }
 ],
 "metadata": {
  "kernelspec": {
   "display_name": "Python 3",
   "language": "python",
   "name": "python3"
  },
  "language_info": {
   "codemirror_mode": {
    "name": "ipython",
    "version": 3
   },
   "file_extension": ".py",
   "mimetype": "text/x-python",
   "name": "python",
   "nbconvert_exporter": "python",
   "pygments_lexer": "ipython3",
   "version": "3.7.6"
  }
 },
 "nbformat": 4,
 "nbformat_minor": 4
}
