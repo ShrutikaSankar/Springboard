{
 "cells": [
  {
   "cell_type": "markdown",
   "metadata": {
    "colab_type": "text",
    "id": "cf5CmXQCZyF1"
   },
   "source": [
    "# Guided Capstone Step 6 Documentation"
   ]
  },
  {
   "cell_type": "markdown",
   "metadata": {
    "colab_type": "text",
    "id": "JbZXsVevfr9M"
   },
   "source": [
    "**The Data Science Method**  \n",
    "\n",
    "\n",
    "1.   Problem Identification \n",
    "\n",
    "2.   Data Wrangling \n",
    "  \n",
    "3.   Exploratory Data Analysis \n",
    " \n",
    "4.   Pre-processing and Training Data Development\n",
    "\n",
    "5.  Modeling\n",
    "\n",
    "6.   **Documentation**\n",
    "  * Review the Results\n",
    "  * Finalize Code \n",
    "  * Finalize Documentation\n",
    "  * Create a Project Report \n",
    "  * Create a Slide Deck for the Executive Audience"
   ]
  },
  {
   "cell_type": "markdown",
   "metadata": {
    "colab_type": "text",
    "id": "D-oGciwnGUYk"
   },
   "source": [
    "In this guided capstone we are going to revisit many of the actions we took in the previous guided capstone steps. This gives you the opportunity to practice the code you wrote to solve the questions in step 4 and 5. "
   ]
  },
  {
   "cell_type": "markdown",
   "metadata": {
    "colab_type": "text",
    "id": "K8xfkAqqZyF2"
   },
   "source": [
    "**<font color='teal'> Start by loading the necessary packages and printing out our current working directory just to confirm we are in the correct project directory. </font>**"
   ]
  },
  {
   "cell_type": "code",
   "execution_count": 188,
   "metadata": {
    "colab": {},
    "colab_type": "code",
    "id": "ry6WPL5eZyF3"
   },
   "outputs": [
    {
     "name": "stdout",
     "output_type": "stream",
     "text": [
      "C:\\Users\\Tiki\\Documents\\Sprinboard2\\Guided_Capstone\n"
     ]
    }
   ],
   "source": [
    "#Load Python Packages\n",
    "import os\n",
    "import pandas as pd\n",
    "import datetime\n",
    "import seaborn as sns\n",
    "import matplotlib.pyplot as plt\n",
    "import numpy as np\n",
    "import empiricaldist as ed\n",
    "from scipy import stats\n",
    "from scipy.stats import norm\n",
    "from math import sqrt\n",
    "import sklearn \n",
    "from sklearn import datasets, linear_model, metrics\n",
    "from sklearn.preprocessing import MaxAbsScaler, PolynomialFeatures\n",
    "from sklearn.cluster import KMeans\n",
    "from sklearn.metrics import explained_variance_score,mean_absolute_error, mean_squared_error, r2_score\n",
    "from sklearn.pipeline import Pipeline\n",
    "from sklearn.model_selection import GridSearchCV, train_test_split\n",
    "from sklearn.linear_model import LinearRegression\n",
    "import statsmodels.api as sm\n",
    "\n",
    "\n",
    "# Find directory\n",
    "%matplotlib inline\n",
    "os.getcwd()\n",
    "basepath = os.getcwd()\n",
    "print(basepath)\n",
    "\n",
    "# load csv data\n",
    "file ='step3_output.csv'\n",
    "sub_file = 'data'\n",
    "file_name_path = os.path.join(basepath, sub_file, file)\n",
    "ski_data= pd.read_csv(file_name_path)\n",
    "\n"
   ]
  },
  {
   "cell_type": "markdown",
   "metadata": {
    "colab_type": "text",
    "id": "0HTP9cF2GUYs"
   },
   "source": [
    "## Fit Models with Training Data Set"
   ]
  },
  {
   "cell_type": "markdown",
   "metadata": {
    "colab_type": "text",
    "id": "A2FmSbtCGUYt"
   },
   "source": [
    "**<font color='teal'> Using sklearn fit the model you cose in Guided Capstone 5 on your training dataset. This includes: creating dummy features for states if you need them, scaling the data,and creating train and test splits before fitting the chosen model.Also, remember to generate a model performance score(MAE, or explained variance) based on the testing hold-out data set.</font>**"
   ]
  },
  {
   "cell_type": "markdown",
   "metadata": {
    "colab_type": "text",
    "id": "ReRSy1yFGUYu"
   },
   "source": [
    "#### Best Model "
   ]
  },
  {
   "cell_type": "code",
   "execution_count": 189,
   "metadata": {
    "colab": {},
    "colab_type": "code",
    "id": "YRhPGbqPGUYv"
   },
   "outputs": [
    {
     "name": "stdout",
     "output_type": "stream",
     "text": [
      "The Rsq of the linear model = 0.8007138670334504 and the Mean Absolute Error = 5.925269154080263\n",
      "             variable  coefficent\n",
      "0              triple    1.167150\n",
      "1                Runs    8.783684\n",
      "2              double    3.090396\n",
      "3       vertical_drop   10.763967\n",
      "4           fastSixes   -1.870310\n",
      "5      Snow Making_ac    0.413988\n",
      "6                quad    4.636164\n",
      "7        TerrainParks    0.724867\n",
      "8        AdultWeekday   62.253933\n",
      "9   projectedDaysOpen  -13.540254\n",
      "10  SkiableTerrain_ac   -8.119628\n",
      "11     NightSkiing_ac    0.933846\n",
      "12          yearsOpen    0.530120\n",
      "13       total_chairs    1.113902\n",
      "14              trams   -1.784968\n",
      "15      LongestRun_mi   -2.936402\n",
      "16        summit_elev  -12.190315\n",
      "17          fastQuads    4.358319\n",
      "18   daysOpenLastYear   12.425208\n",
      "19           clusters   -6.711995\n",
      "20            surface   -4.462058\n",
      "21    averageSnowfall   -6.594098\n"
     ]
    }
   ],
   "source": [
    "#drop duplicate columns\n",
    "ski_data = ski_data.T.drop_duplicates().T\n",
    "\n",
    "#just for adult weekend\n",
    "response=['AdultWeekend']\n",
    "\n",
    "#create explain variable set\n",
    "explain =list(set(ski_data.columns)-set(response))\n",
    "ski_data_resp=ski_data[response].astype(float)\n",
    "ski_data_trial_presc=ski_data[explain]\n",
    "\n",
    "#Do Not need state or name\n",
    "#drop name\n",
    "name_popped = ski_data_trial_presc.pop('Name')\n",
    "\n",
    "#drop state\n",
    "state_popped = ski_data_trial_presc.pop('state')\n",
    "\n",
    "ski_data_trial_presc = ski_data_trial_presc.astype(float)\n",
    "\n",
    "\n",
    "#make copy of data so we can transform it\n",
    "ski_data_trial = ski_data_trial_presc.copy()\n",
    "\n",
    "#use max absolute as scaler\n",
    "\n",
    "scaler = MaxAbsScaler().fit(ski_data_trial.values)\n",
    "\n",
    "#transform data\n",
    "z = scaler.transform(ski_data_trial.values)\n",
    "\n",
    "#turn into panda data frame with column\n",
    "ski_data_trial = pd.DataFrame(data= z,  columns=ski_data_trial_presc.columns) \n",
    "    \n",
    "#drop duplicate columns\n",
    "ski_data_trial = ski_data_trial.T.drop_duplicates().T\n",
    "\n",
    "#split the data\n",
    "X_train, X_test, y_train, y_test = train_test_split(ski_data_trial , ski_data_resp, test_size=0.25, random_state=0)\n",
    "\n",
    "\n",
    "#Create Model\n",
    "\n",
    "#Choose Linear Model\n",
    "lm = linear_model.LinearRegression()\n",
    "lin_model = lm.fit(X_train,y_train)\n",
    "y_pred = lin_model.predict(X_test)\n",
    "\n",
    "#Create Coefficent Table\n",
    "lin_model_coef = {}\n",
    "for idx, col_name in enumerate(X_train.columns):\n",
    "    lin_model_coef[col_name] = lm.coef_[0][idx]\n",
    "coef_table =pd.DataFrame(lin_model_coef.items(), columns=['variable', 'coefficent'])\n",
    "\n",
    "\n",
    "\n",
    "#Find the R scores\n",
    "lin_model_expl_var = explained_variance_score(y_test, y_pred)\n",
    "lin_model_me = mean_absolute_error(y_test, y_pred)\n",
    "lin_model_rsq = r2_score(y_test, y_pred)\n",
    "\n",
    "\n",
    "\n",
    "\n",
    "print('The Rsq of the linear model = {} and the Mean Absolute Error = {}'.format(lin_model_rsq, lin_model_me))\n",
    "print(coef_table)\n"
   ]
  },
  {
   "cell_type": "code",
   "execution_count": 190,
   "metadata": {},
   "outputs": [
    {
     "data": {
      "text/html": [
       "<table class=\"simpletable\">\n",
       "<caption>OLS Regression Results</caption>\n",
       "<tr>\n",
       "  <th>Dep. Variable:</th>      <td>AdultWeekend</td>   <th>  R-squared:         </th> <td>   0.815</td>\n",
       "</tr>\n",
       "<tr>\n",
       "  <th>Model:</th>                   <td>OLS</td>       <th>  Adj. R-squared:    </th> <td>   0.784</td>\n",
       "</tr>\n",
       "<tr>\n",
       "  <th>Method:</th>             <td>Least Squares</td>  <th>  F-statistic:       </th> <td>   26.25</td>\n",
       "</tr>\n",
       "<tr>\n",
       "  <th>Date:</th>             <td>Tue, 28 Apr 2020</td> <th>  Prob (F-statistic):</th> <td>4.78e-36</td>\n",
       "</tr>\n",
       "<tr>\n",
       "  <th>Time:</th>                 <td>17:51:45</td>     <th>  Log-Likelihood:    </th> <td> -488.13</td>\n",
       "</tr>\n",
       "<tr>\n",
       "  <th>No. Observations:</th>      <td>   147</td>      <th>  AIC:               </th> <td>   1020.</td>\n",
       "</tr>\n",
       "<tr>\n",
       "  <th>Df Residuals:</th>          <td>   125</td>      <th>  BIC:               </th> <td>   1086.</td>\n",
       "</tr>\n",
       "<tr>\n",
       "  <th>Df Model:</th>              <td>    21</td>      <th>                     </th>     <td> </td>   \n",
       "</tr>\n",
       "<tr>\n",
       "  <th>Covariance Type:</th>      <td>nonrobust</td>    <th>                     </th>     <td> </td>   \n",
       "</tr>\n",
       "</table>\n",
       "<table class=\"simpletable\">\n",
       "<tr>\n",
       "          <td></td>             <th>coef</th>     <th>std err</th>      <th>t</th>      <th>P>|t|</th>  <th>[0.025</th>    <th>0.975]</th>  \n",
       "</tr>\n",
       "<tr>\n",
       "  <th>const</th>             <td>   26.1021</td> <td>    5.632</td> <td>    4.635</td> <td> 0.000</td> <td>   14.955</td> <td>   37.249</td>\n",
       "</tr>\n",
       "<tr>\n",
       "  <th>triple</th>            <td>    1.1672</td> <td>    3.545</td> <td>    0.329</td> <td> 0.743</td> <td>   -5.849</td> <td>    8.183</td>\n",
       "</tr>\n",
       "<tr>\n",
       "  <th>Runs</th>              <td>    8.7837</td> <td>    7.315</td> <td>    1.201</td> <td> 0.232</td> <td>   -5.695</td> <td>   23.262</td>\n",
       "</tr>\n",
       "<tr>\n",
       "  <th>double</th>            <td>    3.0904</td> <td>    2.612</td> <td>    1.183</td> <td> 0.239</td> <td>   -2.078</td> <td>    8.259</td>\n",
       "</tr>\n",
       "<tr>\n",
       "  <th>vertical_drop</th>     <td>   10.7640</td> <td>    5.414</td> <td>    1.988</td> <td> 0.049</td> <td>    0.050</td> <td>   21.478</td>\n",
       "</tr>\n",
       "<tr>\n",
       "  <th>fastSixes</th>         <td>   -1.8703</td> <td>    4.805</td> <td>   -0.389</td> <td> 0.698</td> <td>  -11.380</td> <td>    7.640</td>\n",
       "</tr>\n",
       "<tr>\n",
       "  <th>Snow Making_ac</th>    <td>    0.4140</td> <td>    7.680</td> <td>    0.054</td> <td> 0.957</td> <td>  -14.786</td> <td>   15.614</td>\n",
       "</tr>\n",
       "<tr>\n",
       "  <th>quad</th>              <td>    4.6362</td> <td>    2.007</td> <td>    2.310</td> <td> 0.023</td> <td>    0.665</td> <td>    8.608</td>\n",
       "</tr>\n",
       "<tr>\n",
       "  <th>TerrainParks</th>      <td>    0.7249</td> <td>    2.934</td> <td>    0.247</td> <td> 0.805</td> <td>   -5.082</td> <td>    6.532</td>\n",
       "</tr>\n",
       "<tr>\n",
       "  <th>AdultWeekday</th>      <td>   62.2539</td> <td>    5.275</td> <td>   11.802</td> <td> 0.000</td> <td>   51.814</td> <td>   72.693</td>\n",
       "</tr>\n",
       "<tr>\n",
       "  <th>projectedDaysOpen</th> <td>  -13.5403</td> <td>    9.587</td> <td>   -1.412</td> <td> 0.160</td> <td>  -32.514</td> <td>    5.434</td>\n",
       "</tr>\n",
       "<tr>\n",
       "  <th>SkiableTerrain_ac</th> <td>   -8.1196</td> <td>    7.264</td> <td>   -1.118</td> <td> 0.266</td> <td>  -22.497</td> <td>    6.257</td>\n",
       "</tr>\n",
       "<tr>\n",
       "  <th>NightSkiing_ac</th>    <td>    0.9338</td> <td>    7.896</td> <td>    0.118</td> <td> 0.906</td> <td>  -14.693</td> <td>   16.561</td>\n",
       "</tr>\n",
       "<tr>\n",
       "  <th>yearsOpen</th>         <td>    0.5301</td> <td>    4.116</td> <td>    0.129</td> <td> 0.898</td> <td>   -7.616</td> <td>    8.677</td>\n",
       "</tr>\n",
       "<tr>\n",
       "  <th>total_chairs</th>      <td>    1.1139</td> <td>    1.968</td> <td>    0.566</td> <td> 0.572</td> <td>   -2.780</td> <td>    5.008</td>\n",
       "</tr>\n",
       "<tr>\n",
       "  <th>trams</th>             <td>   -1.7850</td> <td>    4.054</td> <td>   -0.440</td> <td> 0.661</td> <td>   -9.809</td> <td>    6.239</td>\n",
       "</tr>\n",
       "<tr>\n",
       "  <th>LongestRun_mi</th>     <td>   -2.9364</td> <td>    4.665</td> <td>   -0.629</td> <td> 0.530</td> <td>  -12.169</td> <td>    6.297</td>\n",
       "</tr>\n",
       "<tr>\n",
       "  <th>summit_elev</th>       <td>  -12.1903</td> <td>    4.174</td> <td>   -2.920</td> <td> 0.004</td> <td>  -20.451</td> <td>   -3.929</td>\n",
       "</tr>\n",
       "<tr>\n",
       "  <th>fastQuads</th>         <td>    4.3583</td> <td>    3.325</td> <td>    1.311</td> <td> 0.192</td> <td>   -2.222</td> <td>   10.939</td>\n",
       "</tr>\n",
       "<tr>\n",
       "  <th>daysOpenLastYear</th>  <td>   12.4252</td> <td>    7.460</td> <td>    1.666</td> <td> 0.098</td> <td>   -2.338</td> <td>   27.189</td>\n",
       "</tr>\n",
       "<tr>\n",
       "  <th>clusters</th>          <td>   -6.7120</td> <td>    2.244</td> <td>   -2.991</td> <td> 0.003</td> <td>  -11.153</td> <td>   -2.271</td>\n",
       "</tr>\n",
       "<tr>\n",
       "  <th>surface</th>           <td>   -4.4621</td> <td>    2.958</td> <td>   -1.509</td> <td> 0.134</td> <td>  -10.316</td> <td>    1.392</td>\n",
       "</tr>\n",
       "<tr>\n",
       "  <th>averageSnowfall</th>   <td>   -6.5941</td> <td>    4.732</td> <td>   -1.394</td> <td> 0.166</td> <td>  -15.959</td> <td>    2.771</td>\n",
       "</tr>\n",
       "</table>\n",
       "<table class=\"simpletable\">\n",
       "<tr>\n",
       "  <th>Omnibus:</th>       <td> 3.883</td> <th>  Durbin-Watson:     </th> <td>   1.979</td>\n",
       "</tr>\n",
       "<tr>\n",
       "  <th>Prob(Omnibus):</th> <td> 0.143</td> <th>  Jarque-Bera (JB):  </th> <td>   4.528</td>\n",
       "</tr>\n",
       "<tr>\n",
       "  <th>Skew:</th>          <td> 0.099</td> <th>  Prob(JB):          </th> <td>   0.104</td>\n",
       "</tr>\n",
       "<tr>\n",
       "  <th>Kurtosis:</th>      <td> 3.837</td> <th>  Cond. No.          </th> <td>3.12e+16</td>\n",
       "</tr>\n",
       "</table><br/><br/>Warnings:<br/>[1] Standard Errors assume that the covariance matrix of the errors is correctly specified.<br/>[2] The smallest eigenvalue is 6.54e-31. This might indicate that there are<br/>strong multicollinearity problems or that the design matrix is singular."
      ],
      "text/plain": [
       "<class 'statsmodels.iolib.summary.Summary'>\n",
       "\"\"\"\n",
       "                            OLS Regression Results                            \n",
       "==============================================================================\n",
       "Dep. Variable:           AdultWeekend   R-squared:                       0.815\n",
       "Model:                            OLS   Adj. R-squared:                  0.784\n",
       "Method:                 Least Squares   F-statistic:                     26.25\n",
       "Date:                Tue, 28 Apr 2020   Prob (F-statistic):           4.78e-36\n",
       "Time:                        17:51:45   Log-Likelihood:                -488.13\n",
       "No. Observations:                 147   AIC:                             1020.\n",
       "Df Residuals:                     125   BIC:                             1086.\n",
       "Df Model:                          21                                         \n",
       "Covariance Type:            nonrobust                                         \n",
       "=====================================================================================\n",
       "                        coef    std err          t      P>|t|      [0.025      0.975]\n",
       "-------------------------------------------------------------------------------------\n",
       "const                26.1021      5.632      4.635      0.000      14.955      37.249\n",
       "triple                1.1672      3.545      0.329      0.743      -5.849       8.183\n",
       "Runs                  8.7837      7.315      1.201      0.232      -5.695      23.262\n",
       "double                3.0904      2.612      1.183      0.239      -2.078       8.259\n",
       "vertical_drop        10.7640      5.414      1.988      0.049       0.050      21.478\n",
       "fastSixes            -1.8703      4.805     -0.389      0.698     -11.380       7.640\n",
       "Snow Making_ac        0.4140      7.680      0.054      0.957     -14.786      15.614\n",
       "quad                  4.6362      2.007      2.310      0.023       0.665       8.608\n",
       "TerrainParks          0.7249      2.934      0.247      0.805      -5.082       6.532\n",
       "AdultWeekday         62.2539      5.275     11.802      0.000      51.814      72.693\n",
       "projectedDaysOpen   -13.5403      9.587     -1.412      0.160     -32.514       5.434\n",
       "SkiableTerrain_ac    -8.1196      7.264     -1.118      0.266     -22.497       6.257\n",
       "NightSkiing_ac        0.9338      7.896      0.118      0.906     -14.693      16.561\n",
       "yearsOpen             0.5301      4.116      0.129      0.898      -7.616       8.677\n",
       "total_chairs          1.1139      1.968      0.566      0.572      -2.780       5.008\n",
       "trams                -1.7850      4.054     -0.440      0.661      -9.809       6.239\n",
       "LongestRun_mi        -2.9364      4.665     -0.629      0.530     -12.169       6.297\n",
       "summit_elev         -12.1903      4.174     -2.920      0.004     -20.451      -3.929\n",
       "fastQuads             4.3583      3.325      1.311      0.192      -2.222      10.939\n",
       "daysOpenLastYear     12.4252      7.460      1.666      0.098      -2.338      27.189\n",
       "clusters             -6.7120      2.244     -2.991      0.003     -11.153      -2.271\n",
       "surface              -4.4621      2.958     -1.509      0.134     -10.316       1.392\n",
       "averageSnowfall      -6.5941      4.732     -1.394      0.166     -15.959       2.771\n",
       "==============================================================================\n",
       "Omnibus:                        3.883   Durbin-Watson:                   1.979\n",
       "Prob(Omnibus):                  0.143   Jarque-Bera (JB):                4.528\n",
       "Skew:                           0.099   Prob(JB):                        0.104\n",
       "Kurtosis:                       3.837   Cond. No.                     3.12e+16\n",
       "==============================================================================\n",
       "\n",
       "Warnings:\n",
       "[1] Standard Errors assume that the covariance matrix of the errors is correctly specified.\n",
       "[2] The smallest eigenvalue is 6.54e-31. This might indicate that there are\n",
       "strong multicollinearity problems or that the design matrix is singular.\n",
       "\"\"\""
      ]
     },
     "execution_count": 190,
     "metadata": {},
     "output_type": "execute_result"
    }
   ],
   "source": [
    "import statsmodels.api as sm\n",
    "\n",
    "import statsmodels.formula.api as smf\n",
    "\n",
    "X = sm.add_constant(X_train.astype(float))\n",
    "y = y_train.astype(float)\n",
    "m1 = sm.OLS(y, X)\n",
    "model= m1.fit() \n",
    "    \n",
    "model.summary()"
   ]
  },
  {
   "cell_type": "markdown",
   "metadata": {
    "colab_type": "text",
    "id": "GGizyeLZGUYz"
   },
   "source": [
    "## Review the results "
   ]
  },
  {
   "cell_type": "markdown",
   "metadata": {
    "colab_type": "text",
    "id": "4Lhu-qisGUY0"
   },
   "source": [
    "**<font color='teal'> Now, let's predict the Big Mountain Weekend price with our model in order to provide a recommendation to our managers on how to price the `AdultWeekend` lift ticket. First we need to find the row for Big Mountain resort in our data using string contains or string matching.</font>**"
   ]
  },
  {
   "cell_type": "code",
   "execution_count": 191,
   "metadata": {
    "colab": {},
    "colab_type": "code",
    "id": "YXnx_IuEGUY1"
   },
   "outputs": [
    {
     "name": "stdout",
     "output_type": "stream",
     "text": [
      "                                         151\n",
      "Name               Whitefish Mountain Resort\n",
      "Region                               Montana\n",
      "state                                Montana\n",
      "summit_elev                             6817\n",
      "vertical_drop                           2353\n",
      "base_elev                               4464\n",
      "trams                                      0\n",
      "fastEight                                  0\n",
      "fastSixes                                  0\n",
      "fastQuads                                  3\n",
      "quad                                       2\n",
      "triple                                     6\n",
      "double                                     0\n",
      "surface                                    3\n",
      "total_chairs                              14\n",
      "Runs                                     105\n",
      "TerrainParks                               4\n",
      "LongestRun_mi                            3.3\n",
      "SkiableTerrain_ac                       3000\n",
      "Snow Making_ac                           600\n",
      "daysOpenLastYear                         123\n",
      "yearsOpen                                 72\n",
      "averageSnowfall                          333\n",
      "AdultWeekday                              81\n",
      "AdultWeekend                              81\n",
      "projectedDaysOpen                        123\n",
      "NightSkiing_ac                           600\n",
      "                                          86\n",
      "Name               Whitefish Mountain Resort\n",
      "state                                Montana\n",
      "summit_elev                             6817\n",
      "vertical_drop                           2353\n",
      "trams                                      0\n",
      "fastSixes                                  0\n",
      "fastQuads                                  3\n",
      "quad                                       2\n",
      "triple                                     6\n",
      "double                                     0\n",
      "surface                                    3\n",
      "total_chairs                              14\n",
      "Runs                                     105\n",
      "TerrainParks                               4\n",
      "LongestRun_mi                            3.3\n",
      "SkiableTerrain_ac                       3000\n",
      "Snow Making_ac                           600\n",
      "daysOpenLastYear                         123\n",
      "yearsOpen                                 72\n",
      "averageSnowfall                          333\n",
      "AdultWeekday                              81\n",
      "AdultWeekend                              81\n",
      "projectedDaysOpen                        123\n",
      "NightSkiing_ac                           600\n",
      "clusters                                   1\n"
     ]
    }
   ],
   "source": [
    "file2 = 'updated_ski_data.csv'\n",
    "file_name_path2 = os.path.join(basepath, file2)\n",
    "ski_data_raw= pd.read_csv(file_name_path2)\n",
    "Big_raw = ski_data_raw[ski_data_raw['Name'].str.contains('Big Mountain')]\n",
    "#print(Big)\n",
    "#This does not exist....\n",
    "#Trying S_Elevation\n",
    "Big_raw = ski_data_raw[ski_data_raw.summit_elev ==6817]\n",
    "print(Big_raw.T)\n",
    "#correct\n",
    "Big = ski_data[ski_data.summit_elev ==6817]\n",
    "print(Big.T)\n",
    "\n"
   ]
  },
  {
   "cell_type": "markdown",
   "metadata": {
    "colab_type": "text",
    "id": "83-jO9hPGUY4"
   },
   "source": [
    "BigMountain = ski_data[ski_data['Name'].str.contains('Big Mountain')]\n",
    "**<font color='teal'> Prepare the Big Mountain resort data row as you did in the model fitting stage.</font>**"
   ]
  },
  {
   "cell_type": "code",
   "execution_count": 192,
   "metadata": {
    "colab": {},
    "colab_type": "code",
    "id": "oWH_q9YOGUY5"
   },
   "outputs": [],
   "source": [
    "#get columns for explanatory variabes\n",
    "expl_var = ski_data_trial.columns\n",
    "\n",
    "#Get explanatory columns from row Big\n",
    "Big_expl_variables = Big[expl_var]\n",
    "\n",
    "#scale expalanatory data\n",
    "z = scaler.transform(Big_expl_variables)\n",
    "Big_expl_variables_scaled = pd.DataFrame(data= z,  columns=expl_var)\n",
    "\n",
    "\n",
    "#print('When state dummy variables al = {} and the Mean Absolute Error = {}'.format(lin_model3_Rsq, lin_model3_me))\n"
   ]
  },
  {
   "cell_type": "markdown",
   "metadata": {
    "colab_type": "text",
    "id": "2BCFqZYBGUY9"
   },
   "source": [
    "**<font color='teal'> Predict the Big Mountain resort `Adult Weekend` price and print it out.</font>** This is our expected price to present to management. Based on our model given the characteristics of the resort in comparison to other ski resorts and their unique characteristics."
   ]
  },
  {
   "cell_type": "code",
   "execution_count": 193,
   "metadata": {
    "colab": {},
    "colab_type": "code",
    "id": "XebWxxTMGUY-"
   },
   "outputs": [
    {
     "name": "stdout",
     "output_type": "stream",
     "text": [
      "The predict weekend price = $85.32\n"
     ]
    }
   ],
   "source": [
    "#Big_Model_predict\n",
    "Price_B_predict_arr = lin_model.predict(Big_expl_variables_scaled)\n",
    "Price_B_predict = round(Price_B_predict_arr.item(),2)\n",
    "\n",
    "print('The predict weekend price = ${}'.format(Price_B_predict))\n"
   ]
  },
  {
   "cell_type": "markdown",
   "metadata": {
    "colab_type": "text",
    "id": "_5BvguMLGUZB"
   },
   "source": [
    "**<font color='teal'> Print the Big Mountain resort actual `Adult Weekend` price.</font>**"
   ]
  },
  {
   "cell_type": "code",
   "execution_count": 194,
   "metadata": {
    "colab": {},
    "colab_type": "code",
    "id": "WyxTHtL2GUZC"
   },
   "outputs": [
    {
     "name": "stdout",
     "output_type": "stream",
     "text": [
      "The actual weekend price = $81.0\n"
     ]
    }
   ],
   "source": [
    "Price_B_actual = round(Big['AdultWeekend'].values.item(),2)\n",
    "print('The actual weekend price = ${}'.format(Price_B_actual))\n",
    "\n"
   ]
  },
  {
   "cell_type": "markdown",
   "metadata": {
    "colab_type": "text",
    "id": "O0Yli8MXGUZH"
   },
   "source": [
    "**<font color='teal'> As part of reviewing the results it is an important step to generate figures to visualize the data story. We can use the clusters we added to our data frame to create scatter plots for visualizing the Adult Weekend values compared to other characteristics. Run the example below to get you started and build two or three more figures to include in your data story telling.</font>**"
   ]
  },
  {
   "cell_type": "code",
   "execution_count": 195,
   "metadata": {
    "colab": {},
    "colab_type": "code",
    "id": "xWtr873fGUZI"
   },
   "outputs": [
    {
     "data": {
      "image/png": "[encoded data removed]",
      "text/plain": [
       "<Figure size 432x288 with 1 Axes>"
      ]
     },
     "metadata": {
      "needs_background": "light"
     },
     "output_type": "display_data"
    }
   ],
   "source": [
    "df = ski_data_trial_presc\n",
    "df['AdultWeekend'] = ski_data_resp\n",
    "df['Competitors']= False\n",
    "df.loc[df.summit_elev ==6817,'Competitors']= True\n",
    "#df.loc['c','Competitors']= 'US'\n",
    "\n",
    "ac= Big\n",
    "\n",
    "#ac = ski_data_trial\n",
    "plt.scatter(df['summit_elev'], df['vertical_drop'], c=df['clusters'], s=50, cmap='viridis', label ='clusters')\n",
    "plt.scatter(ac['summit_elev'], ac['vertical_drop'], c='black', s=100)\n",
    "plt.xlabel('summit_elev')\n",
    "plt.ylabel('vertical_drop')\n",
    "plt.title('summit_elev by vertical_drop by cluster')\n",
    "plt.savefig('figures/fig1.png',bbox_inches='tight')"
   ]
  },
  {
   "cell_type": "code",
   "execution_count": 196,
   "metadata": {},
   "outputs": [
    {
     "ename": "NameError",
     "evalue": "name 'polyfit' is not defined",
     "output_type": "error",
     "traceback": [
      "\u001b[1;31m---------------------------------------------------------------------------\u001b[0m",
      "\u001b[1;31mNameError\u001b[0m                                 Traceback (most recent call last)",
      "\u001b[1;32m<ipython-input-196-0a162bef78b7>\u001b[0m in \u001b[0;36m<module>\u001b[1;34m\u001b[0m\n\u001b[0;32m      7\u001b[0m \u001b[0mplt\u001b[0m\u001b[1;33m.\u001b[0m\u001b[0mscatter\u001b[0m\u001b[1;33m(\u001b[0m\u001b[0mkmeans\u001b[0m\u001b[1;33m.\u001b[0m\u001b[0mcluster_centers_\u001b[0m\u001b[1;33m[\u001b[0m\u001b[1;33m:\u001b[0m\u001b[1;33m,\u001b[0m\u001b[0mloc_pwk\u001b[0m\u001b[1;33m]\u001b[0m \u001b[1;33m,\u001b[0m\u001b[0mkmeans\u001b[0m\u001b[1;33m.\u001b[0m\u001b[0mcluster_centers_\u001b[0m\u001b[1;33m[\u001b[0m\u001b[1;33m:\u001b[0m\u001b[1;33m,\u001b[0m\u001b[0mloc_pwknd\u001b[0m\u001b[1;33m]\u001b[0m\u001b[1;33m,\u001b[0m \u001b[0mcolor\u001b[0m\u001b[1;33m=\u001b[0m\u001b[1;34m'black'\u001b[0m\u001b[1;33m,\u001b[0m \u001b[0ms\u001b[0m\u001b[1;33m=\u001b[0m\u001b[1;36m100\u001b[0m\u001b[1;33m)\u001b[0m\u001b[1;33m\u001b[0m\u001b[1;33m\u001b[0m\u001b[0m\n\u001b[0;32m      8\u001b[0m \u001b[1;33m\u001b[0m\u001b[0m\n\u001b[1;32m----> 9\u001b[1;33m \u001b[0mb\u001b[0m\u001b[1;33m,\u001b[0m \u001b[0mm\u001b[0m \u001b[1;33m=\u001b[0m \u001b[0mpolyfit\u001b[0m\u001b[1;33m(\u001b[0m\u001b[0mdf\u001b[0m\u001b[1;33m[\u001b[0m\u001b[1;34m'AdultWeekday'\u001b[0m\u001b[1;33m]\u001b[0m\u001b[1;33m,\u001b[0m \u001b[0mdf\u001b[0m\u001b[1;33m[\u001b[0m\u001b[1;34m'AdultWeekend'\u001b[0m\u001b[1;33m]\u001b[0m\u001b[1;33m,\u001b[0m \u001b[1;36m1\u001b[0m\u001b[1;33m)\u001b[0m\u001b[1;33m\u001b[0m\u001b[1;33m\u001b[0m\u001b[0m\n\u001b[0m\u001b[0;32m     10\u001b[0m \u001b[1;33m\u001b[0m\u001b[0m\n\u001b[0;32m     11\u001b[0m \u001b[1;33m\u001b[0m\u001b[0m\n",
      "\u001b[1;31mNameError\u001b[0m: name 'polyfit' is not defined"
     ]
    },
    {
     "data": {
      "image/png": "[encoded data removed]",
      "text/plain": [
       "<Figure size 432x288 with 1 Axes>"
      ]
     },
     "metadata": {
      "needs_background": "light"
     },
     "output_type": "display_data"
    }
   ],
   "source": [
    "loc_pwknd = df.columns.get_loc('AdultWeekend')\n",
    "loc_pwk = df.columns.get_loc('AdultWeekday')\n",
    "\n",
    "#ac = ski_data_trial\n",
    "#plt.scatter(ac['summit_elev'], ac['vertical_drop'], c='black', s=100)\n",
    "plt.scatter(df['AdultWeekday'], df['AdultWeekend'], c=df['clusters'], s=50, cmap='viridis', label ='clusters')\n",
    "plt.scatter(kmeans.cluster_centers_[:,loc_pwk] ,kmeans.cluster_centers_[:,loc_pwknd], color='black', s=100)\n",
    "\n",
    "b, m = polyfit(df['AdultWeekday'], df['AdultWeekend'], 1)\n",
    "\n",
    "\n",
    "plt.xlabel('AdultWeekday')\n",
    "plt.ylabel('AdultWeekend')\n",
    "plt.title('Weekday Price by Weekend Price by cluster')\n",
    "plt.savefig('figures/fig2.png',bbox_inches='tight')\n",
    "\n",
    "\n"
   ]
  },
  {
   "cell_type": "code",
   "execution_count": null,
   "metadata": {},
   "outputs": [],
   "source": [
    "g=sns.lmplot(x='AdultWeekday', y='AdultWeekend', data=df)\n",
    "g.fig.suptitle(\"Adult Weekday vs Weekend Price\")\n",
    "plt.show()"
   ]
  },
  {
   "cell_type": "code",
   "execution_count": null,
   "metadata": {},
   "outputs": [],
   "source": [
    "#summit\n",
    "plt.scatter(df['summit_elev'], df['AdultWeekend'], c=df['clusters'], s=50, cmap='viridis', label ='clusters')\n",
    "plt.scatter(ac['summit_elev'], ac['AdultWeekend'], c='black', s=100)\n",
    "\n",
    "plt.xlabel('summit_elev')\n",
    "plt.ylabel('Adult Weekend price')\n",
    "plt.title('summit_elev by Adult Weekend price by cluster')\n",
    "plt.savefig('figures/fig3.png',bbox_inches='tight')"
   ]
  },
  {
   "cell_type": "code",
   "execution_count": null,
   "metadata": {},
   "outputs": [],
   "source": [
    "\n",
    "sns.set(color_codes=True)\n",
    "\n",
    "g=sns.lmplot(x='summit_elev', y='AdultWeekend', hue= 'clusters', data=df)\n",
    "g.fig.suptitle(\"Summit Elevation vs Weekend Price\")\n",
    "plt.show()\n",
    "plt.savefig('figures/fig4.png',bbox_inches='tight')"
   ]
  },
  {
   "cell_type": "code",
   "execution_count": null,
   "metadata": {
    "colab": {},
    "colab_type": "code",
    "id": "530JtuJxGUZL"
   },
   "outputs": [],
   "source": [
    "#Days open\n",
    "loc_x = df.columns.get_loc('daysOpenLastYear')\n",
    "plt.scatter(df['daysOpenLastYear'], df['AdultWeekend'], c=df['clusters'], s=50, cmap='viridis', label ='clusters')\n",
    "plt.scatter(ac['daysOpenLastYear'], ac['AdultWeekend'], c='black', s=100)\n",
    "plt.xlabel('Days Open Last Year')\n",
    "plt.ylabel('Adult Weekend price')\n",
    "plt.title('Days Open Last Year by Adult Weekend price by cluster')\n",
    "plt.savefig('figures/fig5.png',bbox_inches='tight')"
   ]
  },
  {
   "cell_type": "code",
   "execution_count": null,
   "metadata": {
    "colab": {},
    "colab_type": "code",
    "id": "kGvf4kTwGUZR"
   },
   "outputs": [],
   "source": [
    "g=sns.lmplot(x='daysOpenLastYear', y='AdultWeekend', hue='clusters', data=df)\n",
    "g.fig.suptitle(\"Days Open Last Year vs Weekend Price\")\n",
    "plt.show()\n",
    "plt.savefig('figures/fig6.png',bbox_inches='tight')"
   ]
  },
  {
   "cell_type": "code",
   "execution_count": null,
   "metadata": {
    "colab": {},
    "colab_type": "code",
    "id": "OYZB84hYGUZU"
   },
   "outputs": [],
   "source": [
    "g=sns.lmplot(x='Runs', y='AdultWeekend', hue='clusters',  data=df)\n",
    "g.fig.suptitle(\"Number of Runs vs Weekend Price\")\n",
    "plt.show()\n",
    "plt.savefig('figures/fig7.png',bbox_inches='tight')"
   ]
  },
  {
   "cell_type": "code",
   "execution_count": null,
   "metadata": {},
   "outputs": [],
   "source": [
    "#Runs\n",
    "\n",
    "plt.scatter(df['Runs'], df['AdultWeekend'], c=df['clusters'], s=50, cmap='viridis', label ='clusters')\n",
    "plt.scatter(ac['Runs'], ac['AdultWeekend'], c='black', s=100)\n",
    "plt.xlabel('Runs')\n",
    "plt.ylabel('Adult Weekend price')\n",
    "plt.title('Runs by Adult Weekend price by cluster')\n",
    "plt.savefig('figures/fig8.png',bbox_inches='tight')"
   ]
  },
  {
   "cell_type": "markdown",
   "metadata": {
    "colab_type": "text",
    "id": "giLKE2WMGUZh"
   },
   "source": [
    "## Finalize Code"
   ]
  },
  {
   "cell_type": "markdown",
   "metadata": {
    "colab_type": "text",
    "id": "pps_ASHoGUZi"
   },
   "source": [
    " Making sure our code is well organized and easy to follow is an important step. This is the time where you need to review the notebooks and python scripts you have created and clean them n=up so they are easy to follow and succinct in nature. Addtionally, we will also save our final model out a callable object using pickle for future use in a data pipeline.**<font color='teal'> Run the example code below to save out your callable model, notice we save it in the models folder we created in our previous guided capstone.</font>** "
   ]
  },
  {
   "cell_type": "code",
   "execution_count": null,
   "metadata": {
    "colab": {},
    "colab_type": "code",
    "id": "X_h0tkt_GUZj"
   },
   "outputs": [],
   "source": [
    "#import pickle\n",
    "#s = pickle.dumps(model)\n",
    "#from joblib import dump, load\n",
    "#dump(model, 'models/regression_model_adultweekend.joblib') "
   ]
  },
  {
   "cell_type": "markdown",
   "metadata": {
    "colab_type": "text",
    "id": "MTVrVlerGUZn"
   },
   "source": [
    "## Finalize Documentation"
   ]
  },
  {
   "cell_type": "markdown",
   "metadata": {
    "colab_type": "text",
    "id": "thEMyu-DGUZo"
   },
   "source": [
    "For model documentation we want to save the model performance metrics as well as the features included in the final model. You could also save the model perfomance metrics and coefficients fo the other models you tried in case you want to refer to them later. **<font color='teal'> Create a dataframe containing the coefficients and the model performance metrics and save it out as a csv file then upload it to your github repository.</font>** "
   ]
  },
  {
   "cell_type": "code",
   "execution_count": null,
   "metadata": {
    "colab": {},
    "colab_type": "code",
    "id": "278tnHLlGUZp"
   },
   "outputs": [],
   "source": [
    "\n",
    "#Create Metrics table\n",
    "lin_model_metrics_dict= {}\n",
    "lin_model_metrics_dict['explained_variance'] = lin_model_expl_var \n",
    "lin_model_metrics_dict['mean_absolute_error'] = lin_model_me\n",
    "lin_model_metrics_dict['R2'] = lin_model_rsq\n",
    "lin_model_metrics_table =pd.DataFrame(lin_model_metrics_dict.items(), columns=['variable', 'value'])\n",
    "coef_table_2 = coef_table.copy()\n",
    "\n",
    "coef_table_2= coef_table_2.rename(columns={'coefficent': 'value'})\n",
    "\n",
    "pd.concat([coef_table_2, lin_model_metrics_table], keys=['coefficent', 'metrics'])\n"
   ]
  },
  {
   "cell_type": "code",
   "execution_count": null,
   "metadata": {
    "colab": {},
    "colab_type": "code",
    "id": "4CEOoBLFGUZr"
   },
   "outputs": [],
   "source": []
  }
 ],
 "metadata": {
  "colab": {
   "collapsed_sections": [
    "RtEspslPZyGY",
    "s0DokMkAZyGc",
    "2iuitnKcZyHS",
    "iAWQxougZyHW",
    "ThMTimlBZyHZ",
    "QwZ-LkjXZyHt",
    "srtXEA3N4-Y9",
    "ChVreJupZyIA",
    "zDgSSsq1ZyID",
    "I3GYKWfi5Llg",
    "pmMvrhbI-viE",
    "ZXDPkW3UZyIX",
    "Dnc_vHQLZyId",
    "daJxuJ-dZyIg",
    "mAQ-oHiPZyIn",
    "hnGOsp3mZyIp"
   ],
   "name": "GuidedCapstoneStep6.ipynb",
   "provenance": [],
   "toc_visible": true
  },
  "kernelspec": {
   "display_name": "Python 3",
   "language": "python",
   "name": "python3"
  },
  "language_info": {
   "codemirror_mode": {
    "name": "ipython",
    "version": 3
   },
   "file_extension": ".py",
   "mimetype": "text/x-python",
   "name": "python",
   "nbconvert_exporter": "python",
   "pygments_lexer": "ipython3",
   "version": "3.7.6"
  },
  "toc": {
   "base_numbering": "0",
   "nav_menu": {},
   "number_sections": true,
   "sideBar": true,
   "skip_h1_title": false,
   "title_cell": "Table of Contents",
   "title_sidebar": "Contents",
   "toc_cell": true,
   "toc_position": {
    "height": "calc(100% - 180px)",
    "left": "10px",
    "top": "150px",
    "width": "288px"
   },
   "toc_section_display": true,
   "toc_window_display": true
  }
 },
 "nbformat": 4,
 "nbformat_minor": 1
}
